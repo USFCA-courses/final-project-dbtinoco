{
  "nbformat": 4,
  "nbformat_minor": 0,
  "metadata": {
    "colab": {
      "provenance": [],
      "machine_shape": "hm",
      "gpuType": "A100",
      "collapsed_sections": [
        "0pFtc2OAUCNS",
        "41JES9at8f6p",
        "6rv4PpFT8kSz",
        "CbtYC3yzavpQ",
        "jbhULlwYyqHM",
        "kjOxI2uRzH2M",
        "JOGkpZlzmFe0",
        "0e7b3YyGzq8A",
        "AlIvLZiyVtQt"
      ]
    },
    "kernelspec": {
      "name": "python3",
      "display_name": "Python 3"
    },
    "language_info": {
      "name": "python"
    },
    "accelerator": "GPU",
    "widgets": {
      "application/vnd.jupyter.widget-state+json": {
        "524f7f21bc0c474bbfe0f15c95157fe3": {
          "model_module": "@jupyter-widgets/controls",
          "model_name": "HBoxModel",
          "model_module_version": "1.5.0",
          "state": {
            "_dom_classes": [],
            "_model_module": "@jupyter-widgets/controls",
            "_model_module_version": "1.5.0",
            "_model_name": "HBoxModel",
            "_view_count": null,
            "_view_module": "@jupyter-widgets/controls",
            "_view_module_version": "1.5.0",
            "_view_name": "HBoxView",
            "box_style": "",
            "children": [
              "IPY_MODEL_c2e34f99e3e241a1bc29f93100b79398",
              "IPY_MODEL_ee2aaa94c66c4b19b36d757ebaecc562",
              "IPY_MODEL_1079f05273c04170972e1ab90037b6d8"
            ],
            "layout": "IPY_MODEL_b2ef095186fb437688919e54055952fc"
          }
        },
        "c2e34f99e3e241a1bc29f93100b79398": {
          "model_module": "@jupyter-widgets/controls",
          "model_name": "HTMLModel",
          "model_module_version": "1.5.0",
          "state": {
            "_dom_classes": [],
            "_model_module": "@jupyter-widgets/controls",
            "_model_module_version": "1.5.0",
            "_model_name": "HTMLModel",
            "_view_count": null,
            "_view_module": "@jupyter-widgets/controls",
            "_view_module_version": "1.5.0",
            "_view_name": "HTMLView",
            "description": "",
            "description_tooltip": null,
            "layout": "IPY_MODEL_7be51feaa9a04ffe8083d8841739fb87",
            "placeholder": "​",
            "style": "IPY_MODEL_eede1ee291124bfd9519dcf80232ef50",
            "value": "Downloading (…)rocessor_config.json: 100%"
          }
        },
        "ee2aaa94c66c4b19b36d757ebaecc562": {
          "model_module": "@jupyter-widgets/controls",
          "model_name": "FloatProgressModel",
          "model_module_version": "1.5.0",
          "state": {
            "_dom_classes": [],
            "_model_module": "@jupyter-widgets/controls",
            "_model_module_version": "1.5.0",
            "_model_name": "FloatProgressModel",
            "_view_count": null,
            "_view_module": "@jupyter-widgets/controls",
            "_view_module_version": "1.5.0",
            "_view_name": "ProgressView",
            "bar_style": "success",
            "description": "",
            "description_tooltip": null,
            "layout": "IPY_MODEL_55288355083841d48f05fb467f0c928c",
            "max": 433,
            "min": 0,
            "orientation": "horizontal",
            "style": "IPY_MODEL_f879489116674aca8b3052a8e8206620",
            "value": 433
          }
        },
        "1079f05273c04170972e1ab90037b6d8": {
          "model_module": "@jupyter-widgets/controls",
          "model_name": "HTMLModel",
          "model_module_version": "1.5.0",
          "state": {
            "_dom_classes": [],
            "_model_module": "@jupyter-widgets/controls",
            "_model_module_version": "1.5.0",
            "_model_name": "HTMLModel",
            "_view_count": null,
            "_view_module": "@jupyter-widgets/controls",
            "_view_module_version": "1.5.0",
            "_view_name": "HTMLView",
            "description": "",
            "description_tooltip": null,
            "layout": "IPY_MODEL_d14fa0937b77415faac11c86216b7482",
            "placeholder": "​",
            "style": "IPY_MODEL_09e329a7aade46928ce24ada42260d37",
            "value": " 433/433 [00:00&lt;00:00, 38.5kB/s]"
          }
        },
        "b2ef095186fb437688919e54055952fc": {
          "model_module": "@jupyter-widgets/base",
          "model_name": "LayoutModel",
          "model_module_version": "1.2.0",
          "state": {
            "_model_module": "@jupyter-widgets/base",
            "_model_module_version": "1.2.0",
            "_model_name": "LayoutModel",
            "_view_count": null,
            "_view_module": "@jupyter-widgets/base",
            "_view_module_version": "1.2.0",
            "_view_name": "LayoutView",
            "align_content": null,
            "align_items": null,
            "align_self": null,
            "border": null,
            "bottom": null,
            "display": null,
            "flex": null,
            "flex_flow": null,
            "grid_area": null,
            "grid_auto_columns": null,
            "grid_auto_flow": null,
            "grid_auto_rows": null,
            "grid_column": null,
            "grid_gap": null,
            "grid_row": null,
            "grid_template_areas": null,
            "grid_template_columns": null,
            "grid_template_rows": null,
            "height": null,
            "justify_content": null,
            "justify_items": null,
            "left": null,
            "margin": null,
            "max_height": null,
            "max_width": null,
            "min_height": null,
            "min_width": null,
            "object_fit": null,
            "object_position": null,
            "order": null,
            "overflow": null,
            "overflow_x": null,
            "overflow_y": null,
            "padding": null,
            "right": null,
            "top": null,
            "visibility": null,
            "width": null
          }
        },
        "7be51feaa9a04ffe8083d8841739fb87": {
          "model_module": "@jupyter-widgets/base",
          "model_name": "LayoutModel",
          "model_module_version": "1.2.0",
          "state": {
            "_model_module": "@jupyter-widgets/base",
            "_model_module_version": "1.2.0",
            "_model_name": "LayoutModel",
            "_view_count": null,
            "_view_module": "@jupyter-widgets/base",
            "_view_module_version": "1.2.0",
            "_view_name": "LayoutView",
            "align_content": null,
            "align_items": null,
            "align_self": null,
            "border": null,
            "bottom": null,
            "display": null,
            "flex": null,
            "flex_flow": null,
            "grid_area": null,
            "grid_auto_columns": null,
            "grid_auto_flow": null,
            "grid_auto_rows": null,
            "grid_column": null,
            "grid_gap": null,
            "grid_row": null,
            "grid_template_areas": null,
            "grid_template_columns": null,
            "grid_template_rows": null,
            "height": null,
            "justify_content": null,
            "justify_items": null,
            "left": null,
            "margin": null,
            "max_height": null,
            "max_width": null,
            "min_height": null,
            "min_width": null,
            "object_fit": null,
            "object_position": null,
            "order": null,
            "overflow": null,
            "overflow_x": null,
            "overflow_y": null,
            "padding": null,
            "right": null,
            "top": null,
            "visibility": null,
            "width": null
          }
        },
        "eede1ee291124bfd9519dcf80232ef50": {
          "model_module": "@jupyter-widgets/controls",
          "model_name": "DescriptionStyleModel",
          "model_module_version": "1.5.0",
          "state": {
            "_model_module": "@jupyter-widgets/controls",
            "_model_module_version": "1.5.0",
            "_model_name": "DescriptionStyleModel",
            "_view_count": null,
            "_view_module": "@jupyter-widgets/base",
            "_view_module_version": "1.2.0",
            "_view_name": "StyleView",
            "description_width": ""
          }
        },
        "55288355083841d48f05fb467f0c928c": {
          "model_module": "@jupyter-widgets/base",
          "model_name": "LayoutModel",
          "model_module_version": "1.2.0",
          "state": {
            "_model_module": "@jupyter-widgets/base",
            "_model_module_version": "1.2.0",
            "_model_name": "LayoutModel",
            "_view_count": null,
            "_view_module": "@jupyter-widgets/base",
            "_view_module_version": "1.2.0",
            "_view_name": "LayoutView",
            "align_content": null,
            "align_items": null,
            "align_self": null,
            "border": null,
            "bottom": null,
            "display": null,
            "flex": null,
            "flex_flow": null,
            "grid_area": null,
            "grid_auto_columns": null,
            "grid_auto_flow": null,
            "grid_auto_rows": null,
            "grid_column": null,
            "grid_gap": null,
            "grid_row": null,
            "grid_template_areas": null,
            "grid_template_columns": null,
            "grid_template_rows": null,
            "height": null,
            "justify_content": null,
            "justify_items": null,
            "left": null,
            "margin": null,
            "max_height": null,
            "max_width": null,
            "min_height": null,
            "min_width": null,
            "object_fit": null,
            "object_position": null,
            "order": null,
            "overflow": null,
            "overflow_x": null,
            "overflow_y": null,
            "padding": null,
            "right": null,
            "top": null,
            "visibility": null,
            "width": null
          }
        },
        "f879489116674aca8b3052a8e8206620": {
          "model_module": "@jupyter-widgets/controls",
          "model_name": "ProgressStyleModel",
          "model_module_version": "1.5.0",
          "state": {
            "_model_module": "@jupyter-widgets/controls",
            "_model_module_version": "1.5.0",
            "_model_name": "ProgressStyleModel",
            "_view_count": null,
            "_view_module": "@jupyter-widgets/base",
            "_view_module_version": "1.2.0",
            "_view_name": "StyleView",
            "bar_color": null,
            "description_width": ""
          }
        },
        "d14fa0937b77415faac11c86216b7482": {
          "model_module": "@jupyter-widgets/base",
          "model_name": "LayoutModel",
          "model_module_version": "1.2.0",
          "state": {
            "_model_module": "@jupyter-widgets/base",
            "_model_module_version": "1.2.0",
            "_model_name": "LayoutModel",
            "_view_count": null,
            "_view_module": "@jupyter-widgets/base",
            "_view_module_version": "1.2.0",
            "_view_name": "LayoutView",
            "align_content": null,
            "align_items": null,
            "align_self": null,
            "border": null,
            "bottom": null,
            "display": null,
            "flex": null,
            "flex_flow": null,
            "grid_area": null,
            "grid_auto_columns": null,
            "grid_auto_flow": null,
            "grid_auto_rows": null,
            "grid_column": null,
            "grid_gap": null,
            "grid_row": null,
            "grid_template_areas": null,
            "grid_template_columns": null,
            "grid_template_rows": null,
            "height": null,
            "justify_content": null,
            "justify_items": null,
            "left": null,
            "margin": null,
            "max_height": null,
            "max_width": null,
            "min_height": null,
            "min_width": null,
            "object_fit": null,
            "object_position": null,
            "order": null,
            "overflow": null,
            "overflow_x": null,
            "overflow_y": null,
            "padding": null,
            "right": null,
            "top": null,
            "visibility": null,
            "width": null
          }
        },
        "09e329a7aade46928ce24ada42260d37": {
          "model_module": "@jupyter-widgets/controls",
          "model_name": "DescriptionStyleModel",
          "model_module_version": "1.5.0",
          "state": {
            "_model_module": "@jupyter-widgets/controls",
            "_model_module_version": "1.5.0",
            "_model_name": "DescriptionStyleModel",
            "_view_count": null,
            "_view_module": "@jupyter-widgets/base",
            "_view_module_version": "1.2.0",
            "_view_name": "StyleView",
            "description_width": ""
          }
        },
        "bcd55d20594c4657bfa1f345b3110c2c": {
          "model_module": "@jupyter-widgets/controls",
          "model_name": "HBoxModel",
          "model_module_version": "1.5.0",
          "state": {
            "_dom_classes": [],
            "_model_module": "@jupyter-widgets/controls",
            "_model_module_version": "1.5.0",
            "_model_name": "HBoxModel",
            "_view_count": null,
            "_view_module": "@jupyter-widgets/controls",
            "_view_module_version": "1.5.0",
            "_view_name": "HBoxView",
            "box_style": "",
            "children": [
              "IPY_MODEL_55b1c447d5194300a3e4d4781627367a",
              "IPY_MODEL_ef2b7628cfb44401802bfb29cf68394a",
              "IPY_MODEL_8a95def357174e31891a4aaec0e6e8e1"
            ],
            "layout": "IPY_MODEL_306d0429417d494eab669770bba7d866"
          }
        },
        "55b1c447d5194300a3e4d4781627367a": {
          "model_module": "@jupyter-widgets/controls",
          "model_name": "HTMLModel",
          "model_module_version": "1.5.0",
          "state": {
            "_dom_classes": [],
            "_model_module": "@jupyter-widgets/controls",
            "_model_module_version": "1.5.0",
            "_model_name": "HTMLModel",
            "_view_count": null,
            "_view_module": "@jupyter-widgets/controls",
            "_view_module_version": "1.5.0",
            "_view_name": "HTMLView",
            "description": "",
            "description_tooltip": null,
            "layout": "IPY_MODEL_e22659e9726f47fbbf577f8faed84970",
            "placeholder": "​",
            "style": "IPY_MODEL_794b3e568e694ad09576812748a74404",
            "value": "Downloading spm_char.model: 100%"
          }
        },
        "ef2b7628cfb44401802bfb29cf68394a": {
          "model_module": "@jupyter-widgets/controls",
          "model_name": "FloatProgressModel",
          "model_module_version": "1.5.0",
          "state": {
            "_dom_classes": [],
            "_model_module": "@jupyter-widgets/controls",
            "_model_module_version": "1.5.0",
            "_model_name": "FloatProgressModel",
            "_view_count": null,
            "_view_module": "@jupyter-widgets/controls",
            "_view_module_version": "1.5.0",
            "_view_name": "ProgressView",
            "bar_style": "success",
            "description": "",
            "description_tooltip": null,
            "layout": "IPY_MODEL_7a1b63c224c149e8b0df39fcaf2e635b",
            "max": 238473,
            "min": 0,
            "orientation": "horizontal",
            "style": "IPY_MODEL_ba7c2914927b45deb9956fd4d1f0b477",
            "value": 238473
          }
        },
        "8a95def357174e31891a4aaec0e6e8e1": {
          "model_module": "@jupyter-widgets/controls",
          "model_name": "HTMLModel",
          "model_module_version": "1.5.0",
          "state": {
            "_dom_classes": [],
            "_model_module": "@jupyter-widgets/controls",
            "_model_module_version": "1.5.0",
            "_model_name": "HTMLModel",
            "_view_count": null,
            "_view_module": "@jupyter-widgets/controls",
            "_view_module_version": "1.5.0",
            "_view_name": "HTMLView",
            "description": "",
            "description_tooltip": null,
            "layout": "IPY_MODEL_f82c9d2729c04f02918a7c00e6ac05e5",
            "placeholder": "​",
            "style": "IPY_MODEL_5dc636f191704353ab8b53b5f21fa9a7",
            "value": " 238k/238k [00:00&lt;00:00, 6.83MB/s]"
          }
        },
        "306d0429417d494eab669770bba7d866": {
          "model_module": "@jupyter-widgets/base",
          "model_name": "LayoutModel",
          "model_module_version": "1.2.0",
          "state": {
            "_model_module": "@jupyter-widgets/base",
            "_model_module_version": "1.2.0",
            "_model_name": "LayoutModel",
            "_view_count": null,
            "_view_module": "@jupyter-widgets/base",
            "_view_module_version": "1.2.0",
            "_view_name": "LayoutView",
            "align_content": null,
            "align_items": null,
            "align_self": null,
            "border": null,
            "bottom": null,
            "display": null,
            "flex": null,
            "flex_flow": null,
            "grid_area": null,
            "grid_auto_columns": null,
            "grid_auto_flow": null,
            "grid_auto_rows": null,
            "grid_column": null,
            "grid_gap": null,
            "grid_row": null,
            "grid_template_areas": null,
            "grid_template_columns": null,
            "grid_template_rows": null,
            "height": null,
            "justify_content": null,
            "justify_items": null,
            "left": null,
            "margin": null,
            "max_height": null,
            "max_width": null,
            "min_height": null,
            "min_width": null,
            "object_fit": null,
            "object_position": null,
            "order": null,
            "overflow": null,
            "overflow_x": null,
            "overflow_y": null,
            "padding": null,
            "right": null,
            "top": null,
            "visibility": null,
            "width": null
          }
        },
        "e22659e9726f47fbbf577f8faed84970": {
          "model_module": "@jupyter-widgets/base",
          "model_name": "LayoutModel",
          "model_module_version": "1.2.0",
          "state": {
            "_model_module": "@jupyter-widgets/base",
            "_model_module_version": "1.2.0",
            "_model_name": "LayoutModel",
            "_view_count": null,
            "_view_module": "@jupyter-widgets/base",
            "_view_module_version": "1.2.0",
            "_view_name": "LayoutView",
            "align_content": null,
            "align_items": null,
            "align_self": null,
            "border": null,
            "bottom": null,
            "display": null,
            "flex": null,
            "flex_flow": null,
            "grid_area": null,
            "grid_auto_columns": null,
            "grid_auto_flow": null,
            "grid_auto_rows": null,
            "grid_column": null,
            "grid_gap": null,
            "grid_row": null,
            "grid_template_areas": null,
            "grid_template_columns": null,
            "grid_template_rows": null,
            "height": null,
            "justify_content": null,
            "justify_items": null,
            "left": null,
            "margin": null,
            "max_height": null,
            "max_width": null,
            "min_height": null,
            "min_width": null,
            "object_fit": null,
            "object_position": null,
            "order": null,
            "overflow": null,
            "overflow_x": null,
            "overflow_y": null,
            "padding": null,
            "right": null,
            "top": null,
            "visibility": null,
            "width": null
          }
        },
        "794b3e568e694ad09576812748a74404": {
          "model_module": "@jupyter-widgets/controls",
          "model_name": "DescriptionStyleModel",
          "model_module_version": "1.5.0",
          "state": {
            "_model_module": "@jupyter-widgets/controls",
            "_model_module_version": "1.5.0",
            "_model_name": "DescriptionStyleModel",
            "_view_count": null,
            "_view_module": "@jupyter-widgets/base",
            "_view_module_version": "1.2.0",
            "_view_name": "StyleView",
            "description_width": ""
          }
        },
        "7a1b63c224c149e8b0df39fcaf2e635b": {
          "model_module": "@jupyter-widgets/base",
          "model_name": "LayoutModel",
          "model_module_version": "1.2.0",
          "state": {
            "_model_module": "@jupyter-widgets/base",
            "_model_module_version": "1.2.0",
            "_model_name": "LayoutModel",
            "_view_count": null,
            "_view_module": "@jupyter-widgets/base",
            "_view_module_version": "1.2.0",
            "_view_name": "LayoutView",
            "align_content": null,
            "align_items": null,
            "align_self": null,
            "border": null,
            "bottom": null,
            "display": null,
            "flex": null,
            "flex_flow": null,
            "grid_area": null,
            "grid_auto_columns": null,
            "grid_auto_flow": null,
            "grid_auto_rows": null,
            "grid_column": null,
            "grid_gap": null,
            "grid_row": null,
            "grid_template_areas": null,
            "grid_template_columns": null,
            "grid_template_rows": null,
            "height": null,
            "justify_content": null,
            "justify_items": null,
            "left": null,
            "margin": null,
            "max_height": null,
            "max_width": null,
            "min_height": null,
            "min_width": null,
            "object_fit": null,
            "object_position": null,
            "order": null,
            "overflow": null,
            "overflow_x": null,
            "overflow_y": null,
            "padding": null,
            "right": null,
            "top": null,
            "visibility": null,
            "width": null
          }
        },
        "ba7c2914927b45deb9956fd4d1f0b477": {
          "model_module": "@jupyter-widgets/controls",
          "model_name": "ProgressStyleModel",
          "model_module_version": "1.5.0",
          "state": {
            "_model_module": "@jupyter-widgets/controls",
            "_model_module_version": "1.5.0",
            "_model_name": "ProgressStyleModel",
            "_view_count": null,
            "_view_module": "@jupyter-widgets/base",
            "_view_module_version": "1.2.0",
            "_view_name": "StyleView",
            "bar_color": null,
            "description_width": ""
          }
        },
        "f82c9d2729c04f02918a7c00e6ac05e5": {
          "model_module": "@jupyter-widgets/base",
          "model_name": "LayoutModel",
          "model_module_version": "1.2.0",
          "state": {
            "_model_module": "@jupyter-widgets/base",
            "_model_module_version": "1.2.0",
            "_model_name": "LayoutModel",
            "_view_count": null,
            "_view_module": "@jupyter-widgets/base",
            "_view_module_version": "1.2.0",
            "_view_name": "LayoutView",
            "align_content": null,
            "align_items": null,
            "align_self": null,
            "border": null,
            "bottom": null,
            "display": null,
            "flex": null,
            "flex_flow": null,
            "grid_area": null,
            "grid_auto_columns": null,
            "grid_auto_flow": null,
            "grid_auto_rows": null,
            "grid_column": null,
            "grid_gap": null,
            "grid_row": null,
            "grid_template_areas": null,
            "grid_template_columns": null,
            "grid_template_rows": null,
            "height": null,
            "justify_content": null,
            "justify_items": null,
            "left": null,
            "margin": null,
            "max_height": null,
            "max_width": null,
            "min_height": null,
            "min_width": null,
            "object_fit": null,
            "object_position": null,
            "order": null,
            "overflow": null,
            "overflow_x": null,
            "overflow_y": null,
            "padding": null,
            "right": null,
            "top": null,
            "visibility": null,
            "width": null
          }
        },
        "5dc636f191704353ab8b53b5f21fa9a7": {
          "model_module": "@jupyter-widgets/controls",
          "model_name": "DescriptionStyleModel",
          "model_module_version": "1.5.0",
          "state": {
            "_model_module": "@jupyter-widgets/controls",
            "_model_module_version": "1.5.0",
            "_model_name": "DescriptionStyleModel",
            "_view_count": null,
            "_view_module": "@jupyter-widgets/base",
            "_view_module_version": "1.2.0",
            "_view_name": "StyleView",
            "description_width": ""
          }
        },
        "c44d199780fd4c1ba8ec3141041eb05a": {
          "model_module": "@jupyter-widgets/controls",
          "model_name": "HBoxModel",
          "model_module_version": "1.5.0",
          "state": {
            "_dom_classes": [],
            "_model_module": "@jupyter-widgets/controls",
            "_model_module_version": "1.5.0",
            "_model_name": "HBoxModel",
            "_view_count": null,
            "_view_module": "@jupyter-widgets/controls",
            "_view_module_version": "1.5.0",
            "_view_name": "HBoxView",
            "box_style": "",
            "children": [
              "IPY_MODEL_588b99e17fb447efb5cfcb5da0cd61fb",
              "IPY_MODEL_fb9d3b303fad4c6e8476e7229916a89d",
              "IPY_MODEL_a50891755dd14b7bbaee62a6ea8caf86"
            ],
            "layout": "IPY_MODEL_7295cce2963c4d908b2664798941b3dc"
          }
        },
        "588b99e17fb447efb5cfcb5da0cd61fb": {
          "model_module": "@jupyter-widgets/controls",
          "model_name": "HTMLModel",
          "model_module_version": "1.5.0",
          "state": {
            "_dom_classes": [],
            "_model_module": "@jupyter-widgets/controls",
            "_model_module_version": "1.5.0",
            "_model_name": "HTMLModel",
            "_view_count": null,
            "_view_module": "@jupyter-widgets/controls",
            "_view_module_version": "1.5.0",
            "_view_name": "HTMLView",
            "description": "",
            "description_tooltip": null,
            "layout": "IPY_MODEL_433d23e43bef41089c6e4cd13e46d685",
            "placeholder": "​",
            "style": "IPY_MODEL_b933dd316e634cf28e31baf88bd20fa8",
            "value": "Downloading (…)in/added_tokens.json: 100%"
          }
        },
        "fb9d3b303fad4c6e8476e7229916a89d": {
          "model_module": "@jupyter-widgets/controls",
          "model_name": "FloatProgressModel",
          "model_module_version": "1.5.0",
          "state": {
            "_dom_classes": [],
            "_model_module": "@jupyter-widgets/controls",
            "_model_module_version": "1.5.0",
            "_model_name": "FloatProgressModel",
            "_view_count": null,
            "_view_module": "@jupyter-widgets/controls",
            "_view_module_version": "1.5.0",
            "_view_name": "ProgressView",
            "bar_style": "success",
            "description": "",
            "description_tooltip": null,
            "layout": "IPY_MODEL_283641b9bc7c430c86a0effa5473ad8d",
            "max": 40,
            "min": 0,
            "orientation": "horizontal",
            "style": "IPY_MODEL_4475b0be07c349b4a66ff556e5e5fabe",
            "value": 40
          }
        },
        "a50891755dd14b7bbaee62a6ea8caf86": {
          "model_module": "@jupyter-widgets/controls",
          "model_name": "HTMLModel",
          "model_module_version": "1.5.0",
          "state": {
            "_dom_classes": [],
            "_model_module": "@jupyter-widgets/controls",
            "_model_module_version": "1.5.0",
            "_model_name": "HTMLModel",
            "_view_count": null,
            "_view_module": "@jupyter-widgets/controls",
            "_view_module_version": "1.5.0",
            "_view_name": "HTMLView",
            "description": "",
            "description_tooltip": null,
            "layout": "IPY_MODEL_1a8c0c74f1444b8fbf80a4f2b331c292",
            "placeholder": "​",
            "style": "IPY_MODEL_1293cb0432ae46898f82de0f3b3cb743",
            "value": " 40.0/40.0 [00:00&lt;00:00, 3.91kB/s]"
          }
        },
        "7295cce2963c4d908b2664798941b3dc": {
          "model_module": "@jupyter-widgets/base",
          "model_name": "LayoutModel",
          "model_module_version": "1.2.0",
          "state": {
            "_model_module": "@jupyter-widgets/base",
            "_model_module_version": "1.2.0",
            "_model_name": "LayoutModel",
            "_view_count": null,
            "_view_module": "@jupyter-widgets/base",
            "_view_module_version": "1.2.0",
            "_view_name": "LayoutView",
            "align_content": null,
            "align_items": null,
            "align_self": null,
            "border": null,
            "bottom": null,
            "display": null,
            "flex": null,
            "flex_flow": null,
            "grid_area": null,
            "grid_auto_columns": null,
            "grid_auto_flow": null,
            "grid_auto_rows": null,
            "grid_column": null,
            "grid_gap": null,
            "grid_row": null,
            "grid_template_areas": null,
            "grid_template_columns": null,
            "grid_template_rows": null,
            "height": null,
            "justify_content": null,
            "justify_items": null,
            "left": null,
            "margin": null,
            "max_height": null,
            "max_width": null,
            "min_height": null,
            "min_width": null,
            "object_fit": null,
            "object_position": null,
            "order": null,
            "overflow": null,
            "overflow_x": null,
            "overflow_y": null,
            "padding": null,
            "right": null,
            "top": null,
            "visibility": null,
            "width": null
          }
        },
        "433d23e43bef41089c6e4cd13e46d685": {
          "model_module": "@jupyter-widgets/base",
          "model_name": "LayoutModel",
          "model_module_version": "1.2.0",
          "state": {
            "_model_module": "@jupyter-widgets/base",
            "_model_module_version": "1.2.0",
            "_model_name": "LayoutModel",
            "_view_count": null,
            "_view_module": "@jupyter-widgets/base",
            "_view_module_version": "1.2.0",
            "_view_name": "LayoutView",
            "align_content": null,
            "align_items": null,
            "align_self": null,
            "border": null,
            "bottom": null,
            "display": null,
            "flex": null,
            "flex_flow": null,
            "grid_area": null,
            "grid_auto_columns": null,
            "grid_auto_flow": null,
            "grid_auto_rows": null,
            "grid_column": null,
            "grid_gap": null,
            "grid_row": null,
            "grid_template_areas": null,
            "grid_template_columns": null,
            "grid_template_rows": null,
            "height": null,
            "justify_content": null,
            "justify_items": null,
            "left": null,
            "margin": null,
            "max_height": null,
            "max_width": null,
            "min_height": null,
            "min_width": null,
            "object_fit": null,
            "object_position": null,
            "order": null,
            "overflow": null,
            "overflow_x": null,
            "overflow_y": null,
            "padding": null,
            "right": null,
            "top": null,
            "visibility": null,
            "width": null
          }
        },
        "b933dd316e634cf28e31baf88bd20fa8": {
          "model_module": "@jupyter-widgets/controls",
          "model_name": "DescriptionStyleModel",
          "model_module_version": "1.5.0",
          "state": {
            "_model_module": "@jupyter-widgets/controls",
            "_model_module_version": "1.5.0",
            "_model_name": "DescriptionStyleModel",
            "_view_count": null,
            "_view_module": "@jupyter-widgets/base",
            "_view_module_version": "1.2.0",
            "_view_name": "StyleView",
            "description_width": ""
          }
        },
        "283641b9bc7c430c86a0effa5473ad8d": {
          "model_module": "@jupyter-widgets/base",
          "model_name": "LayoutModel",
          "model_module_version": "1.2.0",
          "state": {
            "_model_module": "@jupyter-widgets/base",
            "_model_module_version": "1.2.0",
            "_model_name": "LayoutModel",
            "_view_count": null,
            "_view_module": "@jupyter-widgets/base",
            "_view_module_version": "1.2.0",
            "_view_name": "LayoutView",
            "align_content": null,
            "align_items": null,
            "align_self": null,
            "border": null,
            "bottom": null,
            "display": null,
            "flex": null,
            "flex_flow": null,
            "grid_area": null,
            "grid_auto_columns": null,
            "grid_auto_flow": null,
            "grid_auto_rows": null,
            "grid_column": null,
            "grid_gap": null,
            "grid_row": null,
            "grid_template_areas": null,
            "grid_template_columns": null,
            "grid_template_rows": null,
            "height": null,
            "justify_content": null,
            "justify_items": null,
            "left": null,
            "margin": null,
            "max_height": null,
            "max_width": null,
            "min_height": null,
            "min_width": null,
            "object_fit": null,
            "object_position": null,
            "order": null,
            "overflow": null,
            "overflow_x": null,
            "overflow_y": null,
            "padding": null,
            "right": null,
            "top": null,
            "visibility": null,
            "width": null
          }
        },
        "4475b0be07c349b4a66ff556e5e5fabe": {
          "model_module": "@jupyter-widgets/controls",
          "model_name": "ProgressStyleModel",
          "model_module_version": "1.5.0",
          "state": {
            "_model_module": "@jupyter-widgets/controls",
            "_model_module_version": "1.5.0",
            "_model_name": "ProgressStyleModel",
            "_view_count": null,
            "_view_module": "@jupyter-widgets/base",
            "_view_module_version": "1.2.0",
            "_view_name": "StyleView",
            "bar_color": null,
            "description_width": ""
          }
        },
        "1a8c0c74f1444b8fbf80a4f2b331c292": {
          "model_module": "@jupyter-widgets/base",
          "model_name": "LayoutModel",
          "model_module_version": "1.2.0",
          "state": {
            "_model_module": "@jupyter-widgets/base",
            "_model_module_version": "1.2.0",
            "_model_name": "LayoutModel",
            "_view_count": null,
            "_view_module": "@jupyter-widgets/base",
            "_view_module_version": "1.2.0",
            "_view_name": "LayoutView",
            "align_content": null,
            "align_items": null,
            "align_self": null,
            "border": null,
            "bottom": null,
            "display": null,
            "flex": null,
            "flex_flow": null,
            "grid_area": null,
            "grid_auto_columns": null,
            "grid_auto_flow": null,
            "grid_auto_rows": null,
            "grid_column": null,
            "grid_gap": null,
            "grid_row": null,
            "grid_template_areas": null,
            "grid_template_columns": null,
            "grid_template_rows": null,
            "height": null,
            "justify_content": null,
            "justify_items": null,
            "left": null,
            "margin": null,
            "max_height": null,
            "max_width": null,
            "min_height": null,
            "min_width": null,
            "object_fit": null,
            "object_position": null,
            "order": null,
            "overflow": null,
            "overflow_x": null,
            "overflow_y": null,
            "padding": null,
            "right": null,
            "top": null,
            "visibility": null,
            "width": null
          }
        },
        "1293cb0432ae46898f82de0f3b3cb743": {
          "model_module": "@jupyter-widgets/controls",
          "model_name": "DescriptionStyleModel",
          "model_module_version": "1.5.0",
          "state": {
            "_model_module": "@jupyter-widgets/controls",
            "_model_module_version": "1.5.0",
            "_model_name": "DescriptionStyleModel",
            "_view_count": null,
            "_view_module": "@jupyter-widgets/base",
            "_view_module_version": "1.2.0",
            "_view_name": "StyleView",
            "description_width": ""
          }
        },
        "e7d0249febd9463ab721d63ade70e205": {
          "model_module": "@jupyter-widgets/controls",
          "model_name": "HBoxModel",
          "model_module_version": "1.5.0",
          "state": {
            "_dom_classes": [],
            "_model_module": "@jupyter-widgets/controls",
            "_model_module_version": "1.5.0",
            "_model_name": "HBoxModel",
            "_view_count": null,
            "_view_module": "@jupyter-widgets/controls",
            "_view_module_version": "1.5.0",
            "_view_name": "HBoxView",
            "box_style": "",
            "children": [
              "IPY_MODEL_0a8646c4d37f463e8bc8368c2f165179",
              "IPY_MODEL_879d42a9c1fc4a0c9418c8e1a21111ef",
              "IPY_MODEL_ead200feaac54d78a8a746fa7f0eb06c"
            ],
            "layout": "IPY_MODEL_0a110f665fa242be886e87792618ec56"
          }
        },
        "0a8646c4d37f463e8bc8368c2f165179": {
          "model_module": "@jupyter-widgets/controls",
          "model_name": "HTMLModel",
          "model_module_version": "1.5.0",
          "state": {
            "_dom_classes": [],
            "_model_module": "@jupyter-widgets/controls",
            "_model_module_version": "1.5.0",
            "_model_name": "HTMLModel",
            "_view_count": null,
            "_view_module": "@jupyter-widgets/controls",
            "_view_module_version": "1.5.0",
            "_view_name": "HTMLView",
            "description": "",
            "description_tooltip": null,
            "layout": "IPY_MODEL_fd234a74b74348ebb818bf44f6188e46",
            "placeholder": "​",
            "style": "IPY_MODEL_ddd18c9137ad436686609a1caa0e0834",
            "value": "Downloading (…)cial_tokens_map.json: 100%"
          }
        },
        "879d42a9c1fc4a0c9418c8e1a21111ef": {
          "model_module": "@jupyter-widgets/controls",
          "model_name": "FloatProgressModel",
          "model_module_version": "1.5.0",
          "state": {
            "_dom_classes": [],
            "_model_module": "@jupyter-widgets/controls",
            "_model_module_version": "1.5.0",
            "_model_name": "FloatProgressModel",
            "_view_count": null,
            "_view_module": "@jupyter-widgets/controls",
            "_view_module_version": "1.5.0",
            "_view_name": "ProgressView",
            "bar_style": "success",
            "description": "",
            "description_tooltip": null,
            "layout": "IPY_MODEL_65756b846e4e400ebd9a33fcb5a2ae31",
            "max": 234,
            "min": 0,
            "orientation": "horizontal",
            "style": "IPY_MODEL_59929c0d38ca431c95957ad6b5370794",
            "value": 234
          }
        },
        "ead200feaac54d78a8a746fa7f0eb06c": {
          "model_module": "@jupyter-widgets/controls",
          "model_name": "HTMLModel",
          "model_module_version": "1.5.0",
          "state": {
            "_dom_classes": [],
            "_model_module": "@jupyter-widgets/controls",
            "_model_module_version": "1.5.0",
            "_model_name": "HTMLModel",
            "_view_count": null,
            "_view_module": "@jupyter-widgets/controls",
            "_view_module_version": "1.5.0",
            "_view_name": "HTMLView",
            "description": "",
            "description_tooltip": null,
            "layout": "IPY_MODEL_85f7363f7bb741a1a2e4bed61cff3bcc",
            "placeholder": "​",
            "style": "IPY_MODEL_2019189c12ac4b7e86f92f120d4b48ac",
            "value": " 234/234 [00:00&lt;00:00, 21.5kB/s]"
          }
        },
        "0a110f665fa242be886e87792618ec56": {
          "model_module": "@jupyter-widgets/base",
          "model_name": "LayoutModel",
          "model_module_version": "1.2.0",
          "state": {
            "_model_module": "@jupyter-widgets/base",
            "_model_module_version": "1.2.0",
            "_model_name": "LayoutModel",
            "_view_count": null,
            "_view_module": "@jupyter-widgets/base",
            "_view_module_version": "1.2.0",
            "_view_name": "LayoutView",
            "align_content": null,
            "align_items": null,
            "align_self": null,
            "border": null,
            "bottom": null,
            "display": null,
            "flex": null,
            "flex_flow": null,
            "grid_area": null,
            "grid_auto_columns": null,
            "grid_auto_flow": null,
            "grid_auto_rows": null,
            "grid_column": null,
            "grid_gap": null,
            "grid_row": null,
            "grid_template_areas": null,
            "grid_template_columns": null,
            "grid_template_rows": null,
            "height": null,
            "justify_content": null,
            "justify_items": null,
            "left": null,
            "margin": null,
            "max_height": null,
            "max_width": null,
            "min_height": null,
            "min_width": null,
            "object_fit": null,
            "object_position": null,
            "order": null,
            "overflow": null,
            "overflow_x": null,
            "overflow_y": null,
            "padding": null,
            "right": null,
            "top": null,
            "visibility": null,
            "width": null
          }
        },
        "fd234a74b74348ebb818bf44f6188e46": {
          "model_module": "@jupyter-widgets/base",
          "model_name": "LayoutModel",
          "model_module_version": "1.2.0",
          "state": {
            "_model_module": "@jupyter-widgets/base",
            "_model_module_version": "1.2.0",
            "_model_name": "LayoutModel",
            "_view_count": null,
            "_view_module": "@jupyter-widgets/base",
            "_view_module_version": "1.2.0",
            "_view_name": "LayoutView",
            "align_content": null,
            "align_items": null,
            "align_self": null,
            "border": null,
            "bottom": null,
            "display": null,
            "flex": null,
            "flex_flow": null,
            "grid_area": null,
            "grid_auto_columns": null,
            "grid_auto_flow": null,
            "grid_auto_rows": null,
            "grid_column": null,
            "grid_gap": null,
            "grid_row": null,
            "grid_template_areas": null,
            "grid_template_columns": null,
            "grid_template_rows": null,
            "height": null,
            "justify_content": null,
            "justify_items": null,
            "left": null,
            "margin": null,
            "max_height": null,
            "max_width": null,
            "min_height": null,
            "min_width": null,
            "object_fit": null,
            "object_position": null,
            "order": null,
            "overflow": null,
            "overflow_x": null,
            "overflow_y": null,
            "padding": null,
            "right": null,
            "top": null,
            "visibility": null,
            "width": null
          }
        },
        "ddd18c9137ad436686609a1caa0e0834": {
          "model_module": "@jupyter-widgets/controls",
          "model_name": "DescriptionStyleModel",
          "model_module_version": "1.5.0",
          "state": {
            "_model_module": "@jupyter-widgets/controls",
            "_model_module_version": "1.5.0",
            "_model_name": "DescriptionStyleModel",
            "_view_count": null,
            "_view_module": "@jupyter-widgets/base",
            "_view_module_version": "1.2.0",
            "_view_name": "StyleView",
            "description_width": ""
          }
        },
        "65756b846e4e400ebd9a33fcb5a2ae31": {
          "model_module": "@jupyter-widgets/base",
          "model_name": "LayoutModel",
          "model_module_version": "1.2.0",
          "state": {
            "_model_module": "@jupyter-widgets/base",
            "_model_module_version": "1.2.0",
            "_model_name": "LayoutModel",
            "_view_count": null,
            "_view_module": "@jupyter-widgets/base",
            "_view_module_version": "1.2.0",
            "_view_name": "LayoutView",
            "align_content": null,
            "align_items": null,
            "align_self": null,
            "border": null,
            "bottom": null,
            "display": null,
            "flex": null,
            "flex_flow": null,
            "grid_area": null,
            "grid_auto_columns": null,
            "grid_auto_flow": null,
            "grid_auto_rows": null,
            "grid_column": null,
            "grid_gap": null,
            "grid_row": null,
            "grid_template_areas": null,
            "grid_template_columns": null,
            "grid_template_rows": null,
            "height": null,
            "justify_content": null,
            "justify_items": null,
            "left": null,
            "margin": null,
            "max_height": null,
            "max_width": null,
            "min_height": null,
            "min_width": null,
            "object_fit": null,
            "object_position": null,
            "order": null,
            "overflow": null,
            "overflow_x": null,
            "overflow_y": null,
            "padding": null,
            "right": null,
            "top": null,
            "visibility": null,
            "width": null
          }
        },
        "59929c0d38ca431c95957ad6b5370794": {
          "model_module": "@jupyter-widgets/controls",
          "model_name": "ProgressStyleModel",
          "model_module_version": "1.5.0",
          "state": {
            "_model_module": "@jupyter-widgets/controls",
            "_model_module_version": "1.5.0",
            "_model_name": "ProgressStyleModel",
            "_view_count": null,
            "_view_module": "@jupyter-widgets/base",
            "_view_module_version": "1.2.0",
            "_view_name": "StyleView",
            "bar_color": null,
            "description_width": ""
          }
        },
        "85f7363f7bb741a1a2e4bed61cff3bcc": {
          "model_module": "@jupyter-widgets/base",
          "model_name": "LayoutModel",
          "model_module_version": "1.2.0",
          "state": {
            "_model_module": "@jupyter-widgets/base",
            "_model_module_version": "1.2.0",
            "_model_name": "LayoutModel",
            "_view_count": null,
            "_view_module": "@jupyter-widgets/base",
            "_view_module_version": "1.2.0",
            "_view_name": "LayoutView",
            "align_content": null,
            "align_items": null,
            "align_self": null,
            "border": null,
            "bottom": null,
            "display": null,
            "flex": null,
            "flex_flow": null,
            "grid_area": null,
            "grid_auto_columns": null,
            "grid_auto_flow": null,
            "grid_auto_rows": null,
            "grid_column": null,
            "grid_gap": null,
            "grid_row": null,
            "grid_template_areas": null,
            "grid_template_columns": null,
            "grid_template_rows": null,
            "height": null,
            "justify_content": null,
            "justify_items": null,
            "left": null,
            "margin": null,
            "max_height": null,
            "max_width": null,
            "min_height": null,
            "min_width": null,
            "object_fit": null,
            "object_position": null,
            "order": null,
            "overflow": null,
            "overflow_x": null,
            "overflow_y": null,
            "padding": null,
            "right": null,
            "top": null,
            "visibility": null,
            "width": null
          }
        },
        "2019189c12ac4b7e86f92f120d4b48ac": {
          "model_module": "@jupyter-widgets/controls",
          "model_name": "DescriptionStyleModel",
          "model_module_version": "1.5.0",
          "state": {
            "_model_module": "@jupyter-widgets/controls",
            "_model_module_version": "1.5.0",
            "_model_name": "DescriptionStyleModel",
            "_view_count": null,
            "_view_module": "@jupyter-widgets/base",
            "_view_module_version": "1.2.0",
            "_view_name": "StyleView",
            "description_width": ""
          }
        },
        "0a6f3450ccb44f87a9333e3bdd4293af": {
          "model_module": "@jupyter-widgets/controls",
          "model_name": "HBoxModel",
          "model_module_version": "1.5.0",
          "state": {
            "_dom_classes": [],
            "_model_module": "@jupyter-widgets/controls",
            "_model_module_version": "1.5.0",
            "_model_name": "HBoxModel",
            "_view_count": null,
            "_view_module": "@jupyter-widgets/controls",
            "_view_module_version": "1.5.0",
            "_view_name": "HBoxView",
            "box_style": "",
            "children": [
              "IPY_MODEL_411d359fee084344aa2e3239e61078f2",
              "IPY_MODEL_a47047f0d70548ae9708735a90045cae",
              "IPY_MODEL_8305efa8b4fe4c79a0ea770022ed9ac7"
            ],
            "layout": "IPY_MODEL_d28777b660eb48199dda7c843a534a70"
          }
        },
        "411d359fee084344aa2e3239e61078f2": {
          "model_module": "@jupyter-widgets/controls",
          "model_name": "HTMLModel",
          "model_module_version": "1.5.0",
          "state": {
            "_dom_classes": [],
            "_model_module": "@jupyter-widgets/controls",
            "_model_module_version": "1.5.0",
            "_model_name": "HTMLModel",
            "_view_count": null,
            "_view_module": "@jupyter-widgets/controls",
            "_view_module_version": "1.5.0",
            "_view_name": "HTMLView",
            "description": "",
            "description_tooltip": null,
            "layout": "IPY_MODEL_a0e6fd6f6dc44a42a1bac43ded0b0a72",
            "placeholder": "​",
            "style": "IPY_MODEL_59e0b540280d472491473ec179b2ad1e",
            "value": "Downloading (…)okenizer_config.json: 100%"
          }
        },
        "a47047f0d70548ae9708735a90045cae": {
          "model_module": "@jupyter-widgets/controls",
          "model_name": "FloatProgressModel",
          "model_module_version": "1.5.0",
          "state": {
            "_dom_classes": [],
            "_model_module": "@jupyter-widgets/controls",
            "_model_module_version": "1.5.0",
            "_model_name": "FloatProgressModel",
            "_view_count": null,
            "_view_module": "@jupyter-widgets/controls",
            "_view_module_version": "1.5.0",
            "_view_name": "ProgressView",
            "bar_style": "success",
            "description": "",
            "description_tooltip": null,
            "layout": "IPY_MODEL_40b42e283e424c5ebfd3af65511bbedb",
            "max": 232,
            "min": 0,
            "orientation": "horizontal",
            "style": "IPY_MODEL_67ddffe9d28144cfbbecfa3aaeefb563",
            "value": 232
          }
        },
        "8305efa8b4fe4c79a0ea770022ed9ac7": {
          "model_module": "@jupyter-widgets/controls",
          "model_name": "HTMLModel",
          "model_module_version": "1.5.0",
          "state": {
            "_dom_classes": [],
            "_model_module": "@jupyter-widgets/controls",
            "_model_module_version": "1.5.0",
            "_model_name": "HTMLModel",
            "_view_count": null,
            "_view_module": "@jupyter-widgets/controls",
            "_view_module_version": "1.5.0",
            "_view_name": "HTMLView",
            "description": "",
            "description_tooltip": null,
            "layout": "IPY_MODEL_b838cdfcba324208b8e0b93742554255",
            "placeholder": "​",
            "style": "IPY_MODEL_0a1f8a331abc4e46b84043d7a70e2e0c",
            "value": " 232/232 [00:00&lt;00:00, 22.9kB/s]"
          }
        },
        "d28777b660eb48199dda7c843a534a70": {
          "model_module": "@jupyter-widgets/base",
          "model_name": "LayoutModel",
          "model_module_version": "1.2.0",
          "state": {
            "_model_module": "@jupyter-widgets/base",
            "_model_module_version": "1.2.0",
            "_model_name": "LayoutModel",
            "_view_count": null,
            "_view_module": "@jupyter-widgets/base",
            "_view_module_version": "1.2.0",
            "_view_name": "LayoutView",
            "align_content": null,
            "align_items": null,
            "align_self": null,
            "border": null,
            "bottom": null,
            "display": null,
            "flex": null,
            "flex_flow": null,
            "grid_area": null,
            "grid_auto_columns": null,
            "grid_auto_flow": null,
            "grid_auto_rows": null,
            "grid_column": null,
            "grid_gap": null,
            "grid_row": null,
            "grid_template_areas": null,
            "grid_template_columns": null,
            "grid_template_rows": null,
            "height": null,
            "justify_content": null,
            "justify_items": null,
            "left": null,
            "margin": null,
            "max_height": null,
            "max_width": null,
            "min_height": null,
            "min_width": null,
            "object_fit": null,
            "object_position": null,
            "order": null,
            "overflow": null,
            "overflow_x": null,
            "overflow_y": null,
            "padding": null,
            "right": null,
            "top": null,
            "visibility": null,
            "width": null
          }
        },
        "a0e6fd6f6dc44a42a1bac43ded0b0a72": {
          "model_module": "@jupyter-widgets/base",
          "model_name": "LayoutModel",
          "model_module_version": "1.2.0",
          "state": {
            "_model_module": "@jupyter-widgets/base",
            "_model_module_version": "1.2.0",
            "_model_name": "LayoutModel",
            "_view_count": null,
            "_view_module": "@jupyter-widgets/base",
            "_view_module_version": "1.2.0",
            "_view_name": "LayoutView",
            "align_content": null,
            "align_items": null,
            "align_self": null,
            "border": null,
            "bottom": null,
            "display": null,
            "flex": null,
            "flex_flow": null,
            "grid_area": null,
            "grid_auto_columns": null,
            "grid_auto_flow": null,
            "grid_auto_rows": null,
            "grid_column": null,
            "grid_gap": null,
            "grid_row": null,
            "grid_template_areas": null,
            "grid_template_columns": null,
            "grid_template_rows": null,
            "height": null,
            "justify_content": null,
            "justify_items": null,
            "left": null,
            "margin": null,
            "max_height": null,
            "max_width": null,
            "min_height": null,
            "min_width": null,
            "object_fit": null,
            "object_position": null,
            "order": null,
            "overflow": null,
            "overflow_x": null,
            "overflow_y": null,
            "padding": null,
            "right": null,
            "top": null,
            "visibility": null,
            "width": null
          }
        },
        "59e0b540280d472491473ec179b2ad1e": {
          "model_module": "@jupyter-widgets/controls",
          "model_name": "DescriptionStyleModel",
          "model_module_version": "1.5.0",
          "state": {
            "_model_module": "@jupyter-widgets/controls",
            "_model_module_version": "1.5.0",
            "_model_name": "DescriptionStyleModel",
            "_view_count": null,
            "_view_module": "@jupyter-widgets/base",
            "_view_module_version": "1.2.0",
            "_view_name": "StyleView",
            "description_width": ""
          }
        },
        "40b42e283e424c5ebfd3af65511bbedb": {
          "model_module": "@jupyter-widgets/base",
          "model_name": "LayoutModel",
          "model_module_version": "1.2.0",
          "state": {
            "_model_module": "@jupyter-widgets/base",
            "_model_module_version": "1.2.0",
            "_model_name": "LayoutModel",
            "_view_count": null,
            "_view_module": "@jupyter-widgets/base",
            "_view_module_version": "1.2.0",
            "_view_name": "LayoutView",
            "align_content": null,
            "align_items": null,
            "align_self": null,
            "border": null,
            "bottom": null,
            "display": null,
            "flex": null,
            "flex_flow": null,
            "grid_area": null,
            "grid_auto_columns": null,
            "grid_auto_flow": null,
            "grid_auto_rows": null,
            "grid_column": null,
            "grid_gap": null,
            "grid_row": null,
            "grid_template_areas": null,
            "grid_template_columns": null,
            "grid_template_rows": null,
            "height": null,
            "justify_content": null,
            "justify_items": null,
            "left": null,
            "margin": null,
            "max_height": null,
            "max_width": null,
            "min_height": null,
            "min_width": null,
            "object_fit": null,
            "object_position": null,
            "order": null,
            "overflow": null,
            "overflow_x": null,
            "overflow_y": null,
            "padding": null,
            "right": null,
            "top": null,
            "visibility": null,
            "width": null
          }
        },
        "67ddffe9d28144cfbbecfa3aaeefb563": {
          "model_module": "@jupyter-widgets/controls",
          "model_name": "ProgressStyleModel",
          "model_module_version": "1.5.0",
          "state": {
            "_model_module": "@jupyter-widgets/controls",
            "_model_module_version": "1.5.0",
            "_model_name": "ProgressStyleModel",
            "_view_count": null,
            "_view_module": "@jupyter-widgets/base",
            "_view_module_version": "1.2.0",
            "_view_name": "StyleView",
            "bar_color": null,
            "description_width": ""
          }
        },
        "b838cdfcba324208b8e0b93742554255": {
          "model_module": "@jupyter-widgets/base",
          "model_name": "LayoutModel",
          "model_module_version": "1.2.0",
          "state": {
            "_model_module": "@jupyter-widgets/base",
            "_model_module_version": "1.2.0",
            "_model_name": "LayoutModel",
            "_view_count": null,
            "_view_module": "@jupyter-widgets/base",
            "_view_module_version": "1.2.0",
            "_view_name": "LayoutView",
            "align_content": null,
            "align_items": null,
            "align_self": null,
            "border": null,
            "bottom": null,
            "display": null,
            "flex": null,
            "flex_flow": null,
            "grid_area": null,
            "grid_auto_columns": null,
            "grid_auto_flow": null,
            "grid_auto_rows": null,
            "grid_column": null,
            "grid_gap": null,
            "grid_row": null,
            "grid_template_areas": null,
            "grid_template_columns": null,
            "grid_template_rows": null,
            "height": null,
            "justify_content": null,
            "justify_items": null,
            "left": null,
            "margin": null,
            "max_height": null,
            "max_width": null,
            "min_height": null,
            "min_width": null,
            "object_fit": null,
            "object_position": null,
            "order": null,
            "overflow": null,
            "overflow_x": null,
            "overflow_y": null,
            "padding": null,
            "right": null,
            "top": null,
            "visibility": null,
            "width": null
          }
        },
        "0a1f8a331abc4e46b84043d7a70e2e0c": {
          "model_module": "@jupyter-widgets/controls",
          "model_name": "DescriptionStyleModel",
          "model_module_version": "1.5.0",
          "state": {
            "_model_module": "@jupyter-widgets/controls",
            "_model_module_version": "1.5.0",
            "_model_name": "DescriptionStyleModel",
            "_view_count": null,
            "_view_module": "@jupyter-widgets/base",
            "_view_module_version": "1.2.0",
            "_view_name": "StyleView",
            "description_width": ""
          }
        },
        "9da7f94c944a464dad6d34a46c79fcae": {
          "model_module": "@jupyter-widgets/controls",
          "model_name": "HBoxModel",
          "model_module_version": "1.5.0",
          "state": {
            "_dom_classes": [],
            "_model_module": "@jupyter-widgets/controls",
            "_model_module_version": "1.5.0",
            "_model_name": "HBoxModel",
            "_view_count": null,
            "_view_module": "@jupyter-widgets/controls",
            "_view_module_version": "1.5.0",
            "_view_name": "HBoxView",
            "box_style": "",
            "children": [
              "IPY_MODEL_5d23c42c5ef44adc8d19869c5a1180e7",
              "IPY_MODEL_0f7fb3c514044f89a38c4cca5eb189f4",
              "IPY_MODEL_e5d6bc1068864489a43d45778ebd0219"
            ],
            "layout": "IPY_MODEL_b14b9305cdd44a568ad17ff872578a87"
          }
        },
        "5d23c42c5ef44adc8d19869c5a1180e7": {
          "model_module": "@jupyter-widgets/controls",
          "model_name": "HTMLModel",
          "model_module_version": "1.5.0",
          "state": {
            "_dom_classes": [],
            "_model_module": "@jupyter-widgets/controls",
            "_model_module_version": "1.5.0",
            "_model_name": "HTMLModel",
            "_view_count": null,
            "_view_module": "@jupyter-widgets/controls",
            "_view_module_version": "1.5.0",
            "_view_name": "HTMLView",
            "description": "",
            "description_tooltip": null,
            "layout": "IPY_MODEL_8a4a4839a5b44e02a05c4be6647f8a01",
            "placeholder": "​",
            "style": "IPY_MODEL_6c5ccbe3fd204dcd82c2b46f5d61cd86",
            "value": "Downloading (…)lve/main/config.json: 100%"
          }
        },
        "0f7fb3c514044f89a38c4cca5eb189f4": {
          "model_module": "@jupyter-widgets/controls",
          "model_name": "FloatProgressModel",
          "model_module_version": "1.5.0",
          "state": {
            "_dom_classes": [],
            "_model_module": "@jupyter-widgets/controls",
            "_model_module_version": "1.5.0",
            "_model_name": "FloatProgressModel",
            "_view_count": null,
            "_view_module": "@jupyter-widgets/controls",
            "_view_module_version": "1.5.0",
            "_view_name": "ProgressView",
            "bar_style": "success",
            "description": "",
            "description_tooltip": null,
            "layout": "IPY_MODEL_eaa13e9f92a748d4b00ca030a2896694",
            "max": 2062,
            "min": 0,
            "orientation": "horizontal",
            "style": "IPY_MODEL_bdd7c65918574a92b4174c236ae01abd",
            "value": 2062
          }
        },
        "e5d6bc1068864489a43d45778ebd0219": {
          "model_module": "@jupyter-widgets/controls",
          "model_name": "HTMLModel",
          "model_module_version": "1.5.0",
          "state": {
            "_dom_classes": [],
            "_model_module": "@jupyter-widgets/controls",
            "_model_module_version": "1.5.0",
            "_model_name": "HTMLModel",
            "_view_count": null,
            "_view_module": "@jupyter-widgets/controls",
            "_view_module_version": "1.5.0",
            "_view_name": "HTMLView",
            "description": "",
            "description_tooltip": null,
            "layout": "IPY_MODEL_695665fd2f8d4515a56f18c009f90f51",
            "placeholder": "​",
            "style": "IPY_MODEL_b0976bd7d4a140d997339e96b058de11",
            "value": " 2.06k/2.06k [00:00&lt;00:00, 191kB/s]"
          }
        },
        "b14b9305cdd44a568ad17ff872578a87": {
          "model_module": "@jupyter-widgets/base",
          "model_name": "LayoutModel",
          "model_module_version": "1.2.0",
          "state": {
            "_model_module": "@jupyter-widgets/base",
            "_model_module_version": "1.2.0",
            "_model_name": "LayoutModel",
            "_view_count": null,
            "_view_module": "@jupyter-widgets/base",
            "_view_module_version": "1.2.0",
            "_view_name": "LayoutView",
            "align_content": null,
            "align_items": null,
            "align_self": null,
            "border": null,
            "bottom": null,
            "display": null,
            "flex": null,
            "flex_flow": null,
            "grid_area": null,
            "grid_auto_columns": null,
            "grid_auto_flow": null,
            "grid_auto_rows": null,
            "grid_column": null,
            "grid_gap": null,
            "grid_row": null,
            "grid_template_areas": null,
            "grid_template_columns": null,
            "grid_template_rows": null,
            "height": null,
            "justify_content": null,
            "justify_items": null,
            "left": null,
            "margin": null,
            "max_height": null,
            "max_width": null,
            "min_height": null,
            "min_width": null,
            "object_fit": null,
            "object_position": null,
            "order": null,
            "overflow": null,
            "overflow_x": null,
            "overflow_y": null,
            "padding": null,
            "right": null,
            "top": null,
            "visibility": null,
            "width": null
          }
        },
        "8a4a4839a5b44e02a05c4be6647f8a01": {
          "model_module": "@jupyter-widgets/base",
          "model_name": "LayoutModel",
          "model_module_version": "1.2.0",
          "state": {
            "_model_module": "@jupyter-widgets/base",
            "_model_module_version": "1.2.0",
            "_model_name": "LayoutModel",
            "_view_count": null,
            "_view_module": "@jupyter-widgets/base",
            "_view_module_version": "1.2.0",
            "_view_name": "LayoutView",
            "align_content": null,
            "align_items": null,
            "align_self": null,
            "border": null,
            "bottom": null,
            "display": null,
            "flex": null,
            "flex_flow": null,
            "grid_area": null,
            "grid_auto_columns": null,
            "grid_auto_flow": null,
            "grid_auto_rows": null,
            "grid_column": null,
            "grid_gap": null,
            "grid_row": null,
            "grid_template_areas": null,
            "grid_template_columns": null,
            "grid_template_rows": null,
            "height": null,
            "justify_content": null,
            "justify_items": null,
            "left": null,
            "margin": null,
            "max_height": null,
            "max_width": null,
            "min_height": null,
            "min_width": null,
            "object_fit": null,
            "object_position": null,
            "order": null,
            "overflow": null,
            "overflow_x": null,
            "overflow_y": null,
            "padding": null,
            "right": null,
            "top": null,
            "visibility": null,
            "width": null
          }
        },
        "6c5ccbe3fd204dcd82c2b46f5d61cd86": {
          "model_module": "@jupyter-widgets/controls",
          "model_name": "DescriptionStyleModel",
          "model_module_version": "1.5.0",
          "state": {
            "_model_module": "@jupyter-widgets/controls",
            "_model_module_version": "1.5.0",
            "_model_name": "DescriptionStyleModel",
            "_view_count": null,
            "_view_module": "@jupyter-widgets/base",
            "_view_module_version": "1.2.0",
            "_view_name": "StyleView",
            "description_width": ""
          }
        },
        "eaa13e9f92a748d4b00ca030a2896694": {
          "model_module": "@jupyter-widgets/base",
          "model_name": "LayoutModel",
          "model_module_version": "1.2.0",
          "state": {
            "_model_module": "@jupyter-widgets/base",
            "_model_module_version": "1.2.0",
            "_model_name": "LayoutModel",
            "_view_count": null,
            "_view_module": "@jupyter-widgets/base",
            "_view_module_version": "1.2.0",
            "_view_name": "LayoutView",
            "align_content": null,
            "align_items": null,
            "align_self": null,
            "border": null,
            "bottom": null,
            "display": null,
            "flex": null,
            "flex_flow": null,
            "grid_area": null,
            "grid_auto_columns": null,
            "grid_auto_flow": null,
            "grid_auto_rows": null,
            "grid_column": null,
            "grid_gap": null,
            "grid_row": null,
            "grid_template_areas": null,
            "grid_template_columns": null,
            "grid_template_rows": null,
            "height": null,
            "justify_content": null,
            "justify_items": null,
            "left": null,
            "margin": null,
            "max_height": null,
            "max_width": null,
            "min_height": null,
            "min_width": null,
            "object_fit": null,
            "object_position": null,
            "order": null,
            "overflow": null,
            "overflow_x": null,
            "overflow_y": null,
            "padding": null,
            "right": null,
            "top": null,
            "visibility": null,
            "width": null
          }
        },
        "bdd7c65918574a92b4174c236ae01abd": {
          "model_module": "@jupyter-widgets/controls",
          "model_name": "ProgressStyleModel",
          "model_module_version": "1.5.0",
          "state": {
            "_model_module": "@jupyter-widgets/controls",
            "_model_module_version": "1.5.0",
            "_model_name": "ProgressStyleModel",
            "_view_count": null,
            "_view_module": "@jupyter-widgets/base",
            "_view_module_version": "1.2.0",
            "_view_name": "StyleView",
            "bar_color": null,
            "description_width": ""
          }
        },
        "695665fd2f8d4515a56f18c009f90f51": {
          "model_module": "@jupyter-widgets/base",
          "model_name": "LayoutModel",
          "model_module_version": "1.2.0",
          "state": {
            "_model_module": "@jupyter-widgets/base",
            "_model_module_version": "1.2.0",
            "_model_name": "LayoutModel",
            "_view_count": null,
            "_view_module": "@jupyter-widgets/base",
            "_view_module_version": "1.2.0",
            "_view_name": "LayoutView",
            "align_content": null,
            "align_items": null,
            "align_self": null,
            "border": null,
            "bottom": null,
            "display": null,
            "flex": null,
            "flex_flow": null,
            "grid_area": null,
            "grid_auto_columns": null,
            "grid_auto_flow": null,
            "grid_auto_rows": null,
            "grid_column": null,
            "grid_gap": null,
            "grid_row": null,
            "grid_template_areas": null,
            "grid_template_columns": null,
            "grid_template_rows": null,
            "height": null,
            "justify_content": null,
            "justify_items": null,
            "left": null,
            "margin": null,
            "max_height": null,
            "max_width": null,
            "min_height": null,
            "min_width": null,
            "object_fit": null,
            "object_position": null,
            "order": null,
            "overflow": null,
            "overflow_x": null,
            "overflow_y": null,
            "padding": null,
            "right": null,
            "top": null,
            "visibility": null,
            "width": null
          }
        },
        "b0976bd7d4a140d997339e96b058de11": {
          "model_module": "@jupyter-widgets/controls",
          "model_name": "DescriptionStyleModel",
          "model_module_version": "1.5.0",
          "state": {
            "_model_module": "@jupyter-widgets/controls",
            "_model_module_version": "1.5.0",
            "_model_name": "DescriptionStyleModel",
            "_view_count": null,
            "_view_module": "@jupyter-widgets/base",
            "_view_module_version": "1.2.0",
            "_view_name": "StyleView",
            "description_width": ""
          }
        },
        "c44050fc9ed84696a53f42f8fdbbc97c": {
          "model_module": "@jupyter-widgets/controls",
          "model_name": "HBoxModel",
          "model_module_version": "1.5.0",
          "state": {
            "_dom_classes": [],
            "_model_module": "@jupyter-widgets/controls",
            "_model_module_version": "1.5.0",
            "_model_name": "HBoxModel",
            "_view_count": null,
            "_view_module": "@jupyter-widgets/controls",
            "_view_module_version": "1.5.0",
            "_view_name": "HBoxView",
            "box_style": "",
            "children": [
              "IPY_MODEL_e333e4fa00c843d1bbaebaac0592794b",
              "IPY_MODEL_ee8cf0c48f6e4ff2bcaf26fc241a940f",
              "IPY_MODEL_f2ed5ecfd78a4ca68f355499672bd4f4"
            ],
            "layout": "IPY_MODEL_c6442e1088074ae897c3fa50aa2e4652"
          }
        },
        "e333e4fa00c843d1bbaebaac0592794b": {
          "model_module": "@jupyter-widgets/controls",
          "model_name": "HTMLModel",
          "model_module_version": "1.5.0",
          "state": {
            "_dom_classes": [],
            "_model_module": "@jupyter-widgets/controls",
            "_model_module_version": "1.5.0",
            "_model_name": "HTMLModel",
            "_view_count": null,
            "_view_module": "@jupyter-widgets/controls",
            "_view_module_version": "1.5.0",
            "_view_name": "HTMLView",
            "description": "",
            "description_tooltip": null,
            "layout": "IPY_MODEL_06f78faebc1240908c4bcf345c69ab60",
            "placeholder": "​",
            "style": "IPY_MODEL_749d36cab2b249cb85472fd3206e0ff9",
            "value": "Downloading pytorch_model.bin: 100%"
          }
        },
        "ee8cf0c48f6e4ff2bcaf26fc241a940f": {
          "model_module": "@jupyter-widgets/controls",
          "model_name": "FloatProgressModel",
          "model_module_version": "1.5.0",
          "state": {
            "_dom_classes": [],
            "_model_module": "@jupyter-widgets/controls",
            "_model_module_version": "1.5.0",
            "_model_name": "FloatProgressModel",
            "_view_count": null,
            "_view_module": "@jupyter-widgets/controls",
            "_view_module_version": "1.5.0",
            "_view_name": "ProgressView",
            "bar_style": "success",
            "description": "",
            "description_tooltip": null,
            "layout": "IPY_MODEL_47328348c5034bcab3d97d5ef4a8e3aa",
            "max": 585476837,
            "min": 0,
            "orientation": "horizontal",
            "style": "IPY_MODEL_4bb154627b88436c80d1bd0decbb0579",
            "value": 585476837
          }
        },
        "f2ed5ecfd78a4ca68f355499672bd4f4": {
          "model_module": "@jupyter-widgets/controls",
          "model_name": "HTMLModel",
          "model_module_version": "1.5.0",
          "state": {
            "_dom_classes": [],
            "_model_module": "@jupyter-widgets/controls",
            "_model_module_version": "1.5.0",
            "_model_name": "HTMLModel",
            "_view_count": null,
            "_view_module": "@jupyter-widgets/controls",
            "_view_module_version": "1.5.0",
            "_view_name": "HTMLView",
            "description": "",
            "description_tooltip": null,
            "layout": "IPY_MODEL_374689283ad64124b30c54ae61cfb83a",
            "placeholder": "​",
            "style": "IPY_MODEL_d19a9fa4aa5d41cf8de08d7ab1019366",
            "value": " 585M/585M [00:07&lt;00:00, 81.9MB/s]"
          }
        },
        "c6442e1088074ae897c3fa50aa2e4652": {
          "model_module": "@jupyter-widgets/base",
          "model_name": "LayoutModel",
          "model_module_version": "1.2.0",
          "state": {
            "_model_module": "@jupyter-widgets/base",
            "_model_module_version": "1.2.0",
            "_model_name": "LayoutModel",
            "_view_count": null,
            "_view_module": "@jupyter-widgets/base",
            "_view_module_version": "1.2.0",
            "_view_name": "LayoutView",
            "align_content": null,
            "align_items": null,
            "align_self": null,
            "border": null,
            "bottom": null,
            "display": null,
            "flex": null,
            "flex_flow": null,
            "grid_area": null,
            "grid_auto_columns": null,
            "grid_auto_flow": null,
            "grid_auto_rows": null,
            "grid_column": null,
            "grid_gap": null,
            "grid_row": null,
            "grid_template_areas": null,
            "grid_template_columns": null,
            "grid_template_rows": null,
            "height": null,
            "justify_content": null,
            "justify_items": null,
            "left": null,
            "margin": null,
            "max_height": null,
            "max_width": null,
            "min_height": null,
            "min_width": null,
            "object_fit": null,
            "object_position": null,
            "order": null,
            "overflow": null,
            "overflow_x": null,
            "overflow_y": null,
            "padding": null,
            "right": null,
            "top": null,
            "visibility": null,
            "width": null
          }
        },
        "06f78faebc1240908c4bcf345c69ab60": {
          "model_module": "@jupyter-widgets/base",
          "model_name": "LayoutModel",
          "model_module_version": "1.2.0",
          "state": {
            "_model_module": "@jupyter-widgets/base",
            "_model_module_version": "1.2.0",
            "_model_name": "LayoutModel",
            "_view_count": null,
            "_view_module": "@jupyter-widgets/base",
            "_view_module_version": "1.2.0",
            "_view_name": "LayoutView",
            "align_content": null,
            "align_items": null,
            "align_self": null,
            "border": null,
            "bottom": null,
            "display": null,
            "flex": null,
            "flex_flow": null,
            "grid_area": null,
            "grid_auto_columns": null,
            "grid_auto_flow": null,
            "grid_auto_rows": null,
            "grid_column": null,
            "grid_gap": null,
            "grid_row": null,
            "grid_template_areas": null,
            "grid_template_columns": null,
            "grid_template_rows": null,
            "height": null,
            "justify_content": null,
            "justify_items": null,
            "left": null,
            "margin": null,
            "max_height": null,
            "max_width": null,
            "min_height": null,
            "min_width": null,
            "object_fit": null,
            "object_position": null,
            "order": null,
            "overflow": null,
            "overflow_x": null,
            "overflow_y": null,
            "padding": null,
            "right": null,
            "top": null,
            "visibility": null,
            "width": null
          }
        },
        "749d36cab2b249cb85472fd3206e0ff9": {
          "model_module": "@jupyter-widgets/controls",
          "model_name": "DescriptionStyleModel",
          "model_module_version": "1.5.0",
          "state": {
            "_model_module": "@jupyter-widgets/controls",
            "_model_module_version": "1.5.0",
            "_model_name": "DescriptionStyleModel",
            "_view_count": null,
            "_view_module": "@jupyter-widgets/base",
            "_view_module_version": "1.2.0",
            "_view_name": "StyleView",
            "description_width": ""
          }
        },
        "47328348c5034bcab3d97d5ef4a8e3aa": {
          "model_module": "@jupyter-widgets/base",
          "model_name": "LayoutModel",
          "model_module_version": "1.2.0",
          "state": {
            "_model_module": "@jupyter-widgets/base",
            "_model_module_version": "1.2.0",
            "_model_name": "LayoutModel",
            "_view_count": null,
            "_view_module": "@jupyter-widgets/base",
            "_view_module_version": "1.2.0",
            "_view_name": "LayoutView",
            "align_content": null,
            "align_items": null,
            "align_self": null,
            "border": null,
            "bottom": null,
            "display": null,
            "flex": null,
            "flex_flow": null,
            "grid_area": null,
            "grid_auto_columns": null,
            "grid_auto_flow": null,
            "grid_auto_rows": null,
            "grid_column": null,
            "grid_gap": null,
            "grid_row": null,
            "grid_template_areas": null,
            "grid_template_columns": null,
            "grid_template_rows": null,
            "height": null,
            "justify_content": null,
            "justify_items": null,
            "left": null,
            "margin": null,
            "max_height": null,
            "max_width": null,
            "min_height": null,
            "min_width": null,
            "object_fit": null,
            "object_position": null,
            "order": null,
            "overflow": null,
            "overflow_x": null,
            "overflow_y": null,
            "padding": null,
            "right": null,
            "top": null,
            "visibility": null,
            "width": null
          }
        },
        "4bb154627b88436c80d1bd0decbb0579": {
          "model_module": "@jupyter-widgets/controls",
          "model_name": "ProgressStyleModel",
          "model_module_version": "1.5.0",
          "state": {
            "_model_module": "@jupyter-widgets/controls",
            "_model_module_version": "1.5.0",
            "_model_name": "ProgressStyleModel",
            "_view_count": null,
            "_view_module": "@jupyter-widgets/base",
            "_view_module_version": "1.2.0",
            "_view_name": "StyleView",
            "bar_color": null,
            "description_width": ""
          }
        },
        "374689283ad64124b30c54ae61cfb83a": {
          "model_module": "@jupyter-widgets/base",
          "model_name": "LayoutModel",
          "model_module_version": "1.2.0",
          "state": {
            "_model_module": "@jupyter-widgets/base",
            "_model_module_version": "1.2.0",
            "_model_name": "LayoutModel",
            "_view_count": null,
            "_view_module": "@jupyter-widgets/base",
            "_view_module_version": "1.2.0",
            "_view_name": "LayoutView",
            "align_content": null,
            "align_items": null,
            "align_self": null,
            "border": null,
            "bottom": null,
            "display": null,
            "flex": null,
            "flex_flow": null,
            "grid_area": null,
            "grid_auto_columns": null,
            "grid_auto_flow": null,
            "grid_auto_rows": null,
            "grid_column": null,
            "grid_gap": null,
            "grid_row": null,
            "grid_template_areas": null,
            "grid_template_columns": null,
            "grid_template_rows": null,
            "height": null,
            "justify_content": null,
            "justify_items": null,
            "left": null,
            "margin": null,
            "max_height": null,
            "max_width": null,
            "min_height": null,
            "min_width": null,
            "object_fit": null,
            "object_position": null,
            "order": null,
            "overflow": null,
            "overflow_x": null,
            "overflow_y": null,
            "padding": null,
            "right": null,
            "top": null,
            "visibility": null,
            "width": null
          }
        },
        "d19a9fa4aa5d41cf8de08d7ab1019366": {
          "model_module": "@jupyter-widgets/controls",
          "model_name": "DescriptionStyleModel",
          "model_module_version": "1.5.0",
          "state": {
            "_model_module": "@jupyter-widgets/controls",
            "_model_module_version": "1.5.0",
            "_model_name": "DescriptionStyleModel",
            "_view_count": null,
            "_view_module": "@jupyter-widgets/base",
            "_view_module_version": "1.2.0",
            "_view_name": "StyleView",
            "description_width": ""
          }
        },
        "132043854d0b4c9797c02873ade20084": {
          "model_module": "@jupyter-widgets/controls",
          "model_name": "HBoxModel",
          "model_module_version": "1.5.0",
          "state": {
            "_dom_classes": [],
            "_model_module": "@jupyter-widgets/controls",
            "_model_module_version": "1.5.0",
            "_model_name": "HBoxModel",
            "_view_count": null,
            "_view_module": "@jupyter-widgets/controls",
            "_view_module_version": "1.5.0",
            "_view_name": "HBoxView",
            "box_style": "",
            "children": [
              "IPY_MODEL_6479bcbf90ad4b8087f10590b71daa93",
              "IPY_MODEL_61afed4f5d2b4259922b7b4ac878b7ed",
              "IPY_MODEL_fcc2a352d8a6412f881536ca033eaaf9"
            ],
            "layout": "IPY_MODEL_41425e88bf054fb99f779c38ca4ec775"
          }
        },
        "6479bcbf90ad4b8087f10590b71daa93": {
          "model_module": "@jupyter-widgets/controls",
          "model_name": "HTMLModel",
          "model_module_version": "1.5.0",
          "state": {
            "_dom_classes": [],
            "_model_module": "@jupyter-widgets/controls",
            "_model_module_version": "1.5.0",
            "_model_name": "HTMLModel",
            "_view_count": null,
            "_view_module": "@jupyter-widgets/controls",
            "_view_module_version": "1.5.0",
            "_view_name": "HTMLView",
            "description": "",
            "description_tooltip": null,
            "layout": "IPY_MODEL_42df6a2117ca4f5a8d0a19b4a6773069",
            "placeholder": "​",
            "style": "IPY_MODEL_f774ceab4f0244e0af42db0f0fcec249",
            "value": "Map:   0%"
          }
        },
        "61afed4f5d2b4259922b7b4ac878b7ed": {
          "model_module": "@jupyter-widgets/controls",
          "model_name": "FloatProgressModel",
          "model_module_version": "1.5.0",
          "state": {
            "_dom_classes": [],
            "_model_module": "@jupyter-widgets/controls",
            "_model_module_version": "1.5.0",
            "_model_name": "FloatProgressModel",
            "_view_count": null,
            "_view_module": "@jupyter-widgets/controls",
            "_view_module_version": "1.5.0",
            "_view_name": "ProgressView",
            "bar_style": "",
            "description": "",
            "description_tooltip": null,
            "layout": "IPY_MODEL_30876ec2847b4c608153de6fbf47100b",
            "max": 158,
            "min": 0,
            "orientation": "horizontal",
            "style": "IPY_MODEL_bfe357dca5d0425284cf240b5dd821e6",
            "value": 158
          }
        },
        "fcc2a352d8a6412f881536ca033eaaf9": {
          "model_module": "@jupyter-widgets/controls",
          "model_name": "HTMLModel",
          "model_module_version": "1.5.0",
          "state": {
            "_dom_classes": [],
            "_model_module": "@jupyter-widgets/controls",
            "_model_module_version": "1.5.0",
            "_model_name": "HTMLModel",
            "_view_count": null,
            "_view_module": "@jupyter-widgets/controls",
            "_view_module_version": "1.5.0",
            "_view_name": "HTMLView",
            "description": "",
            "description_tooltip": null,
            "layout": "IPY_MODEL_2405935c850143619490244ccc7cb334",
            "placeholder": "​",
            "style": "IPY_MODEL_76dd5f7dbbd44cce988a371e73e41827",
            "value": " 0/158 [00:00&lt;?, ? examples/s]"
          }
        },
        "41425e88bf054fb99f779c38ca4ec775": {
          "model_module": "@jupyter-widgets/base",
          "model_name": "LayoutModel",
          "model_module_version": "1.2.0",
          "state": {
            "_model_module": "@jupyter-widgets/base",
            "_model_module_version": "1.2.0",
            "_model_name": "LayoutModel",
            "_view_count": null,
            "_view_module": "@jupyter-widgets/base",
            "_view_module_version": "1.2.0",
            "_view_name": "LayoutView",
            "align_content": null,
            "align_items": null,
            "align_self": null,
            "border": null,
            "bottom": null,
            "display": null,
            "flex": null,
            "flex_flow": null,
            "grid_area": null,
            "grid_auto_columns": null,
            "grid_auto_flow": null,
            "grid_auto_rows": null,
            "grid_column": null,
            "grid_gap": null,
            "grid_row": null,
            "grid_template_areas": null,
            "grid_template_columns": null,
            "grid_template_rows": null,
            "height": null,
            "justify_content": null,
            "justify_items": null,
            "left": null,
            "margin": null,
            "max_height": null,
            "max_width": null,
            "min_height": null,
            "min_width": null,
            "object_fit": null,
            "object_position": null,
            "order": null,
            "overflow": null,
            "overflow_x": null,
            "overflow_y": null,
            "padding": null,
            "right": null,
            "top": null,
            "visibility": "hidden",
            "width": null
          }
        },
        "42df6a2117ca4f5a8d0a19b4a6773069": {
          "model_module": "@jupyter-widgets/base",
          "model_name": "LayoutModel",
          "model_module_version": "1.2.0",
          "state": {
            "_model_module": "@jupyter-widgets/base",
            "_model_module_version": "1.2.0",
            "_model_name": "LayoutModel",
            "_view_count": null,
            "_view_module": "@jupyter-widgets/base",
            "_view_module_version": "1.2.0",
            "_view_name": "LayoutView",
            "align_content": null,
            "align_items": null,
            "align_self": null,
            "border": null,
            "bottom": null,
            "display": null,
            "flex": null,
            "flex_flow": null,
            "grid_area": null,
            "grid_auto_columns": null,
            "grid_auto_flow": null,
            "grid_auto_rows": null,
            "grid_column": null,
            "grid_gap": null,
            "grid_row": null,
            "grid_template_areas": null,
            "grid_template_columns": null,
            "grid_template_rows": null,
            "height": null,
            "justify_content": null,
            "justify_items": null,
            "left": null,
            "margin": null,
            "max_height": null,
            "max_width": null,
            "min_height": null,
            "min_width": null,
            "object_fit": null,
            "object_position": null,
            "order": null,
            "overflow": null,
            "overflow_x": null,
            "overflow_y": null,
            "padding": null,
            "right": null,
            "top": null,
            "visibility": null,
            "width": null
          }
        },
        "f774ceab4f0244e0af42db0f0fcec249": {
          "model_module": "@jupyter-widgets/controls",
          "model_name": "DescriptionStyleModel",
          "model_module_version": "1.5.0",
          "state": {
            "_model_module": "@jupyter-widgets/controls",
            "_model_module_version": "1.5.0",
            "_model_name": "DescriptionStyleModel",
            "_view_count": null,
            "_view_module": "@jupyter-widgets/base",
            "_view_module_version": "1.2.0",
            "_view_name": "StyleView",
            "description_width": ""
          }
        },
        "30876ec2847b4c608153de6fbf47100b": {
          "model_module": "@jupyter-widgets/base",
          "model_name": "LayoutModel",
          "model_module_version": "1.2.0",
          "state": {
            "_model_module": "@jupyter-widgets/base",
            "_model_module_version": "1.2.0",
            "_model_name": "LayoutModel",
            "_view_count": null,
            "_view_module": "@jupyter-widgets/base",
            "_view_module_version": "1.2.0",
            "_view_name": "LayoutView",
            "align_content": null,
            "align_items": null,
            "align_self": null,
            "border": null,
            "bottom": null,
            "display": null,
            "flex": null,
            "flex_flow": null,
            "grid_area": null,
            "grid_auto_columns": null,
            "grid_auto_flow": null,
            "grid_auto_rows": null,
            "grid_column": null,
            "grid_gap": null,
            "grid_row": null,
            "grid_template_areas": null,
            "grid_template_columns": null,
            "grid_template_rows": null,
            "height": null,
            "justify_content": null,
            "justify_items": null,
            "left": null,
            "margin": null,
            "max_height": null,
            "max_width": null,
            "min_height": null,
            "min_width": null,
            "object_fit": null,
            "object_position": null,
            "order": null,
            "overflow": null,
            "overflow_x": null,
            "overflow_y": null,
            "padding": null,
            "right": null,
            "top": null,
            "visibility": null,
            "width": null
          }
        },
        "bfe357dca5d0425284cf240b5dd821e6": {
          "model_module": "@jupyter-widgets/controls",
          "model_name": "ProgressStyleModel",
          "model_module_version": "1.5.0",
          "state": {
            "_model_module": "@jupyter-widgets/controls",
            "_model_module_version": "1.5.0",
            "_model_name": "ProgressStyleModel",
            "_view_count": null,
            "_view_module": "@jupyter-widgets/base",
            "_view_module_version": "1.2.0",
            "_view_name": "StyleView",
            "bar_color": null,
            "description_width": ""
          }
        },
        "2405935c850143619490244ccc7cb334": {
          "model_module": "@jupyter-widgets/base",
          "model_name": "LayoutModel",
          "model_module_version": "1.2.0",
          "state": {
            "_model_module": "@jupyter-widgets/base",
            "_model_module_version": "1.2.0",
            "_model_name": "LayoutModel",
            "_view_count": null,
            "_view_module": "@jupyter-widgets/base",
            "_view_module_version": "1.2.0",
            "_view_name": "LayoutView",
            "align_content": null,
            "align_items": null,
            "align_self": null,
            "border": null,
            "bottom": null,
            "display": null,
            "flex": null,
            "flex_flow": null,
            "grid_area": null,
            "grid_auto_columns": null,
            "grid_auto_flow": null,
            "grid_auto_rows": null,
            "grid_column": null,
            "grid_gap": null,
            "grid_row": null,
            "grid_template_areas": null,
            "grid_template_columns": null,
            "grid_template_rows": null,
            "height": null,
            "justify_content": null,
            "justify_items": null,
            "left": null,
            "margin": null,
            "max_height": null,
            "max_width": null,
            "min_height": null,
            "min_width": null,
            "object_fit": null,
            "object_position": null,
            "order": null,
            "overflow": null,
            "overflow_x": null,
            "overflow_y": null,
            "padding": null,
            "right": null,
            "top": null,
            "visibility": null,
            "width": null
          }
        },
        "76dd5f7dbbd44cce988a371e73e41827": {
          "model_module": "@jupyter-widgets/controls",
          "model_name": "DescriptionStyleModel",
          "model_module_version": "1.5.0",
          "state": {
            "_model_module": "@jupyter-widgets/controls",
            "_model_module_version": "1.5.0",
            "_model_name": "DescriptionStyleModel",
            "_view_count": null,
            "_view_module": "@jupyter-widgets/base",
            "_view_module_version": "1.2.0",
            "_view_name": "StyleView",
            "description_width": ""
          }
        },
        "a18b85addddc4b699e18a371f8a5514b": {
          "model_module": "@jupyter-widgets/controls",
          "model_name": "HBoxModel",
          "model_module_version": "1.5.0",
          "state": {
            "_dom_classes": [],
            "_model_module": "@jupyter-widgets/controls",
            "_model_module_version": "1.5.0",
            "_model_name": "HBoxModel",
            "_view_count": null,
            "_view_module": "@jupyter-widgets/controls",
            "_view_module_version": "1.5.0",
            "_view_name": "HBoxView",
            "box_style": "",
            "children": [
              "IPY_MODEL_53f28545d62c4bf1bbdd9e87346ab4f8",
              "IPY_MODEL_3639dbb40af440e899a3f5b6ff58d8dd",
              "IPY_MODEL_3861e0159a9c45ee92dde06815fab640"
            ],
            "layout": "IPY_MODEL_7cda37d2f8734122a2c67382820bd122"
          }
        },
        "53f28545d62c4bf1bbdd9e87346ab4f8": {
          "model_module": "@jupyter-widgets/controls",
          "model_name": "HTMLModel",
          "model_module_version": "1.5.0",
          "state": {
            "_dom_classes": [],
            "_model_module": "@jupyter-widgets/controls",
            "_model_module_version": "1.5.0",
            "_model_name": "HTMLModel",
            "_view_count": null,
            "_view_module": "@jupyter-widgets/controls",
            "_view_module_version": "1.5.0",
            "_view_name": "HTMLView",
            "description": "",
            "description_tooltip": null,
            "layout": "IPY_MODEL_13470549d93b44d598f3e5c70fc5b875",
            "placeholder": "​",
            "style": "IPY_MODEL_476cf215bffa429d9f1702fb647d1c35",
            "value": "Map:   0%"
          }
        },
        "3639dbb40af440e899a3f5b6ff58d8dd": {
          "model_module": "@jupyter-widgets/controls",
          "model_name": "FloatProgressModel",
          "model_module_version": "1.5.0",
          "state": {
            "_dom_classes": [],
            "_model_module": "@jupyter-widgets/controls",
            "_model_module_version": "1.5.0",
            "_model_name": "FloatProgressModel",
            "_view_count": null,
            "_view_module": "@jupyter-widgets/controls",
            "_view_module_version": "1.5.0",
            "_view_name": "ProgressView",
            "bar_style": "",
            "description": "",
            "description_tooltip": null,
            "layout": "IPY_MODEL_0a1dbd89b38742feaff3a3dc81e7f35b",
            "max": 158,
            "min": 0,
            "orientation": "horizontal",
            "style": "IPY_MODEL_5a7c666a4865483c93dadb5ce8640d71",
            "value": 158
          }
        },
        "3861e0159a9c45ee92dde06815fab640": {
          "model_module": "@jupyter-widgets/controls",
          "model_name": "HTMLModel",
          "model_module_version": "1.5.0",
          "state": {
            "_dom_classes": [],
            "_model_module": "@jupyter-widgets/controls",
            "_model_module_version": "1.5.0",
            "_model_name": "HTMLModel",
            "_view_count": null,
            "_view_module": "@jupyter-widgets/controls",
            "_view_module_version": "1.5.0",
            "_view_name": "HTMLView",
            "description": "",
            "description_tooltip": null,
            "layout": "IPY_MODEL_d5de88568dec45c6af1245aadfb6e604",
            "placeholder": "​",
            "style": "IPY_MODEL_4950339216614c3d9916bd6d9427fdc5",
            "value": " 0/158 [00:00&lt;?, ? examples/s]"
          }
        },
        "7cda37d2f8734122a2c67382820bd122": {
          "model_module": "@jupyter-widgets/base",
          "model_name": "LayoutModel",
          "model_module_version": "1.2.0",
          "state": {
            "_model_module": "@jupyter-widgets/base",
            "_model_module_version": "1.2.0",
            "_model_name": "LayoutModel",
            "_view_count": null,
            "_view_module": "@jupyter-widgets/base",
            "_view_module_version": "1.2.0",
            "_view_name": "LayoutView",
            "align_content": null,
            "align_items": null,
            "align_self": null,
            "border": null,
            "bottom": null,
            "display": null,
            "flex": null,
            "flex_flow": null,
            "grid_area": null,
            "grid_auto_columns": null,
            "grid_auto_flow": null,
            "grid_auto_rows": null,
            "grid_column": null,
            "grid_gap": null,
            "grid_row": null,
            "grid_template_areas": null,
            "grid_template_columns": null,
            "grid_template_rows": null,
            "height": null,
            "justify_content": null,
            "justify_items": null,
            "left": null,
            "margin": null,
            "max_height": null,
            "max_width": null,
            "min_height": null,
            "min_width": null,
            "object_fit": null,
            "object_position": null,
            "order": null,
            "overflow": null,
            "overflow_x": null,
            "overflow_y": null,
            "padding": null,
            "right": null,
            "top": null,
            "visibility": "hidden",
            "width": null
          }
        },
        "13470549d93b44d598f3e5c70fc5b875": {
          "model_module": "@jupyter-widgets/base",
          "model_name": "LayoutModel",
          "model_module_version": "1.2.0",
          "state": {
            "_model_module": "@jupyter-widgets/base",
            "_model_module_version": "1.2.0",
            "_model_name": "LayoutModel",
            "_view_count": null,
            "_view_module": "@jupyter-widgets/base",
            "_view_module_version": "1.2.0",
            "_view_name": "LayoutView",
            "align_content": null,
            "align_items": null,
            "align_self": null,
            "border": null,
            "bottom": null,
            "display": null,
            "flex": null,
            "flex_flow": null,
            "grid_area": null,
            "grid_auto_columns": null,
            "grid_auto_flow": null,
            "grid_auto_rows": null,
            "grid_column": null,
            "grid_gap": null,
            "grid_row": null,
            "grid_template_areas": null,
            "grid_template_columns": null,
            "grid_template_rows": null,
            "height": null,
            "justify_content": null,
            "justify_items": null,
            "left": null,
            "margin": null,
            "max_height": null,
            "max_width": null,
            "min_height": null,
            "min_width": null,
            "object_fit": null,
            "object_position": null,
            "order": null,
            "overflow": null,
            "overflow_x": null,
            "overflow_y": null,
            "padding": null,
            "right": null,
            "top": null,
            "visibility": null,
            "width": null
          }
        },
        "476cf215bffa429d9f1702fb647d1c35": {
          "model_module": "@jupyter-widgets/controls",
          "model_name": "DescriptionStyleModel",
          "model_module_version": "1.5.0",
          "state": {
            "_model_module": "@jupyter-widgets/controls",
            "_model_module_version": "1.5.0",
            "_model_name": "DescriptionStyleModel",
            "_view_count": null,
            "_view_module": "@jupyter-widgets/base",
            "_view_module_version": "1.2.0",
            "_view_name": "StyleView",
            "description_width": ""
          }
        },
        "0a1dbd89b38742feaff3a3dc81e7f35b": {
          "model_module": "@jupyter-widgets/base",
          "model_name": "LayoutModel",
          "model_module_version": "1.2.0",
          "state": {
            "_model_module": "@jupyter-widgets/base",
            "_model_module_version": "1.2.0",
            "_model_name": "LayoutModel",
            "_view_count": null,
            "_view_module": "@jupyter-widgets/base",
            "_view_module_version": "1.2.0",
            "_view_name": "LayoutView",
            "align_content": null,
            "align_items": null,
            "align_self": null,
            "border": null,
            "bottom": null,
            "display": null,
            "flex": null,
            "flex_flow": null,
            "grid_area": null,
            "grid_auto_columns": null,
            "grid_auto_flow": null,
            "grid_auto_rows": null,
            "grid_column": null,
            "grid_gap": null,
            "grid_row": null,
            "grid_template_areas": null,
            "grid_template_columns": null,
            "grid_template_rows": null,
            "height": null,
            "justify_content": null,
            "justify_items": null,
            "left": null,
            "margin": null,
            "max_height": null,
            "max_width": null,
            "min_height": null,
            "min_width": null,
            "object_fit": null,
            "object_position": null,
            "order": null,
            "overflow": null,
            "overflow_x": null,
            "overflow_y": null,
            "padding": null,
            "right": null,
            "top": null,
            "visibility": null,
            "width": null
          }
        },
        "5a7c666a4865483c93dadb5ce8640d71": {
          "model_module": "@jupyter-widgets/controls",
          "model_name": "ProgressStyleModel",
          "model_module_version": "1.5.0",
          "state": {
            "_model_module": "@jupyter-widgets/controls",
            "_model_module_version": "1.5.0",
            "_model_name": "ProgressStyleModel",
            "_view_count": null,
            "_view_module": "@jupyter-widgets/base",
            "_view_module_version": "1.2.0",
            "_view_name": "StyleView",
            "bar_color": null,
            "description_width": ""
          }
        },
        "d5de88568dec45c6af1245aadfb6e604": {
          "model_module": "@jupyter-widgets/base",
          "model_name": "LayoutModel",
          "model_module_version": "1.2.0",
          "state": {
            "_model_module": "@jupyter-widgets/base",
            "_model_module_version": "1.2.0",
            "_model_name": "LayoutModel",
            "_view_count": null,
            "_view_module": "@jupyter-widgets/base",
            "_view_module_version": "1.2.0",
            "_view_name": "LayoutView",
            "align_content": null,
            "align_items": null,
            "align_self": null,
            "border": null,
            "bottom": null,
            "display": null,
            "flex": null,
            "flex_flow": null,
            "grid_area": null,
            "grid_auto_columns": null,
            "grid_auto_flow": null,
            "grid_auto_rows": null,
            "grid_column": null,
            "grid_gap": null,
            "grid_row": null,
            "grid_template_areas": null,
            "grid_template_columns": null,
            "grid_template_rows": null,
            "height": null,
            "justify_content": null,
            "justify_items": null,
            "left": null,
            "margin": null,
            "max_height": null,
            "max_width": null,
            "min_height": null,
            "min_width": null,
            "object_fit": null,
            "object_position": null,
            "order": null,
            "overflow": null,
            "overflow_x": null,
            "overflow_y": null,
            "padding": null,
            "right": null,
            "top": null,
            "visibility": null,
            "width": null
          }
        },
        "4950339216614c3d9916bd6d9427fdc5": {
          "model_module": "@jupyter-widgets/controls",
          "model_name": "DescriptionStyleModel",
          "model_module_version": "1.5.0",
          "state": {
            "_model_module": "@jupyter-widgets/controls",
            "_model_module_version": "1.5.0",
            "_model_name": "DescriptionStyleModel",
            "_view_count": null,
            "_view_module": "@jupyter-widgets/base",
            "_view_module_version": "1.2.0",
            "_view_name": "StyleView",
            "description_width": ""
          }
        },
        "ee56cbe4313a46bb9ce28d9ea926ffa4": {
          "model_module": "@jupyter-widgets/controls",
          "model_name": "HBoxModel",
          "model_module_version": "1.5.0",
          "state": {
            "_dom_classes": [],
            "_model_module": "@jupyter-widgets/controls",
            "_model_module_version": "1.5.0",
            "_model_name": "HBoxModel",
            "_view_count": null,
            "_view_module": "@jupyter-widgets/controls",
            "_view_module_version": "1.5.0",
            "_view_name": "HBoxView",
            "box_style": "",
            "children": [
              "IPY_MODEL_bb086bbc16ff4a7c94a109861812828d",
              "IPY_MODEL_e6e6ffe396e64f5c9856f9d8a1f53e28",
              "IPY_MODEL_8988b81ee86142229e84837633f691df"
            ],
            "layout": "IPY_MODEL_53e2b4c2aebc4524a093781807656347"
          }
        },
        "bb086bbc16ff4a7c94a109861812828d": {
          "model_module": "@jupyter-widgets/controls",
          "model_name": "HTMLModel",
          "model_module_version": "1.5.0",
          "state": {
            "_dom_classes": [],
            "_model_module": "@jupyter-widgets/controls",
            "_model_module_version": "1.5.0",
            "_model_name": "HTMLModel",
            "_view_count": null,
            "_view_module": "@jupyter-widgets/controls",
            "_view_module_version": "1.5.0",
            "_view_name": "HTMLView",
            "description": "",
            "description_tooltip": null,
            "layout": "IPY_MODEL_1a6e8836d96942948d1bf5b9124a8280",
            "placeholder": "​",
            "style": "IPY_MODEL_f7169609dbc2469e8fafebf9ae08ea02",
            "value": "Downloading (…)ain/hyperparams.yaml: 100%"
          }
        },
        "e6e6ffe396e64f5c9856f9d8a1f53e28": {
          "model_module": "@jupyter-widgets/controls",
          "model_name": "FloatProgressModel",
          "model_module_version": "1.5.0",
          "state": {
            "_dom_classes": [],
            "_model_module": "@jupyter-widgets/controls",
            "_model_module_version": "1.5.0",
            "_model_name": "FloatProgressModel",
            "_view_count": null,
            "_view_module": "@jupyter-widgets/controls",
            "_view_module_version": "1.5.0",
            "_view_name": "ProgressView",
            "bar_style": "success",
            "description": "",
            "description_tooltip": null,
            "layout": "IPY_MODEL_54de42b0482c495589442e7c8ce610fd",
            "max": 2041,
            "min": 0,
            "orientation": "horizontal",
            "style": "IPY_MODEL_3f7103e3cf8f4fdf96eaa08d5dd439b7",
            "value": 2041
          }
        },
        "8988b81ee86142229e84837633f691df": {
          "model_module": "@jupyter-widgets/controls",
          "model_name": "HTMLModel",
          "model_module_version": "1.5.0",
          "state": {
            "_dom_classes": [],
            "_model_module": "@jupyter-widgets/controls",
            "_model_module_version": "1.5.0",
            "_model_name": "HTMLModel",
            "_view_count": null,
            "_view_module": "@jupyter-widgets/controls",
            "_view_module_version": "1.5.0",
            "_view_name": "HTMLView",
            "description": "",
            "description_tooltip": null,
            "layout": "IPY_MODEL_e4b2d3345f5b4f7794d34d917d0cdff6",
            "placeholder": "​",
            "style": "IPY_MODEL_4b548d0ae5104df7a61df48a11c93ff6",
            "value": " 2.04k/2.04k [00:00&lt;00:00, 180kB/s]"
          }
        },
        "53e2b4c2aebc4524a093781807656347": {
          "model_module": "@jupyter-widgets/base",
          "model_name": "LayoutModel",
          "model_module_version": "1.2.0",
          "state": {
            "_model_module": "@jupyter-widgets/base",
            "_model_module_version": "1.2.0",
            "_model_name": "LayoutModel",
            "_view_count": null,
            "_view_module": "@jupyter-widgets/base",
            "_view_module_version": "1.2.0",
            "_view_name": "LayoutView",
            "align_content": null,
            "align_items": null,
            "align_self": null,
            "border": null,
            "bottom": null,
            "display": null,
            "flex": null,
            "flex_flow": null,
            "grid_area": null,
            "grid_auto_columns": null,
            "grid_auto_flow": null,
            "grid_auto_rows": null,
            "grid_column": null,
            "grid_gap": null,
            "grid_row": null,
            "grid_template_areas": null,
            "grid_template_columns": null,
            "grid_template_rows": null,
            "height": null,
            "justify_content": null,
            "justify_items": null,
            "left": null,
            "margin": null,
            "max_height": null,
            "max_width": null,
            "min_height": null,
            "min_width": null,
            "object_fit": null,
            "object_position": null,
            "order": null,
            "overflow": null,
            "overflow_x": null,
            "overflow_y": null,
            "padding": null,
            "right": null,
            "top": null,
            "visibility": null,
            "width": null
          }
        },
        "1a6e8836d96942948d1bf5b9124a8280": {
          "model_module": "@jupyter-widgets/base",
          "model_name": "LayoutModel",
          "model_module_version": "1.2.0",
          "state": {
            "_model_module": "@jupyter-widgets/base",
            "_model_module_version": "1.2.0",
            "_model_name": "LayoutModel",
            "_view_count": null,
            "_view_module": "@jupyter-widgets/base",
            "_view_module_version": "1.2.0",
            "_view_name": "LayoutView",
            "align_content": null,
            "align_items": null,
            "align_self": null,
            "border": null,
            "bottom": null,
            "display": null,
            "flex": null,
            "flex_flow": null,
            "grid_area": null,
            "grid_auto_columns": null,
            "grid_auto_flow": null,
            "grid_auto_rows": null,
            "grid_column": null,
            "grid_gap": null,
            "grid_row": null,
            "grid_template_areas": null,
            "grid_template_columns": null,
            "grid_template_rows": null,
            "height": null,
            "justify_content": null,
            "justify_items": null,
            "left": null,
            "margin": null,
            "max_height": null,
            "max_width": null,
            "min_height": null,
            "min_width": null,
            "object_fit": null,
            "object_position": null,
            "order": null,
            "overflow": null,
            "overflow_x": null,
            "overflow_y": null,
            "padding": null,
            "right": null,
            "top": null,
            "visibility": null,
            "width": null
          }
        },
        "f7169609dbc2469e8fafebf9ae08ea02": {
          "model_module": "@jupyter-widgets/controls",
          "model_name": "DescriptionStyleModel",
          "model_module_version": "1.5.0",
          "state": {
            "_model_module": "@jupyter-widgets/controls",
            "_model_module_version": "1.5.0",
            "_model_name": "DescriptionStyleModel",
            "_view_count": null,
            "_view_module": "@jupyter-widgets/base",
            "_view_module_version": "1.2.0",
            "_view_name": "StyleView",
            "description_width": ""
          }
        },
        "54de42b0482c495589442e7c8ce610fd": {
          "model_module": "@jupyter-widgets/base",
          "model_name": "LayoutModel",
          "model_module_version": "1.2.0",
          "state": {
            "_model_module": "@jupyter-widgets/base",
            "_model_module_version": "1.2.0",
            "_model_name": "LayoutModel",
            "_view_count": null,
            "_view_module": "@jupyter-widgets/base",
            "_view_module_version": "1.2.0",
            "_view_name": "LayoutView",
            "align_content": null,
            "align_items": null,
            "align_self": null,
            "border": null,
            "bottom": null,
            "display": null,
            "flex": null,
            "flex_flow": null,
            "grid_area": null,
            "grid_auto_columns": null,
            "grid_auto_flow": null,
            "grid_auto_rows": null,
            "grid_column": null,
            "grid_gap": null,
            "grid_row": null,
            "grid_template_areas": null,
            "grid_template_columns": null,
            "grid_template_rows": null,
            "height": null,
            "justify_content": null,
            "justify_items": null,
            "left": null,
            "margin": null,
            "max_height": null,
            "max_width": null,
            "min_height": null,
            "min_width": null,
            "object_fit": null,
            "object_position": null,
            "order": null,
            "overflow": null,
            "overflow_x": null,
            "overflow_y": null,
            "padding": null,
            "right": null,
            "top": null,
            "visibility": null,
            "width": null
          }
        },
        "3f7103e3cf8f4fdf96eaa08d5dd439b7": {
          "model_module": "@jupyter-widgets/controls",
          "model_name": "ProgressStyleModel",
          "model_module_version": "1.5.0",
          "state": {
            "_model_module": "@jupyter-widgets/controls",
            "_model_module_version": "1.5.0",
            "_model_name": "ProgressStyleModel",
            "_view_count": null,
            "_view_module": "@jupyter-widgets/base",
            "_view_module_version": "1.2.0",
            "_view_name": "StyleView",
            "bar_color": null,
            "description_width": ""
          }
        },
        "e4b2d3345f5b4f7794d34d917d0cdff6": {
          "model_module": "@jupyter-widgets/base",
          "model_name": "LayoutModel",
          "model_module_version": "1.2.0",
          "state": {
            "_model_module": "@jupyter-widgets/base",
            "_model_module_version": "1.2.0",
            "_model_name": "LayoutModel",
            "_view_count": null,
            "_view_module": "@jupyter-widgets/base",
            "_view_module_version": "1.2.0",
            "_view_name": "LayoutView",
            "align_content": null,
            "align_items": null,
            "align_self": null,
            "border": null,
            "bottom": null,
            "display": null,
            "flex": null,
            "flex_flow": null,
            "grid_area": null,
            "grid_auto_columns": null,
            "grid_auto_flow": null,
            "grid_auto_rows": null,
            "grid_column": null,
            "grid_gap": null,
            "grid_row": null,
            "grid_template_areas": null,
            "grid_template_columns": null,
            "grid_template_rows": null,
            "height": null,
            "justify_content": null,
            "justify_items": null,
            "left": null,
            "margin": null,
            "max_height": null,
            "max_width": null,
            "min_height": null,
            "min_width": null,
            "object_fit": null,
            "object_position": null,
            "order": null,
            "overflow": null,
            "overflow_x": null,
            "overflow_y": null,
            "padding": null,
            "right": null,
            "top": null,
            "visibility": null,
            "width": null
          }
        },
        "4b548d0ae5104df7a61df48a11c93ff6": {
          "model_module": "@jupyter-widgets/controls",
          "model_name": "DescriptionStyleModel",
          "model_module_version": "1.5.0",
          "state": {
            "_model_module": "@jupyter-widgets/controls",
            "_model_module_version": "1.5.0",
            "_model_name": "DescriptionStyleModel",
            "_view_count": null,
            "_view_module": "@jupyter-widgets/base",
            "_view_module_version": "1.2.0",
            "_view_name": "StyleView",
            "description_width": ""
          }
        },
        "03a0405331b047309bb849e0a70a3ddf": {
          "model_module": "@jupyter-widgets/controls",
          "model_name": "HBoxModel",
          "model_module_version": "1.5.0",
          "state": {
            "_dom_classes": [],
            "_model_module": "@jupyter-widgets/controls",
            "_model_module_version": "1.5.0",
            "_model_name": "HBoxModel",
            "_view_count": null,
            "_view_module": "@jupyter-widgets/controls",
            "_view_module_version": "1.5.0",
            "_view_name": "HBoxView",
            "box_style": "",
            "children": [
              "IPY_MODEL_cc347571814c47d8895a50a316c3f159",
              "IPY_MODEL_8241c7dde1c040ab9ae161f61a3ad30d",
              "IPY_MODEL_00766615dfb445c28156ab1e1774d8fb"
            ],
            "layout": "IPY_MODEL_98018943b54a4507ab150b9f030e538b"
          }
        },
        "cc347571814c47d8895a50a316c3f159": {
          "model_module": "@jupyter-widgets/controls",
          "model_name": "HTMLModel",
          "model_module_version": "1.5.0",
          "state": {
            "_dom_classes": [],
            "_model_module": "@jupyter-widgets/controls",
            "_model_module_version": "1.5.0",
            "_model_name": "HTMLModel",
            "_view_count": null,
            "_view_module": "@jupyter-widgets/controls",
            "_view_module_version": "1.5.0",
            "_view_name": "HTMLView",
            "description": "",
            "description_tooltip": null,
            "layout": "IPY_MODEL_5b6162e56d6147cc82896dbc9405a6b5",
            "placeholder": "​",
            "style": "IPY_MODEL_bdde3367b77c4615a5cdf8ae7074d230",
            "value": "Downloading embedding_model.ckpt: 100%"
          }
        },
        "8241c7dde1c040ab9ae161f61a3ad30d": {
          "model_module": "@jupyter-widgets/controls",
          "model_name": "FloatProgressModel",
          "model_module_version": "1.5.0",
          "state": {
            "_dom_classes": [],
            "_model_module": "@jupyter-widgets/controls",
            "_model_module_version": "1.5.0",
            "_model_name": "FloatProgressModel",
            "_view_count": null,
            "_view_module": "@jupyter-widgets/controls",
            "_view_module_version": "1.5.0",
            "_view_name": "ProgressView",
            "bar_style": "success",
            "description": "",
            "description_tooltip": null,
            "layout": "IPY_MODEL_f08413d3400b4e4890ba6941a5965d26",
            "max": 16887676,
            "min": 0,
            "orientation": "horizontal",
            "style": "IPY_MODEL_7284a9c5f0024a1ab6e5d1cd86ac4ff7",
            "value": 16887676
          }
        },
        "00766615dfb445c28156ab1e1774d8fb": {
          "model_module": "@jupyter-widgets/controls",
          "model_name": "HTMLModel",
          "model_module_version": "1.5.0",
          "state": {
            "_dom_classes": [],
            "_model_module": "@jupyter-widgets/controls",
            "_model_module_version": "1.5.0",
            "_model_name": "HTMLModel",
            "_view_count": null,
            "_view_module": "@jupyter-widgets/controls",
            "_view_module_version": "1.5.0",
            "_view_name": "HTMLView",
            "description": "",
            "description_tooltip": null,
            "layout": "IPY_MODEL_c05818ce058f4993b0845df576530a28",
            "placeholder": "​",
            "style": "IPY_MODEL_a00fbc7098904fde900560fa4c4b19be",
            "value": " 16.9M/16.9M [00:00&lt;00:00, 83.3MB/s]"
          }
        },
        "98018943b54a4507ab150b9f030e538b": {
          "model_module": "@jupyter-widgets/base",
          "model_name": "LayoutModel",
          "model_module_version": "1.2.0",
          "state": {
            "_model_module": "@jupyter-widgets/base",
            "_model_module_version": "1.2.0",
            "_model_name": "LayoutModel",
            "_view_count": null,
            "_view_module": "@jupyter-widgets/base",
            "_view_module_version": "1.2.0",
            "_view_name": "LayoutView",
            "align_content": null,
            "align_items": null,
            "align_self": null,
            "border": null,
            "bottom": null,
            "display": null,
            "flex": null,
            "flex_flow": null,
            "grid_area": null,
            "grid_auto_columns": null,
            "grid_auto_flow": null,
            "grid_auto_rows": null,
            "grid_column": null,
            "grid_gap": null,
            "grid_row": null,
            "grid_template_areas": null,
            "grid_template_columns": null,
            "grid_template_rows": null,
            "height": null,
            "justify_content": null,
            "justify_items": null,
            "left": null,
            "margin": null,
            "max_height": null,
            "max_width": null,
            "min_height": null,
            "min_width": null,
            "object_fit": null,
            "object_position": null,
            "order": null,
            "overflow": null,
            "overflow_x": null,
            "overflow_y": null,
            "padding": null,
            "right": null,
            "top": null,
            "visibility": null,
            "width": null
          }
        },
        "5b6162e56d6147cc82896dbc9405a6b5": {
          "model_module": "@jupyter-widgets/base",
          "model_name": "LayoutModel",
          "model_module_version": "1.2.0",
          "state": {
            "_model_module": "@jupyter-widgets/base",
            "_model_module_version": "1.2.0",
            "_model_name": "LayoutModel",
            "_view_count": null,
            "_view_module": "@jupyter-widgets/base",
            "_view_module_version": "1.2.0",
            "_view_name": "LayoutView",
            "align_content": null,
            "align_items": null,
            "align_self": null,
            "border": null,
            "bottom": null,
            "display": null,
            "flex": null,
            "flex_flow": null,
            "grid_area": null,
            "grid_auto_columns": null,
            "grid_auto_flow": null,
            "grid_auto_rows": null,
            "grid_column": null,
            "grid_gap": null,
            "grid_row": null,
            "grid_template_areas": null,
            "grid_template_columns": null,
            "grid_template_rows": null,
            "height": null,
            "justify_content": null,
            "justify_items": null,
            "left": null,
            "margin": null,
            "max_height": null,
            "max_width": null,
            "min_height": null,
            "min_width": null,
            "object_fit": null,
            "object_position": null,
            "order": null,
            "overflow": null,
            "overflow_x": null,
            "overflow_y": null,
            "padding": null,
            "right": null,
            "top": null,
            "visibility": null,
            "width": null
          }
        },
        "bdde3367b77c4615a5cdf8ae7074d230": {
          "model_module": "@jupyter-widgets/controls",
          "model_name": "DescriptionStyleModel",
          "model_module_version": "1.5.0",
          "state": {
            "_model_module": "@jupyter-widgets/controls",
            "_model_module_version": "1.5.0",
            "_model_name": "DescriptionStyleModel",
            "_view_count": null,
            "_view_module": "@jupyter-widgets/base",
            "_view_module_version": "1.2.0",
            "_view_name": "StyleView",
            "description_width": ""
          }
        },
        "f08413d3400b4e4890ba6941a5965d26": {
          "model_module": "@jupyter-widgets/base",
          "model_name": "LayoutModel",
          "model_module_version": "1.2.0",
          "state": {
            "_model_module": "@jupyter-widgets/base",
            "_model_module_version": "1.2.0",
            "_model_name": "LayoutModel",
            "_view_count": null,
            "_view_module": "@jupyter-widgets/base",
            "_view_module_version": "1.2.0",
            "_view_name": "LayoutView",
            "align_content": null,
            "align_items": null,
            "align_self": null,
            "border": null,
            "bottom": null,
            "display": null,
            "flex": null,
            "flex_flow": null,
            "grid_area": null,
            "grid_auto_columns": null,
            "grid_auto_flow": null,
            "grid_auto_rows": null,
            "grid_column": null,
            "grid_gap": null,
            "grid_row": null,
            "grid_template_areas": null,
            "grid_template_columns": null,
            "grid_template_rows": null,
            "height": null,
            "justify_content": null,
            "justify_items": null,
            "left": null,
            "margin": null,
            "max_height": null,
            "max_width": null,
            "min_height": null,
            "min_width": null,
            "object_fit": null,
            "object_position": null,
            "order": null,
            "overflow": null,
            "overflow_x": null,
            "overflow_y": null,
            "padding": null,
            "right": null,
            "top": null,
            "visibility": null,
            "width": null
          }
        },
        "7284a9c5f0024a1ab6e5d1cd86ac4ff7": {
          "model_module": "@jupyter-widgets/controls",
          "model_name": "ProgressStyleModel",
          "model_module_version": "1.5.0",
          "state": {
            "_model_module": "@jupyter-widgets/controls",
            "_model_module_version": "1.5.0",
            "_model_name": "ProgressStyleModel",
            "_view_count": null,
            "_view_module": "@jupyter-widgets/base",
            "_view_module_version": "1.2.0",
            "_view_name": "StyleView",
            "bar_color": null,
            "description_width": ""
          }
        },
        "c05818ce058f4993b0845df576530a28": {
          "model_module": "@jupyter-widgets/base",
          "model_name": "LayoutModel",
          "model_module_version": "1.2.0",
          "state": {
            "_model_module": "@jupyter-widgets/base",
            "_model_module_version": "1.2.0",
            "_model_name": "LayoutModel",
            "_view_count": null,
            "_view_module": "@jupyter-widgets/base",
            "_view_module_version": "1.2.0",
            "_view_name": "LayoutView",
            "align_content": null,
            "align_items": null,
            "align_self": null,
            "border": null,
            "bottom": null,
            "display": null,
            "flex": null,
            "flex_flow": null,
            "grid_area": null,
            "grid_auto_columns": null,
            "grid_auto_flow": null,
            "grid_auto_rows": null,
            "grid_column": null,
            "grid_gap": null,
            "grid_row": null,
            "grid_template_areas": null,
            "grid_template_columns": null,
            "grid_template_rows": null,
            "height": null,
            "justify_content": null,
            "justify_items": null,
            "left": null,
            "margin": null,
            "max_height": null,
            "max_width": null,
            "min_height": null,
            "min_width": null,
            "object_fit": null,
            "object_position": null,
            "order": null,
            "overflow": null,
            "overflow_x": null,
            "overflow_y": null,
            "padding": null,
            "right": null,
            "top": null,
            "visibility": null,
            "width": null
          }
        },
        "a00fbc7098904fde900560fa4c4b19be": {
          "model_module": "@jupyter-widgets/controls",
          "model_name": "DescriptionStyleModel",
          "model_module_version": "1.5.0",
          "state": {
            "_model_module": "@jupyter-widgets/controls",
            "_model_module_version": "1.5.0",
            "_model_name": "DescriptionStyleModel",
            "_view_count": null,
            "_view_module": "@jupyter-widgets/base",
            "_view_module_version": "1.2.0",
            "_view_name": "StyleView",
            "description_width": ""
          }
        },
        "29bb1d29b0334454a6f1d041882a961f": {
          "model_module": "@jupyter-widgets/controls",
          "model_name": "HBoxModel",
          "model_module_version": "1.5.0",
          "state": {
            "_dom_classes": [],
            "_model_module": "@jupyter-widgets/controls",
            "_model_module_version": "1.5.0",
            "_model_name": "HBoxModel",
            "_view_count": null,
            "_view_module": "@jupyter-widgets/controls",
            "_view_module_version": "1.5.0",
            "_view_name": "HBoxView",
            "box_style": "",
            "children": [
              "IPY_MODEL_62ce7df87afc41b388a7c5e758265dfd",
              "IPY_MODEL_c1875c0c34cf46e7b73057099ade63da",
              "IPY_MODEL_7a7246adaedc4f84ab4c4b1890fa0882"
            ],
            "layout": "IPY_MODEL_666e9151fc0c42c49f15155afe7b5784"
          }
        },
        "62ce7df87afc41b388a7c5e758265dfd": {
          "model_module": "@jupyter-widgets/controls",
          "model_name": "HTMLModel",
          "model_module_version": "1.5.0",
          "state": {
            "_dom_classes": [],
            "_model_module": "@jupyter-widgets/controls",
            "_model_module_version": "1.5.0",
            "_model_name": "HTMLModel",
            "_view_count": null,
            "_view_module": "@jupyter-widgets/controls",
            "_view_module_version": "1.5.0",
            "_view_name": "HTMLView",
            "description": "",
            "description_tooltip": null,
            "layout": "IPY_MODEL_74eea7db1bb94c7e931af0a2a1853be2",
            "placeholder": "​",
            "style": "IPY_MODEL_f4a9b6ce75c2412f9f6ba2598346ea4c",
            "value": "Downloading mean_var_norm_emb.ckpt: 100%"
          }
        },
        "c1875c0c34cf46e7b73057099ade63da": {
          "model_module": "@jupyter-widgets/controls",
          "model_name": "FloatProgressModel",
          "model_module_version": "1.5.0",
          "state": {
            "_dom_classes": [],
            "_model_module": "@jupyter-widgets/controls",
            "_model_module_version": "1.5.0",
            "_model_name": "FloatProgressModel",
            "_view_count": null,
            "_view_module": "@jupyter-widgets/controls",
            "_view_module_version": "1.5.0",
            "_view_name": "ProgressView",
            "bar_style": "success",
            "description": "",
            "description_tooltip": null,
            "layout": "IPY_MODEL_754432dcfe7f43c9b5e181a174e3c391",
            "max": 3201,
            "min": 0,
            "orientation": "horizontal",
            "style": "IPY_MODEL_83bb51b3d7c74329980c51f4b368408a",
            "value": 3201
          }
        },
        "7a7246adaedc4f84ab4c4b1890fa0882": {
          "model_module": "@jupyter-widgets/controls",
          "model_name": "HTMLModel",
          "model_module_version": "1.5.0",
          "state": {
            "_dom_classes": [],
            "_model_module": "@jupyter-widgets/controls",
            "_model_module_version": "1.5.0",
            "_model_name": "HTMLModel",
            "_view_count": null,
            "_view_module": "@jupyter-widgets/controls",
            "_view_module_version": "1.5.0",
            "_view_name": "HTMLView",
            "description": "",
            "description_tooltip": null,
            "layout": "IPY_MODEL_301188333d1e46f094fefa93a9f00f47",
            "placeholder": "​",
            "style": "IPY_MODEL_984806e72bfc483ea9465d596a4aa73d",
            "value": " 3.20k/3.20k [00:00&lt;00:00, 253kB/s]"
          }
        },
        "666e9151fc0c42c49f15155afe7b5784": {
          "model_module": "@jupyter-widgets/base",
          "model_name": "LayoutModel",
          "model_module_version": "1.2.0",
          "state": {
            "_model_module": "@jupyter-widgets/base",
            "_model_module_version": "1.2.0",
            "_model_name": "LayoutModel",
            "_view_count": null,
            "_view_module": "@jupyter-widgets/base",
            "_view_module_version": "1.2.0",
            "_view_name": "LayoutView",
            "align_content": null,
            "align_items": null,
            "align_self": null,
            "border": null,
            "bottom": null,
            "display": null,
            "flex": null,
            "flex_flow": null,
            "grid_area": null,
            "grid_auto_columns": null,
            "grid_auto_flow": null,
            "grid_auto_rows": null,
            "grid_column": null,
            "grid_gap": null,
            "grid_row": null,
            "grid_template_areas": null,
            "grid_template_columns": null,
            "grid_template_rows": null,
            "height": null,
            "justify_content": null,
            "justify_items": null,
            "left": null,
            "margin": null,
            "max_height": null,
            "max_width": null,
            "min_height": null,
            "min_width": null,
            "object_fit": null,
            "object_position": null,
            "order": null,
            "overflow": null,
            "overflow_x": null,
            "overflow_y": null,
            "padding": null,
            "right": null,
            "top": null,
            "visibility": null,
            "width": null
          }
        },
        "74eea7db1bb94c7e931af0a2a1853be2": {
          "model_module": "@jupyter-widgets/base",
          "model_name": "LayoutModel",
          "model_module_version": "1.2.0",
          "state": {
            "_model_module": "@jupyter-widgets/base",
            "_model_module_version": "1.2.0",
            "_model_name": "LayoutModel",
            "_view_count": null,
            "_view_module": "@jupyter-widgets/base",
            "_view_module_version": "1.2.0",
            "_view_name": "LayoutView",
            "align_content": null,
            "align_items": null,
            "align_self": null,
            "border": null,
            "bottom": null,
            "display": null,
            "flex": null,
            "flex_flow": null,
            "grid_area": null,
            "grid_auto_columns": null,
            "grid_auto_flow": null,
            "grid_auto_rows": null,
            "grid_column": null,
            "grid_gap": null,
            "grid_row": null,
            "grid_template_areas": null,
            "grid_template_columns": null,
            "grid_template_rows": null,
            "height": null,
            "justify_content": null,
            "justify_items": null,
            "left": null,
            "margin": null,
            "max_height": null,
            "max_width": null,
            "min_height": null,
            "min_width": null,
            "object_fit": null,
            "object_position": null,
            "order": null,
            "overflow": null,
            "overflow_x": null,
            "overflow_y": null,
            "padding": null,
            "right": null,
            "top": null,
            "visibility": null,
            "width": null
          }
        },
        "f4a9b6ce75c2412f9f6ba2598346ea4c": {
          "model_module": "@jupyter-widgets/controls",
          "model_name": "DescriptionStyleModel",
          "model_module_version": "1.5.0",
          "state": {
            "_model_module": "@jupyter-widgets/controls",
            "_model_module_version": "1.5.0",
            "_model_name": "DescriptionStyleModel",
            "_view_count": null,
            "_view_module": "@jupyter-widgets/base",
            "_view_module_version": "1.2.0",
            "_view_name": "StyleView",
            "description_width": ""
          }
        },
        "754432dcfe7f43c9b5e181a174e3c391": {
          "model_module": "@jupyter-widgets/base",
          "model_name": "LayoutModel",
          "model_module_version": "1.2.0",
          "state": {
            "_model_module": "@jupyter-widgets/base",
            "_model_module_version": "1.2.0",
            "_model_name": "LayoutModel",
            "_view_count": null,
            "_view_module": "@jupyter-widgets/base",
            "_view_module_version": "1.2.0",
            "_view_name": "LayoutView",
            "align_content": null,
            "align_items": null,
            "align_self": null,
            "border": null,
            "bottom": null,
            "display": null,
            "flex": null,
            "flex_flow": null,
            "grid_area": null,
            "grid_auto_columns": null,
            "grid_auto_flow": null,
            "grid_auto_rows": null,
            "grid_column": null,
            "grid_gap": null,
            "grid_row": null,
            "grid_template_areas": null,
            "grid_template_columns": null,
            "grid_template_rows": null,
            "height": null,
            "justify_content": null,
            "justify_items": null,
            "left": null,
            "margin": null,
            "max_height": null,
            "max_width": null,
            "min_height": null,
            "min_width": null,
            "object_fit": null,
            "object_position": null,
            "order": null,
            "overflow": null,
            "overflow_x": null,
            "overflow_y": null,
            "padding": null,
            "right": null,
            "top": null,
            "visibility": null,
            "width": null
          }
        },
        "83bb51b3d7c74329980c51f4b368408a": {
          "model_module": "@jupyter-widgets/controls",
          "model_name": "ProgressStyleModel",
          "model_module_version": "1.5.0",
          "state": {
            "_model_module": "@jupyter-widgets/controls",
            "_model_module_version": "1.5.0",
            "_model_name": "ProgressStyleModel",
            "_view_count": null,
            "_view_module": "@jupyter-widgets/base",
            "_view_module_version": "1.2.0",
            "_view_name": "StyleView",
            "bar_color": null,
            "description_width": ""
          }
        },
        "301188333d1e46f094fefa93a9f00f47": {
          "model_module": "@jupyter-widgets/base",
          "model_name": "LayoutModel",
          "model_module_version": "1.2.0",
          "state": {
            "_model_module": "@jupyter-widgets/base",
            "_model_module_version": "1.2.0",
            "_model_name": "LayoutModel",
            "_view_count": null,
            "_view_module": "@jupyter-widgets/base",
            "_view_module_version": "1.2.0",
            "_view_name": "LayoutView",
            "align_content": null,
            "align_items": null,
            "align_self": null,
            "border": null,
            "bottom": null,
            "display": null,
            "flex": null,
            "flex_flow": null,
            "grid_area": null,
            "grid_auto_columns": null,
            "grid_auto_flow": null,
            "grid_auto_rows": null,
            "grid_column": null,
            "grid_gap": null,
            "grid_row": null,
            "grid_template_areas": null,
            "grid_template_columns": null,
            "grid_template_rows": null,
            "height": null,
            "justify_content": null,
            "justify_items": null,
            "left": null,
            "margin": null,
            "max_height": null,
            "max_width": null,
            "min_height": null,
            "min_width": null,
            "object_fit": null,
            "object_position": null,
            "order": null,
            "overflow": null,
            "overflow_x": null,
            "overflow_y": null,
            "padding": null,
            "right": null,
            "top": null,
            "visibility": null,
            "width": null
          }
        },
        "984806e72bfc483ea9465d596a4aa73d": {
          "model_module": "@jupyter-widgets/controls",
          "model_name": "DescriptionStyleModel",
          "model_module_version": "1.5.0",
          "state": {
            "_model_module": "@jupyter-widgets/controls",
            "_model_module_version": "1.5.0",
            "_model_name": "DescriptionStyleModel",
            "_view_count": null,
            "_view_module": "@jupyter-widgets/base",
            "_view_module_version": "1.2.0",
            "_view_name": "StyleView",
            "description_width": ""
          }
        },
        "965e262ec6894c98b4b4a918791bb970": {
          "model_module": "@jupyter-widgets/controls",
          "model_name": "HBoxModel",
          "model_module_version": "1.5.0",
          "state": {
            "_dom_classes": [],
            "_model_module": "@jupyter-widgets/controls",
            "_model_module_version": "1.5.0",
            "_model_name": "HBoxModel",
            "_view_count": null,
            "_view_module": "@jupyter-widgets/controls",
            "_view_module_version": "1.5.0",
            "_view_name": "HBoxView",
            "box_style": "",
            "children": [
              "IPY_MODEL_1c5339581d7a48c0968970a83bc6b7af",
              "IPY_MODEL_0b41e4eb80914816b1b1be5dda35c9c3",
              "IPY_MODEL_05c5d2f00e0949daa6f2a6aca2384ffb"
            ],
            "layout": "IPY_MODEL_5cf50e23d7f0404aaa3489329a04e58c"
          }
        },
        "1c5339581d7a48c0968970a83bc6b7af": {
          "model_module": "@jupyter-widgets/controls",
          "model_name": "HTMLModel",
          "model_module_version": "1.5.0",
          "state": {
            "_dom_classes": [],
            "_model_module": "@jupyter-widgets/controls",
            "_model_module_version": "1.5.0",
            "_model_name": "HTMLModel",
            "_view_count": null,
            "_view_module": "@jupyter-widgets/controls",
            "_view_module_version": "1.5.0",
            "_view_name": "HTMLView",
            "description": "",
            "description_tooltip": null,
            "layout": "IPY_MODEL_89d8314782e14a05877be659834e8f4a",
            "placeholder": "​",
            "style": "IPY_MODEL_e7b79bd712184933a3759fd001496258",
            "value": "Downloading classifier.ckpt: 100%"
          }
        },
        "0b41e4eb80914816b1b1be5dda35c9c3": {
          "model_module": "@jupyter-widgets/controls",
          "model_name": "FloatProgressModel",
          "model_module_version": "1.5.0",
          "state": {
            "_dom_classes": [],
            "_model_module": "@jupyter-widgets/controls",
            "_model_module_version": "1.5.0",
            "_model_name": "FloatProgressModel",
            "_view_count": null,
            "_view_module": "@jupyter-widgets/controls",
            "_view_module_version": "1.5.0",
            "_view_name": "ProgressView",
            "bar_style": "success",
            "description": "",
            "description_tooltip": null,
            "layout": "IPY_MODEL_53fae7dcee0f4c7691f665f13e7a82a5",
            "max": 15856877,
            "min": 0,
            "orientation": "horizontal",
            "style": "IPY_MODEL_b2264bce677f438c80a0ba1772c63c7a",
            "value": 15856877
          }
        },
        "05c5d2f00e0949daa6f2a6aca2384ffb": {
          "model_module": "@jupyter-widgets/controls",
          "model_name": "HTMLModel",
          "model_module_version": "1.5.0",
          "state": {
            "_dom_classes": [],
            "_model_module": "@jupyter-widgets/controls",
            "_model_module_version": "1.5.0",
            "_model_name": "HTMLModel",
            "_view_count": null,
            "_view_module": "@jupyter-widgets/controls",
            "_view_module_version": "1.5.0",
            "_view_name": "HTMLView",
            "description": "",
            "description_tooltip": null,
            "layout": "IPY_MODEL_36c2c9bc6ab241e6a4bb7a8be596517c",
            "placeholder": "​",
            "style": "IPY_MODEL_345d55d751c74ca999e07c1e53124e1e",
            "value": " 15.9M/15.9M [00:00&lt;00:00, 197MB/s]"
          }
        },
        "5cf50e23d7f0404aaa3489329a04e58c": {
          "model_module": "@jupyter-widgets/base",
          "model_name": "LayoutModel",
          "model_module_version": "1.2.0",
          "state": {
            "_model_module": "@jupyter-widgets/base",
            "_model_module_version": "1.2.0",
            "_model_name": "LayoutModel",
            "_view_count": null,
            "_view_module": "@jupyter-widgets/base",
            "_view_module_version": "1.2.0",
            "_view_name": "LayoutView",
            "align_content": null,
            "align_items": null,
            "align_self": null,
            "border": null,
            "bottom": null,
            "display": null,
            "flex": null,
            "flex_flow": null,
            "grid_area": null,
            "grid_auto_columns": null,
            "grid_auto_flow": null,
            "grid_auto_rows": null,
            "grid_column": null,
            "grid_gap": null,
            "grid_row": null,
            "grid_template_areas": null,
            "grid_template_columns": null,
            "grid_template_rows": null,
            "height": null,
            "justify_content": null,
            "justify_items": null,
            "left": null,
            "margin": null,
            "max_height": null,
            "max_width": null,
            "min_height": null,
            "min_width": null,
            "object_fit": null,
            "object_position": null,
            "order": null,
            "overflow": null,
            "overflow_x": null,
            "overflow_y": null,
            "padding": null,
            "right": null,
            "top": null,
            "visibility": null,
            "width": null
          }
        },
        "89d8314782e14a05877be659834e8f4a": {
          "model_module": "@jupyter-widgets/base",
          "model_name": "LayoutModel",
          "model_module_version": "1.2.0",
          "state": {
            "_model_module": "@jupyter-widgets/base",
            "_model_module_version": "1.2.0",
            "_model_name": "LayoutModel",
            "_view_count": null,
            "_view_module": "@jupyter-widgets/base",
            "_view_module_version": "1.2.0",
            "_view_name": "LayoutView",
            "align_content": null,
            "align_items": null,
            "align_self": null,
            "border": null,
            "bottom": null,
            "display": null,
            "flex": null,
            "flex_flow": null,
            "grid_area": null,
            "grid_auto_columns": null,
            "grid_auto_flow": null,
            "grid_auto_rows": null,
            "grid_column": null,
            "grid_gap": null,
            "grid_row": null,
            "grid_template_areas": null,
            "grid_template_columns": null,
            "grid_template_rows": null,
            "height": null,
            "justify_content": null,
            "justify_items": null,
            "left": null,
            "margin": null,
            "max_height": null,
            "max_width": null,
            "min_height": null,
            "min_width": null,
            "object_fit": null,
            "object_position": null,
            "order": null,
            "overflow": null,
            "overflow_x": null,
            "overflow_y": null,
            "padding": null,
            "right": null,
            "top": null,
            "visibility": null,
            "width": null
          }
        },
        "e7b79bd712184933a3759fd001496258": {
          "model_module": "@jupyter-widgets/controls",
          "model_name": "DescriptionStyleModel",
          "model_module_version": "1.5.0",
          "state": {
            "_model_module": "@jupyter-widgets/controls",
            "_model_module_version": "1.5.0",
            "_model_name": "DescriptionStyleModel",
            "_view_count": null,
            "_view_module": "@jupyter-widgets/base",
            "_view_module_version": "1.2.0",
            "_view_name": "StyleView",
            "description_width": ""
          }
        },
        "53fae7dcee0f4c7691f665f13e7a82a5": {
          "model_module": "@jupyter-widgets/base",
          "model_name": "LayoutModel",
          "model_module_version": "1.2.0",
          "state": {
            "_model_module": "@jupyter-widgets/base",
            "_model_module_version": "1.2.0",
            "_model_name": "LayoutModel",
            "_view_count": null,
            "_view_module": "@jupyter-widgets/base",
            "_view_module_version": "1.2.0",
            "_view_name": "LayoutView",
            "align_content": null,
            "align_items": null,
            "align_self": null,
            "border": null,
            "bottom": null,
            "display": null,
            "flex": null,
            "flex_flow": null,
            "grid_area": null,
            "grid_auto_columns": null,
            "grid_auto_flow": null,
            "grid_auto_rows": null,
            "grid_column": null,
            "grid_gap": null,
            "grid_row": null,
            "grid_template_areas": null,
            "grid_template_columns": null,
            "grid_template_rows": null,
            "height": null,
            "justify_content": null,
            "justify_items": null,
            "left": null,
            "margin": null,
            "max_height": null,
            "max_width": null,
            "min_height": null,
            "min_width": null,
            "object_fit": null,
            "object_position": null,
            "order": null,
            "overflow": null,
            "overflow_x": null,
            "overflow_y": null,
            "padding": null,
            "right": null,
            "top": null,
            "visibility": null,
            "width": null
          }
        },
        "b2264bce677f438c80a0ba1772c63c7a": {
          "model_module": "@jupyter-widgets/controls",
          "model_name": "ProgressStyleModel",
          "model_module_version": "1.5.0",
          "state": {
            "_model_module": "@jupyter-widgets/controls",
            "_model_module_version": "1.5.0",
            "_model_name": "ProgressStyleModel",
            "_view_count": null,
            "_view_module": "@jupyter-widgets/base",
            "_view_module_version": "1.2.0",
            "_view_name": "StyleView",
            "bar_color": null,
            "description_width": ""
          }
        },
        "36c2c9bc6ab241e6a4bb7a8be596517c": {
          "model_module": "@jupyter-widgets/base",
          "model_name": "LayoutModel",
          "model_module_version": "1.2.0",
          "state": {
            "_model_module": "@jupyter-widgets/base",
            "_model_module_version": "1.2.0",
            "_model_name": "LayoutModel",
            "_view_count": null,
            "_view_module": "@jupyter-widgets/base",
            "_view_module_version": "1.2.0",
            "_view_name": "LayoutView",
            "align_content": null,
            "align_items": null,
            "align_self": null,
            "border": null,
            "bottom": null,
            "display": null,
            "flex": null,
            "flex_flow": null,
            "grid_area": null,
            "grid_auto_columns": null,
            "grid_auto_flow": null,
            "grid_auto_rows": null,
            "grid_column": null,
            "grid_gap": null,
            "grid_row": null,
            "grid_template_areas": null,
            "grid_template_columns": null,
            "grid_template_rows": null,
            "height": null,
            "justify_content": null,
            "justify_items": null,
            "left": null,
            "margin": null,
            "max_height": null,
            "max_width": null,
            "min_height": null,
            "min_width": null,
            "object_fit": null,
            "object_position": null,
            "order": null,
            "overflow": null,
            "overflow_x": null,
            "overflow_y": null,
            "padding": null,
            "right": null,
            "top": null,
            "visibility": null,
            "width": null
          }
        },
        "345d55d751c74ca999e07c1e53124e1e": {
          "model_module": "@jupyter-widgets/controls",
          "model_name": "DescriptionStyleModel",
          "model_module_version": "1.5.0",
          "state": {
            "_model_module": "@jupyter-widgets/controls",
            "_model_module_version": "1.5.0",
            "_model_name": "DescriptionStyleModel",
            "_view_count": null,
            "_view_module": "@jupyter-widgets/base",
            "_view_module_version": "1.2.0",
            "_view_name": "StyleView",
            "description_width": ""
          }
        },
        "3dfd8723a0e7412d9710aee0b6474cde": {
          "model_module": "@jupyter-widgets/controls",
          "model_name": "HBoxModel",
          "model_module_version": "1.5.0",
          "state": {
            "_dom_classes": [],
            "_model_module": "@jupyter-widgets/controls",
            "_model_module_version": "1.5.0",
            "_model_name": "HBoxModel",
            "_view_count": null,
            "_view_module": "@jupyter-widgets/controls",
            "_view_module_version": "1.5.0",
            "_view_name": "HBoxView",
            "box_style": "",
            "children": [
              "IPY_MODEL_50dbe8daef8440c187d7a08b958b5447",
              "IPY_MODEL_f994b427067742aebf818c282655623c",
              "IPY_MODEL_b1a1b1da4de44b7ba12bfd8d495da120"
            ],
            "layout": "IPY_MODEL_ee7a3f89a202478d961b52b8bafed1b0"
          }
        },
        "50dbe8daef8440c187d7a08b958b5447": {
          "model_module": "@jupyter-widgets/controls",
          "model_name": "HTMLModel",
          "model_module_version": "1.5.0",
          "state": {
            "_dom_classes": [],
            "_model_module": "@jupyter-widgets/controls",
            "_model_module_version": "1.5.0",
            "_model_name": "HTMLModel",
            "_view_count": null,
            "_view_module": "@jupyter-widgets/controls",
            "_view_module_version": "1.5.0",
            "_view_name": "HTMLView",
            "description": "",
            "description_tooltip": null,
            "layout": "IPY_MODEL_a1e5a84610414ba4a7cf4a4ab65691f2",
            "placeholder": "​",
            "style": "IPY_MODEL_4d5972fb576a4db4a9169e54f7eaefb6",
            "value": "Downloading (…)in/label_encoder.txt: 100%"
          }
        },
        "f994b427067742aebf818c282655623c": {
          "model_module": "@jupyter-widgets/controls",
          "model_name": "FloatProgressModel",
          "model_module_version": "1.5.0",
          "state": {
            "_dom_classes": [],
            "_model_module": "@jupyter-widgets/controls",
            "_model_module_version": "1.5.0",
            "_model_name": "FloatProgressModel",
            "_view_count": null,
            "_view_module": "@jupyter-widgets/controls",
            "_view_module_version": "1.5.0",
            "_view_name": "ProgressView",
            "bar_style": "success",
            "description": "",
            "description_tooltip": null,
            "layout": "IPY_MODEL_f27e82bc2ffa4f68973111b50f107fde",
            "max": 128619,
            "min": 0,
            "orientation": "horizontal",
            "style": "IPY_MODEL_6ee4e7e59e204c00bb541667edb07e90",
            "value": 128619
          }
        },
        "b1a1b1da4de44b7ba12bfd8d495da120": {
          "model_module": "@jupyter-widgets/controls",
          "model_name": "HTMLModel",
          "model_module_version": "1.5.0",
          "state": {
            "_dom_classes": [],
            "_model_module": "@jupyter-widgets/controls",
            "_model_module_version": "1.5.0",
            "_model_name": "HTMLModel",
            "_view_count": null,
            "_view_module": "@jupyter-widgets/controls",
            "_view_module_version": "1.5.0",
            "_view_name": "HTMLView",
            "description": "",
            "description_tooltip": null,
            "layout": "IPY_MODEL_4cb602b516724329b4782a4117082bea",
            "placeholder": "​",
            "style": "IPY_MODEL_f2efd429686547718207d138220085a3",
            "value": " 129k/129k [00:00&lt;00:00, 3.90MB/s]"
          }
        },
        "ee7a3f89a202478d961b52b8bafed1b0": {
          "model_module": "@jupyter-widgets/base",
          "model_name": "LayoutModel",
          "model_module_version": "1.2.0",
          "state": {
            "_model_module": "@jupyter-widgets/base",
            "_model_module_version": "1.2.0",
            "_model_name": "LayoutModel",
            "_view_count": null,
            "_view_module": "@jupyter-widgets/base",
            "_view_module_version": "1.2.0",
            "_view_name": "LayoutView",
            "align_content": null,
            "align_items": null,
            "align_self": null,
            "border": null,
            "bottom": null,
            "display": null,
            "flex": null,
            "flex_flow": null,
            "grid_area": null,
            "grid_auto_columns": null,
            "grid_auto_flow": null,
            "grid_auto_rows": null,
            "grid_column": null,
            "grid_gap": null,
            "grid_row": null,
            "grid_template_areas": null,
            "grid_template_columns": null,
            "grid_template_rows": null,
            "height": null,
            "justify_content": null,
            "justify_items": null,
            "left": null,
            "margin": null,
            "max_height": null,
            "max_width": null,
            "min_height": null,
            "min_width": null,
            "object_fit": null,
            "object_position": null,
            "order": null,
            "overflow": null,
            "overflow_x": null,
            "overflow_y": null,
            "padding": null,
            "right": null,
            "top": null,
            "visibility": null,
            "width": null
          }
        },
        "a1e5a84610414ba4a7cf4a4ab65691f2": {
          "model_module": "@jupyter-widgets/base",
          "model_name": "LayoutModel",
          "model_module_version": "1.2.0",
          "state": {
            "_model_module": "@jupyter-widgets/base",
            "_model_module_version": "1.2.0",
            "_model_name": "LayoutModel",
            "_view_count": null,
            "_view_module": "@jupyter-widgets/base",
            "_view_module_version": "1.2.0",
            "_view_name": "LayoutView",
            "align_content": null,
            "align_items": null,
            "align_self": null,
            "border": null,
            "bottom": null,
            "display": null,
            "flex": null,
            "flex_flow": null,
            "grid_area": null,
            "grid_auto_columns": null,
            "grid_auto_flow": null,
            "grid_auto_rows": null,
            "grid_column": null,
            "grid_gap": null,
            "grid_row": null,
            "grid_template_areas": null,
            "grid_template_columns": null,
            "grid_template_rows": null,
            "height": null,
            "justify_content": null,
            "justify_items": null,
            "left": null,
            "margin": null,
            "max_height": null,
            "max_width": null,
            "min_height": null,
            "min_width": null,
            "object_fit": null,
            "object_position": null,
            "order": null,
            "overflow": null,
            "overflow_x": null,
            "overflow_y": null,
            "padding": null,
            "right": null,
            "top": null,
            "visibility": null,
            "width": null
          }
        },
        "4d5972fb576a4db4a9169e54f7eaefb6": {
          "model_module": "@jupyter-widgets/controls",
          "model_name": "DescriptionStyleModel",
          "model_module_version": "1.5.0",
          "state": {
            "_model_module": "@jupyter-widgets/controls",
            "_model_module_version": "1.5.0",
            "_model_name": "DescriptionStyleModel",
            "_view_count": null,
            "_view_module": "@jupyter-widgets/base",
            "_view_module_version": "1.2.0",
            "_view_name": "StyleView",
            "description_width": ""
          }
        },
        "f27e82bc2ffa4f68973111b50f107fde": {
          "model_module": "@jupyter-widgets/base",
          "model_name": "LayoutModel",
          "model_module_version": "1.2.0",
          "state": {
            "_model_module": "@jupyter-widgets/base",
            "_model_module_version": "1.2.0",
            "_model_name": "LayoutModel",
            "_view_count": null,
            "_view_module": "@jupyter-widgets/base",
            "_view_module_version": "1.2.0",
            "_view_name": "LayoutView",
            "align_content": null,
            "align_items": null,
            "align_self": null,
            "border": null,
            "bottom": null,
            "display": null,
            "flex": null,
            "flex_flow": null,
            "grid_area": null,
            "grid_auto_columns": null,
            "grid_auto_flow": null,
            "grid_auto_rows": null,
            "grid_column": null,
            "grid_gap": null,
            "grid_row": null,
            "grid_template_areas": null,
            "grid_template_columns": null,
            "grid_template_rows": null,
            "height": null,
            "justify_content": null,
            "justify_items": null,
            "left": null,
            "margin": null,
            "max_height": null,
            "max_width": null,
            "min_height": null,
            "min_width": null,
            "object_fit": null,
            "object_position": null,
            "order": null,
            "overflow": null,
            "overflow_x": null,
            "overflow_y": null,
            "padding": null,
            "right": null,
            "top": null,
            "visibility": null,
            "width": null
          }
        },
        "6ee4e7e59e204c00bb541667edb07e90": {
          "model_module": "@jupyter-widgets/controls",
          "model_name": "ProgressStyleModel",
          "model_module_version": "1.5.0",
          "state": {
            "_model_module": "@jupyter-widgets/controls",
            "_model_module_version": "1.5.0",
            "_model_name": "ProgressStyleModel",
            "_view_count": null,
            "_view_module": "@jupyter-widgets/base",
            "_view_module_version": "1.2.0",
            "_view_name": "StyleView",
            "bar_color": null,
            "description_width": ""
          }
        },
        "4cb602b516724329b4782a4117082bea": {
          "model_module": "@jupyter-widgets/base",
          "model_name": "LayoutModel",
          "model_module_version": "1.2.0",
          "state": {
            "_model_module": "@jupyter-widgets/base",
            "_model_module_version": "1.2.0",
            "_model_name": "LayoutModel",
            "_view_count": null,
            "_view_module": "@jupyter-widgets/base",
            "_view_module_version": "1.2.0",
            "_view_name": "LayoutView",
            "align_content": null,
            "align_items": null,
            "align_self": null,
            "border": null,
            "bottom": null,
            "display": null,
            "flex": null,
            "flex_flow": null,
            "grid_area": null,
            "grid_auto_columns": null,
            "grid_auto_flow": null,
            "grid_auto_rows": null,
            "grid_column": null,
            "grid_gap": null,
            "grid_row": null,
            "grid_template_areas": null,
            "grid_template_columns": null,
            "grid_template_rows": null,
            "height": null,
            "justify_content": null,
            "justify_items": null,
            "left": null,
            "margin": null,
            "max_height": null,
            "max_width": null,
            "min_height": null,
            "min_width": null,
            "object_fit": null,
            "object_position": null,
            "order": null,
            "overflow": null,
            "overflow_x": null,
            "overflow_y": null,
            "padding": null,
            "right": null,
            "top": null,
            "visibility": null,
            "width": null
          }
        },
        "f2efd429686547718207d138220085a3": {
          "model_module": "@jupyter-widgets/controls",
          "model_name": "DescriptionStyleModel",
          "model_module_version": "1.5.0",
          "state": {
            "_model_module": "@jupyter-widgets/controls",
            "_model_module_version": "1.5.0",
            "_model_name": "DescriptionStyleModel",
            "_view_count": null,
            "_view_module": "@jupyter-widgets/base",
            "_view_module_version": "1.2.0",
            "_view_name": "StyleView",
            "description_width": ""
          }
        },
        "48b188e7e01f4ca8958d54d221717e1c": {
          "model_module": "@jupyter-widgets/controls",
          "model_name": "HBoxModel",
          "model_module_version": "1.5.0",
          "state": {
            "_dom_classes": [],
            "_model_module": "@jupyter-widgets/controls",
            "_model_module_version": "1.5.0",
            "_model_name": "HBoxModel",
            "_view_count": null,
            "_view_module": "@jupyter-widgets/controls",
            "_view_module_version": "1.5.0",
            "_view_name": "HBoxView",
            "box_style": "",
            "children": [
              "IPY_MODEL_978ab56e03ca47bda8cf06527477471c",
              "IPY_MODEL_d33da3b23434442c869ac03f2311d147",
              "IPY_MODEL_e24eac7aa9e24a84ae0083305674d027"
            ],
            "layout": "IPY_MODEL_8da5716b69ef40e79178db086a80ae62"
          }
        },
        "978ab56e03ca47bda8cf06527477471c": {
          "model_module": "@jupyter-widgets/controls",
          "model_name": "HTMLModel",
          "model_module_version": "1.5.0",
          "state": {
            "_dom_classes": [],
            "_model_module": "@jupyter-widgets/controls",
            "_model_module_version": "1.5.0",
            "_model_name": "HTMLModel",
            "_view_count": null,
            "_view_module": "@jupyter-widgets/controls",
            "_view_module_version": "1.5.0",
            "_view_name": "HTMLView",
            "description": "",
            "description_tooltip": null,
            "layout": "IPY_MODEL_c2cf3efa5dfd43728d7e0b03d7f89984",
            "placeholder": "​",
            "style": "IPY_MODEL_7457dfb71db94c35ae4e84d648a2e20c",
            "value": "Downloading (…)lve/main/config.json: 100%"
          }
        },
        "d33da3b23434442c869ac03f2311d147": {
          "model_module": "@jupyter-widgets/controls",
          "model_name": "FloatProgressModel",
          "model_module_version": "1.5.0",
          "state": {
            "_dom_classes": [],
            "_model_module": "@jupyter-widgets/controls",
            "_model_module_version": "1.5.0",
            "_model_name": "FloatProgressModel",
            "_view_count": null,
            "_view_module": "@jupyter-widgets/controls",
            "_view_module_version": "1.5.0",
            "_view_name": "ProgressView",
            "bar_style": "success",
            "description": "",
            "description_tooltip": null,
            "layout": "IPY_MODEL_575de9dc56984f3aa52d7950e0045004",
            "max": 636,
            "min": 0,
            "orientation": "horizontal",
            "style": "IPY_MODEL_06b05cdeb04d48e6af29e02be57613ec",
            "value": 636
          }
        },
        "e24eac7aa9e24a84ae0083305674d027": {
          "model_module": "@jupyter-widgets/controls",
          "model_name": "HTMLModel",
          "model_module_version": "1.5.0",
          "state": {
            "_dom_classes": [],
            "_model_module": "@jupyter-widgets/controls",
            "_model_module_version": "1.5.0",
            "_model_name": "HTMLModel",
            "_view_count": null,
            "_view_module": "@jupyter-widgets/controls",
            "_view_module_version": "1.5.0",
            "_view_name": "HTMLView",
            "description": "",
            "description_tooltip": null,
            "layout": "IPY_MODEL_c6c9cd46ec9d45498cf55d1fbc385367",
            "placeholder": "​",
            "style": "IPY_MODEL_b41464dc35b2451db4725058a6d0d40d",
            "value": " 636/636 [00:00&lt;00:00, 56.9kB/s]"
          }
        },
        "8da5716b69ef40e79178db086a80ae62": {
          "model_module": "@jupyter-widgets/base",
          "model_name": "LayoutModel",
          "model_module_version": "1.2.0",
          "state": {
            "_model_module": "@jupyter-widgets/base",
            "_model_module_version": "1.2.0",
            "_model_name": "LayoutModel",
            "_view_count": null,
            "_view_module": "@jupyter-widgets/base",
            "_view_module_version": "1.2.0",
            "_view_name": "LayoutView",
            "align_content": null,
            "align_items": null,
            "align_self": null,
            "border": null,
            "bottom": null,
            "display": null,
            "flex": null,
            "flex_flow": null,
            "grid_area": null,
            "grid_auto_columns": null,
            "grid_auto_flow": null,
            "grid_auto_rows": null,
            "grid_column": null,
            "grid_gap": null,
            "grid_row": null,
            "grid_template_areas": null,
            "grid_template_columns": null,
            "grid_template_rows": null,
            "height": null,
            "justify_content": null,
            "justify_items": null,
            "left": null,
            "margin": null,
            "max_height": null,
            "max_width": null,
            "min_height": null,
            "min_width": null,
            "object_fit": null,
            "object_position": null,
            "order": null,
            "overflow": null,
            "overflow_x": null,
            "overflow_y": null,
            "padding": null,
            "right": null,
            "top": null,
            "visibility": null,
            "width": null
          }
        },
        "c2cf3efa5dfd43728d7e0b03d7f89984": {
          "model_module": "@jupyter-widgets/base",
          "model_name": "LayoutModel",
          "model_module_version": "1.2.0",
          "state": {
            "_model_module": "@jupyter-widgets/base",
            "_model_module_version": "1.2.0",
            "_model_name": "LayoutModel",
            "_view_count": null,
            "_view_module": "@jupyter-widgets/base",
            "_view_module_version": "1.2.0",
            "_view_name": "LayoutView",
            "align_content": null,
            "align_items": null,
            "align_self": null,
            "border": null,
            "bottom": null,
            "display": null,
            "flex": null,
            "flex_flow": null,
            "grid_area": null,
            "grid_auto_columns": null,
            "grid_auto_flow": null,
            "grid_auto_rows": null,
            "grid_column": null,
            "grid_gap": null,
            "grid_row": null,
            "grid_template_areas": null,
            "grid_template_columns": null,
            "grid_template_rows": null,
            "height": null,
            "justify_content": null,
            "justify_items": null,
            "left": null,
            "margin": null,
            "max_height": null,
            "max_width": null,
            "min_height": null,
            "min_width": null,
            "object_fit": null,
            "object_position": null,
            "order": null,
            "overflow": null,
            "overflow_x": null,
            "overflow_y": null,
            "padding": null,
            "right": null,
            "top": null,
            "visibility": null,
            "width": null
          }
        },
        "7457dfb71db94c35ae4e84d648a2e20c": {
          "model_module": "@jupyter-widgets/controls",
          "model_name": "DescriptionStyleModel",
          "model_module_version": "1.5.0",
          "state": {
            "_model_module": "@jupyter-widgets/controls",
            "_model_module_version": "1.5.0",
            "_model_name": "DescriptionStyleModel",
            "_view_count": null,
            "_view_module": "@jupyter-widgets/base",
            "_view_module_version": "1.2.0",
            "_view_name": "StyleView",
            "description_width": ""
          }
        },
        "575de9dc56984f3aa52d7950e0045004": {
          "model_module": "@jupyter-widgets/base",
          "model_name": "LayoutModel",
          "model_module_version": "1.2.0",
          "state": {
            "_model_module": "@jupyter-widgets/base",
            "_model_module_version": "1.2.0",
            "_model_name": "LayoutModel",
            "_view_count": null,
            "_view_module": "@jupyter-widgets/base",
            "_view_module_version": "1.2.0",
            "_view_name": "LayoutView",
            "align_content": null,
            "align_items": null,
            "align_self": null,
            "border": null,
            "bottom": null,
            "display": null,
            "flex": null,
            "flex_flow": null,
            "grid_area": null,
            "grid_auto_columns": null,
            "grid_auto_flow": null,
            "grid_auto_rows": null,
            "grid_column": null,
            "grid_gap": null,
            "grid_row": null,
            "grid_template_areas": null,
            "grid_template_columns": null,
            "grid_template_rows": null,
            "height": null,
            "justify_content": null,
            "justify_items": null,
            "left": null,
            "margin": null,
            "max_height": null,
            "max_width": null,
            "min_height": null,
            "min_width": null,
            "object_fit": null,
            "object_position": null,
            "order": null,
            "overflow": null,
            "overflow_x": null,
            "overflow_y": null,
            "padding": null,
            "right": null,
            "top": null,
            "visibility": null,
            "width": null
          }
        },
        "06b05cdeb04d48e6af29e02be57613ec": {
          "model_module": "@jupyter-widgets/controls",
          "model_name": "ProgressStyleModel",
          "model_module_version": "1.5.0",
          "state": {
            "_model_module": "@jupyter-widgets/controls",
            "_model_module_version": "1.5.0",
            "_model_name": "ProgressStyleModel",
            "_view_count": null,
            "_view_module": "@jupyter-widgets/base",
            "_view_module_version": "1.2.0",
            "_view_name": "StyleView",
            "bar_color": null,
            "description_width": ""
          }
        },
        "c6c9cd46ec9d45498cf55d1fbc385367": {
          "model_module": "@jupyter-widgets/base",
          "model_name": "LayoutModel",
          "model_module_version": "1.2.0",
          "state": {
            "_model_module": "@jupyter-widgets/base",
            "_model_module_version": "1.2.0",
            "_model_name": "LayoutModel",
            "_view_count": null,
            "_view_module": "@jupyter-widgets/base",
            "_view_module_version": "1.2.0",
            "_view_name": "LayoutView",
            "align_content": null,
            "align_items": null,
            "align_self": null,
            "border": null,
            "bottom": null,
            "display": null,
            "flex": null,
            "flex_flow": null,
            "grid_area": null,
            "grid_auto_columns": null,
            "grid_auto_flow": null,
            "grid_auto_rows": null,
            "grid_column": null,
            "grid_gap": null,
            "grid_row": null,
            "grid_template_areas": null,
            "grid_template_columns": null,
            "grid_template_rows": null,
            "height": null,
            "justify_content": null,
            "justify_items": null,
            "left": null,
            "margin": null,
            "max_height": null,
            "max_width": null,
            "min_height": null,
            "min_width": null,
            "object_fit": null,
            "object_position": null,
            "order": null,
            "overflow": null,
            "overflow_x": null,
            "overflow_y": null,
            "padding": null,
            "right": null,
            "top": null,
            "visibility": null,
            "width": null
          }
        },
        "b41464dc35b2451db4725058a6d0d40d": {
          "model_module": "@jupyter-widgets/controls",
          "model_name": "DescriptionStyleModel",
          "model_module_version": "1.5.0",
          "state": {
            "_model_module": "@jupyter-widgets/controls",
            "_model_module_version": "1.5.0",
            "_model_name": "DescriptionStyleModel",
            "_view_count": null,
            "_view_module": "@jupyter-widgets/base",
            "_view_module_version": "1.2.0",
            "_view_name": "StyleView",
            "description_width": ""
          }
        },
        "d96955866e6748278f9ee99fea0615c9": {
          "model_module": "@jupyter-widgets/controls",
          "model_name": "HBoxModel",
          "model_module_version": "1.5.0",
          "state": {
            "_dom_classes": [],
            "_model_module": "@jupyter-widgets/controls",
            "_model_module_version": "1.5.0",
            "_model_name": "HBoxModel",
            "_view_count": null,
            "_view_module": "@jupyter-widgets/controls",
            "_view_module_version": "1.5.0",
            "_view_name": "HBoxView",
            "box_style": "",
            "children": [
              "IPY_MODEL_8c397880454448c88caa664776425127",
              "IPY_MODEL_57cdede22683452e9b79df1575bcff04",
              "IPY_MODEL_006897cec8fa44a3ba2445b6f83a0428"
            ],
            "layout": "IPY_MODEL_5f6927e505bd4dd38204e2a1754080f1"
          }
        },
        "8c397880454448c88caa664776425127": {
          "model_module": "@jupyter-widgets/controls",
          "model_name": "HTMLModel",
          "model_module_version": "1.5.0",
          "state": {
            "_dom_classes": [],
            "_model_module": "@jupyter-widgets/controls",
            "_model_module_version": "1.5.0",
            "_model_name": "HTMLModel",
            "_view_count": null,
            "_view_module": "@jupyter-widgets/controls",
            "_view_module_version": "1.5.0",
            "_view_name": "HTMLView",
            "description": "",
            "description_tooltip": null,
            "layout": "IPY_MODEL_9794f56caa2148fdb4f05a3c87b476a4",
            "placeholder": "​",
            "style": "IPY_MODEL_ea0d400c6bda4b9ebab797df63966495",
            "value": "Downloading pytorch_model.bin: 100%"
          }
        },
        "57cdede22683452e9b79df1575bcff04": {
          "model_module": "@jupyter-widgets/controls",
          "model_name": "FloatProgressModel",
          "model_module_version": "1.5.0",
          "state": {
            "_dom_classes": [],
            "_model_module": "@jupyter-widgets/controls",
            "_model_module_version": "1.5.0",
            "_model_name": "FloatProgressModel",
            "_view_count": null,
            "_view_module": "@jupyter-widgets/controls",
            "_view_module_version": "1.5.0",
            "_view_name": "ProgressView",
            "bar_style": "success",
            "description": "",
            "description_tooltip": null,
            "layout": "IPY_MODEL_11833ab2896c4ec8b252d6ef9e742035",
            "max": 50672453,
            "min": 0,
            "orientation": "horizontal",
            "style": "IPY_MODEL_409167dc2e264857b8b460e465e1eb9c",
            "value": 50672453
          }
        },
        "006897cec8fa44a3ba2445b6f83a0428": {
          "model_module": "@jupyter-widgets/controls",
          "model_name": "HTMLModel",
          "model_module_version": "1.5.0",
          "state": {
            "_dom_classes": [],
            "_model_module": "@jupyter-widgets/controls",
            "_model_module_version": "1.5.0",
            "_model_name": "HTMLModel",
            "_view_count": null,
            "_view_module": "@jupyter-widgets/controls",
            "_view_module_version": "1.5.0",
            "_view_name": "HTMLView",
            "description": "",
            "description_tooltip": null,
            "layout": "IPY_MODEL_396e2b61ec3d43159e4028b0ed843aa9",
            "placeholder": "​",
            "style": "IPY_MODEL_42008510fb6544819176626f8752eb2e",
            "value": " 50.7M/50.7M [00:00&lt;00:00, 81.1MB/s]"
          }
        },
        "5f6927e505bd4dd38204e2a1754080f1": {
          "model_module": "@jupyter-widgets/base",
          "model_name": "LayoutModel",
          "model_module_version": "1.2.0",
          "state": {
            "_model_module": "@jupyter-widgets/base",
            "_model_module_version": "1.2.0",
            "_model_name": "LayoutModel",
            "_view_count": null,
            "_view_module": "@jupyter-widgets/base",
            "_view_module_version": "1.2.0",
            "_view_name": "LayoutView",
            "align_content": null,
            "align_items": null,
            "align_self": null,
            "border": null,
            "bottom": null,
            "display": null,
            "flex": null,
            "flex_flow": null,
            "grid_area": null,
            "grid_auto_columns": null,
            "grid_auto_flow": null,
            "grid_auto_rows": null,
            "grid_column": null,
            "grid_gap": null,
            "grid_row": null,
            "grid_template_areas": null,
            "grid_template_columns": null,
            "grid_template_rows": null,
            "height": null,
            "justify_content": null,
            "justify_items": null,
            "left": null,
            "margin": null,
            "max_height": null,
            "max_width": null,
            "min_height": null,
            "min_width": null,
            "object_fit": null,
            "object_position": null,
            "order": null,
            "overflow": null,
            "overflow_x": null,
            "overflow_y": null,
            "padding": null,
            "right": null,
            "top": null,
            "visibility": null,
            "width": null
          }
        },
        "9794f56caa2148fdb4f05a3c87b476a4": {
          "model_module": "@jupyter-widgets/base",
          "model_name": "LayoutModel",
          "model_module_version": "1.2.0",
          "state": {
            "_model_module": "@jupyter-widgets/base",
            "_model_module_version": "1.2.0",
            "_model_name": "LayoutModel",
            "_view_count": null,
            "_view_module": "@jupyter-widgets/base",
            "_view_module_version": "1.2.0",
            "_view_name": "LayoutView",
            "align_content": null,
            "align_items": null,
            "align_self": null,
            "border": null,
            "bottom": null,
            "display": null,
            "flex": null,
            "flex_flow": null,
            "grid_area": null,
            "grid_auto_columns": null,
            "grid_auto_flow": null,
            "grid_auto_rows": null,
            "grid_column": null,
            "grid_gap": null,
            "grid_row": null,
            "grid_template_areas": null,
            "grid_template_columns": null,
            "grid_template_rows": null,
            "height": null,
            "justify_content": null,
            "justify_items": null,
            "left": null,
            "margin": null,
            "max_height": null,
            "max_width": null,
            "min_height": null,
            "min_width": null,
            "object_fit": null,
            "object_position": null,
            "order": null,
            "overflow": null,
            "overflow_x": null,
            "overflow_y": null,
            "padding": null,
            "right": null,
            "top": null,
            "visibility": null,
            "width": null
          }
        },
        "ea0d400c6bda4b9ebab797df63966495": {
          "model_module": "@jupyter-widgets/controls",
          "model_name": "DescriptionStyleModel",
          "model_module_version": "1.5.0",
          "state": {
            "_model_module": "@jupyter-widgets/controls",
            "_model_module_version": "1.5.0",
            "_model_name": "DescriptionStyleModel",
            "_view_count": null,
            "_view_module": "@jupyter-widgets/base",
            "_view_module_version": "1.2.0",
            "_view_name": "StyleView",
            "description_width": ""
          }
        },
        "11833ab2896c4ec8b252d6ef9e742035": {
          "model_module": "@jupyter-widgets/base",
          "model_name": "LayoutModel",
          "model_module_version": "1.2.0",
          "state": {
            "_model_module": "@jupyter-widgets/base",
            "_model_module_version": "1.2.0",
            "_model_name": "LayoutModel",
            "_view_count": null,
            "_view_module": "@jupyter-widgets/base",
            "_view_module_version": "1.2.0",
            "_view_name": "LayoutView",
            "align_content": null,
            "align_items": null,
            "align_self": null,
            "border": null,
            "bottom": null,
            "display": null,
            "flex": null,
            "flex_flow": null,
            "grid_area": null,
            "grid_auto_columns": null,
            "grid_auto_flow": null,
            "grid_auto_rows": null,
            "grid_column": null,
            "grid_gap": null,
            "grid_row": null,
            "grid_template_areas": null,
            "grid_template_columns": null,
            "grid_template_rows": null,
            "height": null,
            "justify_content": null,
            "justify_items": null,
            "left": null,
            "margin": null,
            "max_height": null,
            "max_width": null,
            "min_height": null,
            "min_width": null,
            "object_fit": null,
            "object_position": null,
            "order": null,
            "overflow": null,
            "overflow_x": null,
            "overflow_y": null,
            "padding": null,
            "right": null,
            "top": null,
            "visibility": null,
            "width": null
          }
        },
        "409167dc2e264857b8b460e465e1eb9c": {
          "model_module": "@jupyter-widgets/controls",
          "model_name": "ProgressStyleModel",
          "model_module_version": "1.5.0",
          "state": {
            "_model_module": "@jupyter-widgets/controls",
            "_model_module_version": "1.5.0",
            "_model_name": "ProgressStyleModel",
            "_view_count": null,
            "_view_module": "@jupyter-widgets/base",
            "_view_module_version": "1.2.0",
            "_view_name": "StyleView",
            "bar_color": null,
            "description_width": ""
          }
        },
        "396e2b61ec3d43159e4028b0ed843aa9": {
          "model_module": "@jupyter-widgets/base",
          "model_name": "LayoutModel",
          "model_module_version": "1.2.0",
          "state": {
            "_model_module": "@jupyter-widgets/base",
            "_model_module_version": "1.2.0",
            "_model_name": "LayoutModel",
            "_view_count": null,
            "_view_module": "@jupyter-widgets/base",
            "_view_module_version": "1.2.0",
            "_view_name": "LayoutView",
            "align_content": null,
            "align_items": null,
            "align_self": null,
            "border": null,
            "bottom": null,
            "display": null,
            "flex": null,
            "flex_flow": null,
            "grid_area": null,
            "grid_auto_columns": null,
            "grid_auto_flow": null,
            "grid_auto_rows": null,
            "grid_column": null,
            "grid_gap": null,
            "grid_row": null,
            "grid_template_areas": null,
            "grid_template_columns": null,
            "grid_template_rows": null,
            "height": null,
            "justify_content": null,
            "justify_items": null,
            "left": null,
            "margin": null,
            "max_height": null,
            "max_width": null,
            "min_height": null,
            "min_width": null,
            "object_fit": null,
            "object_position": null,
            "order": null,
            "overflow": null,
            "overflow_x": null,
            "overflow_y": null,
            "padding": null,
            "right": null,
            "top": null,
            "visibility": null,
            "width": null
          }
        },
        "42008510fb6544819176626f8752eb2e": {
          "model_module": "@jupyter-widgets/controls",
          "model_name": "DescriptionStyleModel",
          "model_module_version": "1.5.0",
          "state": {
            "_model_module": "@jupyter-widgets/controls",
            "_model_module_version": "1.5.0",
            "_model_name": "DescriptionStyleModel",
            "_view_count": null,
            "_view_module": "@jupyter-widgets/base",
            "_view_module_version": "1.2.0",
            "_view_name": "StyleView",
            "description_width": ""
          }
        },
        "279ff63a9b6341e2aaa0c980f12bae20": {
          "model_module": "@jupyter-widgets/controls",
          "model_name": "HBoxModel",
          "model_module_version": "1.5.0",
          "state": {
            "_dom_classes": [],
            "_model_module": "@jupyter-widgets/controls",
            "_model_module_version": "1.5.0",
            "_model_name": "HBoxModel",
            "_view_count": null,
            "_view_module": "@jupyter-widgets/controls",
            "_view_module_version": "1.5.0",
            "_view_name": "HBoxView",
            "box_style": "",
            "children": [
              "IPY_MODEL_3dcd66bf0cc64a859a2bf2d35ad46265",
              "IPY_MODEL_cd2073ad9cd649d49e82d72487d8e164",
              "IPY_MODEL_7cc911052c704c0f9cc2475f7976f708"
            ],
            "layout": "IPY_MODEL_1fd7f88516204c33bcbb51a7077dd606"
          }
        },
        "3dcd66bf0cc64a859a2bf2d35ad46265": {
          "model_module": "@jupyter-widgets/controls",
          "model_name": "HTMLModel",
          "model_module_version": "1.5.0",
          "state": {
            "_dom_classes": [],
            "_model_module": "@jupyter-widgets/controls",
            "_model_module_version": "1.5.0",
            "_model_name": "HTMLModel",
            "_view_count": null,
            "_view_module": "@jupyter-widgets/controls",
            "_view_module_version": "1.5.0",
            "_view_name": "HTMLView",
            "description": "",
            "description_tooltip": null,
            "layout": "IPY_MODEL_e51b388b59e249c78a43c4d30f4a909b",
            "placeholder": "​",
            "style": "IPY_MODEL_60d8749bce2445d29fb515dece728be3",
            "value": "Map: 100%"
          }
        },
        "cd2073ad9cd649d49e82d72487d8e164": {
          "model_module": "@jupyter-widgets/controls",
          "model_name": "FloatProgressModel",
          "model_module_version": "1.5.0",
          "state": {
            "_dom_classes": [],
            "_model_module": "@jupyter-widgets/controls",
            "_model_module_version": "1.5.0",
            "_model_name": "FloatProgressModel",
            "_view_count": null,
            "_view_module": "@jupyter-widgets/controls",
            "_view_module_version": "1.5.0",
            "_view_name": "ProgressView",
            "bar_style": "",
            "description": "",
            "description_tooltip": null,
            "layout": "IPY_MODEL_ebf8f309764444f2a8818c75e71688af",
            "max": 158,
            "min": 0,
            "orientation": "horizontal",
            "style": "IPY_MODEL_f4db06e240b5452c8396cb936b05a6e4",
            "value": 158
          }
        },
        "7cc911052c704c0f9cc2475f7976f708": {
          "model_module": "@jupyter-widgets/controls",
          "model_name": "HTMLModel",
          "model_module_version": "1.5.0",
          "state": {
            "_dom_classes": [],
            "_model_module": "@jupyter-widgets/controls",
            "_model_module_version": "1.5.0",
            "_model_name": "HTMLModel",
            "_view_count": null,
            "_view_module": "@jupyter-widgets/controls",
            "_view_module_version": "1.5.0",
            "_view_name": "HTMLView",
            "description": "",
            "description_tooltip": null,
            "layout": "IPY_MODEL_dbf4cb3e953441799b94ab6a078b5bb1",
            "placeholder": "​",
            "style": "IPY_MODEL_7ea5a8fb061947d7b56813c2769103e3",
            "value": " 158/158 [00:14&lt;00:00, 18.92 examples/s]"
          }
        },
        "1fd7f88516204c33bcbb51a7077dd606": {
          "model_module": "@jupyter-widgets/base",
          "model_name": "LayoutModel",
          "model_module_version": "1.2.0",
          "state": {
            "_model_module": "@jupyter-widgets/base",
            "_model_module_version": "1.2.0",
            "_model_name": "LayoutModel",
            "_view_count": null,
            "_view_module": "@jupyter-widgets/base",
            "_view_module_version": "1.2.0",
            "_view_name": "LayoutView",
            "align_content": null,
            "align_items": null,
            "align_self": null,
            "border": null,
            "bottom": null,
            "display": null,
            "flex": null,
            "flex_flow": null,
            "grid_area": null,
            "grid_auto_columns": null,
            "grid_auto_flow": null,
            "grid_auto_rows": null,
            "grid_column": null,
            "grid_gap": null,
            "grid_row": null,
            "grid_template_areas": null,
            "grid_template_columns": null,
            "grid_template_rows": null,
            "height": null,
            "justify_content": null,
            "justify_items": null,
            "left": null,
            "margin": null,
            "max_height": null,
            "max_width": null,
            "min_height": null,
            "min_width": null,
            "object_fit": null,
            "object_position": null,
            "order": null,
            "overflow": null,
            "overflow_x": null,
            "overflow_y": null,
            "padding": null,
            "right": null,
            "top": null,
            "visibility": "hidden",
            "width": null
          }
        },
        "e51b388b59e249c78a43c4d30f4a909b": {
          "model_module": "@jupyter-widgets/base",
          "model_name": "LayoutModel",
          "model_module_version": "1.2.0",
          "state": {
            "_model_module": "@jupyter-widgets/base",
            "_model_module_version": "1.2.0",
            "_model_name": "LayoutModel",
            "_view_count": null,
            "_view_module": "@jupyter-widgets/base",
            "_view_module_version": "1.2.0",
            "_view_name": "LayoutView",
            "align_content": null,
            "align_items": null,
            "align_self": null,
            "border": null,
            "bottom": null,
            "display": null,
            "flex": null,
            "flex_flow": null,
            "grid_area": null,
            "grid_auto_columns": null,
            "grid_auto_flow": null,
            "grid_auto_rows": null,
            "grid_column": null,
            "grid_gap": null,
            "grid_row": null,
            "grid_template_areas": null,
            "grid_template_columns": null,
            "grid_template_rows": null,
            "height": null,
            "justify_content": null,
            "justify_items": null,
            "left": null,
            "margin": null,
            "max_height": null,
            "max_width": null,
            "min_height": null,
            "min_width": null,
            "object_fit": null,
            "object_position": null,
            "order": null,
            "overflow": null,
            "overflow_x": null,
            "overflow_y": null,
            "padding": null,
            "right": null,
            "top": null,
            "visibility": null,
            "width": null
          }
        },
        "60d8749bce2445d29fb515dece728be3": {
          "model_module": "@jupyter-widgets/controls",
          "model_name": "DescriptionStyleModel",
          "model_module_version": "1.5.0",
          "state": {
            "_model_module": "@jupyter-widgets/controls",
            "_model_module_version": "1.5.0",
            "_model_name": "DescriptionStyleModel",
            "_view_count": null,
            "_view_module": "@jupyter-widgets/base",
            "_view_module_version": "1.2.0",
            "_view_name": "StyleView",
            "description_width": ""
          }
        },
        "ebf8f309764444f2a8818c75e71688af": {
          "model_module": "@jupyter-widgets/base",
          "model_name": "LayoutModel",
          "model_module_version": "1.2.0",
          "state": {
            "_model_module": "@jupyter-widgets/base",
            "_model_module_version": "1.2.0",
            "_model_name": "LayoutModel",
            "_view_count": null,
            "_view_module": "@jupyter-widgets/base",
            "_view_module_version": "1.2.0",
            "_view_name": "LayoutView",
            "align_content": null,
            "align_items": null,
            "align_self": null,
            "border": null,
            "bottom": null,
            "display": null,
            "flex": null,
            "flex_flow": null,
            "grid_area": null,
            "grid_auto_columns": null,
            "grid_auto_flow": null,
            "grid_auto_rows": null,
            "grid_column": null,
            "grid_gap": null,
            "grid_row": null,
            "grid_template_areas": null,
            "grid_template_columns": null,
            "grid_template_rows": null,
            "height": null,
            "justify_content": null,
            "justify_items": null,
            "left": null,
            "margin": null,
            "max_height": null,
            "max_width": null,
            "min_height": null,
            "min_width": null,
            "object_fit": null,
            "object_position": null,
            "order": null,
            "overflow": null,
            "overflow_x": null,
            "overflow_y": null,
            "padding": null,
            "right": null,
            "top": null,
            "visibility": null,
            "width": null
          }
        },
        "f4db06e240b5452c8396cb936b05a6e4": {
          "model_module": "@jupyter-widgets/controls",
          "model_name": "ProgressStyleModel",
          "model_module_version": "1.5.0",
          "state": {
            "_model_module": "@jupyter-widgets/controls",
            "_model_module_version": "1.5.0",
            "_model_name": "ProgressStyleModel",
            "_view_count": null,
            "_view_module": "@jupyter-widgets/base",
            "_view_module_version": "1.2.0",
            "_view_name": "StyleView",
            "bar_color": null,
            "description_width": ""
          }
        },
        "dbf4cb3e953441799b94ab6a078b5bb1": {
          "model_module": "@jupyter-widgets/base",
          "model_name": "LayoutModel",
          "model_module_version": "1.2.0",
          "state": {
            "_model_module": "@jupyter-widgets/base",
            "_model_module_version": "1.2.0",
            "_model_name": "LayoutModel",
            "_view_count": null,
            "_view_module": "@jupyter-widgets/base",
            "_view_module_version": "1.2.0",
            "_view_name": "LayoutView",
            "align_content": null,
            "align_items": null,
            "align_self": null,
            "border": null,
            "bottom": null,
            "display": null,
            "flex": null,
            "flex_flow": null,
            "grid_area": null,
            "grid_auto_columns": null,
            "grid_auto_flow": null,
            "grid_auto_rows": null,
            "grid_column": null,
            "grid_gap": null,
            "grid_row": null,
            "grid_template_areas": null,
            "grid_template_columns": null,
            "grid_template_rows": null,
            "height": null,
            "justify_content": null,
            "justify_items": null,
            "left": null,
            "margin": null,
            "max_height": null,
            "max_width": null,
            "min_height": null,
            "min_width": null,
            "object_fit": null,
            "object_position": null,
            "order": null,
            "overflow": null,
            "overflow_x": null,
            "overflow_y": null,
            "padding": null,
            "right": null,
            "top": null,
            "visibility": null,
            "width": null
          }
        },
        "7ea5a8fb061947d7b56813c2769103e3": {
          "model_module": "@jupyter-widgets/controls",
          "model_name": "DescriptionStyleModel",
          "model_module_version": "1.5.0",
          "state": {
            "_model_module": "@jupyter-widgets/controls",
            "_model_module_version": "1.5.0",
            "_model_name": "DescriptionStyleModel",
            "_view_count": null,
            "_view_module": "@jupyter-widgets/base",
            "_view_module_version": "1.2.0",
            "_view_name": "StyleView",
            "description_width": ""
          }
        },
        "b8607d1e8d1d43b9a24c0c224eb46eca": {
          "model_module": "@jupyter-widgets/controls",
          "model_name": "HBoxModel",
          "model_module_version": "1.5.0",
          "state": {
            "_dom_classes": [],
            "_model_module": "@jupyter-widgets/controls",
            "_model_module_version": "1.5.0",
            "_model_name": "HBoxModel",
            "_view_count": null,
            "_view_module": "@jupyter-widgets/controls",
            "_view_module_version": "1.5.0",
            "_view_name": "HBoxView",
            "box_style": "",
            "children": [
              "IPY_MODEL_c74887a6632443c2a295e2fe893e61bb",
              "IPY_MODEL_8bbf7c2358ed43c6ae069d95cf44590d",
              "IPY_MODEL_9be82377605a4f7693d9d14b9cbfedef"
            ],
            "layout": "IPY_MODEL_e9ce019a7c1247cda47c348b124656f5"
          }
        },
        "c74887a6632443c2a295e2fe893e61bb": {
          "model_module": "@jupyter-widgets/controls",
          "model_name": "HTMLModel",
          "model_module_version": "1.5.0",
          "state": {
            "_dom_classes": [],
            "_model_module": "@jupyter-widgets/controls",
            "_model_module_version": "1.5.0",
            "_model_name": "HTMLModel",
            "_view_count": null,
            "_view_module": "@jupyter-widgets/controls",
            "_view_module_version": "1.5.0",
            "_view_name": "HTMLView",
            "description": "",
            "description_tooltip": null,
            "layout": "IPY_MODEL_ebabf5631d5e48c1b4b5c34981dbfcf2",
            "placeholder": "​",
            "style": "IPY_MODEL_308e747529544978b7cb3ad7a1ecafae",
            "value": "Filter:   0%"
          }
        },
        "8bbf7c2358ed43c6ae069d95cf44590d": {
          "model_module": "@jupyter-widgets/controls",
          "model_name": "FloatProgressModel",
          "model_module_version": "1.5.0",
          "state": {
            "_dom_classes": [],
            "_model_module": "@jupyter-widgets/controls",
            "_model_module_version": "1.5.0",
            "_model_name": "FloatProgressModel",
            "_view_count": null,
            "_view_module": "@jupyter-widgets/controls",
            "_view_module_version": "1.5.0",
            "_view_name": "ProgressView",
            "bar_style": "",
            "description": "",
            "description_tooltip": null,
            "layout": "IPY_MODEL_572aeb533cfd4937b3e4cb92f1fd56a0",
            "max": 158,
            "min": 0,
            "orientation": "horizontal",
            "style": "IPY_MODEL_7c605a8ff73d4fef9976330e73784264",
            "value": 158
          }
        },
        "9be82377605a4f7693d9d14b9cbfedef": {
          "model_module": "@jupyter-widgets/controls",
          "model_name": "HTMLModel",
          "model_module_version": "1.5.0",
          "state": {
            "_dom_classes": [],
            "_model_module": "@jupyter-widgets/controls",
            "_model_module_version": "1.5.0",
            "_model_name": "HTMLModel",
            "_view_count": null,
            "_view_module": "@jupyter-widgets/controls",
            "_view_module_version": "1.5.0",
            "_view_name": "HTMLView",
            "description": "",
            "description_tooltip": null,
            "layout": "IPY_MODEL_51938d5d58ab48f7ae4c182f1e69b5a5",
            "placeholder": "​",
            "style": "IPY_MODEL_2533ff47a7db4ca3951eeed70353e777",
            "value": " 0/158 [00:00&lt;?, ? examples/s]"
          }
        },
        "e9ce019a7c1247cda47c348b124656f5": {
          "model_module": "@jupyter-widgets/base",
          "model_name": "LayoutModel",
          "model_module_version": "1.2.0",
          "state": {
            "_model_module": "@jupyter-widgets/base",
            "_model_module_version": "1.2.0",
            "_model_name": "LayoutModel",
            "_view_count": null,
            "_view_module": "@jupyter-widgets/base",
            "_view_module_version": "1.2.0",
            "_view_name": "LayoutView",
            "align_content": null,
            "align_items": null,
            "align_self": null,
            "border": null,
            "bottom": null,
            "display": null,
            "flex": null,
            "flex_flow": null,
            "grid_area": null,
            "grid_auto_columns": null,
            "grid_auto_flow": null,
            "grid_auto_rows": null,
            "grid_column": null,
            "grid_gap": null,
            "grid_row": null,
            "grid_template_areas": null,
            "grid_template_columns": null,
            "grid_template_rows": null,
            "height": null,
            "justify_content": null,
            "justify_items": null,
            "left": null,
            "margin": null,
            "max_height": null,
            "max_width": null,
            "min_height": null,
            "min_width": null,
            "object_fit": null,
            "object_position": null,
            "order": null,
            "overflow": null,
            "overflow_x": null,
            "overflow_y": null,
            "padding": null,
            "right": null,
            "top": null,
            "visibility": "hidden",
            "width": null
          }
        },
        "ebabf5631d5e48c1b4b5c34981dbfcf2": {
          "model_module": "@jupyter-widgets/base",
          "model_name": "LayoutModel",
          "model_module_version": "1.2.0",
          "state": {
            "_model_module": "@jupyter-widgets/base",
            "_model_module_version": "1.2.0",
            "_model_name": "LayoutModel",
            "_view_count": null,
            "_view_module": "@jupyter-widgets/base",
            "_view_module_version": "1.2.0",
            "_view_name": "LayoutView",
            "align_content": null,
            "align_items": null,
            "align_self": null,
            "border": null,
            "bottom": null,
            "display": null,
            "flex": null,
            "flex_flow": null,
            "grid_area": null,
            "grid_auto_columns": null,
            "grid_auto_flow": null,
            "grid_auto_rows": null,
            "grid_column": null,
            "grid_gap": null,
            "grid_row": null,
            "grid_template_areas": null,
            "grid_template_columns": null,
            "grid_template_rows": null,
            "height": null,
            "justify_content": null,
            "justify_items": null,
            "left": null,
            "margin": null,
            "max_height": null,
            "max_width": null,
            "min_height": null,
            "min_width": null,
            "object_fit": null,
            "object_position": null,
            "order": null,
            "overflow": null,
            "overflow_x": null,
            "overflow_y": null,
            "padding": null,
            "right": null,
            "top": null,
            "visibility": null,
            "width": null
          }
        },
        "308e747529544978b7cb3ad7a1ecafae": {
          "model_module": "@jupyter-widgets/controls",
          "model_name": "DescriptionStyleModel",
          "model_module_version": "1.5.0",
          "state": {
            "_model_module": "@jupyter-widgets/controls",
            "_model_module_version": "1.5.0",
            "_model_name": "DescriptionStyleModel",
            "_view_count": null,
            "_view_module": "@jupyter-widgets/base",
            "_view_module_version": "1.2.0",
            "_view_name": "StyleView",
            "description_width": ""
          }
        },
        "572aeb533cfd4937b3e4cb92f1fd56a0": {
          "model_module": "@jupyter-widgets/base",
          "model_name": "LayoutModel",
          "model_module_version": "1.2.0",
          "state": {
            "_model_module": "@jupyter-widgets/base",
            "_model_module_version": "1.2.0",
            "_model_name": "LayoutModel",
            "_view_count": null,
            "_view_module": "@jupyter-widgets/base",
            "_view_module_version": "1.2.0",
            "_view_name": "LayoutView",
            "align_content": null,
            "align_items": null,
            "align_self": null,
            "border": null,
            "bottom": null,
            "display": null,
            "flex": null,
            "flex_flow": null,
            "grid_area": null,
            "grid_auto_columns": null,
            "grid_auto_flow": null,
            "grid_auto_rows": null,
            "grid_column": null,
            "grid_gap": null,
            "grid_row": null,
            "grid_template_areas": null,
            "grid_template_columns": null,
            "grid_template_rows": null,
            "height": null,
            "justify_content": null,
            "justify_items": null,
            "left": null,
            "margin": null,
            "max_height": null,
            "max_width": null,
            "min_height": null,
            "min_width": null,
            "object_fit": null,
            "object_position": null,
            "order": null,
            "overflow": null,
            "overflow_x": null,
            "overflow_y": null,
            "padding": null,
            "right": null,
            "top": null,
            "visibility": null,
            "width": null
          }
        },
        "7c605a8ff73d4fef9976330e73784264": {
          "model_module": "@jupyter-widgets/controls",
          "model_name": "ProgressStyleModel",
          "model_module_version": "1.5.0",
          "state": {
            "_model_module": "@jupyter-widgets/controls",
            "_model_module_version": "1.5.0",
            "_model_name": "ProgressStyleModel",
            "_view_count": null,
            "_view_module": "@jupyter-widgets/base",
            "_view_module_version": "1.2.0",
            "_view_name": "StyleView",
            "bar_color": null,
            "description_width": ""
          }
        },
        "51938d5d58ab48f7ae4c182f1e69b5a5": {
          "model_module": "@jupyter-widgets/base",
          "model_name": "LayoutModel",
          "model_module_version": "1.2.0",
          "state": {
            "_model_module": "@jupyter-widgets/base",
            "_model_module_version": "1.2.0",
            "_model_name": "LayoutModel",
            "_view_count": null,
            "_view_module": "@jupyter-widgets/base",
            "_view_module_version": "1.2.0",
            "_view_name": "LayoutView",
            "align_content": null,
            "align_items": null,
            "align_self": null,
            "border": null,
            "bottom": null,
            "display": null,
            "flex": null,
            "flex_flow": null,
            "grid_area": null,
            "grid_auto_columns": null,
            "grid_auto_flow": null,
            "grid_auto_rows": null,
            "grid_column": null,
            "grid_gap": null,
            "grid_row": null,
            "grid_template_areas": null,
            "grid_template_columns": null,
            "grid_template_rows": null,
            "height": null,
            "justify_content": null,
            "justify_items": null,
            "left": null,
            "margin": null,
            "max_height": null,
            "max_width": null,
            "min_height": null,
            "min_width": null,
            "object_fit": null,
            "object_position": null,
            "order": null,
            "overflow": null,
            "overflow_x": null,
            "overflow_y": null,
            "padding": null,
            "right": null,
            "top": null,
            "visibility": null,
            "width": null
          }
        },
        "2533ff47a7db4ca3951eeed70353e777": {
          "model_module": "@jupyter-widgets/controls",
          "model_name": "DescriptionStyleModel",
          "model_module_version": "1.5.0",
          "state": {
            "_model_module": "@jupyter-widgets/controls",
            "_model_module_version": "1.5.0",
            "_model_name": "DescriptionStyleModel",
            "_view_count": null,
            "_view_module": "@jupyter-widgets/base",
            "_view_module_version": "1.2.0",
            "_view_name": "StyleView",
            "description_width": ""
          }
        }
      }
    }
  },
  "cells": [
    {
      "cell_type": "markdown",
      "source": [
        "# Link to this colab notebook.\n",
        "https://drive.google.com/file/d/1x30tnpI20lVzQtJStAj0dG4y8oxWIBw-/view?usp=sharing"
      ],
      "metadata": {
        "id": "e2Lt8jTnvIPr"
      }
    },
    {
      "cell_type": "markdown",
      "source": [
        "# Methods"
      ],
      "metadata": {
        "id": "0pFtc2OAUCNS"
      }
    },
    {
      "cell_type": "markdown",
      "source": [
        "This is a transformer model that embeds text and audio into the same space. It has encoder-decoder structure. The model encodes the input text and audio data and try to reconstruct the audio based on an additional embedding input information in the decoder half of the model.\n",
        "\n",
        "\n",
        "Here is the procedures that we have followed:\n",
        "\n",
        "1. Collect/clean the data\n",
        "2. Store on Google Drive\n",
        "3. Load all the files with their corresponding text\n",
        "4. Process data for VoxCeleb\n",
        "5. Create embeddings using VoxCeleb\n",
        "6. Fine-tune pre-trained SpeechT5 on audio files with text\n",
        "and speaker embeddings\n",
        "7. Create audio samples and test for authenticity in respect\n",
        "to the original voice\n"
      ],
      "metadata": {
        "id": "12-We821UEIT"
      }
    },
    {
      "cell_type": "markdown",
      "source": [
        "# Libraries"
      ],
      "metadata": {
        "id": "41JES9at8f6p"
      }
    },
    {
      "cell_type": "code",
      "source": [
        "# Install pydub, speechbrain, datasets\n",
        "! pip install pydub speechbrain datasets"
      ],
      "metadata": {
        "colab": {
          "base_uri": "https://localhost:8080/"
        },
        "id": "MS3VBCnJY7BJ",
        "outputId": "6f8f9290-0d11-4a92-d21a-1301e992b543"
      },
      "execution_count": null,
      "outputs": [
        {
          "output_type": "stream",
          "name": "stdout",
          "text": [
            "Collecting pydub\n",
            "  Downloading pydub-0.25.1-py2.py3-none-any.whl (32 kB)\n",
            "Collecting speechbrain\n",
            "  Downloading speechbrain-0.5.14-py3-none-any.whl (519 kB)\n",
            "\u001b[2K     \u001b[90m━━━━━━━━━━━━━━━━━━━━━━━━━━━━━━━━━━━━━━━\u001b[0m \u001b[32m519.0/519.0 kB\u001b[0m \u001b[31m8.4 MB/s\u001b[0m eta \u001b[36m0:00:00\u001b[0m\n",
            "\u001b[?25hCollecting datasets\n",
            "  Downloading datasets-2.13.1-py3-none-any.whl (486 kB)\n",
            "\u001b[2K     \u001b[90m━━━━━━━━━━━━━━━━━━━━━━━━━━━━━━━━━━━━━━\u001b[0m \u001b[32m486.2/486.2 kB\u001b[0m \u001b[31m32.0 MB/s\u001b[0m eta \u001b[36m0:00:00\u001b[0m\n",
            "\u001b[?25hCollecting hyperpyyaml (from speechbrain)\n",
            "  Downloading HyperPyYAML-1.2.1-py3-none-any.whl (16 kB)\n",
            "Requirement already satisfied: joblib in /usr/local/lib/python3.10/dist-packages (from speechbrain) (1.2.0)\n",
            "Requirement already satisfied: numpy in /usr/local/lib/python3.10/dist-packages (from speechbrain) (1.22.4)\n",
            "Requirement already satisfied: packaging in /usr/local/lib/python3.10/dist-packages (from speechbrain) (23.1)\n",
            "Requirement already satisfied: scipy in /usr/local/lib/python3.10/dist-packages (from speechbrain) (1.10.1)\n",
            "Collecting sentencepiece (from speechbrain)\n",
            "  Downloading sentencepiece-0.1.99-cp310-cp310-manylinux_2_17_x86_64.manylinux2014_x86_64.whl (1.3 MB)\n",
            "\u001b[2K     \u001b[90m━━━━━━━━━━━━━━━━━━━━━━━━━━━━━━━━━━━━━━━━\u001b[0m \u001b[32m1.3/1.3 MB\u001b[0m \u001b[31m36.4 MB/s\u001b[0m eta \u001b[36m0:00:00\u001b[0m\n",
            "\u001b[?25hRequirement already satisfied: torch>=1.9 in /usr/local/lib/python3.10/dist-packages (from speechbrain) (2.0.1+cu118)\n",
            "Requirement already satisfied: torchaudio in /usr/local/lib/python3.10/dist-packages (from speechbrain) (2.0.2+cu118)\n",
            "Requirement already satisfied: tqdm in /usr/local/lib/python3.10/dist-packages (from speechbrain) (4.65.0)\n",
            "Collecting huggingface-hub (from speechbrain)\n",
            "  Downloading huggingface_hub-0.15.1-py3-none-any.whl (236 kB)\n",
            "\u001b[2K     \u001b[90m━━━━━━━━━━━━━━━━━━━━━━━━━━━━━━━━━━━━━━\u001b[0m \u001b[32m236.8/236.8 kB\u001b[0m \u001b[31m29.3 MB/s\u001b[0m eta \u001b[36m0:00:00\u001b[0m\n",
            "\u001b[?25hRequirement already satisfied: pyarrow>=8.0.0 in /usr/local/lib/python3.10/dist-packages (from datasets) (9.0.0)\n",
            "Collecting dill<0.3.7,>=0.3.0 (from datasets)\n",
            "  Downloading dill-0.3.6-py3-none-any.whl (110 kB)\n",
            "\u001b[2K     \u001b[90m━━━━━━━━━━━━━━━━━━━━━━━━━━━━━━━━━━━━━━\u001b[0m \u001b[32m110.5/110.5 kB\u001b[0m \u001b[31m15.9 MB/s\u001b[0m eta \u001b[36m0:00:00\u001b[0m\n",
            "\u001b[?25hRequirement already satisfied: pandas in /usr/local/lib/python3.10/dist-packages (from datasets) (1.5.3)\n",
            "Requirement already satisfied: requests>=2.19.0 in /usr/local/lib/python3.10/dist-packages (from datasets) (2.27.1)\n",
            "Collecting xxhash (from datasets)\n",
            "  Downloading xxhash-3.2.0-cp310-cp310-manylinux_2_17_x86_64.manylinux2014_x86_64.whl (212 kB)\n",
            "\u001b[2K     \u001b[90m━━━━━━━━━━━━━━━━━━━━━━━━━━━━━━━━━━━━━━\u001b[0m \u001b[32m212.5/212.5 kB\u001b[0m \u001b[31m27.4 MB/s\u001b[0m eta \u001b[36m0:00:00\u001b[0m\n",
            "\u001b[?25hCollecting multiprocess (from datasets)\n",
            "  Downloading multiprocess-0.70.14-py310-none-any.whl (134 kB)\n",
            "\u001b[2K     \u001b[90m━━━━━━━━━━━━━━━━━━━━━━━━━━━━━━━━━━━━━━\u001b[0m \u001b[32m134.3/134.3 kB\u001b[0m \u001b[31m17.8 MB/s\u001b[0m eta \u001b[36m0:00:00\u001b[0m\n",
            "\u001b[?25hRequirement already satisfied: fsspec[http]>=2021.11.1 in /usr/local/lib/python3.10/dist-packages (from datasets) (2023.6.0)\n",
            "Requirement already satisfied: aiohttp in /usr/local/lib/python3.10/dist-packages (from datasets) (3.8.4)\n",
            "Requirement already satisfied: pyyaml>=5.1 in /usr/local/lib/python3.10/dist-packages (from datasets) (6.0)\n",
            "Requirement already satisfied: attrs>=17.3.0 in /usr/local/lib/python3.10/dist-packages (from aiohttp->datasets) (23.1.0)\n",
            "Requirement already satisfied: charset-normalizer<4.0,>=2.0 in /usr/local/lib/python3.10/dist-packages (from aiohttp->datasets) (2.0.12)\n",
            "Requirement already satisfied: multidict<7.0,>=4.5 in /usr/local/lib/python3.10/dist-packages (from aiohttp->datasets) (6.0.4)\n",
            "Requirement already satisfied: async-timeout<5.0,>=4.0.0a3 in /usr/local/lib/python3.10/dist-packages (from aiohttp->datasets) (4.0.2)\n",
            "Requirement already satisfied: yarl<2.0,>=1.0 in /usr/local/lib/python3.10/dist-packages (from aiohttp->datasets) (1.9.2)\n",
            "Requirement already satisfied: frozenlist>=1.1.1 in /usr/local/lib/python3.10/dist-packages (from aiohttp->datasets) (1.3.3)\n",
            "Requirement already satisfied: aiosignal>=1.1.2 in /usr/local/lib/python3.10/dist-packages (from aiohttp->datasets) (1.3.1)\n",
            "Requirement already satisfied: filelock in /usr/local/lib/python3.10/dist-packages (from huggingface-hub->speechbrain) (3.12.2)\n",
            "Requirement already satisfied: typing-extensions>=3.7.4.3 in /usr/local/lib/python3.10/dist-packages (from huggingface-hub->speechbrain) (4.6.3)\n",
            "Requirement already satisfied: urllib3<1.27,>=1.21.1 in /usr/local/lib/python3.10/dist-packages (from requests>=2.19.0->datasets) (1.26.16)\n",
            "Requirement already satisfied: certifi>=2017.4.17 in /usr/local/lib/python3.10/dist-packages (from requests>=2.19.0->datasets) (2023.5.7)\n",
            "Requirement already satisfied: idna<4,>=2.5 in /usr/local/lib/python3.10/dist-packages (from requests>=2.19.0->datasets) (3.4)\n",
            "Requirement already satisfied: sympy in /usr/local/lib/python3.10/dist-packages (from torch>=1.9->speechbrain) (1.11.1)\n",
            "Requirement already satisfied: networkx in /usr/local/lib/python3.10/dist-packages (from torch>=1.9->speechbrain) (3.1)\n",
            "Requirement already satisfied: jinja2 in /usr/local/lib/python3.10/dist-packages (from torch>=1.9->speechbrain) (3.1.2)\n",
            "Requirement already satisfied: triton==2.0.0 in /usr/local/lib/python3.10/dist-packages (from torch>=1.9->speechbrain) (2.0.0)\n",
            "Requirement already satisfied: cmake in /usr/local/lib/python3.10/dist-packages (from triton==2.0.0->torch>=1.9->speechbrain) (3.25.2)\n",
            "Requirement already satisfied: lit in /usr/local/lib/python3.10/dist-packages (from triton==2.0.0->torch>=1.9->speechbrain) (16.0.6)\n",
            "Collecting ruamel.yaml<=0.17.28,>=0.17.8 (from hyperpyyaml->speechbrain)\n",
            "  Downloading ruamel.yaml-0.17.28-py3-none-any.whl (109 kB)\n",
            "\u001b[2K     \u001b[90m━━━━━━━━━━━━━━━━━━━━━━━━━━━━━━━━━━━━━━\u001b[0m \u001b[32m109.6/109.6 kB\u001b[0m \u001b[31m14.9 MB/s\u001b[0m eta \u001b[36m0:00:00\u001b[0m\n",
            "\u001b[?25hRequirement already satisfied: python-dateutil>=2.8.1 in /usr/local/lib/python3.10/dist-packages (from pandas->datasets) (2.8.2)\n",
            "Requirement already satisfied: pytz>=2020.1 in /usr/local/lib/python3.10/dist-packages (from pandas->datasets) (2022.7.1)\n",
            "Requirement already satisfied: six>=1.5 in /usr/local/lib/python3.10/dist-packages (from python-dateutil>=2.8.1->pandas->datasets) (1.16.0)\n",
            "Collecting ruamel.yaml.clib>=0.2.7 (from ruamel.yaml<=0.17.28,>=0.17.8->hyperpyyaml->speechbrain)\n",
            "  Downloading ruamel.yaml.clib-0.2.7-cp310-cp310-manylinux_2_17_x86_64.manylinux2014_x86_64.manylinux_2_24_x86_64.whl (485 kB)\n",
            "\u001b[2K     \u001b[90m━━━━━━━━━━━━━━━━━━━━━━━━━━━━━━━━━━━━━━\u001b[0m \u001b[32m485.6/485.6 kB\u001b[0m \u001b[31m46.6 MB/s\u001b[0m eta \u001b[36m0:00:00\u001b[0m\n",
            "\u001b[?25hRequirement already satisfied: MarkupSafe>=2.0 in /usr/local/lib/python3.10/dist-packages (from jinja2->torch>=1.9->speechbrain) (2.1.3)\n",
            "Requirement already satisfied: mpmath>=0.19 in /usr/local/lib/python3.10/dist-packages (from sympy->torch>=1.9->speechbrain) (1.3.0)\n",
            "Installing collected packages: sentencepiece, pydub, xxhash, ruamel.yaml.clib, dill, ruamel.yaml, multiprocess, huggingface-hub, hyperpyyaml, datasets, speechbrain\n",
            "Successfully installed datasets-2.13.1 dill-0.3.6 huggingface-hub-0.15.1 hyperpyyaml-1.2.1 multiprocess-0.70.14 pydub-0.25.1 ruamel.yaml-0.17.28 ruamel.yaml.clib-0.2.7 sentencepiece-0.1.99 speechbrain-0.5.14 xxhash-3.2.0\n"
          ]
        }
      ]
    },
    {
      "cell_type": "code",
      "source": [
        "! pip install transformers[torch]"
      ],
      "metadata": {
        "colab": {
          "base_uri": "https://localhost:8080/"
        },
        "id": "8JpBgAdDcvOB",
        "outputId": "2b220e00-e370-47a4-803e-526d1fe31f61"
      },
      "execution_count": null,
      "outputs": [
        {
          "output_type": "stream",
          "name": "stdout",
          "text": [
            "Collecting transformers[torch]\n",
            "  Downloading transformers-4.30.2-py3-none-any.whl (7.2 MB)\n",
            "\u001b[2K     \u001b[90m━━━━━━━━━━━━━━━━━━━━━━━━━━━━━━━━━━━━━━━━\u001b[0m \u001b[32m7.2/7.2 MB\u001b[0m \u001b[31m59.1 MB/s\u001b[0m eta \u001b[36m0:00:00\u001b[0m\n",
            "\u001b[?25hRequirement already satisfied: filelock in /usr/local/lib/python3.10/dist-packages (from transformers[torch]) (3.12.2)\n",
            "Requirement already satisfied: huggingface-hub<1.0,>=0.14.1 in /usr/local/lib/python3.10/dist-packages (from transformers[torch]) (0.15.1)\n",
            "Requirement already satisfied: numpy>=1.17 in /usr/local/lib/python3.10/dist-packages (from transformers[torch]) (1.22.4)\n",
            "Requirement already satisfied: packaging>=20.0 in /usr/local/lib/python3.10/dist-packages (from transformers[torch]) (23.1)\n",
            "Requirement already satisfied: pyyaml>=5.1 in /usr/local/lib/python3.10/dist-packages (from transformers[torch]) (6.0)\n",
            "Requirement already satisfied: regex!=2019.12.17 in /usr/local/lib/python3.10/dist-packages (from transformers[torch]) (2022.10.31)\n",
            "Requirement already satisfied: requests in /usr/local/lib/python3.10/dist-packages (from transformers[torch]) (2.27.1)\n",
            "Collecting tokenizers!=0.11.3,<0.14,>=0.11.1 (from transformers[torch])\n",
            "  Downloading tokenizers-0.13.3-cp310-cp310-manylinux_2_17_x86_64.manylinux2014_x86_64.whl (7.8 MB)\n",
            "\u001b[2K     \u001b[90m━━━━━━━━━━━━━━━━━━━━━━━━━━━━━━━━━━━━━━━━\u001b[0m \u001b[32m7.8/7.8 MB\u001b[0m \u001b[31m112.1 MB/s\u001b[0m eta \u001b[36m0:00:00\u001b[0m\n",
            "\u001b[?25hCollecting safetensors>=0.3.1 (from transformers[torch])\n",
            "  Downloading safetensors-0.3.1-cp310-cp310-manylinux_2_17_x86_64.manylinux2014_x86_64.whl (1.3 MB)\n",
            "\u001b[2K     \u001b[90m━━━━━━━━━━━━━━━━━━━━━━━━━━━━━━━━━━━━━━━━\u001b[0m \u001b[32m1.3/1.3 MB\u001b[0m \u001b[31m86.2 MB/s\u001b[0m eta \u001b[36m0:00:00\u001b[0m\n",
            "\u001b[?25hRequirement already satisfied: tqdm>=4.27 in /usr/local/lib/python3.10/dist-packages (from transformers[torch]) (4.65.0)\n",
            "Requirement already satisfied: torch!=1.12.0,>=1.9 in /usr/local/lib/python3.10/dist-packages (from transformers[torch]) (2.0.1+cu118)\n",
            "Collecting accelerate>=0.20.2 (from transformers[torch])\n",
            "  Downloading accelerate-0.20.3-py3-none-any.whl (227 kB)\n",
            "\u001b[2K     \u001b[90m━━━━━━━━━━━━━━━━━━━━━━━━━━━━━━━━━━━━━━\u001b[0m \u001b[32m227.6/227.6 kB\u001b[0m \u001b[31m30.8 MB/s\u001b[0m eta \u001b[36m0:00:00\u001b[0m\n",
            "\u001b[?25hRequirement already satisfied: psutil in /usr/local/lib/python3.10/dist-packages (from accelerate>=0.20.2->transformers[torch]) (5.9.5)\n",
            "Requirement already satisfied: fsspec in /usr/local/lib/python3.10/dist-packages (from huggingface-hub<1.0,>=0.14.1->transformers[torch]) (2023.6.0)\n",
            "Requirement already satisfied: typing-extensions>=3.7.4.3 in /usr/local/lib/python3.10/dist-packages (from huggingface-hub<1.0,>=0.14.1->transformers[torch]) (4.6.3)\n",
            "Requirement already satisfied: sympy in /usr/local/lib/python3.10/dist-packages (from torch!=1.12.0,>=1.9->transformers[torch]) (1.11.1)\n",
            "Requirement already satisfied: networkx in /usr/local/lib/python3.10/dist-packages (from torch!=1.12.0,>=1.9->transformers[torch]) (3.1)\n",
            "Requirement already satisfied: jinja2 in /usr/local/lib/python3.10/dist-packages (from torch!=1.12.0,>=1.9->transformers[torch]) (3.1.2)\n",
            "Requirement already satisfied: triton==2.0.0 in /usr/local/lib/python3.10/dist-packages (from torch!=1.12.0,>=1.9->transformers[torch]) (2.0.0)\n",
            "Requirement already satisfied: cmake in /usr/local/lib/python3.10/dist-packages (from triton==2.0.0->torch!=1.12.0,>=1.9->transformers[torch]) (3.25.2)\n",
            "Requirement already satisfied: lit in /usr/local/lib/python3.10/dist-packages (from triton==2.0.0->torch!=1.12.0,>=1.9->transformers[torch]) (16.0.6)\n",
            "Requirement already satisfied: urllib3<1.27,>=1.21.1 in /usr/local/lib/python3.10/dist-packages (from requests->transformers[torch]) (1.26.16)\n",
            "Requirement already satisfied: certifi>=2017.4.17 in /usr/local/lib/python3.10/dist-packages (from requests->transformers[torch]) (2023.5.7)\n",
            "Requirement already satisfied: charset-normalizer~=2.0.0 in /usr/local/lib/python3.10/dist-packages (from requests->transformers[torch]) (2.0.12)\n",
            "Requirement already satisfied: idna<4,>=2.5 in /usr/local/lib/python3.10/dist-packages (from requests->transformers[torch]) (3.4)\n",
            "Requirement already satisfied: MarkupSafe>=2.0 in /usr/local/lib/python3.10/dist-packages (from jinja2->torch!=1.12.0,>=1.9->transformers[torch]) (2.1.3)\n",
            "Requirement already satisfied: mpmath>=0.19 in /usr/local/lib/python3.10/dist-packages (from sympy->torch!=1.12.0,>=1.9->transformers[torch]) (1.3.0)\n",
            "Installing collected packages: tokenizers, safetensors, transformers, accelerate\n",
            "Successfully installed accelerate-0.20.3 safetensors-0.3.1 tokenizers-0.13.3 transformers-4.30.2\n"
          ]
        }
      ]
    },
    {
      "cell_type": "code",
      "source": [
        "# Mount to google drive\n",
        "from google.colab import drive\n",
        "drive.mount('/content/drive', force_remount=True)\n",
        "PATH = 'drive/MyDrive/College/USF/Deep_Learning_Mustafa/Project'\n",
        "PATH_2 = PATH + '/sam_jackson_wav/iteration_2'"
      ],
      "metadata": {
        "colab": {
          "base_uri": "https://localhost:8080/"
        },
        "id": "q73S9OIRf0ai",
        "outputId": "ad860e78-91b7-42a8-d8d0-1c1716e4be03"
      },
      "execution_count": null,
      "outputs": [
        {
          "output_type": "stream",
          "name": "stdout",
          "text": [
            "Mounted at /content/drive\n"
          ]
        }
      ]
    },
    {
      "cell_type": "code",
      "execution_count": null,
      "metadata": {
        "id": "pg8nr63OcS1V"
      },
      "outputs": [],
      "source": [
        "# Import libraries\n",
        "import os\n",
        "import pickle\n",
        "\n",
        "import numpy as np\n",
        "import pandas as pd\n",
        "import scipy.io.wavfile as wav\n",
        "from scipy import signal\n",
        "from collections import defaultdict\n",
        "import matplotlib.pyplot as plt\n",
        "from tqdm.notebook import tqdm\n",
        "\n",
        "import torch\n",
        "import torchaudio\n",
        "import soundfile as sf\n",
        "# import noisereduce as nr\n",
        "from pydub import AudioSegment, effects\n",
        "\n",
        "from speechbrain.pretrained import EncoderClassifier\n",
        "\n",
        "from datasets import Dataset\n",
        "from transformers import SpeechT5Processor, SpeechT5ForSpeechToSpeech, SpeechT5HifiGan\n",
        "from transformers import SpeechT5Processor, SpeechT5ForTextToSpeech\n",
        "import accelerate"
      ]
    },
    {
      "cell_type": "markdown",
      "source": [
        "# Data Preprocessing"
      ],
      "metadata": {
        "id": "6rv4PpFT8kSz"
      }
    },
    {
      "cell_type": "markdown",
      "source": [
        "Our model was trained on Samuel Jackson's Sound Clips. Both audio and text transcription are involved. We gathered 158 pieces of Samuel Jackson's sound recording of various length. Then, these recordings were cast into wav file of 16000 Hz sampling rate and 1 channel. The sound files were represented by array of audio amplitudes for the model to use. The texts are transcribed by the team members. Texts are stored into dictionaries with keys being the sounds file name and values being the transcription text to allow convenient look up."
      ],
      "metadata": {
        "id": "zNEefiIMPYq2"
      }
    },
    {
      "cell_type": "code",
      "source": [
        "def change_sample_rate(wav_file, sr=16000):\n",
        "    # Import wav file\n",
        "    audio = AudioSegment.from_file(wav_file)\n",
        "\n",
        "    # Change to desired sample rate and channels\n",
        "    audio = audio.set_frame_rate(sr)\n",
        "    audio = audio.set_channels(1)\n",
        "    audio = effects.normalize(audio)\n",
        "\n",
        "    # Export new wav file\n",
        "    audio.export(wav_file, format='wav')"
      ],
      "metadata": {
        "id": "pgizG_T0dotI"
      },
      "execution_count": null,
      "outputs": []
    },
    {
      "cell_type": "code",
      "source": [
        "def clean_audio_numbered(m4a_file_path, wav_path):\n",
        "    files = [x for x in os.walk(mda_file_path)][0][2:][0]\n",
        "    paths = [mda_file_path + \"/\" + x for x in files]\n",
        "    paths.remove(f\"{mda_file_path}/.DS_Store\")\n",
        "    names = [x[:-4] + \"_adam.wav\" for x in files]\n",
        "    names.remove(\".DS_S_adam.wav\")\n",
        "\n",
        "    # Make dict which maps files to text index\n",
        "    dict_text = dict()\n",
        "    for x in names:\n",
        "        dict_text[int(x[:-9])] = x\n",
        "\n",
        "    # load transcripts in\n",
        "    with open(\"sj_quotes.txt\") as f:\n",
        "        sj_quotes = f.read().split('\\n')\n",
        "\n",
        "    dict_sj_quotes = dict()\n",
        "\n",
        "    # convert dict_text to {wav_file_name: quote}\n",
        "    for i in range(len(sj_quotes)):\n",
        "        dict_sj_quotes[dict_text[i+1]]= sj_quotes[i]\n",
        "\n",
        "    # save to pickle\n",
        "    with open(\"adam_dict.pkl\", 'wb') as file:\n",
        "        pickle.dump(dict_sj_quotes, file)\n",
        "\n",
        "    # make wav directory\n",
        "    old_dir = os.getcwd()\n",
        "    if not os.path.exists(path):\n",
        "        # Create the directory\n",
        "        os.makedirs(wav_path)\n",
        "        os.chdir(wav_path)\n",
        "    else:\n",
        "        os.chdir(wav_path)\n",
        "    # export as wav\n",
        "    for i in range(len(paths)):\n",
        "        # read audio in\n",
        "        song = AudioSegment.from_file(paths[i])\n",
        "\n",
        "        # set frame rate and number of channels readed by model\n",
        "        song = song.set_frame_rate(16000)\n",
        "        song = song.set_channels(1)\n",
        "        song = effects.normalize(audio)\n",
        "\n",
        "        # export as wav\n",
        "        song.export(names[i],format=\"wav\")\n",
        "        print(names[i])\n",
        "\n",
        "    #change back to orginal dir\n",
        "    os.chdir(old_dir)"
      ],
      "metadata": {
        "id": "oPqRcvLEnN-V"
      },
      "execution_count": null,
      "outputs": []
    },
    {
      "cell_type": "code",
      "source": [
        "# Mount the google drive\n",
        "from google.colab import drive\n",
        "drive.mount('/content/drive', force_remount=True)"
      ],
      "metadata": {
        "colab": {
          "base_uri": "https://localhost:8080/"
        },
        "id": "tcWO_JAAZhC-",
        "outputId": "a713cbc9-531e-4092-9cda-cfd4192fecc5"
      },
      "execution_count": null,
      "outputs": [
        {
          "output_type": "stream",
          "name": "stdout",
          "text": [
            "Mounted at /content/drive\n"
          ]
        }
      ]
    },
    {
      "cell_type": "code",
      "source": [
        "#PATH = 'drive/MyDrive/College/USF/Deep_Learning_Mustafa/Project'\n",
        "sam_PATH = PATH + '/sam_jackson_wav/processed'\n",
        "sam_PATH2 = PATH + '/sam_jackson_wav/iteration_3'\n",
        "#our_PATH = PATH + '/our_speech'\n",
        "dan_PATH = PATH_2 + '/Daniel'\n",
        "yusong_PATH = PATH_2 + '/Yusong'\n",
        "adam_PATH = PATH_2 + '/Adam'"
      ],
      "metadata": {
        "id": "zHN8RBEFaUFn"
      },
      "execution_count": null,
      "outputs": []
    },
    {
      "cell_type": "code",
      "source": [
        "# Collect the sound files paths from the first 39 examples.\n",
        "samfiles = []\n",
        "for file in os.listdir(sam_PATH):\n",
        "  if os.path.isfile(os.path.join(sam_PATH, file)):\n",
        "    samfiles.append([sam_PATH + '/' + file,0])"
      ],
      "metadata": {
        "id": "g2w4xJl4abfo"
      },
      "execution_count": null,
      "outputs": []
    },
    {
      "cell_type": "code",
      "source": [
        "from drive.MyDrive.College.USF.Deep_Learning_Mustafa.Project.sam_jackson_wav.processed.sam_text.sam_text import sam2text"
      ],
      "metadata": {
        "id": "uS7kc0wob3Wn"
      },
      "execution_count": null,
      "outputs": []
    },
    {
      "cell_type": "code",
      "source": [
        "# Collect the sound files paths from the iteration 2 and iteration 3 examples.\n",
        "allfiles = []\n",
        "for file_name in os.listdir(adam_PATH):\n",
        "    if os.path.isfile(os.path.join(adam_PATH, file_name)):\n",
        "        # Process the file\n",
        "        allfiles.append([adam_PATH + '/' + file_name, 0])\n",
        "\n",
        "for file_name in os.listdir(dan_PATH):\n",
        "    if os.path.isfile(os.path.join(dan_PATH, file_name)):\n",
        "        # Process the file\n",
        "        allfiles.append([dan_PATH + '/' + file_name, 0])\n",
        "\n",
        "for file_name in os.listdir(yusong_PATH):\n",
        "    if os.path.isfile(os.path.join(yusong_PATH, file_name)):\n",
        "        # Process the file\n",
        "        allfiles.append([yusong_PATH + '/' + file_name, 0])\n",
        "\n",
        "for file_name in os.listdir(sam_PATH2):\n",
        "    if os.path.isfile(os.path.join(sam_PATH2, file_name)):\n",
        "        # Process the file\n",
        "        allfiles.append([sam_PATH2 + '/' + file_name, 0])\n"
      ],
      "metadata": {
        "id": "HUtqvisuglIh"
      },
      "execution_count": null,
      "outputs": []
    },
    {
      "cell_type": "code",
      "source": [
        "# load all the wave file to text mapping dictionary\n",
        "import pickle\n",
        "\n",
        "with open(adam_PATH + '/text/iter2_dict.pkl', 'rb') as f:\n",
        "  adam2text = pickle.load(f)\n",
        "\n",
        "with open(yusong_PATH + '/text/transcription.pkl', 'rb') as f:\n",
        "  yusong2text = pickle.load(f)\n",
        "\n",
        "with open(dan_PATH + '/text/sam_dict2.pkl', 'rb') as f:\n",
        "  dan2text = pickle.load(f)\n",
        "\n",
        "with open(sam_PATH2 + '/text/sam_dict3.pkl', 'rb') as f:\n",
        "  sam2_2text = pickle.load(f)"
      ],
      "metadata": {
        "id": "i_MlxRtOrI-T"
      },
      "execution_count": null,
      "outputs": []
    },
    {
      "cell_type": "code",
      "source": [
        "# Combine all the wave file to texts mapping dictionaries\n",
        "sam2text.update(adam2text)\n",
        "sam2text.update(yusong2text)\n",
        "sam2text.update(dan2text)\n",
        "sam2text.update(sam2_2text)"
      ],
      "metadata": {
        "id": "aBj6xqPn0EqV"
      },
      "execution_count": null,
      "outputs": []
    },
    {
      "cell_type": "code",
      "source": [
        "len(allfiles), len(samfiles)"
      ],
      "metadata": {
        "colab": {
          "base_uri": "https://localhost:8080/"
        },
        "id": "mL9qaRoy2qWg",
        "outputId": "d1d1e8c9-8066-48ad-8fb7-fd8f48faeab6"
      },
      "execution_count": null,
      "outputs": [
        {
          "output_type": "execute_result",
          "data": {
            "text/plain": [
              "(119, 39)"
            ]
          },
          "metadata": {},
          "execution_count": 14
        }
      ]
    },
    {
      "cell_type": "code",
      "source": [
        "print(len(samfiles)),len(allfiles)\n",
        "samfiles += allfiles\n",
        "print(len(samfiles))"
      ],
      "metadata": {
        "colab": {
          "base_uri": "https://localhost:8080/"
        },
        "id": "4dZPI5w11b81",
        "outputId": "2bac4957-a6b0-40b5-bc1b-13f4dcdaa63f"
      },
      "execution_count": null,
      "outputs": [
        {
          "output_type": "stream",
          "name": "stdout",
          "text": [
            "39\n",
            "158\n"
          ]
        }
      ]
    },
    {
      "cell_type": "code",
      "source": [
        "sam_data = [{'text': sam2text[os.path.basename(file[0])], 'audio': wav.read(file[0])[1], 'speaker_id': 0} for file in samfiles]\n",
        "#our_data = [{'text': sam2text[os.path.basename(file[0])], 'audio': wav.read(file[0])[1], 'speaker_id': file[1]} for file in allfiles]\n",
        "\n",
        "\n",
        "\n",
        "# df = pd.DataFrame(data)\n",
        "# dataset = Dataset.from_pandas(df)"
      ],
      "metadata": {
        "id": "zCW7EEe8wNDC"
      },
      "execution_count": null,
      "outputs": []
    },
    {
      "cell_type": "code",
      "source": [
        "type(our_data[0][\"audio\"])"
      ],
      "metadata": {
        "colab": {
          "base_uri": "https://localhost:8080/"
        },
        "id": "t_-sGxGSYXtG",
        "outputId": "c7422cbe-ebde-49e6-e7aa-aeb5a5fc1781"
      },
      "execution_count": null,
      "outputs": [
        {
          "output_type": "execute_result",
          "data": {
            "text/plain": [
              "numpy.ndarray"
            ]
          },
          "metadata": {},
          "execution_count": 142
        }
      ]
    },
    {
      "cell_type": "code",
      "source": [
        "#data = sam_data + our_data"
      ],
      "metadata": {
        "id": "5A-ntFS52MlM"
      },
      "execution_count": null,
      "outputs": []
    },
    {
      "cell_type": "code",
      "source": [
        "df = pd.DataFrame(sam_data)\n",
        "dataset = Dataset.from_pandas(df)"
      ],
      "metadata": {
        "id": "lldi-6792gEs"
      },
      "execution_count": null,
      "outputs": []
    },
    {
      "cell_type": "code",
      "source": [
        "print(dataset)"
      ],
      "metadata": {
        "colab": {
          "base_uri": "https://localhost:8080/"
        },
        "id": "KJjzvs2w2wmv",
        "outputId": "6be9bc9e-89b7-4e38-b60b-8da7d33bc3b8"
      },
      "execution_count": null,
      "outputs": [
        {
          "output_type": "stream",
          "name": "stdout",
          "text": [
            "Dataset({\n",
            "    features: ['text', 'audio', 'speaker_id'],\n",
            "    num_rows: 158\n",
            "})\n"
          ]
        }
      ]
    },
    {
      "cell_type": "code",
      "source": [
        "# Save the dataset as pickle\n",
        "with open(PATH + '/sam_dataset_iter3.pkl', 'wb') as f:\n",
        "   pickle.dump(dataset, f)"
      ],
      "metadata": {
        "id": "uXUXr4lu20Mc"
      },
      "execution_count": null,
      "outputs": []
    },
    {
      "cell_type": "code",
      "source": [
        "# loading in dataset，from the provided pickle file as dataset.\n",
        "with open(PATH + '/sam_dataset_iter3.pkl', 'rb') as f:\n",
        "  dataset = pickle.load(f)"
      ],
      "metadata": {
        "id": "NJ5yrqNu3OoP"
      },
      "execution_count": null,
      "outputs": []
    },
    {
      "cell_type": "code",
      "source": [
        "type(dataset[\"audio\"][0])"
      ],
      "metadata": {
        "id": "C_Ya6DEm3e8u",
        "outputId": "696d14cb-b07d-48c8-ca52-6c116384490f",
        "colab": {
          "base_uri": "https://localhost:8080/"
        }
      },
      "execution_count": null,
      "outputs": [
        {
          "output_type": "execute_result",
          "data": {
            "text/plain": [
              "list"
            ]
          },
          "metadata": {},
          "execution_count": 190
        }
      ]
    },
    {
      "cell_type": "code",
      "source": [
        "# load base model from HuggingFace\n",
        "processor = SpeechT5Processor.from_pretrained(\"microsoft/speecht5_tts\")\n",
        "model = SpeechT5ForTextToSpeech.from_pretrained(\"microsoft/speecht5_tts\")"
      ],
      "metadata": {
        "id": "7Ef-QFhh8_4a",
        "colab": {
          "base_uri": "https://localhost:8080/",
          "height": 241,
          "referenced_widgets": [
            "524f7f21bc0c474bbfe0f15c95157fe3",
            "c2e34f99e3e241a1bc29f93100b79398",
            "ee2aaa94c66c4b19b36d757ebaecc562",
            "1079f05273c04170972e1ab90037b6d8",
            "b2ef095186fb437688919e54055952fc",
            "7be51feaa9a04ffe8083d8841739fb87",
            "eede1ee291124bfd9519dcf80232ef50",
            "55288355083841d48f05fb467f0c928c",
            "f879489116674aca8b3052a8e8206620",
            "d14fa0937b77415faac11c86216b7482",
            "09e329a7aade46928ce24ada42260d37",
            "bcd55d20594c4657bfa1f345b3110c2c",
            "55b1c447d5194300a3e4d4781627367a",
            "ef2b7628cfb44401802bfb29cf68394a",
            "8a95def357174e31891a4aaec0e6e8e1",
            "306d0429417d494eab669770bba7d866",
            "e22659e9726f47fbbf577f8faed84970",
            "794b3e568e694ad09576812748a74404",
            "7a1b63c224c149e8b0df39fcaf2e635b",
            "ba7c2914927b45deb9956fd4d1f0b477",
            "f82c9d2729c04f02918a7c00e6ac05e5",
            "5dc636f191704353ab8b53b5f21fa9a7",
            "c44d199780fd4c1ba8ec3141041eb05a",
            "588b99e17fb447efb5cfcb5da0cd61fb",
            "fb9d3b303fad4c6e8476e7229916a89d",
            "a50891755dd14b7bbaee62a6ea8caf86",
            "7295cce2963c4d908b2664798941b3dc",
            "433d23e43bef41089c6e4cd13e46d685",
            "b933dd316e634cf28e31baf88bd20fa8",
            "283641b9bc7c430c86a0effa5473ad8d",
            "4475b0be07c349b4a66ff556e5e5fabe",
            "1a8c0c74f1444b8fbf80a4f2b331c292",
            "1293cb0432ae46898f82de0f3b3cb743",
            "e7d0249febd9463ab721d63ade70e205",
            "0a8646c4d37f463e8bc8368c2f165179",
            "879d42a9c1fc4a0c9418c8e1a21111ef",
            "ead200feaac54d78a8a746fa7f0eb06c",
            "0a110f665fa242be886e87792618ec56",
            "fd234a74b74348ebb818bf44f6188e46",
            "ddd18c9137ad436686609a1caa0e0834",
            "65756b846e4e400ebd9a33fcb5a2ae31",
            "59929c0d38ca431c95957ad6b5370794",
            "85f7363f7bb741a1a2e4bed61cff3bcc",
            "2019189c12ac4b7e86f92f120d4b48ac",
            "0a6f3450ccb44f87a9333e3bdd4293af",
            "411d359fee084344aa2e3239e61078f2",
            "a47047f0d70548ae9708735a90045cae",
            "8305efa8b4fe4c79a0ea770022ed9ac7",
            "d28777b660eb48199dda7c843a534a70",
            "a0e6fd6f6dc44a42a1bac43ded0b0a72",
            "59e0b540280d472491473ec179b2ad1e",
            "40b42e283e424c5ebfd3af65511bbedb",
            "67ddffe9d28144cfbbecfa3aaeefb563",
            "b838cdfcba324208b8e0b93742554255",
            "0a1f8a331abc4e46b84043d7a70e2e0c",
            "9da7f94c944a464dad6d34a46c79fcae",
            "5d23c42c5ef44adc8d19869c5a1180e7",
            "0f7fb3c514044f89a38c4cca5eb189f4",
            "e5d6bc1068864489a43d45778ebd0219",
            "b14b9305cdd44a568ad17ff872578a87",
            "8a4a4839a5b44e02a05c4be6647f8a01",
            "6c5ccbe3fd204dcd82c2b46f5d61cd86",
            "eaa13e9f92a748d4b00ca030a2896694",
            "bdd7c65918574a92b4174c236ae01abd",
            "695665fd2f8d4515a56f18c009f90f51",
            "b0976bd7d4a140d997339e96b058de11",
            "c44050fc9ed84696a53f42f8fdbbc97c",
            "e333e4fa00c843d1bbaebaac0592794b",
            "ee8cf0c48f6e4ff2bcaf26fc241a940f",
            "f2ed5ecfd78a4ca68f355499672bd4f4",
            "c6442e1088074ae897c3fa50aa2e4652",
            "06f78faebc1240908c4bcf345c69ab60",
            "749d36cab2b249cb85472fd3206e0ff9",
            "47328348c5034bcab3d97d5ef4a8e3aa",
            "4bb154627b88436c80d1bd0decbb0579",
            "374689283ad64124b30c54ae61cfb83a",
            "d19a9fa4aa5d41cf8de08d7ab1019366"
          ]
        },
        "outputId": "7a4dc53f-b041-410e-8499-8a102966f065"
      },
      "execution_count": null,
      "outputs": [
        {
          "output_type": "display_data",
          "data": {
            "text/plain": [
              "Downloading (…)rocessor_config.json:   0%|          | 0.00/433 [00:00<?, ?B/s]"
            ],
            "application/vnd.jupyter.widget-view+json": {
              "version_major": 2,
              "version_minor": 0,
              "model_id": "524f7f21bc0c474bbfe0f15c95157fe3"
            }
          },
          "metadata": {}
        },
        {
          "output_type": "display_data",
          "data": {
            "text/plain": [
              "Downloading spm_char.model:   0%|          | 0.00/238k [00:00<?, ?B/s]"
            ],
            "application/vnd.jupyter.widget-view+json": {
              "version_major": 2,
              "version_minor": 0,
              "model_id": "bcd55d20594c4657bfa1f345b3110c2c"
            }
          },
          "metadata": {}
        },
        {
          "output_type": "display_data",
          "data": {
            "text/plain": [
              "Downloading (…)in/added_tokens.json:   0%|          | 0.00/40.0 [00:00<?, ?B/s]"
            ],
            "application/vnd.jupyter.widget-view+json": {
              "version_major": 2,
              "version_minor": 0,
              "model_id": "c44d199780fd4c1ba8ec3141041eb05a"
            }
          },
          "metadata": {}
        },
        {
          "output_type": "display_data",
          "data": {
            "text/plain": [
              "Downloading (…)cial_tokens_map.json:   0%|          | 0.00/234 [00:00<?, ?B/s]"
            ],
            "application/vnd.jupyter.widget-view+json": {
              "version_major": 2,
              "version_minor": 0,
              "model_id": "e7d0249febd9463ab721d63ade70e205"
            }
          },
          "metadata": {}
        },
        {
          "output_type": "display_data",
          "data": {
            "text/plain": [
              "Downloading (…)okenizer_config.json:   0%|          | 0.00/232 [00:00<?, ?B/s]"
            ],
            "application/vnd.jupyter.widget-view+json": {
              "version_major": 2,
              "version_minor": 0,
              "model_id": "0a6f3450ccb44f87a9333e3bdd4293af"
            }
          },
          "metadata": {}
        },
        {
          "output_type": "display_data",
          "data": {
            "text/plain": [
              "Downloading (…)lve/main/config.json:   0%|          | 0.00/2.06k [00:00<?, ?B/s]"
            ],
            "application/vnd.jupyter.widget-view+json": {
              "version_major": 2,
              "version_minor": 0,
              "model_id": "9da7f94c944a464dad6d34a46c79fcae"
            }
          },
          "metadata": {}
        },
        {
          "output_type": "display_data",
          "data": {
            "text/plain": [
              "Downloading pytorch_model.bin:   0%|          | 0.00/585M [00:00<?, ?B/s]"
            ],
            "application/vnd.jupyter.widget-view+json": {
              "version_major": 2,
              "version_minor": 0,
              "model_id": "c44050fc9ed84696a53f42f8fdbbc97c"
            }
          },
          "metadata": {}
        }
      ]
    },
    {
      "cell_type": "code",
      "source": [
        "# Clean up text with tokenizer\n",
        "tokenizer = processor.tokenizer\n",
        "\n",
        "def extract_all_chars(batch):\n",
        "    all_text = \" \".join(batch[\"text\"])\n",
        "    vocab = list(set(all_text))\n",
        "    return {\"vocab\": [vocab], \"all_text\": [all_text]}\n",
        "\n",
        "vocabs = dataset.map(\n",
        "    extract_all_chars,\n",
        "    batched=True,\n",
        "    batch_size=-1,\n",
        "    keep_in_memory=True,\n",
        "    remove_columns=dataset.column_names,\n",
        ")\n",
        "\n",
        "dataset_vocab = set(vocabs[\"vocab\"][0])\n",
        "tokenizer_vocab = {k for k,_ in tokenizer.get_vocab().items()}"
      ],
      "metadata": {
        "colab": {
          "base_uri": "https://localhost:8080/",
          "height": 17,
          "referenced_widgets": [
            "132043854d0b4c9797c02873ade20084",
            "6479bcbf90ad4b8087f10590b71daa93",
            "61afed4f5d2b4259922b7b4ac878b7ed",
            "fcc2a352d8a6412f881536ca033eaaf9",
            "41425e88bf054fb99f779c38ca4ec775",
            "42df6a2117ca4f5a8d0a19b4a6773069",
            "f774ceab4f0244e0af42db0f0fcec249",
            "30876ec2847b4c608153de6fbf47100b",
            "bfe357dca5d0425284cf240b5dd821e6",
            "2405935c850143619490244ccc7cb334",
            "76dd5f7dbbd44cce988a371e73e41827"
          ]
        },
        "id": "63biDLlW9NRq",
        "outputId": "6089b472-6139-4079-8cd1-b04c1e7ed6fb"
      },
      "execution_count": null,
      "outputs": [
        {
          "output_type": "display_data",
          "data": {
            "text/plain": [
              "Map:   0%|          | 0/158 [00:00<?, ? examples/s]"
            ],
            "application/vnd.jupyter.widget-view+json": {
              "version_major": 2,
              "version_minor": 0,
              "model_id": "132043854d0b4c9797c02873ade20084"
            }
          },
          "metadata": {}
        }
      ]
    },
    {
      "cell_type": "code",
      "source": [
        "dataset_vocab - tokenizer_vocab"
      ],
      "metadata": {
        "colab": {
          "base_uri": "https://localhost:8080/"
        },
        "id": "zyzf6b5v9zg2",
        "outputId": "d16934a8-ee5d-4c70-9441-23a3d555f087"
      },
      "execution_count": null,
      "outputs": [
        {
          "output_type": "execute_result",
          "data": {
            "text/plain": [
              "{' ', '4', '7'}"
            ]
          },
          "metadata": {},
          "execution_count": 23
        }
      ]
    },
    {
      "cell_type": "code",
      "source": [
        "# replace non-word characters into words and texts.\n",
        "replacements = [\n",
        "    (' ', ' '),\n",
        "    ('4','four'),\n",
        "    ('7','seven')\n",
        "]\n",
        "def cleanup_text(inputs):\n",
        "    for src, dst in replacements:\n",
        "        inputs[\"text\"] = inputs[\"text\"].replace(src, dst)\n",
        "    return inputs\n",
        "\n",
        "dataset = dataset.map(cleanup_text)"
      ],
      "metadata": {
        "colab": {
          "base_uri": "https://localhost:8080/",
          "height": 17,
          "referenced_widgets": [
            "a18b85addddc4b699e18a371f8a5514b",
            "53f28545d62c4bf1bbdd9e87346ab4f8",
            "3639dbb40af440e899a3f5b6ff58d8dd",
            "3861e0159a9c45ee92dde06815fab640",
            "7cda37d2f8734122a2c67382820bd122",
            "13470549d93b44d598f3e5c70fc5b875",
            "476cf215bffa429d9f1702fb647d1c35",
            "0a1dbd89b38742feaff3a3dc81e7f35b",
            "5a7c666a4865483c93dadb5ce8640d71",
            "d5de88568dec45c6af1245aadfb6e604",
            "4950339216614c3d9916bd6d9427fdc5"
          ]
        },
        "id": "kxUqgTle4WHL",
        "outputId": "f8d55954-2e1b-410d-af91-3dfec4c8baa0"
      },
      "execution_count": null,
      "outputs": [
        {
          "output_type": "display_data",
          "data": {
            "text/plain": [
              "Map:   0%|          | 0/158 [00:00<?, ? examples/s]"
            ],
            "application/vnd.jupyter.widget-view+json": {
              "version_major": 2,
              "version_minor": 0,
              "model_id": "a18b85addddc4b699e18a371f8a5514b"
            }
          },
          "metadata": {}
        }
      ]
    },
    {
      "cell_type": "code",
      "source": [
        "# replacements = [\n",
        "#     ('\\t', ' '),\n",
        "#     (' ', ' '),\n",
        "#     ('%', 'percent'),\n",
        "#     ('0', 'zero'),\n",
        "#     ('1', 'one'),\n",
        "#     ('2', 'two'),\n",
        "#     ('3', 'three'),\n",
        "#     ('4', 'four'),\n",
        "#     ('5','five'),\n",
        "#     ('6','six'),\n",
        "#     ('7','seven'),\n",
        "#     ('8','eight'),\n",
        "#     ('9','nine'),\n",
        "#     ('<','less than'),\n",
        "#     ('>','greater than'),\n",
        "#     ('=','equals'),\n",
        "#     ('_',' '),\n",
        "#     ('\\x80',' '),\n",
        "#     ('\\x99',' '),\n",
        "#     ('à','a'),\n",
        "#     ('’',\"\"),\n",
        "#     ('\\\\',''),\n",
        "#     (\"you\\\\'ve\",\"you've\")\n",
        "# ]\n",
        "\n",
        "# def cleanup_text(inputs):\n",
        "#     for src, dst in replacements:\n",
        "#         inputs[\"text\"] = inputs[\"text\"].replace(src, dst)\n",
        "#     return inputs\n",
        "\n",
        "# dataset = dataset.map(cleanup_text)"
      ],
      "metadata": {
        "id": "7Y3aBouc99z-"
      },
      "execution_count": null,
      "outputs": []
    },
    {
      "cell_type": "code",
      "source": [
        "# Make a dictionary for sanity check of the sound files distribution\n",
        "speaker_counts = defaultdict(int)\n",
        "\n",
        "for speaker_id in dataset[\"speaker_id\"]:\n",
        "    speaker_counts[speaker_id] += 1"
      ],
      "metadata": {
        "id": "dIKQQ5erA_7a"
      },
      "execution_count": null,
      "outputs": []
    },
    {
      "cell_type": "code",
      "source": [
        "# Plot the distribution\n",
        "plt.figure()\n",
        "plt.hist(speaker_counts.values(), bins=20)\n",
        "plt.ylabel(\"Speakers\")\n",
        "plt.xlabel(\"Examples\")\n",
        "plt.show()"
      ],
      "metadata": {
        "colab": {
          "base_uri": "https://localhost:8080/",
          "height": 449
        },
        "id": "sdrPn-sWAK1A",
        "outputId": "2c1244e5-a0f3-4e0e-aa79-15d5c4dd5374"
      },
      "execution_count": null,
      "outputs": [
        {
          "output_type": "display_data",
          "data": {
            "text/plain": [
              "<Figure size 640x480 with 1 Axes>"
            ],
            "image/png": "[encoded data removed]"
          },
          "metadata": {}
        }
      ]
    },
    {
      "cell_type": "code",
      "source": [
        "print(\"Speakers in the training dataset: \",len(set(dataset[\"speaker_id\"])))\n",
        "print(\"Number of Audiofiles in the dataset: \",len(dataset))"
      ],
      "metadata": {
        "colab": {
          "base_uri": "https://localhost:8080/"
        },
        "id": "-R3EhopvAMWe",
        "outputId": "87a43198-3a1e-405d-830e-662f6a7e3553"
      },
      "execution_count": null,
      "outputs": [
        {
          "output_type": "stream",
          "name": "stdout",
          "text": [
            "Speakers in the training dataset:  1\n",
            "Number of Audiofiles in the dataset:  158\n"
          ]
        }
      ]
    },
    {
      "cell_type": "markdown",
      "source": [
        "For each sound array, we created an embedding using the voxceleb model. Thus, the embedding is used as a target to converge the sounds profile."
      ],
      "metadata": {
        "id": "VB4Pop_ewuWc"
      }
    },
    {
      "cell_type": "code",
      "source": [
        "# Create speaker embedding using spk_model_name from speechbrain. Define the function that creates speaker embedding.\n",
        "\n",
        "spk_model_name = \"speechbrain/spkrec-xvect-voxceleb\"\n",
        "\n",
        "device = \"cuda\" if torch.cuda.is_available() else \"cpu\"\n",
        "speaker_model = EncoderClassifier.from_hparams(\n",
        "    source=spk_model_name,\n",
        "    run_opts={\"device\": device},\n",
        "    savedir=os.path.join(\"/tmp\", spk_model_name)\n",
        ")\n",
        "\n",
        "def create_speaker_embedding(waveform):\n",
        "    with torch.no_grad():\n",
        "        speaker_embeddings = speaker_model.encode_batch(torch.tensor(waveform))\n",
        "        speaker_embeddings = torch.nn.functional.normalize(speaker_embeddings, dim=2)\n",
        "        speaker_embeddings = speaker_embeddings.squeeze().cpu().numpy()\n",
        "    return speaker_embeddings"
      ],
      "metadata": {
        "id": "ca3HJOa1DxE_",
        "colab": {
          "base_uri": "https://localhost:8080/",
          "height": 177,
          "referenced_widgets": [
            "ee56cbe4313a46bb9ce28d9ea926ffa4",
            "bb086bbc16ff4a7c94a109861812828d",
            "e6e6ffe396e64f5c9856f9d8a1f53e28",
            "8988b81ee86142229e84837633f691df",
            "53e2b4c2aebc4524a093781807656347",
            "1a6e8836d96942948d1bf5b9124a8280",
            "f7169609dbc2469e8fafebf9ae08ea02",
            "54de42b0482c495589442e7c8ce610fd",
            "3f7103e3cf8f4fdf96eaa08d5dd439b7",
            "e4b2d3345f5b4f7794d34d917d0cdff6",
            "4b548d0ae5104df7a61df48a11c93ff6",
            "03a0405331b047309bb849e0a70a3ddf",
            "cc347571814c47d8895a50a316c3f159",
            "8241c7dde1c040ab9ae161f61a3ad30d",
            "00766615dfb445c28156ab1e1774d8fb",
            "98018943b54a4507ab150b9f030e538b",
            "5b6162e56d6147cc82896dbc9405a6b5",
            "bdde3367b77c4615a5cdf8ae7074d230",
            "f08413d3400b4e4890ba6941a5965d26",
            "7284a9c5f0024a1ab6e5d1cd86ac4ff7",
            "c05818ce058f4993b0845df576530a28",
            "a00fbc7098904fde900560fa4c4b19be",
            "29bb1d29b0334454a6f1d041882a961f",
            "62ce7df87afc41b388a7c5e758265dfd",
            "c1875c0c34cf46e7b73057099ade63da",
            "7a7246adaedc4f84ab4c4b1890fa0882",
            "666e9151fc0c42c49f15155afe7b5784",
            "74eea7db1bb94c7e931af0a2a1853be2",
            "f4a9b6ce75c2412f9f6ba2598346ea4c",
            "754432dcfe7f43c9b5e181a174e3c391",
            "83bb51b3d7c74329980c51f4b368408a",
            "301188333d1e46f094fefa93a9f00f47",
            "984806e72bfc483ea9465d596a4aa73d",
            "965e262ec6894c98b4b4a918791bb970",
            "1c5339581d7a48c0968970a83bc6b7af",
            "0b41e4eb80914816b1b1be5dda35c9c3",
            "05c5d2f00e0949daa6f2a6aca2384ffb",
            "5cf50e23d7f0404aaa3489329a04e58c",
            "89d8314782e14a05877be659834e8f4a",
            "e7b79bd712184933a3759fd001496258",
            "53fae7dcee0f4c7691f665f13e7a82a5",
            "b2264bce677f438c80a0ba1772c63c7a",
            "36c2c9bc6ab241e6a4bb7a8be596517c",
            "345d55d751c74ca999e07c1e53124e1e",
            "3dfd8723a0e7412d9710aee0b6474cde",
            "50dbe8daef8440c187d7a08b958b5447",
            "f994b427067742aebf818c282655623c",
            "b1a1b1da4de44b7ba12bfd8d495da120",
            "ee7a3f89a202478d961b52b8bafed1b0",
            "a1e5a84610414ba4a7cf4a4ab65691f2",
            "4d5972fb576a4db4a9169e54f7eaefb6",
            "f27e82bc2ffa4f68973111b50f107fde",
            "6ee4e7e59e204c00bb541667edb07e90",
            "4cb602b516724329b4782a4117082bea",
            "f2efd429686547718207d138220085a3"
          ]
        },
        "outputId": "3479f2f2-3bff-4081-b6b7-c3794851318b"
      },
      "execution_count": null,
      "outputs": [
        {
          "output_type": "display_data",
          "data": {
            "text/plain": [
              "Downloading (…)ain/hyperparams.yaml:   0%|          | 0.00/2.04k [00:00<?, ?B/s]"
            ],
            "application/vnd.jupyter.widget-view+json": {
              "version_major": 2,
              "version_minor": 0,
              "model_id": "ee56cbe4313a46bb9ce28d9ea926ffa4"
            }
          },
          "metadata": {}
        },
        {
          "output_type": "display_data",
          "data": {
            "text/plain": [
              "Downloading embedding_model.ckpt:   0%|          | 0.00/16.9M [00:00<?, ?B/s]"
            ],
            "application/vnd.jupyter.widget-view+json": {
              "version_major": 2,
              "version_minor": 0,
              "model_id": "03a0405331b047309bb849e0a70a3ddf"
            }
          },
          "metadata": {}
        },
        {
          "output_type": "display_data",
          "data": {
            "text/plain": [
              "Downloading mean_var_norm_emb.ckpt:   0%|          | 0.00/3.20k [00:00<?, ?B/s]"
            ],
            "application/vnd.jupyter.widget-view+json": {
              "version_major": 2,
              "version_minor": 0,
              "model_id": "29bb1d29b0334454a6f1d041882a961f"
            }
          },
          "metadata": {}
        },
        {
          "output_type": "display_data",
          "data": {
            "text/plain": [
              "Downloading classifier.ckpt:   0%|          | 0.00/15.9M [00:00<?, ?B/s]"
            ],
            "application/vnd.jupyter.widget-view+json": {
              "version_major": 2,
              "version_minor": 0,
              "model_id": "965e262ec6894c98b4b4a918791bb970"
            }
          },
          "metadata": {}
        },
        {
          "output_type": "display_data",
          "data": {
            "text/plain": [
              "Downloading (…)in/label_encoder.txt:   0%|          | 0.00/129k [00:00<?, ?B/s]"
            ],
            "application/vnd.jupyter.widget-view+json": {
              "version_major": 2,
              "version_minor": 0,
              "model_id": "3dfd8723a0e7412d9710aee0b6474cde"
            }
          },
          "metadata": {}
        }
      ]
    },
    {
      "cell_type": "code",
      "source": [
        "# This function has the create speaker embedding function. This function will be used in dataset to be applied to each row to create its speaker embedding.\n",
        "def prepare_dataset(example):\n",
        "    # load the audio data; if necessary, this resamples the audio to 16kHz\n",
        "    audio = example[\"audio\"]\n",
        "\n",
        "    # normalize audio\n",
        "    array = np.array(audio)\n",
        "    norm = np.linalg.norm(array)\n",
        "    audio_norm = array / norm\n",
        "\n",
        "    # feature extraction and tokenization\n",
        "    example = processor(\n",
        "        text=example[\"text\"],\n",
        "        audio_target=audio_norm,\n",
        "        sampling_rate=16000,\n",
        "        return_attention_mask=False,\n",
        "    )\n",
        "\n",
        "    # strip off the batch dimension\n",
        "    example[\"labels\"] = example[\"labels\"][0]\n",
        "\n",
        "    # use SpeechBrain to obtain x-vector\n",
        "    example[\"speaker_embeddings\"] = create_speaker_embedding(audio_norm)\n",
        "\n",
        "    return example"
      ],
      "metadata": {
        "id": "Cub3QDKeEMM5"
      },
      "execution_count": null,
      "outputs": []
    },
    {
      "cell_type": "code",
      "source": [
        "# Checking the processed example.\n",
        "processed_example = prepare_dataset(dataset[0])"
      ],
      "metadata": {
        "id": "WyymZgKoIhjq",
        "colab": {
          "base_uri": "https://localhost:8080/"
        },
        "outputId": "12ab84e5-c211-435e-e9c1-f6953319d646"
      },
      "execution_count": null,
      "outputs": [
        {
          "output_type": "stream",
          "name": "stderr",
          "text": [
            "/usr/local/lib/python3.10/dist-packages/torch/functional.py:641: UserWarning: stft with return_complex=False is deprecated. In a future pytorch release, stft will return complex tensors for all inputs, and return_complex=False will raise an error.\n",
            "Note: you can still call torch.view_as_real on the complex output to recover the old return format. (Triggered internally at ../aten/src/ATen/native/SpectralOps.cpp:862.)\n",
            "  return _VF.stft(input, n_fft, hop_length, win_length, window,  # type: ignore[attr-defined]\n"
          ]
        }
      ]
    },
    {
      "cell_type": "code",
      "source": [
        "# Checking the processed example.\n",
        "list(processed_example.keys())"
      ],
      "metadata": {
        "colab": {
          "base_uri": "https://localhost:8080/"
        },
        "id": "J43M7J-DIiHU",
        "outputId": "505cdac9-de36-44c2-8dba-a0561170fae2"
      },
      "execution_count": null,
      "outputs": [
        {
          "output_type": "execute_result",
          "data": {
            "text/plain": [
              "['input_ids', 'labels', 'speaker_embeddings']"
            ]
          },
          "metadata": {},
          "execution_count": 32
        }
      ]
    },
    {
      "cell_type": "code",
      "source": [
        "# Checking the processed example.\n",
        "tokenizer.decode(processed_example[\"input_ids\"])"
      ],
      "metadata": {
        "colab": {
          "base_uri": "https://localhost:8080/",
          "height": 35
        },
        "id": "n9ieR0iaN22G",
        "outputId": "a45d7333-053c-40e2-d1c4-49e145544e11"
      },
      "execution_count": null,
      "outputs": [
        {
          "output_type": "execute_result",
          "data": {
            "text/plain": [
              "\"Shit negro that's all you had to say.</s>\""
            ],
            "application/vnd.google.colaboratory.intrinsic+json": {
              "type": "string"
            }
          },
          "metadata": {},
          "execution_count": 33
        }
      ]
    },
    {
      "cell_type": "code",
      "source": [
        "# Checking the processed example.\n",
        "processed_example[\"speaker_embeddings\"].shape"
      ],
      "metadata": {
        "colab": {
          "base_uri": "https://localhost:8080/"
        },
        "id": "42BgGTQ_ODBB",
        "outputId": "01b930e9-d1a0-493a-a1b6-41312869bcc4"
      },
      "execution_count": null,
      "outputs": [
        {
          "output_type": "execute_result",
          "data": {
            "text/plain": [
              "(512,)"
            ]
          },
          "metadata": {},
          "execution_count": 34
        }
      ]
    },
    {
      "cell_type": "markdown",
      "source": [
        "Below is a spectrogram of a processed sound file. Its horizontal axis represents time. Its vertical axis represents frequency. Its intensity represents amplitude."
      ],
      "metadata": {
        "id": "aM46gWXHxPfe"
      }
    },
    {
      "cell_type": "code",
      "source": [
        "# Checking the processed example.\n",
        "plt.figure()\n",
        "plt.imshow(processed_example[\"labels\"].T)\n",
        "plt.show()"
      ],
      "metadata": {
        "colab": {
          "base_uri": "https://localhost:8080/",
          "height": 229
        },
        "id": "NCrNyu-gOGhq",
        "outputId": "198cf318-8e93-4716-ad0f-0d0b6418ff9a"
      },
      "execution_count": null,
      "outputs": [
        {
          "output_type": "display_data",
          "data": {
            "text/plain": [
              "<Figure size 640x480 with 1 Axes>"
            ],
            "image/png": "[encoded data removed]"
          },
          "metadata": {}
        }
      ]
    },
    {
      "cell_type": "code",
      "source": [
        "# Download vocoder so that we can convert the spectrogram into audible sounds file.\n",
        "vocoder = SpeechT5HifiGan.from_pretrained(\"microsoft/speecht5_hifigan\")"
      ],
      "metadata": {
        "id": "5LV4d9gdOJsa",
        "colab": {
          "base_uri": "https://localhost:8080/",
          "height": 81,
          "referenced_widgets": [
            "48b188e7e01f4ca8958d54d221717e1c",
            "978ab56e03ca47bda8cf06527477471c",
            "d33da3b23434442c869ac03f2311d147",
            "e24eac7aa9e24a84ae0083305674d027",
            "8da5716b69ef40e79178db086a80ae62",
            "c2cf3efa5dfd43728d7e0b03d7f89984",
            "7457dfb71db94c35ae4e84d648a2e20c",
            "575de9dc56984f3aa52d7950e0045004",
            "06b05cdeb04d48e6af29e02be57613ec",
            "c6c9cd46ec9d45498cf55d1fbc385367",
            "b41464dc35b2451db4725058a6d0d40d",
            "d96955866e6748278f9ee99fea0615c9",
            "8c397880454448c88caa664776425127",
            "57cdede22683452e9b79df1575bcff04",
            "006897cec8fa44a3ba2445b6f83a0428",
            "5f6927e505bd4dd38204e2a1754080f1",
            "9794f56caa2148fdb4f05a3c87b476a4",
            "ea0d400c6bda4b9ebab797df63966495",
            "11833ab2896c4ec8b252d6ef9e742035",
            "409167dc2e264857b8b460e465e1eb9c",
            "396e2b61ec3d43159e4028b0ed843aa9",
            "42008510fb6544819176626f8752eb2e"
          ]
        },
        "outputId": "5b606a1d-08a1-4e45-b6af-c5df0b139682"
      },
      "execution_count": null,
      "outputs": [
        {
          "output_type": "display_data",
          "data": {
            "text/plain": [
              "Downloading (…)lve/main/config.json:   0%|          | 0.00/636 [00:00<?, ?B/s]"
            ],
            "application/vnd.jupyter.widget-view+json": {
              "version_major": 2,
              "version_minor": 0,
              "model_id": "48b188e7e01f4ca8958d54d221717e1c"
            }
          },
          "metadata": {}
        },
        {
          "output_type": "display_data",
          "data": {
            "text/plain": [
              "Downloading pytorch_model.bin:   0%|          | 0.00/50.7M [00:00<?, ?B/s]"
            ],
            "application/vnd.jupyter.widget-view+json": {
              "version_major": 2,
              "version_minor": 0,
              "model_id": "d96955866e6748278f9ee99fea0615c9"
            }
          },
          "metadata": {}
        }
      ]
    },
    {
      "cell_type": "code",
      "source": [
        "# Convert the spectrogram into speech\n",
        "spectrogram = torch.tensor(processed_example[\"labels\"])\n",
        "with torch.no_grad():\n",
        "    speech = vocoder(spectrogram)"
      ],
      "metadata": {
        "id": "5_PXzpQXOQ86"
      },
      "execution_count": null,
      "outputs": []
    },
    {
      "cell_type": "code",
      "source": [
        "# Convert the spectrogram into speech\n",
        "from IPython.display import Audio\n",
        "Audio(speech.cpu().numpy(), rate=16000)"
      ],
      "metadata": {
        "colab": {
          "base_uri": "https://localhost:8080/",
          "height": 75
        },
        "id": "knwxKL2IOb2P",
        "outputId": "fffe15c7-2474-452b-9993-89b1a7b6c4da"
      },
      "execution_count": null,
      "outputs": [
        {
          "output_type": "execute_result",
          "data": {
            "text/plain": [
              "<IPython.lib.display.Audio object>"
            ],
            "text/html": [
              "\n",
              "                <audio  controls=\"controls\" >\n",
              "                    <source src=\"data:audio/wav;base64,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\" type=\"audio/wav\" />\n",
              "                    Your browser does not support the audio element.\n",
              "                </audio>\n",
              "              "
            ]
          },
          "metadata": {},
          "execution_count": 39
        }
      ]
    },
    {
      "cell_type": "code",
      "source": [
        "dataset.column_names"
      ],
      "metadata": {
        "colab": {
          "base_uri": "https://localhost:8080/"
        },
        "id": "RFO3T53YWJBV",
        "outputId": "f938c8c5-72d1-48ac-c8e2-4d71a240556a"
      },
      "execution_count": null,
      "outputs": [
        {
          "output_type": "execute_result",
          "data": {
            "text/plain": [
              "['text', 'audio', 'speaker_id']"
            ]
          },
          "metadata": {},
          "execution_count": 211
        }
      ]
    },
    {
      "cell_type": "code",
      "source": [
        "# Apply the prepare dataset function mentioned earlier to the whole dataset.\n",
        "dataset_final = dataset.map(\n",
        "    prepare_dataset, remove_columns=dataset.column_names,\n",
        ")"
      ],
      "metadata": {
        "colab": {
          "base_uri": "https://localhost:8080/",
          "height": 17,
          "referenced_widgets": [
            "279ff63a9b6341e2aaa0c980f12bae20",
            "3dcd66bf0cc64a859a2bf2d35ad46265",
            "cd2073ad9cd649d49e82d72487d8e164",
            "7cc911052c704c0f9cc2475f7976f708",
            "1fd7f88516204c33bcbb51a7077dd606",
            "e51b388b59e249c78a43c4d30f4a909b",
            "60d8749bce2445d29fb515dece728be3",
            "ebf8f309764444f2a8818c75e71688af",
            "f4db06e240b5452c8396cb936b05a6e4",
            "dbf4cb3e953441799b94ab6a078b5bb1",
            "7ea5a8fb061947d7b56813c2769103e3"
          ]
        },
        "id": "nNzEtb-eZmwp",
        "outputId": "2c79968e-f9f8-4416-bfcf-10e6bdbbedce"
      },
      "execution_count": null,
      "outputs": [
        {
          "output_type": "display_data",
          "data": {
            "text/plain": [
              "Map:   0%|          | 0/158 [00:00<?, ? examples/s]"
            ],
            "application/vnd.jupyter.widget-view+json": {
              "version_major": 2,
              "version_minor": 0,
              "model_id": "279ff63a9b6341e2aaa0c980f12bae20"
            }
          },
          "metadata": {}
        }
      ]
    },
    {
      "cell_type": "code",
      "source": [
        "# Filter the lines that are too long.\n",
        "def is_not_too_long(input_ids):\n",
        "    input_length = len(input_ids)\n",
        "    return input_length < 200\n",
        "\n",
        "dataset_final = dataset_final.filter(is_not_too_long, input_columns=[\"input_ids\"])"
      ],
      "metadata": {
        "id": "Z-y54DgGZuEG",
        "colab": {
          "base_uri": "https://localhost:8080/",
          "height": 17,
          "referenced_widgets": [
            "b8607d1e8d1d43b9a24c0c224eb46eca",
            "c74887a6632443c2a295e2fe893e61bb",
            "8bbf7c2358ed43c6ae069d95cf44590d",
            "9be82377605a4f7693d9d14b9cbfedef",
            "e9ce019a7c1247cda47c348b124656f5",
            "ebabf5631d5e48c1b4b5c34981dbfcf2",
            "308e747529544978b7cb3ad7a1ecafae",
            "572aeb533cfd4937b3e4cb92f1fd56a0",
            "7c605a8ff73d4fef9976330e73784264",
            "51938d5d58ab48f7ae4c182f1e69b5a5",
            "2533ff47a7db4ca3951eeed70353e777"
          ]
        },
        "outputId": "dc290252-4fe0-4756-92f5-c163480a89a1"
      },
      "execution_count": null,
      "outputs": [
        {
          "output_type": "display_data",
          "data": {
            "text/plain": [
              "Filter:   0%|          | 0/158 [00:00<?, ? examples/s]"
            ],
            "application/vnd.jupyter.widget-view+json": {
              "version_major": 2,
              "version_minor": 0,
              "model_id": "b8607d1e8d1d43b9a24c0c224eb46eca"
            }
          },
          "metadata": {}
        }
      ]
    },
    {
      "cell_type": "code",
      "source": [
        "# Check the length of the dataset.\n",
        "len(dataset_final)"
      ],
      "metadata": {
        "id": "gJrAdqR-aA2m",
        "colab": {
          "base_uri": "https://localhost:8080/"
        },
        "outputId": "354a5f80-a760-4c0d-9353-e659099dced5"
      },
      "execution_count": null,
      "outputs": [
        {
          "output_type": "execute_result",
          "data": {
            "text/plain": [
              "158"
            ]
          },
          "metadata": {},
          "execution_count": 42
        }
      ]
    },
    {
      "cell_type": "code",
      "source": [
        "# Train test split.\n",
        "dataset_split = dataset_final.train_test_split(test_size=0.1)"
      ],
      "metadata": {
        "id": "F7Qv-WJVaEKY"
      },
      "execution_count": null,
      "outputs": []
    },
    {
      "cell_type": "code",
      "source": [
        "# There are 142 training samples and 16 testing samples.\n",
        "dataset_split"
      ],
      "metadata": {
        "id": "KABffalGaQO8",
        "colab": {
          "base_uri": "https://localhost:8080/"
        },
        "outputId": "23739492-93a6-46b6-da38-6ea4565c708e"
      },
      "execution_count": null,
      "outputs": [
        {
          "output_type": "execute_result",
          "data": {
            "text/plain": [
              "DatasetDict({\n",
              "    train: Dataset({\n",
              "        features: ['input_ids', 'labels', 'speaker_embeddings'],\n",
              "        num_rows: 142\n",
              "    })\n",
              "    test: Dataset({\n",
              "        features: ['input_ids', 'labels', 'speaker_embeddings'],\n",
              "        num_rows: 16\n",
              "    })\n",
              "})"
            ]
          },
          "metadata": {},
          "execution_count": 44
        }
      ]
    },
    {
      "cell_type": "code",
      "source": [
        "# Save the splitted dataset.\n",
        "with open(PATH + '/sam_dataset_split_iter3.pkl', 'wb') as f:\n",
        "   pickle.dump(dataset_split, f)"
      ],
      "metadata": {
        "id": "rq7GjFz6fKJx"
      },
      "execution_count": null,
      "outputs": []
    },
    {
      "cell_type": "markdown",
      "source": [
        "# Model Implementation"
      ],
      "metadata": {
        "id": "CbtYC3yzavpQ"
      }
    },
    {
      "cell_type": "code",
      "source": [
        "# loading in dataset\n",
        "from google.colab import drive\n",
        "drive.mount('/content/drive', force_remount=True)\n",
        "PATH = 'drive/MyDrive/College/USF/Deep_Learning_Mustafa/Project'\n",
        "with open(PATH + '/sam_dataset_split_iter3.pkl', 'rb') as f:\n",
        "  dataset_split = pickle.load(f)"
      ],
      "metadata": {
        "colab": {
          "base_uri": "https://localhost:8080/"
        },
        "id": "PmfF7xRQfaqu",
        "outputId": "adafcc28-190a-4216-ed13-110e77e6ee05"
      },
      "execution_count": null,
      "outputs": [
        {
          "output_type": "stream",
          "name": "stdout",
          "text": [
            "Mounted at /content/drive\n"
          ]
        }
      ]
    },
    {
      "cell_type": "code",
      "source": [
        "# Create Padding to give the same length on all samples\n",
        "\n",
        "from dataclasses import dataclass\n",
        "from typing import Any, Dict, List, Union\n",
        "\n",
        "@dataclass\n",
        "class TTSDataCollatorWithPadding:\n",
        "    processor: Any\n",
        "\n",
        "    def __call__(self, features: List[Dict[str, Union[List[int], torch.Tensor]]]) -> Dict[str, torch.Tensor]:\n",
        "\n",
        "        input_ids = [{\"input_ids\": feature[\"input_ids\"]} for feature in features]\n",
        "        label_features = [{\"input_values\": feature[\"labels\"]} for feature in features]\n",
        "        speaker_features = [feature[\"speaker_embeddings\"] for feature in features]\n",
        "\n",
        "        # collate the inputs and targets into a batch\n",
        "        batch = processor.pad(\n",
        "            input_ids=input_ids,\n",
        "            labels=label_features,\n",
        "            return_tensors=\"pt\",\n",
        "        )\n",
        "\n",
        "        # replace padding with -100 to ignore loss correctly\n",
        "        batch[\"labels\"] = batch[\"labels\"].masked_fill(\n",
        "            batch.decoder_attention_mask.unsqueeze(-1).ne(1), -100\n",
        "        )\n",
        "\n",
        "        # not used during fine-tuning\n",
        "        del batch[\"decoder_attention_mask\"]\n",
        "\n",
        "        # round down target lengths to multiple of reduction factor\n",
        "        if model.config.reduction_factor > 1:\n",
        "            target_lengths = torch.tensor([\n",
        "                len(feature[\"input_values\"]) for feature in label_features\n",
        "            ])\n",
        "            target_lengths = target_lengths.new([\n",
        "                length - length % model.config.reduction_factor for length in target_lengths\n",
        "            ])\n",
        "            max_length = max(target_lengths)\n",
        "            batch[\"labels\"] = batch[\"labels\"][:, :max_length]\n",
        "\n",
        "        # also add in the speaker embeddings\n",
        "        batch[\"speaker_embeddings\"] = torch.tensor(speaker_features)\n",
        "\n",
        "        return batch"
      ],
      "metadata": {
        "id": "Dih6Ovh4axM7"
      },
      "execution_count": null,
      "outputs": []
    },
    {
      "cell_type": "code",
      "source": [
        "# Combine Input and Target and Create Padding\n",
        "data_collator = TTSDataCollatorWithPadding(processor=processor)"
      ],
      "metadata": {
        "id": "4BP2JdWKaS_4"
      },
      "execution_count": null,
      "outputs": []
    },
    {
      "cell_type": "code",
      "source": [
        "# Sanity check for a batch created by three samples.\n",
        "features = [\n",
        "    dataset_split[\"train\"][0],\n",
        "    dataset_split[\"train\"][1],\n",
        "    dataset_split[\"train\"][20],\n",
        "]\n",
        "\n",
        "batch = data_collator(features)"
      ],
      "metadata": {
        "id": "TsnmV47GbCZE"
      },
      "execution_count": null,
      "outputs": []
    },
    {
      "cell_type": "code",
      "source": [
        "# Sanity check for a batch created by three samples.\n",
        "{k:v.shape for k,v in batch.items()}"
      ],
      "metadata": {
        "colab": {
          "base_uri": "https://localhost:8080/"
        },
        "id": "HtIC4DqCbFgu",
        "outputId": "5fba561e-5d87-478f-da10-52190fc9645e"
      },
      "execution_count": null,
      "outputs": [
        {
          "output_type": "execute_result",
          "data": {
            "text/plain": [
              "{'input_ids': torch.Size([3, 73]),\n",
              " 'attention_mask': torch.Size([3, 73]),\n",
              " 'labels': torch.Size([3, 238, 80]),\n",
              " 'speaker_embeddings': torch.Size([3, 512])}"
            ]
          },
          "metadata": {},
          "execution_count": 56
        }
      ]
    },
    {
      "cell_type": "code",
      "source": [
        "model.config.use_cache = False"
      ],
      "metadata": {
        "id": "M109zgSFbNRy"
      },
      "execution_count": null,
      "outputs": []
    },
    {
      "cell_type": "markdown",
      "source": [
        "## Hyperparameters\n",
        "learning rate = 1e-5\n",
        "epochs = 400"
      ],
      "metadata": {
        "id": "jbhULlwYyqHM"
      }
    },
    {
      "cell_type": "code",
      "source": [
        "# Define training parameters\n",
        "from transformers import Seq2SeqTrainingArguments\n",
        "\n",
        "training_args = Seq2SeqTrainingArguments(\n",
        "    output_dir= f\"{PATH}/logs\",  # change to a repo name of your choice\n",
        "    per_device_train_batch_size=8,\n",
        "    gradient_accumulation_steps=2,\n",
        "    learning_rate=1e-5,\n",
        "    warmup_steps=25,\n",
        "    max_steps=400,\n",
        "    gradient_checkpointing=True,\n",
        "    fp16=True,\n",
        "    evaluation_strategy=\"steps\",\n",
        "    per_device_eval_batch_size=2,\n",
        "    save_steps=25,\n",
        "    eval_steps=25,\n",
        "    logging_steps=25,\n",
        "    report_to=[\"tensorboard\"],\n",
        "    load_best_model_at_end=True,\n",
        "    greater_is_better=False,\n",
        "    label_names=[\"labels\"],\n",
        "    push_to_hub=False,\n",
        ")"
      ],
      "metadata": {
        "id": "AWzJfJnPbmFo"
      },
      "execution_count": null,
      "outputs": []
    },
    {
      "cell_type": "code",
      "source": [
        "# Create trainer object. Use the model and data to create the trainer.\n",
        "from transformers import Seq2SeqTrainer\n",
        "\n",
        "trainer = Seq2SeqTrainer(\n",
        "    args=training_args,\n",
        "    model=model,\n",
        "    train_dataset=dataset_split[\"train\"],\n",
        "    eval_dataset=dataset_split[\"test\"],\n",
        "    data_collator=data_collator,\n",
        "    tokenizer=processor.tokenizer,\n",
        ")"
      ],
      "metadata": {
        "id": "jPRd1HVZccl_"
      },
      "execution_count": null,
      "outputs": []
    },
    {
      "cell_type": "markdown",
      "source": [
        "## Model Training"
      ],
      "metadata": {
        "id": "kjOxI2uRzH2M"
      }
    },
    {
      "cell_type": "code",
      "source": [
        "# Model training.\n",
        "trainer.train()"
      ],
      "metadata": {
        "colab": {
          "base_uri": "https://localhost:8080/",
          "height": 667
        },
        "id": "plUPrwcgdFp_",
        "outputId": "c0fbed5e-9a32-42fd-bba2-162582d9e8b3"
      },
      "execution_count": null,
      "outputs": [
        {
          "output_type": "stream",
          "name": "stderr",
          "text": [
            "/usr/local/lib/python3.10/dist-packages/transformers/optimization.py:411: FutureWarning: This implementation of AdamW is deprecated and will be removed in a future version. Use the PyTorch implementation torch.optim.AdamW instead, or set `no_deprecation_warning=True` to disable this warning\n",
            "  warnings.warn(\n"
          ]
        },
        {
          "output_type": "display_data",
          "data": {
            "text/plain": [
              "<IPython.core.display.HTML object>"
            ],
            "text/html": [
              "\n",
              "    <div>\n",
              "      \n",
              "      <progress value='400' max='400' style='width:300px; height:20px; vertical-align: middle;'></progress>\n",
              "      [400/400 04:39, Epoch 44/45]\n",
              "    </div>\n",
              "    <table border=\"1\" class=\"dataframe\">\n",
              "  <thead>\n",
              " <tr style=\"text-align: left;\">\n",
              "      <th>Step</th>\n",
              "      <th>Training Loss</th>\n",
              "      <th>Validation Loss</th>\n",
              "    </tr>\n",
              "  </thead>\n",
              "  <tbody>\n",
              "    <tr>\n",
              "      <td>25</td>\n",
              "      <td>1.169100</td>\n",
              "      <td>0.887768</td>\n",
              "    </tr>\n",
              "    <tr>\n",
              "      <td>50</td>\n",
              "      <td>0.962800</td>\n",
              "      <td>0.733065</td>\n",
              "    </tr>\n",
              "    <tr>\n",
              "      <td>75</td>\n",
              "      <td>0.879900</td>\n",
              "      <td>0.668853</td>\n",
              "    </tr>\n",
              "    <tr>\n",
              "      <td>100</td>\n",
              "      <td>0.825100</td>\n",
              "      <td>0.637679</td>\n",
              "    </tr>\n",
              "    <tr>\n",
              "      <td>125</td>\n",
              "      <td>0.740400</td>\n",
              "      <td>0.604342</td>\n",
              "    </tr>\n",
              "    <tr>\n",
              "      <td>150</td>\n",
              "      <td>0.677700</td>\n",
              "      <td>0.580739</td>\n",
              "    </tr>\n",
              "    <tr>\n",
              "      <td>175</td>\n",
              "      <td>0.665400</td>\n",
              "      <td>0.564774</td>\n",
              "    </tr>\n",
              "    <tr>\n",
              "      <td>200</td>\n",
              "      <td>0.674700</td>\n",
              "      <td>0.546634</td>\n",
              "    </tr>\n",
              "    <tr>\n",
              "      <td>225</td>\n",
              "      <td>0.647500</td>\n",
              "      <td>0.547437</td>\n",
              "    </tr>\n",
              "    <tr>\n",
              "      <td>250</td>\n",
              "      <td>0.615800</td>\n",
              "      <td>0.536354</td>\n",
              "    </tr>\n",
              "    <tr>\n",
              "      <td>275</td>\n",
              "      <td>0.607600</td>\n",
              "      <td>0.543518</td>\n",
              "    </tr>\n",
              "    <tr>\n",
              "      <td>300</td>\n",
              "      <td>0.629500</td>\n",
              "      <td>0.532287</td>\n",
              "    </tr>\n",
              "    <tr>\n",
              "      <td>325</td>\n",
              "      <td>0.601800</td>\n",
              "      <td>0.528874</td>\n",
              "    </tr>\n",
              "    <tr>\n",
              "      <td>350</td>\n",
              "      <td>0.594200</td>\n",
              "      <td>0.515765</td>\n",
              "    </tr>\n",
              "    <tr>\n",
              "      <td>375</td>\n",
              "      <td>0.588100</td>\n",
              "      <td>0.526614</td>\n",
              "    </tr>\n",
              "    <tr>\n",
              "      <td>400</td>\n",
              "      <td>0.595700</td>\n",
              "      <td>0.523525</td>\n",
              "    </tr>\n",
              "  </tbody>\n",
              "</table><p>"
            ]
          },
          "metadata": {}
        },
        {
          "output_type": "execute_result",
          "data": {
            "text/plain": [
              "TrainOutput(global_step=400, training_loss=0.71720876455307, metrics={'train_runtime': 281.7227, 'train_samples_per_second': 22.717, 'train_steps_per_second': 1.42, 'total_flos': 602205534640512.0, 'train_loss': 0.71720876455307, 'epoch': 44.44})"
            ]
          },
          "metadata": {},
          "execution_count": 61
        }
      ]
    },
    {
      "cell_type": "code",
      "source": [
        "from google.colab import drive\n",
        "drive.mount('/content/drive', force_remount=True)\n",
        "trainer.save_model(PATH + \"/model\")"
      ],
      "metadata": {
        "colab": {
          "base_uri": "https://localhost:8080/"
        },
        "id": "TgDIi9jXdbd-",
        "outputId": "00360470-1f64-4652-cd41-b5649807aec3"
      },
      "execution_count": null,
      "outputs": [
        {
          "output_type": "stream",
          "name": "stdout",
          "text": [
            "Mounted at /content/drive\n"
          ]
        }
      ]
    },
    {
      "cell_type": "code",
      "source": [
        "# Save the trained model\n",
        "torch.save(trainer.model_wrapped,f\"{PATH}/model/sam_model_iter3.pt\")"
      ],
      "metadata": {
        "id": "jJIvNhGU8ZY-"
      },
      "execution_count": null,
      "outputs": []
    },
    {
      "cell_type": "markdown",
      "source": [
        "# Experiments and Results"
      ],
      "metadata": {
        "id": "JOGkpZlzmFe0"
      }
    },
    {
      "cell_type": "code",
      "source": [
        "# Mount to google drive.\n",
        "from transformers import AutoModel\n",
        "from google.colab import drive\n",
        "drive.mount('/content/drive', force_remount=True)\n",
        "model_path =  PATH + \"/model/sam_model_iter3.pt\"\n",
        "model_loaded = torch.load(model_path)"
      ],
      "metadata": {
        "colab": {
          "base_uri": "https://localhost:8080/"
        },
        "id": "a2pw3DFpmL5w",
        "outputId": "49b4e0b7-8429-4310-c504-50686ed6fe87"
      },
      "execution_count": null,
      "outputs": [
        {
          "output_type": "stream",
          "name": "stdout",
          "text": [
            "Mounted at /content/drive\n"
          ]
        }
      ]
    },
    {
      "cell_type": "code",
      "source": [
        "dataset_split"
      ],
      "metadata": {
        "colab": {
          "base_uri": "https://localhost:8080/"
        },
        "id": "nr0qHBXnAM1f",
        "outputId": "37a1d4f0-5cd1-4be2-9324-95646952fd01"
      },
      "execution_count": null,
      "outputs": [
        {
          "output_type": "execute_result",
          "data": {
            "text/plain": [
              "DatasetDict({\n",
              "    train: Dataset({\n",
              "        features: ['input_ids', 'labels', 'speaker_embeddings'],\n",
              "        num_rows: 142\n",
              "    })\n",
              "    test: Dataset({\n",
              "        features: ['input_ids', 'labels', 'speaker_embeddings'],\n",
              "        num_rows: 16\n",
              "    })\n",
              "})"
            ]
          },
          "metadata": {},
          "execution_count": 66
        }
      ]
    },
    {
      "cell_type": "code",
      "source": [
        "# Select an embedding.\n",
        "example = dataset_split[\"test\"][\"speaker_embeddings\"][14]\n",
        "speaker_embeddings = torch.tensor(example).unsqueeze(0).to(device)\n",
        "speaker_embeddings.shape"
      ],
      "metadata": {
        "colab": {
          "base_uri": "https://localhost:8080/"
        },
        "id": "hCWCv19rmc_L",
        "outputId": "bc6f5c41-7420-40cd-ef46-1e9eb66a2776"
      },
      "execution_count": null,
      "outputs": [
        {
          "output_type": "execute_result",
          "data": {
            "text/plain": [
              "torch.Size([1, 512])"
            ]
          },
          "metadata": {},
          "execution_count": 206
        }
      ]
    },
    {
      "cell_type": "code",
      "source": [
        "# Create the input. In this case, it is text.\n",
        "device = \"cuda\" if torch.cuda.is_available() else \"cpu\"\n",
        "text = \"Happy birthday,     mother fucker\"\n",
        "inputs = processor(text=text, return_tensors=\"pt\").to(device)"
      ],
      "metadata": {
        "id": "eirAux6Omwaq"
      },
      "execution_count": null,
      "outputs": []
    },
    {
      "cell_type": "code",
      "source": [
        "# Generate prediction using the generate_speech method from the model. The model prediction is a spectrogram which can be converted into audible sound file with the vocoder later.\n",
        "spectrogram = model_loaded.generate_speech(inputs[\"input_ids\"], speaker_embeddings)"
      ],
      "metadata": {
        "id": "4PEekNqTnp9C"
      },
      "execution_count": null,
      "outputs": []
    },
    {
      "cell_type": "code",
      "source": [
        "# Show the spectrogram\n",
        "plt.figure()\n",
        "plt.imshow(spectrogram.cpu().T)\n",
        "plt.show()"
      ],
      "metadata": {
        "colab": {
          "base_uri": "https://localhost:8080/",
          "height": 433
        },
        "id": "X4xiHIK3nug-",
        "outputId": "d117fdb1-176a-4b11-bef9-9e349f71aba4"
      },
      "execution_count": null,
      "outputs": [
        {
          "output_type": "display_data",
          "data": {
            "text/plain": [
              "<Figure size 640x480 with 1 Axes>"
            ],
            "image/png": "[encoded data removed]"
          },
          "metadata": {}
        }
      ]
    },
    {
      "cell_type": "code",
      "source": [
        "# Generate audible sound file using vocoder and the spectrogram.\n",
        "vocoder = SpeechT5HifiGan.from_pretrained(\"microsoft/speecht5_hifigan\")\n",
        "with torch.no_grad():\n",
        "    speech = vocoder(spectrogram.cpu())"
      ],
      "metadata": {
        "id": "eyCCH6joo1AG"
      },
      "execution_count": null,
      "outputs": []
    },
    {
      "cell_type": "markdown",
      "source": [
        "## Final Output\n",
        "This output is somewhat robotic but it accomplishes our end goal"
      ],
      "metadata": {
        "id": "0e7b3YyGzq8A"
      }
    },
    {
      "cell_type": "code",
      "source": [
        "# Load the sound file.\n",
        "from IPython.display import Audio\n",
        "Audio(speech.numpy(), rate=16000)"
      ],
      "metadata": {
        "colab": {
          "base_uri": "https://localhost:8080/",
          "height": 75
        },
        "id": "Zn-7jVxQpOXr",
        "outputId": "627560f0-0bd7-465e-d970-fce1777550ac"
      },
      "execution_count": null,
      "outputs": [
        {
          "output_type": "execute_result",
          "data": {
            "text/plain": [
              "<IPython.lib.display.Audio object>"
            ],
            "text/html": [
              "\n",
              "                <audio  controls=\"controls\" >\n",
              "                    <source src=\"data:audio/wav;base64,UklGRiTUAABXQVZFZm10IBAAAAABAAEAgD4AAAB9AAACABAAZGF0YQDUAAABAAgAAAAGAAUAAgAEAAUAAgAFAAEABQADAAYAAQAGAAIABQACAAUAAgAFAAIABQACAAUAAgAFAAIABQACAAQAAgAFAAIABAACAAUAAgAEAAIABAACAAQAAgAEAAIABAABAAQAAgAEAAEABAACAAQAAQAEAAEABAABAAQAAQADAAEAAwABAAMAAgAEAAEAAwACAAMAAQADAAIAAwABAAIAAgACAAEAAgACAAIAAQACAAIAAgACAAIAAgACAAIAAgACAAIAAQACAAIAAgACAAEAAgACAAIAAQACAAIAAgABAAIAAQACAAEAAgABAAIAAQACAAIAAgABAAIAAgACAAEAAgABAAIAAQACAAIAAgABAAIAAgACAAEAAgACAAIAAgACAAIAAgACAAIAAgACAAIAAgACAAIAAgACAAIAAgACAAIAAgACAAIAAgACAAIAAgACAAIAAgACAAIAAgACAAIAAgACAAIAAgACAAIAAgACAAIAAgACAAIAAgACAAIAAgACAAIAAgACAAIAAgACAAIAAgACAAIAAgACAAIAAgACAAIAAgACAAIAAgACAAIAAgACAAIAAgACAAIAAgACAAIAAgACAAIAAgACAAIAAgACAAIAAgACAAIAAgACAAIAAgACAAIAAgACAAIAAgACAAIAAgACAAIAAgACAAIAAgACAAIAAgACAAIAAgACAAIAAgACAAIAAgACAAIAAgACAAIAAgACAAIAAgACAAIAAgACAAIAAgACAAIAAgACAAIAAgACAAIAAgACAAIAAgACAAIAAgACAAIAAgACAAIAAgACAAIAAgACAAIAAgACAAIAAgACAAIAAgACAAMAAgACAAIAAgACAAMAAgADAAIAAgACAAMAAgADAAIAAwACAAIAAwADAAIAAwACAAMAAgADAAIAAwACAAMAAgADAAIAAwACAAMAAgADAAIAAwACAAMAAgADAAIAAwACAAMAAgADAAIAAwACAAMAAgADAAIAAwACAAMAAgADAAIAAwACAAMAAgADAAIAAwACAAMAAgADAAIAAwACAAMAAgADAAIAAwACAAMAAgADAAIAAwACAAMAAgADAAIAAwACAAMAAgADAAIAAwACAAMAAgADAAIAAwACAAMAAgACAAIAAwACAAMAAgADAAIAAwACAAIAAgADAAIAAgACAAIAAgADAAIAAgACAAIAAgACAAIAAgACAAIAAgACAAIAAgACAAIAAwACAAIAAgACAAIAAgACAAIAAgACAAIAAgACAAIAAgACAAIAAwACAAIAAgACAAIAAgACAAIAAgACAAIAAgACAAMAAgADAAIAAgACAAMAAgACAAIAAwACAAMAAgADAAIAAwACAAMAAgACAAIAAwACAAMAAgADAAIAAwACAAMAAgADAAIAAwACAAMAAgADAAIAAwACAAMAAgADAAIAAwACAAMAAgADAAIAAwACAAMAAgADAAIAAwACAAMAAgADAAIAAwACAAMAAgADAAIAAwACAAMAAgADAAIAAwACAAMAAgADAAIAAwACAAMAAgADAAIAAwACAAMAAgADAAIAAwACAAQAAgAEAAIAAwACAAQAAgADAAIAAwACAAMAAgADAAIABAACAAQAAgAEAAIABAACAAQAAgAEAAIABAACAAQAAgAEAAIABAACAAQAAgAEAAIABAACAAQAAgAEAAIABQACAAUAAgAFAAIABAACAAUAAgAFAAIABQADAAUAAgAFAAIABQACAAYAAgAFAAIABgADAAUAAgAGAAMABgACAAYAAwAGAAIABgACAAYAAgAGAAMABgACAAYAAwAGAAIABgADAAcAAwAGAAMABwADAAcAAwAHAAMABwADAAcAAwAHAAMACAADAAgAAwAIAAMACAADAAgAAwAIAAMACAADAAgAAwAJAAMACAACAAgAAwAIAAIACAADAAcAAgAIAAIACAACAAgAAgAIAAIACQADAAgABAAJAAIACAAEAAkAAwAHAAUACQADAAcABAAIAAMACAAGAAkABQAIAAUACQAEAAcABQAIAAUABwAFAAgABQAIAAUACQAFAAcABAAIAAUABwAEAAgABQAGAAMACgAGAAgAAwAMAAQACgADAAsABAAIAAQACAAEAAcABQAIAAUACAADAAcABAAEAAQABAAIAAcABgAEAAYABQAGAAUAAwAGAAEABAAAAAYAAQAEAAAAAQAEAAIABQAAAAEA/v8HAAAABgACAAIA/v8GAAAACAAAAAIAAgAEAAIABQADAAAABAAAAAcABwAGAAYAAAAAAAAAAwD+/wAA/v8HAAIABwAEAAQAAAACAP//AAAAAAMAAwABAAcAAQABAAIA/f8AAAAAAAD+/////f8AAP//AgD///3/AAACAAIAAQABAAIA/P///wUAAAAAAAEA//8EAP3/AAABAAIAAAAEAPv/AAAAAAIA/v/+//7/AgD///7//f///////f/3//r/+/8BAP3//f/+/wIAAQAHAP//AgAFAAIABgABAAMAAgD8//3/AAAFAAIAAwD5////AQABAAAAAQD///7//f/7//7/AAD4//r/+v/3/wMABwAOAA8ACQABAAMABAD//wAA+P8BAP//AgAEAAkABAADAP7/AAAGAAcABgAFAAMACAAAAAAA+f/1//D/9P/3/wAAAAAAAPj/9P/y/+7/9f/8////BgAGAAIAAQABAP//AwACAAUABQACAAIAAQACAAAA//8GAAQABwADAP///f/6//P/+v/5/wEABwAKAAUA/v/y//b//P8FAAgACgAEAPz/9P/v//n//P8CAAIAAgADAP/////1//X/9f/7//z//v/5//7/+f/3//r/BgAOABoAEgAPAAkABAAAAAIABAAJAAkAAAD5//L/9P/3////AAAGAAoAAAD///n/AAAHABIAGgAfAB0AFgANAAUAAgACAAEAAQABAAIADAAaABwAGQAMAAoABQAGAAQABwAJAA4ABwADAPj/8f/o/+3/8f/5/wAAAAADAPn//f/y//f/+v/+/wsADAAOAAUA///v//P/+v8GAAsAAQD8//L/8//y//X//f/4////AAAAAAIAAAD+/wEA/f8AAAQABwAIAAUA+//7//v//f/8////+//5/+//9//4//3//P/5//P/7P/t//f/AAAFAAYABwADAAUAAAAFAAQABwALAA0ACwAFAPX/7v/v/+3/6v/r/+z/+f/7//3/+v/9//7/CQAQAA4ADQAIAP7//P/8//z/AAADAAYACwAAAPT/7//0/wAAEAAVAB4AFQANAAMABgAFAA8ACwARABUAGwAZABYACwALAAQACwASABIADgAIAP7/AAD//wEA9//x/+3/7v/+/wYADAATAAoA///9/wAA/f8BAPb/+P/u/+n/6f/u//X/9f/t/+7/4//o/+b/7f/0//r//v8IAPz/6//h/9//9f8EAAoAFQAQAA0A9f/0/+f/+P8HACIANgA1ADAADwDz/93/5f8HACIALwAnAA0A4P+4/6H/sP+6/9z/8f///woADQD8//z/7f/0/wgAHgAmABgA/P/t/+r/7f/6////EwAJAAUA8P/0/wMAEAAbABIAKwA0AEYAPQA5AC4AKgAlADgAOQA/ACAA9//Q/73/zP/f/+7//f/3//j/DQAoADMANQAeABUACAD7/w4AJwAuAD4AHgAPANj/v/+h/4P/nP+u//z/QgCAAHYAVQAnABEALQAZACcAHAA/AEQAIwAoAEAASQAfAOf/w/+z/9X/9P8KABkAFAD9/8f/oP+U/8T/BgAbACEADAAAAPP/5//g/xMATAB3AHcAVQBMABAAyf+x/7T/3f/Z/7v/xf/t/yYANQAdABMA5v/J/9z/RgCJAHYA3P9u/1z/iv/w/wAADQDZ/8H/2P8xAKgAvgC6AFoA8/+e/37/pv9XALoA1gCNABEAxf90/yz/Ov+c/x4AnwDfAM4AUwCa/zb/Ff9o/8//MQBFAB4Azv9n/zz/ZP+5/xIAQgBkAHkAawA/AAEA3//5/xYAOQACANH/g/+C/5T/rP+k/5T/q//J//H/DgANABwALABNAGYAfgCLAKQAsQC/ALUAugCwAJ4AggBtAJIAlABfACAA6P/0/wIAHAAdAFEAtgDzAPEAkgD1/8z/q//d/wEAewAPAVgBOQGtAE0A1f+j/yX/o/5e/nj+Cv8z/x//fv79/c392f1c/h3/7v+MAH4AJAC9/5X/hP9c/5n/0/88ACgAwf9C/xf/EP8a/zP/Yf/U/9//2P+2/9f/HAB4AMoAFAE5Ad8AXQDK/6L/fv+G/0//PP8+/1b/fv+c/wkANgBxAG0AvgAEAWIBdQFuAUgBBwGaAEkA/v/G/5r/bP+2//H/WABxAFQAJgDz/2gA+wCuAZIBTwGhAFIAKQDm/8r/kv+U/3//t/8XAFAAhwBJACcACQDz/wUAGgA9AIAApACuAIcAOQD6//b/SwCcAKYAWgD3/5X/bv9i/2z/pf+7/wAA9f/f/3r/OP8M/+P+CP9O/xMA3ABIAUcBvwAlAIT/+/7N/k7/vv/D/0L/hf5g/ob+7v53/5b/5//0/zcAYQAnAKj/Yv/5/7IAOAEgAcgAVwCb/3b+A/7u/qQAIAJDAo4BowC8/8D+Mv6c/hcApQFYAvIBxACd/4n+/f1r/p3/IAGlAVMBXwB//87+of4a/8T/TACAABIAqv9o/3b/4v////n/w/+N/2T/K/8w/3L/9v9JAJAAkABYAAYAZP9k/3b/GAA4ABoAHADW/wIAh/98/6n/FgB/AIIAYQA0APf/n/+u/9z/HgAOAPD/9/8nAFMAGgDo/67/iP9y/4D/0P8xAJYAmwBkAAcAwv/J/8L/7/8RAGMAdwCWAFYAIAD+/+v/FgBrAJQA1QDSAKsA6QCoALQAmADGAOkAMAFAAT4BBgGJABIA8f9mAMIATwEkASgBnAAGALf/GAA4AXEC5wKaAkgCEgJ+AmMCSAI2ApcCmwIgAogBWAJoBHMGXweNBZwCOv9c+yr4yvbv93L7PP3G/YX8Fvyb+wT7Vvsi/XEAjwIgA9MBpQAi/7P9o/xw/Pj8G/0P/WH8N/zg+9375fs4/J38Lf1Y/tX/BQGNAQgBnAAfAOT/aP/B/p/+1v7u/kr/T/+j/8v/LQBYACsAJgAHACUAdwD0AHUB4wH/AfYBvwFgASMB5gDRAMAAxgCCAA4AyP/c/xYAfwBuADgA1//c/5AAXgGwAUoBqgAIAMf/z/8kAIEAZQDl/1D/VP/k/0EA7f/t/3UAIwE4AY4A/v8LACMAj/+L/0YAfgEJAl8BlwA9ALYA9QDyAOsADAEVAdkAjwCiAOgAxABLAAoAPwB2AFIAewCdAOIA1ACZAEsADgDq/xoAEwB6ALsABAEEAWUAx/9P/5P/2v/q/9z/5v+X/zP/vP60/tP+J/8r/1D/2P84ABQAkv9X/03/2v8wAMcAmgENAnECpQK8AhIDbgPZA6EEVQWuBe0FVQZ/B80H3wahBHcCCgA+/Nj33vQ89Vb4WPxn/x8BngEDAX7/C/7y/TH/EwG3AVwBOwAI/9P9Kvx9+mz5SPnH+V/6o/pe+wP8OvwF/Pb7bvyH/dT+Gv+7/rT9vfxf/Kf8e/0y/n7+Bv4W/R782vtW/Ib9o/4+//P/mQAZASkBzACQAEsAYAD1AK0B5wLNA0UEnQN+AioBCwCV/+n/0QDMAUsCPgK+AfwAGwDL/zsA8gDaAUAClAKoAjQCjAGfAFAAXAD5AOIBgwJFAqsBtQDX/5r/hf/G/x0AbQCMAL8ASQFiATUB9wACAUsB0QHlAZQBOwH/AMkANwDJ/6T/0v8mADkAGgDW//b/cQC3AL4AkgCkAMsA3gDzAAYBMwEXAe0A9wASAfAAngAzAO7/9/8vAFUAgABZAN//AQAzAFAAZABDAPb/zf95/4T/rP+u/+b/tP9v/0f/4v6r/tP+/P4R//D+cf41/kf+hf5Q/j3+af76/pT/3P8LANf/0f+O/9T/JQBWAH8AUgAXAAkAMQAgAMv/gf9c/1r/7v8oACMAVgCeACUBQQEuAXgBpgHrASkCCwIfAlYCZgIRAuYBmgGcATMB2QAjAKH/jv+W////LQBfAGoAzwDFAAgBPgHsAVECOgKZAWcB7gFCAp8CYQKTArMD9QRUBtYHbQnlCnIMpw2bDrUMZQVp+fXuA+ub7fXyRvfK+wz+b/0i+kr3VPiQ+33//gCuAowDcgQJAxIArPwt+gT5Efgj+Ej4S/lQ+kP6Dvqs+d35kvo2+xj8Hv3r/tYAAgJSArcBywCr/8n+ef7D/pz+XP42/i3+if4Q/pT99/2Y/qj/SgCnAHsB8gG0AQ0B2ABtATICLgL1AZUB3QBYAAv/Bf4V/nH+HP/P/xkABgFvAX8B8gBwAFcAIAA5AOf/DAAbAF4ANQA8AC0A3///////ewCXAKUAeQC7ANgAdABBAB0AYwBYAJ8AygAUAVsBZgEzASYBbAEYAkICHALKAfgAZwDM/3v/NP8//73/7f8MABcA9P+P/+j+x/6d/6IAjgG3AZoBlAFVAZQA9/98/9L/OAC+AOwAhgAaAIn/V/9C/zn/k/8VAJgAvwDGALIAowCFAEkANAACACgAs//4/rf+Mv9i//P+xv7s/sn/XgCDAKcAHAFcAQ8BrwBsAMoAqAB5AEkAawDRAMoA+wAgAU0BWgFwAZYB6gE8AgICugGQAdABxAFqAWYBnQHGAZUBWQFgAYUBtgGQAS8BcwGZAY8BcQEUAS8BOAGDAacBrQF8ATwB6P/s/f/74voh+pL5lfqj/0YGywlUCHQDgACY/jsAbQLnB8sM8g2fCu0E2AC4/ir+//3W/tj/2P8e/+r9M/61/TD83/lj+a36MPzk+zP7wPqe+kn6//nE+sX8Lf9gALwAbADM/1f/KP6L/Rb9lfzW/M78mfza+8H6PPp5+rf6b/tE/Fj9Mv7u/iX/X/+Q/1X/g/+C/77/tv/S/6L/df/0/mH+Rv4R/nL+if5B/xIAmADzABwBMQEzAcUApACnABwBkwFgAUoBYwHhAdoBlwFuAZEBpgFMAc4AYgC6AMgArQAoAMX/FwCIAA4BSgHBAT4CYgLgAZYB2gECAh8CBQK/AkcDFANLAvgA2P9N/1v/4f9nAe0CwgOsA2ID7QIdAgoBQAAWAGIBdgKXA/0D3gPhAs0ATv+2/j3/1v/1/2oA/wCrATsCOwIMAkMBEAFtADgA/v/g////mv9D/6f+tP6l/hH/y/6c/mL+av6A/sv+Ef/t/nf/HP8D/8j+nf75/mz/HwBGAEkAGwB6AIcAlAB2AFQAgQDOAEEBZQG7AWsB8ABhAP3/pv9Z/6D/+v+OAKQAtABKAP7/lf/j/8IApAESArEB6QA4AO//xP+e/8H/z/+g/9z/+/9cABYAOf8c/j397/wK/Yz9Sv7u/iz/5/7O/nf+VP6k/m7/jgAfAVsBdgGNAu8DbAWAB6QJwAvJDaAPdBAyDdkDMvjx7t/t2+8T8/D0vfcf+pX5vPYG9SH3XvrR/W/+4v+YAVAC7QF2//j92/x+/Gv7g/p7+kD70Pvq+w78IvxP/FP8bvyt/Pf9g/8yAS0CKAKbAesARADI//n/uwCwATsCGwKnAWcBEgGdANoAkwHzAggE1ARBBWIFwwTqAyIDDQNwA6sD1gPhA4oDgAITAcr/Ff/k/rb+JP/V/9AAhwG0AZcBIAFOAM7/D/+8/uT+EP8y/yr/7/5w/kH+7v20/e79n/7L/9kAfQE+AbQA2v93/6//5v8pAGcAtQAhAV8BMgHnAPIA7QDBABEAqP9//9f/MwBXAH8ApQB3AN3/VP9a/1D/Qv9X/3j/+/9sAEcA8/+R//X/HwD4/7f/u//4//v/5/+L/zv/Ef/v/o/+J/4F/kb+uP4O/1j/ef+5/8j/yv/M//7/awCkAHwAXwAqAPP/oP8w/+v+z/6R/m7+U/4E/jL+aP6j/uT+Nf+m/8D/AgBNAFgAoQCDAEUACwAaAEEAawCJAH0AiABtAEUA+//v/wAATgBGAFgAXgCJAMYArACCADoAGgA5AFwAbwCbAMYAsQCgAJkAmwBsAGMASAAvAAkA0/+4/5//if9c/27/P/9q/yT/G/8h/3j/wf+1/+X/JgB0AJYAaQB4ANwAGAEVASMBYwGaAR0BCQAr/xv/Zf/5/0UBdAS8CCQNZw74C3sGPQGV/jz+B/6z/XP+yv8fABP+sfs2+878I/4A/oT9yf3p/h7/jv6+/UP9Fv1p/MH7Uvsj+8j6pfrF+rb6kvqq+pj7Yfwa/Uf9nv1F/oX+lP5i/qP+Tf/s/y8AlACrAJEAFgDx/9L/3/8OAGEAKwGyAQwCSAKuAugC3gKkAtICfAPiAywEFQRdBDMEoQPRAlwCGgLjAYYBoQETAjkCKQLoAbwBoAFOARUBBQF9AfEBOwKrAtYCnALRAdwAJQC//3f/Rv+C/7P/8/+x/3j/T/9e/5z/2P9OAOIAIQE8AVcBgQFgAWEBGgEQAVUBXAEfAZwAOQC6/4L/h//C//D/LQCCALsARAGeARwC4gHXAW0BKQELAfIAEAG5AEwA/f+5/57/lf/Y/97/w//J/5X/p/+D/6X/PACyAAwBEwEaAfkAqgAKAKP/dP9h//H+lP6j/qP+vP6l/oP+vP4M/0T/Rf9T/5X/1/+X/5f/rf/a/9//6f/m/wcAKQDz/+f/AAA0AFoAfgDAAOoAGwHvAMkAhwBjAB0A+P/z/+L/y/+h/3L/ff9//5z/jf/S/9z/1P/2/wQATgBCAA8At/+N/1X/MP/z/tr+5v7r/rL+Xv4N/rv9nv2U/an96v1X/sL+Av8j/zv/kv87AMQATAGSAdMB+AEbAswCagNlBB0FSAaRB5QIrgn2CQgIlwOx/Rb6Gfp9+1r8DPw7/Cb9KvwT+lj4tPjO+X76j/rs+rP7+Pso/HX7SvsC+8n6gvpm+gr7V/v8+4z8E/1V/S/9Pv16/fb9cP5H/zgAIQGpAdwBrAH9ARcCVAKEAgQDWQOXA3kDVAPsAoYCKQL6AR0CTQKJArQC5QLiAqUCkwJMAnECZwKGArMC0gKdAkIClwEpAYQAJQDq/9f/nP9Y/wz/qv5y/iz+5/3v/R/+T/6P/sH+Bf8K/9X+e/6F/ln+J/4T/hr+h/6g/q3+kP73/mL/vv+o/5//4P8+AKcAuQDpAAIB1gB8AAwALAAhAPz/sv9H/x7/Gv8E/+v++P6G//z/GgDN/6f/w/8NABcAAADm/97/7//c/8X/wf///ycAAADO/6//vv+y/8H/yP/6////5P+O/17/SP9Z/2D/WP9o/4H/mP+r/6L/ef+B/6P/vf/j/wMAKwAMAPT/6P8DAE4AWwAkAOv/wv+o/5v/qP/c/yQASgBaAD8ARABaAIsAlQC6AKsAywDZALsAkwBCAP7/+f8NACsAOwAaAP3/LgBhAIAAlwAXAYIBpgE3AesAwQCgADIA9P8RAFwApAB5AFYAJAADAML/kf+m//n/hgDbADEBYgGJAVABNQEUASABOQH/AJUANAAQAFMAkwC8ANwA0wDCAFwACgDj/93/LgBrALUA+gAIAdwAagAAAMH/4v8wAHUABwGoARoC+gGMAVsBSwHcAHAAQABlAGwA1f8S/7D+cP4C/nn9Iv1y/Xn9VP30/On8Kf0X/Q398Pw7/ZX9pf3J/Qj+N/4a/ub90P25/Vn95Pzi/Fz94/1R/qP+7f7s/uz+yP4t/8b/dAD8ADwBggGgAc8B7QE6AnACnwKQApYCcgKFAqECxQLMAtEC4gLlAt0C+wIQAx4DOAMlA+0CmgJZAjoCOgIWAioCFgISAvMB3AHSAZEBXwFoAakBEwKAAqQCsgL8AhwDHwPnAoICOgLYAecB3gGaASUBWAHoAiQEYgTmAywEqgW6BtwGEAYSBbgCvv9v/Bz7N/uY+0X7Bvoz+U/4K/fy9Tb1WPXF9fr1RvbY9s73p/hp+Vf6KPst/Mz8h/02/uP+qP8/AAMBvQFMAskCLQO7AwkEWwRNBJcEhwRwBG4EpwQOBR4FmQRQBEUEPATfA8ID3wNQBG8ERgQSBA4E4wN9A/kCcgIwAuQBmAELAYUASQBCAFAAFQDU/5H/Yf82/1//lP9p/5v+0f2i/en9F/6+/WX93vyA/MH7HPvf+gv7cfu6+8X7uPuV+1T7k/u/+zH8xPw6/d79Z/7S/iD/Z/8cAG0AlgBzAHcAyQAOAUYBbQHmAfsB1AF8ATQBUgEWAQ0BDAFkAY8BjQFMAToBRgFHAToB+gD2AOQA7QANARABHQH4AMUAqgB+AGwAcACHAKAAXwBeADwACgDU/47/mP96/3D/Tv88/07/Sv9h/4D/pf+k/0z/Cv9X/6b/0v/m/xEAPQA8AAkAkv97/3v/oP+U/6b/vv/N/5b/Y/9k/3n/k/9+/5T/sf/L//7/DQAsAEkAQgBFAC4AKAASAO7/xv96/1L/Lv81/x7/1P5w/hn+k/01/TD9BP3Y/I/8Wfxl/EL8WvyB/N38Of1e/WL9eP3q/Vn+xP7Q/gn/Jv8l/3r/wv8nAIAAnQC0AOsAQQFeAZgBuAG4AbkB1wHOAZwBeAFzAX8BqgH1ASoCNwJXAkYCSwI9AlMCmgK5ArACxQK0Aq0ClQLFAqoCnQJzAigCFwKjAa4BugG/AZcBVwEhAcsAZwDj/77/xv/d/9X/1/8iACYAIwAiACgAWgCiAOYATwFtAYYBtwGPAcMBzAHVAdIB5QHUAdgBzgGdAX8BmAGCAWQBLAEHARAB3gDGAJsAnACTAHgAiQB2AF4ALQAAABIAVgBAAM7/UP8N/yn/Nf+7/xoAnwByACMA1//b/yMAoQAtAcQBGALIAdEBbgLwAzEFLQZiB+EIgAp2C9ELfwpXBlL/QPl492j5SPud+r74wfdx9VDyDO6h7SXvm/F28vjxOPJu8vfyvPJt8/7zxfXy9iT4qvnH+q38TP7f/94AYQEJAuQCgAQCBmcHYAjQCPAIvwhyCF4IawjWCFYJ7gm/CUwJhAifB8gG/AWIBcQFIwZDBigG3AVfBfYECQSfA7UDMQRmBEoEDQSXA/oC4AHUAPX/bf/h/lb+of3+/KD8IPyC+6n6IPq9+Yf5ivll+cD5/fkc+tD5a/ku+TX5Mflr+db5Pfrd+kT7k/uc+937MfyV/FT9Fv6T/hv/f/+3/xEATQC5ADABdgFzAWEBSQFKAYMBjQG0AYQBgwFAASoBQQEsAU4BdgFRAf0A1wCZAJwAngDJAP4ASAGNAYUBiQHPAfgBJAJJApIC3QLpAv0CCwNFA0EDXQNDA/8C9gLuAjcDZwOGA8IDyAOkA0gD3ALjAuACzALLApoCsgKHAksCuAE6AfkAuQC4AGoAMQAvAEQANwDt/3X/C//2/iT/HP87/3T/BQA9AM7/fP+V/1AAOQH9AVACXAO9BHcG6Qc3CRYKxQr6C+4MTA4CD9EMcwZR/Vv1tPSf+FD9ufyS+CP1l/E+7sfpheoC78Pz7vNa8Pvt0+w97f7ssO6y8RL1GfaF9ZD1R/eT+S77KP1c/2cB9wENAsICmwQWBiwHywdnCIUI2Af1BkoHKAjvCAoJfAgHCCwHaQalBcoFnAbTBgEHYwbsBW0FmgQ/BKEEBAWSBXUF7wROBG8D2wJJAtcBRAEGAbYAGgAY/wf+Iv2T/P/7nfto+3b7bvvx+g76c/ni+Ov4Sflq+Zv5r/n++eH5svmS+fn5f/oD+zT7qftN/Jf8Kf1E/YL9+f2y/jH/qv/Z/6z/hP9I/3P/jP+2/93/MgAjAP//v/+c/7P/AwCiAPoAGgEzAesAhwAJAMj/2f/O/wwA/P/L/6v/ov+P/3b/av+E/4//lf+7/27/Rv9Q/2b/tf/k/zwApwDjAAkBFQEuAXMBxgEbAqACxALjAswCsALfAhUDLQOhA9QD0wPQA9UD4AMBBB8ESARFBFcEOATCA6MDUAM8A2IDhQOXA4UDhANAAwUDkAJ1ApkC6QIBA/wCxQJ7AloCPgISAsEBmwFRAS8B2ABzAOv/X/8J/6r+eP4P/oz9ff0M/UL9R/2c/bj9qf1N/ZP9dv54/0YApQAUAvUDmwUyBgAHFgigCuUNkRAKEOMIC/188kvxgPfD/ab9Bvna9CLxpesl5t/muO0h9fT1WPBu7JHqJuza6yvtu/BC9UP47/bB9bT1sPiJ+yD+dwDkAtUEkQW2BRgGOwdxCM0Jiwo5C+oKSgpICWwINwhQCGUIUAi6B8sGcgXVAyUDFwPlAxwERATWA/QC4wG7APoAuAFAA64DUwMlAvEA5f/P/nX+ov4K/+z+9/12/Iz7sfo0+in6GPqG+jr6vPmh+Ef4UPjz+Dr5cPmC+WL5Ofk8+cX5tvrH+xb8D/wE/Mf7C/yp/I79U/4s/8v/AgD3/9T/EACLAB4BbQEKAkQCcQI+AooB/gDxAEUBlgHpAZsBLQFqAML/dv9T/3f/zP8aAA4AtP9N/y7/K/+X/xcAhQDSAKQAKACy/yT/Bv88/6H/fAD4ACYBSgFWAX0BdQHrAbACTwMcBCQE3gM4A9UCzAIAA44D9wOCBFAEMwTFA2wDdQPMAz4EfQStBI0ETgTbA3kDOQM5A6cDuwO0A28DTQMTA8wCnQKBAtYCGQMJA6ICOwLkAdgBwwHEAcsBtQGeARMBwQBuADgADQDz/83/hP/u/jP+vP2K/ab9+/1+/sv+i/6y/U/99/1//z4AuQA1AdQCfwR1BQcFVwWmBscI3gtNDWwMgwVa+rrxEfJF+e7+Uv0E+O/zBPEC7d/p9euV8sT3jPVa76jq1uvi7SvwqfDr8g72L/ew9rT1Ivit+wsA9gEVBKcF7QaqB6MH+Qh9CsMMaA4aD5YOWw0RDK8LIQwYDSANugyxC7AKoQkdCBMH9waJB8cHBgfcBYcEmAPcAlgCcAIFA4oD+gJeAYz/hP4i/sf9V/33/K/85/vc+oj54vh2+Kz4iviX+GD4Nviy90v3QveS98b3Ifhl+Fr4lPiJ+CL51vmL+h77mPsF/Cj8wPxS/Tj+5/6E/wkAnQD+AE0BaQGdASsCIAI8AmACQQJYAhkC+AHXAeUB9AHAAW0BAgHuAKMAdQASACQAJQAqAC0Atf+J/2X/m/+y//X/w/+L/0P/HP85/0D/Xv9x/+3/6//4/+n/7/8nAE8ArwC3ACABWAFxAe0BKgJzAtECzQINAy4DIwOEA4YDrAN0A2QDewOUA88D/AMWBOIDwgO7A8kDxgPbA9YDxgPBA68DlAN0A58DrAO4A3EDGwPFAqMCsQK7AqwCtAJ0ArgB5ABpACUALAAjAAcAkf9c//T+m/56/iz+UP45/lb+SP7S/Vr9sfx2/Hr8jPyc/HP8Jvy9+4b7bfsT/Ff82vzD/HH9Lf74/kz/iP8XASgDKQXXBSwGkwZZB7gI6QnPCLYCQfiZ7ubtVfTM+y78+vd09P3x1O2A6OToTu9H99H3BvII7bfrIO5e7yDyU/Ut+sb7oPqb+b/6xf6kAo0F8ga3B7cHEgivCCQK4gs8DfQNvQ1ADZIMUQwhDHUMWAxvDAMMKAsXCk8JeAjRB3sHQwdhB9cG8gXOBL4DxQIkAsABxQH3AXQBcACj/jP9E/ws+736e/pJ+ov5ffh897P2ofZe9rj2xPbr9p/2dfZO9nb2Mvc1+GX5Ifqc+t36OfvH+9P8Gf6Q/64ANQGSAYkB4AE3AssCXwMPBMYE4wTcBHIEMwTxA7MDkQOqA8ADoQMFA9wBAwFaAAYAMABXAFQADwABAIz/Fv+M/mH+HP4y/kX+1P6Q/7z/rv/a/jz+Cf54/rr+Iv9Y/y7/7v5r/ib+Df5v/tX+if/h/x4ABQARADQAdAD0AGAB0QFPAnYCrgKyApYCuALSAjsDnQP7A1IEagRsBEsEFwQYBBoERQS/BNsEtwR6BDUE5QOsA7sDEwRQBJMEmgSkBJYEmgSFBHIEWwQrBOEDhwNcAz0DBQPiArUCOQLaAZkBUQElAfMA0QChAJEAHQCX/4f/k/+n/5b/X/8p/9v+6v65/v7+Ff9K/wL/rf4e/vb9OP58/tP+qP6p/jn+Rf7V/fH9B/6h/iv/Vf/5/gj/qP+LADkBfAEnAmsDPAXlBW8GsAbmB28JlwpBC+gJKQXT/CP1kfI59Wn4p/iZ90H32vWD8vftCe0279Xyq/Ki8JzuS+4B71jvTfDc8Yb0IvZy9+L3jfnZ+x/+ZgBJAZcCfwORBJgFjAayBxIJXgotCxcLggrYCfsJmAo1C1cL4QqZClwK2QnMCM0HeQfUB/MHqAe2BvMFFAX3A/QCPQI8Ao4CaQKxAWsABf9x/Ub8Zvsf+zr7Gfve+t35Nvl++FL4KPgi+IH4sfiX+Db42Pf995v4LvkE+q76U/vI+/z7bvwV/Qz+4f6D/+z/OQCmAMwAZAHUAYMCIAOVA8YDBgRkBJME+wQDBRgFSwVBBTEFtwRJBNcDqQNLAxoDTgPOA+EDxQMbA4oCDAL2AQECPgJOAi0CBQLYAegB4QG6AXABbQGNAaEBcgEnAfUAqACLAEcAPQAtAEoAHgA7AC0AgwB/AIMAigCWAKcAlADOAN4A6gDzAJcAfQBxAGsAKQDF/3n/NP8p/xL/ZP+Q/3b/of/H/xEADwAcACQAlAADASYBCgHsAOkAkABsAHMA3QAHAXAAGQAeAL4A4ACKAMMAOQGFAewA7f+i/7H/IQAhANj/q/+v/9f/8f/G//P/UACwAM4AdQAmABYAXQBuAGsAYQBYACMAof8+/1//xP+y/4X/Hf8o/xL/6P7H/r/+DP/e/oT+Gv4l/m7+qP7B/tP++f74/vj++v5K/87/AAAeADYAIQASAEcAeQCyANsA7AAoAS8BKAEJAUUBfgGSAWIBRgFYAT4BFwGnAGgANgARAAEAFQAMAAAA4/+2/5D/a/9q/zL/Vv9j/0X/Ff/d/t7+3f6//qb+q/6J/pT+Wf42/vz9Df4U/v795/3g/e797/23/Wb9aP12/aP9zf3R/dv9zP2w/Wf9hP3D/Qb+B/4X/k7+ef6C/j7+P/5U/ov+u/6z/uX+Hf83/0j/XP+h/8D/2f/s/xEAUwB0AJoApgDNAOgA3gDpABoBKAFMAXUBiwG9Ae8BAAIIAvsBGQJDAjkCNQLtAfYB9wH3AfUB4AHzAQUCvwGpAZYBgQE6ATcBEQEFAdwAlgB5ADcANQAbAB0Axv+8/6n/mf+N/3n/v/+2/+f/4P/z/wgAFQA3AGcAowDLAO4A8gAlAVIBiAGqAdEB7wHlAfcB5gHuAegB+AHeAaQBmAGPAYMBOwE7AUgBSwFVAU0BWwFMAUcBSAFSAUABQgH4ANYA/ADfAIcAKwDL/7X/uv+d/1r/E/8J/8z+v/6j/tb+Q//k/1kAaQCBALYAVwHGAYgCrgIBA2UDYQPuA5cDGwMRADL79/Vg82n0rPae99n2+PWc9U/0d/Lj8IvxwPJi80Xy9fCN8HDxfPLB8y31o/bu95H4QPlx+hL80P23/1cBUwKvAu8CqAMjBW8GugdBCLcI0AinCCgIIAjKCHUJ2Qn/CZoJUAm7CHUIagh7CGEIDgiXBxcHQAZNBakEOwQCBFYDYgLWAUABewBd/3n+b/2Y/J/7tvpO+tn5kvn6+K34Yfgo+Mv3lfep97/3sven9wj4h/gl+X/52PmG+hr7dfvt+6b8vf1i/t/+Qf/T/2EApAAlAagBcgK9AvgCRwO2AxkEBgTxA8oD1gO0A2YDFQPzAqgCTwLNAV8BWAEsAQwB4AC3AH8ANwD+/6f/R//I/pv+Yf4P/ur9Cf4H/uz90v2f/bD9f/1c/VH9bf2C/V39S/0m/Ur9VP1E/YT93f1U/sn+4/7u/uv+XP+f/8f/6P/2/xEAOgCvAOUAFAEVASABRAGCAaQB2QEmAiYCUgJKAkgCnQLMAtQC3gK3AtkChgJtAkECQgL4Ac0B9AHgAckBoQFvASwBMgEdAe4ApABLAAEApv9T/1z/Rf8d/yL/Uv9m/0//O/91/9T/5f8JAI3/i/+P/7//9f8nAGkAcwB2AD8AWgCzAOsA7QA2AXYBnQFdAUcBeAGcAdMBDQL9Ad8BxQGLAbMBlwGcAbUBXwFLAQAB9AD+ABwBSAErAT8BwQBjAL//iv/x/+r/u/9w//P/ewCHAPb/EABTAVYCoQHN/87+KP+B/+r+K/4s/iT/Zv9s/8L/LgAEAc8AaQBNAM7/j/+A//L/NgA6APP/2v/o/wYA9f/+/5T/eP8//yn/Cf+c/qT+hP67/q3+j/5z/rL+uf63/ur+9P7k/n7+i/57/q3+qv6k/uD+9f4U/9r+2v7h/kP/Af/Z/s3+8/4a/9H+zP6x/tf+Hv8N/0P/aP+O/4b/uv8pAIQA9QD6ABsBZwFBAWgBRAGoAZsBaQEgARIB3QA8AN3/S/8R/7T+SP5g/iX/fv83/6r+g/4m/4T/K/+u/qP+zP7l/rz+q/4o/3P/nP/S/6T/HgAeAM8AqQAhAcUA2wAZAecA6QBFAKkALQCJAE0AHgA4AKD/mv/I/0UAlADEANwA9gBOAaQBqQFdAs8CYwNqA6gDxAMoBE8ElgRHBc4FWAZwBqQGlAa2BrIGtgbxBiMHLgfgBsYGnQaSBgwGuQUbBagEPwT3A6cDRgPqApIC9gFVAQEB2QDDAMIAuwCjAEAAPgAVABkA4/+//9L/3v8DABIA/f8YAAMAsP+i/7j/HQBsAJEAHgGzAaUCXAPKAxwEzgQiBW8FBQV3BNAEtAVVBhcGxwRSA/YBjv9i/Db2QeuO3ILNJ8nbzrfa5eJD51jtm/Pk9Z7wNeyF7rH3+v4+AJQACwMCCXUMWQ7uD9ASwhU+FiQUWRFxDzoPEBCXEGoPrQz0CSsIVwfIBW0D+wFGAaYA9/4H/Pj6LvuX/Ff9p/3d/S7+Pf5s/VH8B/zY/LT+NQDxAEgBeQD0/8/+Av6K/RT+KP6G/Ub85fra+ZP4C/i699730PeC9+n2ZfaC9r72wvd1+F75s/kT+n/65Pry+2L9Uv/sAC4CWgJnAgoC/AFtAnkCOwKMAcMA/P9n/xj/1P6M/x0AAwHOAbYB5AGyAQQCyAFkATQBUgGwAY0BfQFAAaIBmQGoAZABuAG+AQ8CygGOASUB7wB9AFQAdgC9ADABuQHpAVMC1gEtAQYBewBuAOP/Tf/b/tP+/P2d/fL9T/5A/zf/IAAYAI0AYgBBAA0B9ACbAcIBFwKlAoQCsgItAs4CMgP8At4COAJLAu4BSgJkArwC4AKKAiMCwAGWAWsBnQG5AZYBRwGlAOX/qf8h//v+7f5F/63/av+m/4//BwDa/w4A7//z/wcAKgBMAA0B3AFWArUC7QKJA+YDcATfBGcFsgWvBakF5ATqBJYEGQVEBUgFFwWUBNwDlgMHA5sCkgJWAu0BEQFuAPL/vv9p/xz/uP6z/uz+w/5T/zz/y/+b/2H/yv5K/vr90/0u/oj+HP93/5T/df9D/7/+kf5//in+1v3S/CD8Wfvk+of5tvcC9mL1VvWR9G3yv+6S6mPmdOLU3a3VS8icuDCzuL081/DuF//aCKgSBRjZFOoKewYoDuIXvB0zG/cbFiF+JgAmJyAqG/0WaBKCCeQANPuU+cX5W/lD+PD2HvWM8y7yO/H18ETxNfLa8w/2Afix+gD+CgKsBQAIkQhxCLwI5wiRCJ4GlwXlBPYErQO/ABb+OPye+rv4f/bt9P/0ZfRH8yHyVfFy8rXzgvXK93f6Xv3W/1oCHAQeBoMHngh8CaoJ/AnpCTsKBQoVCoYJ8AjLB+gFdQPuAPj+wP31/KL7Nfva+jT7Jvun+lv6j/ov+yT8qP3e/o8AgwH6AYcCPQO6A1gEgQR2BMUEVgTrAnsBDwDe/6T/3v50/gH9RPz1+gr5xvfw9GPz8O6T68frbvMT/kMF/gd/B2EJMQmvBff+Q/z5/5YG2AmPCUAKqw1AEVgQCgw0CMsGZwUlA8D+Cv3P/cf/XgEbAX4B1AC7/+f9/vt4+nX56/kQ++/8v/6cAI4CIQVBBqkGjQUgBN8CXQGhAJkAmAF5AlEDUgO3ApQBlf/i/SX8Wvup+jb6jvqS+xz9MP9fAb4DHwYsCA4J8ggrCIYHbgdaB1QILwnpCYoKagkhCB0GZgTGAh8BSP/7/Rj9pPyn/Kf8Of3W/W/+Uv78/bf96v3U/vH/WgFfAt8CfAJwAagAKQBfAHQBbAKoAuwBFwAZ/nL8dfrm90L1MfSD9Cj1BfOe76zr4eff4xDf6Nc4zY2/6LSou9nRNe88BPUPKBoOIRsjxhjMENYQFRu0IaEfvhvJHaUkySahInMbSBeUEb0I0fx+9MPxCfIu8mvxg/EU8YDwZO5f7RjtJ+5d77Xyk/aB+/L+iwJLB9kLoQ9hEAEQzg9LD4ENego6B1gFXAT4Aa/+w/o090r0R/G27rrt5e538L7x7vFL8hD04PWb+Fb7Xv+KA8IHygo+DVgPmRB/EfIQLhCJDtQMYAqJCD8HhgbDBU0EngL6/6H9FPuV+bz4kfgh+eD5zvop/Cj96v4WAYUCewP7AykElwTmBIoFUwbsBkgHtAbEBXEEkwJ/ANj9k/t5+k75fviR9xz35faS94D3Qfhs+Oz3UviT9/73NvZ59crwsOvA5/HoYfLl+hICUgTCBugIFgiyAwkATwHnBmgKuwqdCsAMMxGREgASrA+5DggNGwrxBZwDFgNjBGwFnwXCBUoESgKC/8/9MvwH+wr68vmV+lz76/yN/mEBlQPdBOMEWQOkAfX/g/78/cz+h/+FAFUBUQH4AMf/AP+H/nv+Lf9nAHsBcANSBVMHtgljC8AMLw29DNcLJgrDCIoHSQcgB1oHKgewBqUFHgS6Al0BNwAp/0f+tf3b/Wf+n/+TAFkB9wEbAtMBJQHSACYAmQDVAMEBcgLhAtECRAKSAXMAv/+s/ib+uP1u/QL9a/zC+kT5afcq9tf1o/Wb9RH0hvKc8Druyeon48fWtsdcwK3JgeIn/JsMDxcJIEMpiiZOHH8TDxZ+HbccFBX3DywUBBr7GcYUYhDRDRwIDv2w8VnrceqW67PsnO7M8KHyafKj8jb0+fXa9tP20fd5+3X/BQPtBuAKQA/+EdYRtw9CDQwLQwggBY4B6//e/sD9xPs4+Xj3UPZo9T/0e/Oq88/0V/a698X5f/zF/6YCWgWlByoKhgykDh8QVBEKEgoSvBEzEB0Odgu/CKEG/wS1A8sCNgEF/8P8pvmD91/2ivbL9zH5/Pp//LT9k/45/1oAzwFNA/cE9gVyBp8GhwbyBjUHLAfsBZ8EiAIdAO79l/sL+lH5uviH9w72iPPB8kbzTvQ49dv0lfSV9I306fIo8SPsI+VK3JjZ/+Ku8/cBwwcCDNcQWRX/EEgJ2AfADrIXNxhSFCUT1RfuGn8ZTRXAE4YTuQ/NB+8AE/68/iMAVADlAKr/O/73+l74I/fN9Y31tPUt9zP5EvsR/WMAuwR4CJgKBQuPCngJzAe9Bh0GXgZ5BvcFcgRyAkwAfP7m/K77ufrh+TH5mfj2+Ej6l/yP/7ECrQUTCGMKZQv1C8YL/AvaDKQNig4wDwEPEg4UDP8I+AVNA/YAu/5n/Kz6kvmD+QD68fo4/D/91f2B/aT8GPyR/HD9Af9oAEMCGwOJA3oDIwOfA8UD4wN3A3wC/ACm/9T9QP0X/PP5Y/fN9VD20PdN9431HfTN8v3xXe6k6SPg29IkxbfE/tVY77UEww6jGN8gQyaQH0MWShUkHL4iQB9wGZAYWB3qH+YckRcDE+0NdAWD+oryHO+w7knwf/Er89Hz+fL+8dfxkfHQ8bTxsvOl9hT6G/1/AE4FGQrLDVwOrQ3zDPIL5wlpBgsDIAE9AO/++fwX+/r5xPhK97r1evXG9oP43PlW+u766Pyn/nYALQLUAwAGsgdmCM4INQmvCWMKXgoUCl8JWAggB8kF/gRVBLwDOAN7Am4BOQDt/mn9kfwW/E/8Q/3b/dn+of+NADQBTQF3AZUBCgIGArwBEgGBABwA9f9IAFEA+P/4/rr9aPzO+tX5cPlB+dv5ovkb+ST4Wve29wD5mfrP+3j8Jv3Y/L77pvmL9eru5uMC3OjcB+t3/CMIfwuGDW4SSxITDrYGwAiMEI4VhxMVD5sQrRWbGb0XixUHFB8RYgpTArH9N/4LABICOgM0AycCvf5I/DX7d/ss+6H6nvoA/Fn9df6kAMUEjgk9DKYMvAq+CEkHrAU0BTAFUQVVBHECwP8r/TD7vvl1+VT5F/lz+AX4dvjl+aL80f8jA+wFpQhFCiIMfA29Dg8QZxGVEoQS2BHZD68NkQp5B10ENgEZ/+b8K/uN+ZX4Vvir+C/54/mY+nH7ufux+/H7ofws/pL/HQGhAtsDWgRuBAIEigOjAl8BzwC4/zX/1f3X/Af8ffvh+Sf3S/Ry8ivyXPIQ8yXz/vNW9PPzzfFP78jpP+Dh1AzOENeI7MwDExHTFWganh+sHdASBQwRD2sY/xmNEzMQlRTdGj0Z5xNCENMOqgg3/Rj0kfJs9aL3zfiT++/+cv7E+jT3pfcQ+fL4BfjB+Kf8kf+nAVUE9wiWDckOlgyWCbYG+gNSAVL/Uf+0/y3/5P0q/Mj6JPkw+Ln3sffX9xz4s/iG+Rz7bfwQ/jH/NgBVAVkCXgNQBNIFUweuCVML8QzJDXQOcg6EDQoMsAoOCpYJfQl9CGwHPgXEAl0ACf6u/KL7GPuO+tX5iPkW+rz6NvxL/VT+1f6//qv+gP5h/yoAmgGxAskDRgTkA5ADIAMmA0oDKANqAnkBxAA4AP//t/8J/6z+DP6e/ef9DP0j/Cv7Ovpv+C335/Ka7GniV9kN3JDoFPtyBbwKRQ6TEzAULg7QCcAMiBYHGwgZMxbgGEMekh/kGyEYXRU+EZkJUgFa/Sf9Vf9/ADYB9QDz/un6avdT9Xj1A/YS9sH2f/hf+1L+6gHABWoJ6wtODMwK4wh+B4oGqwayBgQHmgYpBRgDIwB2/Wb7Tfpw+Z74l/ij+GL5LfqC+w798P4mAPwAzgH8AmIEpQUUB4gIwAluCkEKRgm6ByUGfQQXA8QB+gADAPz+nP00/Bf7bfqJ+vv6mftr/GH9ov7w/+oAtgFRAsICrgJiAucBbQE8AcYAfQCLAFUAyf9B/33++v3C/cj8Jfz2++j78/uk+8j6W/o3+hH7dvxC/Rz+bP3R/YH8PfxJ+ob0OOoX3prb+uWJ+FoGJg7EEuEXYBmiEo8LCQo7EDQVWhRKEaUS3RfhGuUYHRTkD7gLCQU7/SX4tfYS+Wj7w/xI/Tr8nPla9uTzD/NO85DzCPXd9tj5ffz3/9kD2wbcCNIIRgiABtIEZwPiAlwDDwOOAsUA4f4b/Cb5ZPZl9JrzK/On8k3y+/JF9EP2hfir+pT80f0Q/zwA5gFRBFkHoAlVDI0NYQ4TDpcM1QprCNYG/wR2A6MBEwAK/mD8nfoL+Sf4Xfc59732oPaD9qj3Mfns+gD9wP5RACYBswHLAQcCJgIsAqkCcANTBIUEpwRXBGkD8AGf/3D99ftS+0r7tvvW+wn8GPzi+/T7lPtt+pb5Jvjd9vX2gfbW9ezvSOhi5U7tCvzXBkEM+g0wE8sUMhDCCCYHeg4gFQQVRxGjEu0XiRvZFx0SBQ9PDR4JvAId/zMAZAPXBNMEGARBA3cA3fxR+qj5dfph+hP6+/oG/Sj/9QCuAlkEDAXmBF8D3gGPAVkBAwKuAtsCwAIiAQH/h/yn+lz54/i5+Bf5lPlV+hv7avtN/Ij9o/6c/zcAOQFHAnwEPgZYCPwJSQsCDAQMsQvwChUKmwhSB1oFgANYAX3/Ev6l/Jf7+/mx+Lr3s/cf+D/5g/rv+2P9DP4q/mn+B/8OAMcAfgHNAUsCgwKhAi8DoQNpBIUEBQQdAxoCMQHKANQA4gCK/8n9tPsJ/Af9G/17/BD8JPyC/GX7vfjU8zHpEOFp4Nbra/rtA5wI+A22FasW7BCwCkQNHBUpF5sSmQ9yFPEaqxoPFVcQzw7fC+MDj/wD+sn7JP1//Az86/w+/fX6Bvh/9pf2vfat9j33N/m1+5T9mv+OAdsDzQRcBGUD6gIJA9gCLgLDAW0BvQF1AHP+o/xT+6X6uPno+NT4tfnM+qD7+/vs/Pv9pP7n/gT/8f/VANsBlAL9Az0FnwY0B4YHdQcrB9sGxQUPBTYEbwOZAvkBpgD//zP/fv6h/dL8Cvyo+7P75PuU/DX9xv59/5IACwF3AdIBwQGpAbYBEgJ7AhIDfAP5A2IEjAROBDkEvwN3A+8CRAIsAukBpwG1ANz/pv8AAFMAZP9O/vb8Wvzx+kP6bvjz9JLtyuXG5LbtZP0wBvIJIQwqEXsUzxA1DEwMcBOsFlAWQxMAFm4amBpmFk4RwQ5FCwMG4QAQ/xIARABL/5X+vf2L/Ij5zvY39gz2dvY89ib3OPnO+jL7OPyc/WH/fQBwAOwA7wChAPj/gADIAP8AQgAK/xf+NvzP+jr50PgA+RD5GvlW+fj5kPrA+/L7ovz5/HP9cP6M/wMBKgJ9A1wEPQXQBegFXwb1BXsFZQTIA1ED4QJXApQBvACO/9n+Pf2//O/7rfuY+4D7tvsa/AX9g/0X/l/+qv7L/vv+D/+L/w8AiAC+APYAPgGSAVsBFwH6APIALQFIARsB+AA7AasBAQKsAUAByQAbAOv/tP+T/6n/nP4F/77+rf66/aT64/Od77vvD/cU/2UBYAL7A8sITQldB/QD2QV4CWYJ5AemBwgM6g8KD0UL9wgQCJIG4QLZACoApQGyAc4AKQHYACMAQf1Q+/j55fl7+T/5ZPlE+u/6T/sd/ID8PP31/NP82/w7/cH9Dv4W/9//BACt/0L/0f49/mr9u/zP/Dz9I/0y/XL9TP6B/sP+9/46/3//sv8cAFcAmwG0AkUD8gN8BLcEOwTjAxEDsQKTAnQCDQLDAawBXQHCAJP/XP4p/W78JPsx+9D6B/vy+lv6jPqo+tX6qvp6+t/6LvzP/Hb9oP3z/ZT+yv7J/v/+Sv/8/6oATAH+AXcC7gICA7QCDwJVATcBYgEiAVYBhQApAPX+/P3M/Cz7BvrS+Cv3BvbW8w3zEvJ870jr1umV7nD58QPTBcQFNgdeDEsOXAr4CIwLsxHSEaUPRRArFcoXOhPqDOgJGQo+COkDtgF2AyAFEgQ1AYMAwQCK/tj6+Pc++I755PlX+Yz6O/xQ/c/8h/ym/SX+uP0P/Vn9P/5f/zP/Jf8R/1n+K/3b+wb7J/q4+Yf56flg+nb6pPoE+2z7Ofsl+2L7JPzc/MP90v75/ywBpwEJAiwCGgIDAtABDAI3AnoCvAJlAk0C+wGsAeoAOwAJ/zb+8f3i/fr9uP3z/Tv+L/5D/if+4P0R/un97f1c/nL+3P4J/0X/iv/r/1//rf+T//f/RwBxAFkAGgGwAW0BDgLfAaUCjALpARABugAaAbMAUgE8ASkBHwG3ACAAkv8O/kn7DflH9zL5w/2cAW8DEgIkApQDxQQdBBACFgL2A+QElgR9BJ0Gagk5CYsG6APLA8gDRAKbAB0AZAEIAnIBRQAgAJb/uv5P/b38aP3C/UL+QP6T/kr/MQBWACMAqgD3/+P/iv/Q/xMATgAqAAUA1f8f/yL/4v4J/47+Sv5w/uj+H/8G/yD/OP///l3+Bf6P/j//Uf8u/zL/QwBbAFIA/P/5/wgAsv/N/6L/xP+LAGQArACNAEYAVAAzANH/z/7Z/hz/tf8SAOv/LQD9/x4A/P/D/7//bv/7/hP/sP+yAHQADgCu/9//of9+/1f/NwCVAaUB4AGGAY0BVQH7ANEA7gAxAUcBfQGfAYsBzAAFAa0AMwFfAUoBdwBu/3j/G//H/ykAowBIAJAAfgDgAJIB+ABRAZgB+AHlAsgCQwLoAuMDVgSXBH0DigPAAzYDqwK+AVsClAIbA9wC6AJ4A0QDSAO1AgMD9ALvAsYC4AIwAjgC3AGYARQCbAEMATgAYv/5/o/+Nf6O/n/+1v5d/+r/BgDM/5D/q/+J/zb/Af/C//P/AABw/3//kf/E/qn+Bf6L/uz+PP/g/+P/CP9v/zj/h/5u/rj+q/9jAfEBpAK1AhwCkgDm/bn9Xf+EAz8DvgJ4ALsACQLVARMBjgBqAFH+ifwl+2r9u/2N/Hr8Tv7/Ai0EpANvBHsHcQqACgQIdgccCaoJoQg8B8EHigisCJAHRgYqBYwD5gJyAmwCegHHAMT/W/70/Wz9t/wA/CL74Poa+xT86fw//fD8/Pzb/bP+ef8Z/+/+Sf+H/5v/j/9qAIMA6QCeAG//CP///oz/vv8CAKj/y/+w/6v/d/9D/9b+v/71/80ALQK+AU0BiQHNAU8CfAFQAfoBaAOHA48DWwMKBIkEtQMiA7UCaQNDA+sCVQLRAlgD5AJbAsEBfwHzACsAf/+x/0QAZgB1AEkAPQBMAKEAfADQ/5X/HAAzAaIB0QCoAAABgAEqAfb/5ACuAUQCZwHaAEoCrwMWBPgCHwKyAfcB0wG+AL3/x//O/9X/lP+Q/5gA3wBUAeEAJQEFAZcA6f+u/3sBpwKKAyoD2gLwAlsC9gEgAbMB1gISAx0DIwOHAykDUAJqAVQBMgF7AGsApgChAL7/mP9nAJgBkwG/ALoAdgEmAk8BxAB9ATID+ANLA0YC0wKjA9gDUgP5ASMB9v9nAIEA3ADIAPYAdwGlAR0CogGIAVkBZgHHAfMB5wG/AQwCpgJzAhYCvQGaAUkBuwDw/xcAcAC8ABIAA/9//6EACQG3AP//+f/DAAAAFP/F/rT/PADk/4f/i/8OAQABxQCKAKIAvwCS/9H+pf75/j7/XP99/wgA9v+GAI4AvAD2AA8B5QC2ACEBpgBMAFT/3v65/gL/hf/R/4kAhgAeAUMBlABMAFT/sP+eACMAAAAsAL4ByALMAAf+Of5A/4b/hf09/Mf9FgEiA1oDqgP0A5wDyQLAA3YENAU9BHEDOQRiBOADOwMbAucB1AD0/4b/4v8lAZkBGQLDAWwBDwEtAX0BPgGXAeUAMgFWAasBpQFKAdsAgADNAG0AMwA9/9/+0/7Y/Qn95vye/Ff9+vzg+7j78vvM/VX+6P5B/5sAKwFfACkAggD2AcMCCAMHBH8E2wMRAwYD1QNwBDQEWAPzAkcCHgHo/6r/pP9H/9H+3v7P/+X/df6x/Vv/hQFlAr4Avv51/mX/m//O/jb+Rf+0/6f/N/84AOsAAABK/rz8C/3Z/XX+MP2n/Dv8w/w4/S/8m/s5+4f77vuB+4D7yfw+/pH+ZP4j/ib/iQDcAKgASABkADYA0wCyAVwCwwJhAu8CmwMLBHoD6AKpAogC2gFpAe8BRQICA5gCdQIHAnsAQf/m/Uj9Av0i/Nv7u/v9+yf8XPyX/BX9UP1//aj9g/4U/+/+6/49/9z/yv6y/or+2v7f/lX+N/7p/eP8XPwo/Mz7zvte/Pr8V/3//Fn8Svya/PX8uvvV+4P81P0b/sz9cP1g/VH+Q/7t/wMBbAFNAa8AoQDHAIoAQQD1/3sAwQC2AKkAnAD7AQ0CEgJ5AZwBvgGgAQcBQABNADMAKwCx/7D/yP/r/3j/nP9HAPIA5wCTAEwArwDqAIUASAAUACoA+P+fALgALAHEAKwAlwBmANoAff+W/7n/cACjAAkAhP8i/4P/k/+b/pL+A/++/8AAuABbARQCLgK5ATQB8gCxAQkCSwPDA3kEFgPcAD7/Q/7H/TH6KPd39vP5X/wS/FX6EvoX/AT8vPqW+ID5/PrI/Lj94/7AANcB3gH3AHkArAAnAfgA/AA+AbUBYQJrAhICxwHMAagBlAH+AMYAVwAaANH/cv9J/1X/H/9r/gH+Vv1+/Wn9Nf1r/bH9fP5a/4X/G/90/9//gf/U/pj+WP5h/mP9nvx4/NP7CPtt+Uf5CPlw+Y/4m/g3+bf5WfoO+l/6L/sb/Jn8Mf1+/SX+y/6x/9MAMQF0AXsB5gE8AoMBqAEsAqoDTQTpAxkECgRuBIEDugL9AW0BWAHqAOwA5ADvAHgAHwDZ/7D/1v+a/+P/QwBWAK4AzADvAPEARADr/8L/if+D/3P/Wv+E/3P/WP8Q//j+2f7G/mH+IP4c/hj++P2P/TH90/x//MX8z/wH/Wb9CP4V/vH9rP0O/o/+gP7Q/u3+if8BAAkAkwCyACUB2wDnAJkAjAA8AJj/j//w/xYAAgABACEAVgDi/83/zv8RAFoAywDqAPQAegEiAY0BRAJkAq8C2QIIA3ADbwK2AUsAH/5I+oD3J/hl/Kb/8v9+/xYAbwKcAiwBUQCDAJIBGALyAToCQANlA9EC8wGHASIC9AHrAYIBcAEMAtAC9wKPAjsCQQLvAYgBfAGHAb4BHgGlAG0AgQBYAJf/M/9M/2D/Ev+Q/oD+y/4I/xX/Gf9u/87/dP85/wr/Uv+V/3b/Nv8t/zj/+P6C/v799P3W/bb9vP3K/e391f3X/ar9Gv5x/m7/9/8HAa4A3f9e/yz/uv+Z/+7+3/4HAQMDdALZ/mX6Q/ct9nD2M/jw+PP4Qvh7+DL6dvuu+6n7WPxk/a/+Bv82AA4C4QOABKkEcwWQBYIG/gVOBo0G8gZaB1EHuAcMB+YGVQZrBnMGGQYcBvMF6wVhBSoFEwUhBS4FjATSA2wDAQOWAu4BkQH+AL0Auv/a/qn+Y/4r/mb9qP3t/Qf+aP3j/Mf8d/wO/JH7Xftb+5n7c/uw+xX8Rfwx/aH9a/4Q/1j/qP/m/xUAXQBRAEcAdACqALMAtwD7AC0BbgHdARwCVgKuAv0CEANFA1wDQANzAwsDAwPkAkUCMAIPAgQC6gGoAX4BhAAYAOX/6v+z/2X/zf8ZANAALwB1AKsAngAqAPH/gABgAIwAmf+v/0kAOABKAGEAzgAvAc8AvgAdAUABPAHAAMsAHgF1AVsBSQFAAa8BuQFaAaMBUwFDAa4AawCEAJMAqQCuAO0ASwFuAYkBmAFfAVEBVgEAAecAuwBhAJ4AuQBAAD4ABgD2/xMAEQD5/5//qf+2/43/v//y/4j/gP+n/8z/0f+e/6z/P/8v/8j+0/4E/7f+uf5s/jD+N/44/lv+XP6p/rv+ov7w/nj+r/5R/hn+cf6x/ib/O/9K/wT/4v63/k3+SP4d/jP+wv0j/jD+J/70/UP9W/15/Wf9PP22/L38vPxO/J/8rvyP/Df8T/xq/N78LP1u/cX9F/7H/uD+Zf+3/8IApwBiAagBaQIhA1AD4AMlBIEEiQSGBG4E7QT5BMAEcQRjBFIE9wMFBJUDYQP7AuoCtwJTAvgBXgHoAJgAwwCkAKkAHQDF/7D/gP98/w//0/7F/t3+u/7f/rz+qP6b/l/+5v3X/aX9/P01/sv+E/9H/4n/x/+q///+ef5Q/mn+cv7v/bj91/3O/dj9Tv4e/uz9Xf0A/E76gvfL9NzxzOtc4hvcBN4Q6ZHytvIz8EzwdfYW+OD3Ovhp/JMCfAQ+BosJ2Q43ELkO+ws3DGgOOg4SDm8Olw/UDxIOzwz1C/4K2weuBAkENQUwBkIFigN7Ak8Btv/G/UD9iP27/Qj9Nf2x/Wb+SP4Y/UX8jPzC/FD9iP0E/hz+vv08/fD8Xf1U/SL9Uvw7/Ln8av21/Lr7qfoN+oz6m/r3+rv7ifzo/KD9zv1x/qn+b/6O/pr+gP+AAEEBkAGOATQBcgGMAcgBAAK5AewBKQLwAnQCZwIjAn4B7AACAQkBRgFUAvUB3QGTAQMC3QH0AbcBdAFnATkBPwFVAVABRQEsATYA4v88/8r+tP5K/gP+5/1y/cr8iPwF/Ar8oPyt/MH8r/zY/PD8Nv0S/k/+8P6f/sz+Df8+AGcBfQJ7A90DawQhBkwH3gghCVQJvAnGCQoKlQmrCV8J4Aj/BxAHOAbEBRAFsQNhAm8BbgAE/0/+Uf2Q/Vr9BP2M/ND71/vY+8r7qfv0+7f8a/38/fP9KP7f/fP9VP1C/Uz9d/2b/aP9jP1c/Tf9Pv06/ZH8Nvsr+hD6/vqN+936UPnD+Mr58vnv+Br3YPXp84zwAOw56QLlUdrAy+zFZNUQ7Fn7Tvdz8bPz9PpZ/wL8eP0wBfkOZREfEvYV9RwgIEMYiQ+4DH0R+hXkFGIRHhChEDUOFwljA9b/gv1n+l/4M/rB/Sj/l/tu9yL2qfdz+FX4+fkl/Wv/3v5V/xwCawRMAxgA+f90Ah4FGwSnAloCOALxAFD+j/0v/nT+Vvxx+oH6Xfzc/An7d/ky+X36yvsD/Q3+sP9EAVYCOAPrAxcFVgb8BukG5QexCOoJDwp0CH4HZQY7Bq8FNAWwBKMDegKlAUIAX/+//in+w/2K/aP9lv4q/wL/Mv+a/jD/Qv9M/1oAdQATAc4AmgBSAQgCjAGxAc8AhgDQAOYAyv90/v/8sfyx+6D6A/pS9+326PPj8FDwBvGb8o7xMfEX82f3X/uY++T6kPve/V8BXwNKBc4HNwocDFYMswx9DIgM8Av8CdoJNgmtCWMJOwc2BcoCtwE4AEcAtP86/7r+nf6v/lz/mf8h/9v+Jv9Y/4sAoAFnAhYDewLxAskCbQPFA4MD8wPIAzgE8QTQBWkFogXHBJIEEAV6BXgEjQNkAgcCvgEMAZkAi/+O/mr9pfzO/O78tP2+/bz98P2l/nr/SACRALUANgHVAU0CtwLSAnoCdwHmAJkAVQGzAfsBbAJyAvkBZAHZAL//gP9y/rD+rP8E//j8APsu+SL54Pf79bX05/Hw7vTpTOb42+PII7dOuLTXJPotBr350vIv/EQIWwZm/AIFeRcCI9sdYBrNJCwuEyMgCpz9IQQuD7EOdAdUBucIzgNX91Ts8urv7IHqN+hi7Jb2iP1L/Kv24PPj9N/3r/uqAEAIdQ0EEAYPdg2iC2oJaAXWAUUCJwSkBW0DfP42+Y715vEc7y7u/e498gP1dvZ195D4T/jr9tj1rfc//HIBuQWGCboLyQt+CiwHpQU6BUoFMAbpBgUI4AdFBqQCjf40+1L6hfr++8z9Fv/U/7L+ZP0R/R39YP2K/ksAJQQDCBMKIAotCJ4GtAUnBpoHRgk0CsUKKQp/CN4GQwVDA0cBpf8CAC0A7wDZAIb/Av8r/QH8f/ta+9D6XPps+rL6v/uq+2/7ZvuQ+2T5uPc79dDzAfS+8/zyF+1f3RnPY9GG50kDcwna/yHzEvd3/Tr9MvsIADYPHxc0FFIOfBL/FpISgQXA/TkDEw2KDyMKxAWHA40BVvvZ9ZD0ZvYP9y/2rfjw/eoBYQGp/RD6wvoY/VsBLAWFCYMLqwrkCC0G/ATyAn0BugDJAdgBngGl/vn5ZPY+85/y1PPt9tP50fsc/PP7gP3m/tgARQIYBAUHxArpDBMO5w7ZDigOsQvaCWEIiAcHBrME5QJ7AXb/Mv1F+yj6q/rU+7v8BP52/70AngGcAd8CJgUDCMIJJgtYC3ELpgoGCdMHsAa+BnEHzQccBn0EDAI1AEL+YvuX+Nf4IPoY/KL80/nT9vD0JfLq8Szxy/El8d/mg9ijzQ3ZzPGGCUUL2wB+/ZQCPwiCBYYERw4eG2IeehnkFCsX1RQsCmz+oP3wBbsL8gjTAicAZf06+QL0x/Pe9ur4Rvf+9mT7qACeAj3/Pv3r/UoAqgGPA2AHhQoiC2AJWga9BI0BvP0t/D/8Pf5F/hv8svhZ9QTyku9v76/ypvar+CX4+vaV9wT5vPnL+Rj7+f3VATIFcAfZCTYLNgtLCsAJ3Aq7DMkOoA7DDMMK6AhjBkQDQQBT/mj9ePzh+yf7GfrQ+qj6Zfq1+wn8If8tAsYEvQZuBx4I+AhUCtwKeQs7C/gKJQrtCWwJrwghB64EtAKBAEoAsf/u/jX9Evxe/Df8gPuU+mj6EfsJ/HD7RPoa+Zn2NPTU8yjwqeKozau/5M3l7n8FzABL8DvtrPeo+7by+PQVCJIe8h5AEmAQURqLHgUOxv7SAEsQNRdvD2IHwwaDBs383PF47+31n/h39bjy3vbA+9v57PPP8MD0rvq7/7gDoAiLDNINVQyyCrQJDgr0CVUJygmmCbgJ0AbnACv6RfQZ8VfwKPHj8jb0Y/PH8L/uyu3D7trvRfF09BP6Nv9zAvIDKAXWB7oJlAwNEEITjxS9E7MRJxDoDkYMjQkMBncDcAGx/979mfww/Ib7Jvvr+kn8X/5sAIMBNQKfBDcHNApLDIQNYg44Dv4NHg/MDwUPEA17Ci8JRQnoCXcJ1weOBScE4gJcAfn/pwA8BJUEggPDACUBEgOIBKACSACj9TzhEc+MzuvmFvzU/BTt4Ok48+X23u135kX35A4tFzYOuAogFZgb3Q/7/+UA/xElHOUWog5zDAINFQVL+pj2Kfvd/SH7bPjy+fv8yvmC89DuyvD29GH5eP2YAeAE+QTDA/kCgwMOBDYFngblB8EJ7ghlBi0B2voR9mvz2PL882D1uvTa8ufvxu2A7YTtWe3V7W7wW/Wv+TT8bv16/eX+mAAkA/4G9QpgDfIMOgtrCRMJnwiJCIgIQAl6CQgIcgUMArL/qf46/tr9nv4AAIACQwOtAiwC1gKiBAwH1AkCDHMOkA6FDbIMcwyzDAwNWQ3MDVwPHhBsD1MM0AidBT4FSQTMBaEIxwujDKgJpQb8BDgGxQhiCzcKf/xU4oDMEc+m5ZL3IPPq4zrjcOnY7EjktuRD9lYITgyQBMwH2hKMGEoONgTrCHoWdhwHGGwSDRKrEGIJpAKoAZADLgE0+733ovni+jr3BPJu8EXxRPJ48zP2+/s7/ycAdgAKAtUDIQWOBV0GzQi7CQ4KxAd+BC8ARvs4+DX2w/W49MvyWu/e7Lnrfevr6wXseu1p8LX09vcR+2r93f+VAmIFhAiCC5QPOxF5EbEQOBDJENYP6Q0xC5EIRgZnBFsByP5W/Wf82Pxe/MD8a/1i/gn/cP8kAa4DigaXCe8Law5IEMMQ6RC6EbcSIxPLE8gTTxMSEv0ONg2mDBgMlwr7CPUHhQiCB34EjwHRADsDWAgCEfQVGg438zzYfdII5fj3W/gb7eznsekl4xvZpteX6pj+0wA1+Sj5OgWYCnsD1PqwAagQbxgaFiUSyRMiFPwNuAcbCEoNfg85CRUEMwG0AOL9cPhU9t/2kPdq9cTzW/Qr9oT2mPUr9/D6UP93ABEAvQDPA/kGDwiHB7wFmAT3AHL9pvoB+pX5mfe28yrw5+4P7s3sZeqH6h/t0/A08xr1pPf6+Wb9nAB2BLUIjQwoD9EQsBFlEmUTHhMOEuoOJgxVCXQH9QWzBA8E/QIwAhcBJgDP/oP/6QBMA8MFmQf4CVYK3gpiCgQMXA7cEO8StBS7FTUVKhOlEJoPTA5wDBgLfQv0DTMPTAzCCJcGcQf7CkgSSBllFPX8X9+C2CPo3vln9gjobOXQ6u7oBtmy1Rjniv1GALH1bPcbB+cPBQY4+94BPBPMGk4WQxLkFjQXsg1hA4wDMAvfDP4GhQFFAUP/uvjr8K3vqfJ79Dvz1PEZ8yf0IvOu8erz5fn4/gwBQAFcAqIE1QXoBWUFmwXzBHUCwf7l+8D6mvnq9q/zjvEQ8XHxuO8u7mPuwu+F8IjwB/Eu85v1Yvd++Sb8IP9GAUUCeAN+BZ4IEAvUC3gLjgoBCt4JswmNCF8HAwUgA5EBlQBhAAkA3v8CAOEArQFYA0AFVAe5CPwInwlTChwL9AsDDT8OTw/FD6cQaxD+D/QOuA5TD3YOYAxHCpYJ0QnaCMkHtgiQCn8OsBPOGtcXgAFR4nTRQeCw9gP9aO0/4ozineCz1CnLHttW82X+T/Xd7835PwUhAvH3+fxxDfEapRk0FKkUWxbOEOYJewk8EQkVcQ+ZB3gCFAFW/Dn3IfSE9Qn2GfQe8o/wifAf7z3vVfED91z8jP/xABIAvwCvAXYEiAdzCdAI4AWwAQL9gPpH+UH5mvdT9NPwV+677BDrteky6srs3e6f8U/0NPhg+wr+9gCzBLgIdQvQDQwPmBAKEa0Qtw81D10OwQybCjwI/AZMBbYDcQGZ/8r+k/7J/q//xADEAbwCLgRKBo8HJAjeBzMINQlzCyIOSRCxEAAQPg8fDu0MLgtQC1YMxQy4Cp8HHwfBCD8O+ROHFz0OlPi84Z3ezPHhALL+I+wJ4+Pj8eL32tXZFukQ+Ef5f+xI6c/y6/sh+Uv0G/qsBzMPAwyACGAK8Q0FDWgLsw1oEmcSSQ2uCJoH3gf7BTkDrwFQADb86/d89cH1+vWt9TL2g/fr+KD3+fY59575d/zl/bH/cAAJAKn9X/uH+lf7ePw7/NH6Pvgb9371FPRv8pXxu/J99MD1h/ZK9zf4WPqv/Af/1AE3BO0FCQc2CLwJVwtbC/kKOgogCmMKBgqaCSoIEQfjBuoGrAb0BUMFcAUIBgAHRAjZCJgJBQlCCdMJ+QrtCy0MKw3xDZEP6hCWErsSBBJsEWcRqREoEaoQfBFAEqwRGQ+aC4ALGg7OFlUg/yDXDV3sadQI2iLyz/3+9KLjYN4J3I3RSslN0xLuYfwd9cfnFOzF+fb+Hvoe/BgMChoLGeYQPxCeFX0XfRL3ET0XLxv1FKQKbAUdBWcEvv///Ln8APyn9iXw2uyS7X3vc/DU8iL1rvZS9mf1Svb0+ML8dwDqAn0DIwId/938Ofxk/Y7+zv6d/W77dviN9VPz9/HO8f3yFfTb9Ez1ufUk97D4xPq//SoBhgT9BYQGhgclCa0K2AukDLQNmg5PDgsN9wojCusJrgmUCAkHGAZ1BTsFBQWlBJ0EoQTbBKUFhwYRB+MGagb/BXYGHggMCrkLbAzWDEsNdw0nDEQLTAz2DV8N1wpoCMMJLg7jE2gZVhpVDej3PegQ8awHVRCXAbvqNuZw6BPl29lf3PLu3Pi47enbPd2b67zzUO5j7jL8XQqgCbkA6f8nCB4OWA26D3YXAByCFcALdggBDPQMIAq6CAIJTQZD/WX1S/Pk9SP36/YH+JL5LfhN89zwlPIg97D5Mvpb+yD82fum+ZT4EflK+4L8zfuB+rf4ZvjO97n3sveC+Xj7fv33/bj9b/4NAE8CAAT8BQUINgkLCRQIkQeNB4IHXQefB1cH1gYZBQIE0gNIBKYEggR/BUAGOgYJBUEERgR4BHMEZgQ4Bb0Gowe6BxMHiAf4CDwK8wosCzMM+AzwDMcN4A/vErwTthIjENUQHhOjGT0hzBveBVjj19MK4Qf9WwVw9fziOt1v3XLVmdJO4fT5BQCD7yLgaeU69Ob47vSy+LgGqw70CS4DXQcSDyMROw8OEx0brhsyEosHFAa3CEIJiQZtBikHpAJF+NTvFfCc9U35EfoY+iX6qfjy9F3z9/bh/NYAcwEWAW8ArP6d+1D6yfziACYDHgIs/039JfwN+4H67Pqr/Mj9nf2W/J37Lvs5/Kn9jACTA1MG7Ab0BdIEPQWgBqYIjgqqCzcMUgusCpsJvQiTCHkJeQrUCmkJwgbYBIQCTwAv/nH+0gGWBOcDif7z+ar44Pjr+fz56fs3/z4BSAB+/mL/HAKiB0YJdQvUDpsSKhWhE+ITdhS0FxsYnBl3GzIXuwio8hPnm+uC9xr4o+4N5e3jOOMr3B/Wftpo51zvw+y157XqtfLl95X4QfvQAsYKeA3+DJAOXBGkEx4TYxJZEyIV8hTwEtsPwQ2jDL8KEgp7B/YFMQOBAXMAe/9s//j/bwJtA6ADEAGZ/78A5QLVBOoE+wR+BKgCYP1g/F0B/QobDSkGCf5lAe4LABNGD/AI1AjvCdwGI/8k/44HOA74CPP8IPfL+ib/2/2B+SL5rvzR/Uj7i/fS9kT4xvi+93j3aPpO/Y3+yvuU+Uj5Pfoa/aP+1gDnAOH/o/1H/LL7svyq/bb9BP4k/KP69fgJ+IT4evlF+2b8Z/2A/an9s/0X/7sAvgI1BDMF/wR9BDcD7wILAwkDIwKiAPb++Pxf+0f5//ea92z3mPd69+j3M/gc+e/5avvT/BD+ZwDGAvUDFARIAwoDvAPDBE4FTgXOBPMEGwXPBZ4GhAcMCGQIhgjLCLAISQg7B2sFogR/BMkFKwY5BukEigTqAwIEXwRtBXUGawZmBn4G3we7B/gI8gt5EfUU2BRsEXgQKhJqF3AdWB7iDyrxn9S80kbujAUVAf3on9vv3qbcqdCUzXflrACGACzqad4E7TD+rv3T8wv7+A2pF7wOrgTYCXQT5xMkDGgNVhZpGiAR7QTAAwkIeQiTAdf9T/+k/275pPAn74z0j/m/+P31gvWD91720PNO9Gj5lf43/3T9t/w+/S38Kfr4+TD9bwCmAKD+3vxI/CP7E/pe+UP7Ff17/a/8Gvw2/NL7rvs3/Kv+fwDXAJf/M/5W/vf+rQDyAfUCqQNTBNAEJwW9BUEGIghOCUIKCgprCRwJ/wh0CBwINgh2CJ8IEAhaB2cHxwdZCHMI7wh/CoEM3w1jDbsMgQ0JDywQeRCrEMgRZxJcElITmBKsC8H6HeoG6JH0CAAz++brluL/4fHgrdqP2ifmIvRD8/jl3N2f4oLtLvGQ8vL2Kf/EAo0A5f7lAhIJGgwwDqUQLhRcFOIQMA2eDMgMPQw5CzMLMwqGBS0A5/tb+zj70PuH+1n76vl094z0CPME9Or1L/gK+bb5bfkN+Nv2nvaa+DD7Uv1a/XD8dPsj+1L7Hvvw+3X9Hf4x/lv91fyf/Cn9yP00/6EA5QHrATIB5QCFAVsCGgOeAxAEwgOmAnECgwItBGQFVAZ4BpMGWwYsBkkGVAYdB/MGXwehBhkGpwUdBgEHRQi8CcwKJgvfCnILdAyBDb8NEA/aEWMUZhRaEnwR4RLbFmwb8B9NHL4I1Oeyz47VN/BkAW/0V9380v3WrtT9zIbRdum+/pz3GeRc3OLrx/tF/XH4lf0MCyEPWAqgBMMK1hI6FQESgRFfFKITvQ7WCR4Khgs8CmkFAAM3AQP/3fl49Zz1efgJ+gP4ofVx9aT2tfVS89ryEPYw+nf7rPq6+fn5Wflk+Av4G/v4/xoCZgAN/UD8H/3R/ZD9c/7f/+D/Wv4d/Bb8UPyw/Oz8iP2t/jX/Bf8Y/hz+RP5k/6cA7AEUA2UDZQORA2cEeAVhBsUGXwclCMII9QhjCDAI4gdJCGsJeQq5CiQKQQnuCPkIvAl5C6AMnA3lDNEL/QqOCnYLWAwlDfQMbgzfDB8PWhByEIkLtQP3+ErzyfRB/uACKfys7X7iwOLw5KrmOOYP61Lw6O585tTg5uUC77r1i/X69nf7sv+d/03/CAOTCT4OIA+RD5AQZxFND7MNpg28D4cPdQ2vCjkIZQW8AYL/Qv+AAPL/Yv63+8T5Wvj29tD2kffa+O/4C/ik9tn12fVn9nL4k/ql++f7XvtA+5L7x/z7/ab/rADIAUwCxgIaA5QDkAQzBnIHNQjyB2AHxQagBSMF0AQpBWEFpwUyBTsF9gToBEIFXgUdBpEFYAWOBOUEFgUrBtgGYgdoCKQJgAoeCuIJLwrXC94MTA2wDbAOGRCgEbISVRNYE1ESvxEcEKYQxBHtD+ABhOfZ0HXPYOU194zzD+Bd1znbZ9tr037TjOltADUBs+4W5wPzdACz/9j6uAPbEvIVNQvXBXANxBV6E4IO/hEjGfYWWgvXBK4HRwwPCU4DaQLpA2gBsflQ9VP34PtC/D36HfnV+dX5/Pc/96f4afuw/PT8o/x9/Hf7zflJ+WX68PwH/8v+f/zN+rP6cfsP+0v64voW/Hv89vqd+af5cvq0+q36PvuV/DD+Uv6h/T/9Qf50AJoCJQQRBdsFFQYhBtUFMQZgB5YIYAllCDAHXgYHBlEGpgZcBwIImAe3BgEG+QXKBnUHZAj0CIkJiAl8CXIKgQtqDPQLRQtSCnIKZwqACn8Kqgo6ClkL0wy3DMMF/Phq7zrvg/Zb+MzzTOwK6ajlleDz253e+Od+7cnsE+iW6Bfs5O8q8sn1C/w3AcAD/AP1BdAIFQygDToQFBJhE1sSbRDJDkgNdAx3C3YL1QmgB3sE5gHP/7X9zfwU/Ov7oPrA+IP2A/WC9JX0z/Wh9rX2NfZs9Rj1KPU59vL3V/ri++z8Rv1M/rz/sQFrA0EFrgaNB5EHUwd2B1UHYgfBBgoGWQWeBIUDjgL0Ac8BWgKVAhUDyQIGA8kCIAPNAgcDUwObAxQEcASyBL0EWAU2BlIHgwf0B/kIkgoNDLIMwwwKDfENYg+LEeUSPxNCEigR1xDPERoV3xPrB8juudc40mHiSPRc84fm89sU3fjakdTi1DDmM/uR/evwCee37TD4IvsV+vf/uAn9CzMGtQJZCJUPDRETD8kQjRPYESwLpgbPCM0LGQseB90EGgTxAb/8Hfmf+SH9gv8u/3v9yPui+i75DfkI+iH8j/0l/fr7O/oh+ZD4Q/mk+uX8l/7M/jX9M/u3+qn6wPpb+if6Jvqa+Wb4J/fP9uj2lfc1+Lf4cvkm+on61fpa++78m/8xAhoE2wQdBYkF+QX4BuIHXQn3CncLEAvkCeMInwjQCGsJSwp6CosK/QmgCbkJ+QnQClALIgzBDKgNQw6SDjsO3g3yDYkNMQ2jDb8OhQ9eDj8M2gpOC2cM9wzjChUGr/xE8zvtx+6f8jXytOyY5yTlvuP74P3eCeJT57HrIupD6TzqoO4u8vr0Mvgw/CAABwLLAw8GUQmyC74NLg9IEPMPAw9ODs0ODg8sDg0NXwsxCrcHoAX1A4cDKgPhAZ4Axf7O/Uf8P/sZ+z77PPuM+qX5X/hE95L2+PY1+CL6evtZ/OH8WP2c/T/+Dv9RAGEB7AG0AoED0gPMA14D8gInA1MDqwP5AxAEBQQ8A+YCeALIAqAC0gIvA7MDTgRJBAgEWAOzAhcCSAJlAgUDsgNgBHUFNQZJBw8IKwkaCuQLlQ0MDzgPIw8SEOcRRRN2E4kS8RCPD/cNXg25B3z49uHKz5rQSt1x6CfmIuE04G3hu90S2LXewe73+5j5JfHx7wj3zf3r/Zz/PAU/C7IKZAdeCMUOwBMWFDUScBEKEYQOpQvBCnwMzQzqCpQHWgXbAyECAgB3/rD93P3y/Qj9DfzC+gX63fjC9xb3pfcC+av5WfmG+Ob3ifdJ98v38Pjn+p/7Zvtu+tH5y/na+Q76Kfqx+hL72Pvu/DL+qv8zAE8ANwCxAIAB2wIXBGwFOgZQBuYFCAWwBKEExgSvBMsE4QQIBTUEuQOQAzEENwUtBTUFZQSNBMIEbwXnBhMI+wgWCfsI+QiFCewJVAp+Co0KOApZCXMI5wiWCtALhQs1ClIJtAh1CBMH3gSe/p3za+VP3Srg/Oht7ifsNun9557nG+T04U3nCPFK+FT3EPTf9CT6fv47AWcDpQefCt8KTAqxC1cPWBLPE5sT8xKzEJEONQ3NDY8OCQ5LDLAJJgfSAzUByP/6/68AIACp/vj8sfvd+l767foj/Dv9Y/29/M37Ffuh+ov6Dvvn+4n8+vzc/OH8cvwZ/EP8Pfzy+1j7A/vM+tD6mfp2+rj6/vpx+8b7uPyI/bH+yv79/g//cv/h/3YAawGLAoUDSATZBDMFrwVdBuQGVAf2B4gIMQm7Cf8JEAqRCVsJNwmECSwKkArkCtYKXQqbCXQJ3wiZCOkHKQfaBiIGIwUnBLwDuQPaA0QD4AEgAJD+7vwo/Bn6ZPVq6wLggNml3MXmo+0F71jrlukS6QnpaerV74P4mP1J/Jr3ufeE/YoFEQrwC7gM9AxFDPMLdA5pE5EXixi/FloUpRKAEWIRphHLEagQ/g3OCpcIXgdYBgkFvAOBAkIB9/8A/0r+GP6a/Wz9NP2i/Mz7wPoE+kX5VPkJ+Qv5/vjg+KD49Pc098b2EfeO99r32veK9+L3+vev+Er58PoO/T7/KgEfAxwF0gYjCHwJCwthDMQNwg7fDzgR4BFBEtsRkxEsEa4Qrg+RDoINegykC1kKOgnWB3oGzgR3A64CTgIiAsIBYAECAYsAw/+N//7+C//0/r3+8P2n/ez8A/1H/cz8ofto+Un35fTy8nfwde1f5wbfq9bg1aDeueqH8STv/Oro6B3rbe3m8IP3rf7DAlIBNf/gAbwIgA9UEkoTeBPjE4UTwhNjFsIZURuoGfwVVBK0Dw4Odg0rDVcMuQlbBvkCxABc/+L+LP4U/c370/n++Gz4Ofj794X3Sfd79yb3Effx9vz24vam9n32SPYC9+j3I/m0+Z75xPku+qD71fwZ/uX+iACaAQUDvgOzBPEFrAZfB/YHpQg/CT8J3QjHCIIJAgomCoYJKgntCKUIQgifB14H7AbbBWIEhgPaAmsCMQE1AIMAZAE7ArkCAgM/A1IDxgLZAiYDXwNGAlEAJ/5N/ZT9uP8OAAD/H/uQ9Sjx2est6lfmM9/YzUq6AbJtwwTl5/2ZAXn2QvPt9xb9b/3hABIL0REGDSYCdgGjDAEZYRzFGmcbTh6RHc0a+BtuIHwilx0sFqIRMw+BDKMJoQmqCw0LAwexAdv+Wv2L+mj4Hfft9yL4d/do9l/1r/SF80PzTfPy82P06vTY9Eb0F/Ng8uHysfN49Jr0FfUZ9uf22vcX+KT44PhO+Xj6v/z1/jABOwIMA8kDvgQgBlMH4QgJCdwI+whzCUsKpwrrCigLLwv8CnwKNgpXCaIIvQcmB0sHXQdsB8kGUAagBcYFgwYzB2gHPweRBgoGogVmBm4HtgcaB+IELgLl/xD/2v4N/6/+of0J/Jz5ffjT9zT4Zfeo89PuVOnt5NrhVN9v3tTb3dWbzgHPG9/N9tcG9wRJ+aXwV/GM9fz2FPgI+0/+Kv1J+mH8UQYhErMYARnGGIoasB3THz8hAiOLI9UiCB+JG3QYVhfVF7MX1RZCFCYQ3Ay0CpkI4QVfArz/A/2R+sf3rfUJ9a70ZfSA81fyHPLY8TvxoO8j7lftBu4v70bxyPLe86/0dPVR9ov4Ifvm/Zz/mAGKA70FNAcZCcAKvQwZDpAO2Q60Dt4NUA1KDBIL4QkuCOsG+QULBYkEggT4BDMF5wREBHYErwTEBPIDHgN+AocCQwJAAgAClwLxAiEDoAOFA3gDmAIkAXL/w/4m/nH9hPy1+gP63fce9iH0YPOI83byp/D57VPt/u3P7jXvOew65JPTGcRvw6rYvfNcAcv6a/Bn8X76BAK5BPwIKQ7dDC4C0PouAHoPPRmuGdoV7xaKGhAdOh8TI1kn0SX2Hi8XhhPFEnYRVQ+tDZsMaglRBb8CGQOhA9cApPxA+Vr4kPc59vX0QPSZ81ry7/Ce8eny7vM2843xM/Ee8iT0YPay9xH4fveC94L4Zvqn+1b80fss+zf7lfxm/kIABgJbBPEGKgqkDf4Q0hNRFT0V4BTZE0MTrRJiEewPZA46DHkKOQktCAQHiwW7A+MBdgAQALb/NP+3/of9Ff15/OP7w/tR+4H7aPvR+xL8qvxw/eb9/P3F/Y/8oPtC+oP5zPgf+BD3RPa59CjzwvGq8cryjPMY83zwZew25/vhG9wt1CrG27bzsibIDesLCCAMawSFAzkOGhnZHOweByYkK4UiyxdoFosldzKJL94iyhn+Gz0dxBufFsUVpRMtDScDyvxJ/DP9Lfyr+FX3//XL9OTxtu8d7zLvFO+q70TwgPFv8ibziPQW9gL4jvhp+OL4Ovue/bb/JwBWAA4CwgOMBIoEygSLBcgGJAZPBgMHwAepBzIHvQfvCc0LBww/C0kLOQsuC/QJTAhwBlAEygLvAVoDlgQsBagDsQFNAGP/cP+T/7H/SP/s/Rr8GPyE/PX9Tf5j/a/8rPwc/aT9mP1N/aP9Xv4g/sH98vs8+jP49vQ68oXwBe+K7IfqOucR5eXh696z2svRLcQ5uMm9Wtm9+tAMMQhTAcIFixTdHuQgOyNrJp4nUiAnGpQfwSwlNHAuXCO2HTgeZR3bGOwSiQ+8CpUDLPy19xX2p/TN8R7xavI686LylPAC8TjxxPHX8Vf0yviT/HX+L/89AMUCQASeA0wCsAC2/57+Qv3t+2T7C/ue+ob60PlH+Uj4jvdH97X33PgN+rP7WP7eAYIG4ArDDX8PthDhEL4QRBDZD50P3w6ADd0L/QkDCkYJDwmHB2QFbgMpASn/Pf0c/Dz7ZPoI+f33HfiS+XH7l/2Z/1IANQCZ/o/9EfwE+mn3PfbZ9dT1l/Sp8jrxDfHq8Ojvs+2s6THldN+E1x7Ogca6vjayzZ80l4uqst/HFhEwQik9Ir4txETASNVA3jmeO+E3xCVtGpsg0zKkMo4hORCrDlIRmgmj/dz4f/vH9TzpBOC05IbsyOwO6VvsUPXX+mv4ZvX2+Fr9rP79/OX/agVICcgHgwb2Bi0IqgaFAggAA/3w+XP3E/YK9p/1LfRG9Av23/dT+RD59PhP+oH8nf4mAHIBagOeBikKyQ2qEOgRoxKAEfgQ9Q+UD14OIwymCRgH/QUKBZwEtAJnAEr9uPvE+jj6x/nh9w33yPaZ96P4SPon+0f8Qf3V/Ur/EAG0AVcCMQLpAB4ATP9z/u/9vvyq+mP4ZfQF8Uvu/OwG6wnorOUg48Ph0N+g3UXcedWOyky8dL020t/uiQJJBM4F1RDoIiMuuDCEMoc4XzpPMmQoqCdSMUU2NDBwJPwceBp7FvINygTV/cL3ru/75h7i5OCS4anhU+Jx5Tnp4Owq8G/yxvUr+Aj7ZP4HAysIbQykD58RiRMvFAMTRxDXDK4JMAWkAHn76fZ6877w6O5/7YzsfuwQ7ibw8vKb9in6Q/52AiAHDgulDt4REhVrFr0XLhcAFloUbBE1DqUKZgc9BaYDBAL8/zj+yvxq/Ej8T/x9/Jv8J/xu+1X6hPk3+b34s/es9xH58/p7/B79UP1T/ab84frT+Aj4JPeJ9hb13/P18vDxsvD977bw5u/k7VHrw+jn5W7ivtrqz9e9PKoaq7PG5faYFxYfUR1kKyxHb1OdSxg+zj+yQWoyqBi/Exon9zU8Kf0LrwCUBy4KZvsP6t3mpOnJ4YDT9M8p3SfqEOxn6fvtYvha/uP8pfx2ArwGJgZPBLAHjw8QFZATBhJEEtARag4hB1MBIP61+vv1C/Fi7vXuQPCC8BLwpfFj9NH3jfh0+B35gvuU/nEA5AG7AxYHoQoZDlEQgRHGEZQQKA4IC7cIYQeMB60GOQUBBHIDzQM2Aw4Bkv52/W78O/rf9z72//Y2+Tn5f/h4+Nv5APwU/UH99P1P/20AqwC3AAsB2QHcATwBK/+0/VX7Lvh69SPzNfGG7nXr+ejz54bl1eFO3p7YUNAoxMC+Ack44hj6MwayCNwQGyOjNMQ9xD2TPs5A4DwONEYuPzC2NSEyiSbfGVwTXQ/HBnT7BfBN6CjhMtm2033T/9UA2Sbbe9575Pbq7u9Q86L2tvol/8UCkAedDFkSNRbVF9oYBxnBGAAXXhOdDqYJCAQ//1b7n/c29UXz8vFa8Nvusu227cDtme7n7orvvfHE9Mb4FP0TAUoF1QjsC2YOxxA3Ek4TZBPWEtcR6hCOD6ENpgsWCVAGcQPv/8P8Mfpy92P15PNA8xPzRPNP87nz1/Sl9cr2wfeZ+c/7LP4EAC0BUQKVAlIDdATtBE8D3P8H+sT20vKu7IjlANtpzUK7jLVxx8Lw4BQsHP4VthgDLj0/ejudLGIphCs/JF8T2guGGy4q6SN5D9QDOgrJDSkDmfMi7t3uc+iS3NbYc+Nw7nLwU+0d8D75M/7a/Rj9kwCQA5ICFQDkA/wLsBAcEKENWg6gEOkORQkoBAEBcv7v+hv2+PN69KL1QfbP9MD1GPiB+yL8gvoZ+Qj5//pi+/j78vyu/wIEvAf7CZALqAzsDFQM4wlICK0HsAdSB8EGhQYSB3kHWgbbA/gBif8O/pL8Vfp4+Hv3SvhA+Ur7ZPza/T//MQDMAEoBfQI/A4UEbATCA5MEuAXUBgsHCgZMBCIDdwGg/y/+Yvw3+pD33/Tv8nfxH/Hc8b3ya/Nz85j0NPit/HAA5gPQBr8KzA6kEs0WKhp9HCcduhtDG9QZpRj8FZoSWQ9pC9QH/ANLAF38q/ha9I7woO2G62jql+nb6QbqKOsP7Fjup/Ea9av4vPv7/tIBdwR8BcUF1wVxBQQF3gNBAa3+V/x1+HfzY+w+5hrfTtfy0IfUWeMX92ECKgO3BIENqxvzH14d/xmjHaIiiSDIHCodTiR3KLIj7xvwF8sY8BVLDZ8EQ/8a/db4yfOI8UHxH/Lu8Lbvi/Bz8l/zhPIr8snz8Pb++XX9iAHRBWEIhwkVCtoKEAvhCesHHgaCBJYCUgEbAPL/ZP8O/nf8Ovv9+ob6yvkl+cz4efn5+iT8ZP7b/3UBZQJMAqsCDAMWA/cCaQL2AXMCOgKIApICgwJAAsYB8QDw/8j/BP/j/sz9hPyI+qv4A/ha9zL3x/VS9FPz9/OC9Hn04fKx7EblSeIk7MYAOBHcE3IO+w8dG0AkMyDQFjoVChkDFwAMCAYODncaVBrkDa8FDwmqDksKsf/W+jL9Ev4J+dXzPvYJ/F39uPkv9yj6KP5e/o77ffpj/DP+T/6T/m0AjwNOBBADpgK2AzEEXgI3/yb9F/3t/Qn+sv3r/Z/+NP8+///+M//E/yX/bv6B/mn/AAEnAlICVAL/Ar8DkATtBAgF3gTyA3IC6wAUAJf/gv/p/n3+Cf7o/WP+gP4//zb/Zv+A/1MAdwGtAtgDVQVdBswGsQYIBhEGAQbeBRkFNgRqA6QC7AGZAGj/W/6h/UL9pvzZ+7X6Xfmy97v2I/Zb9V/04vJM8czws+6V7f7qSOeh4Kvbbd0g7PcA9gx5D68NShUIIT8mJSI7HWogaSQiIswakBq4InspcCU6G5wV/xVpFJkLZgFN/ET79vik8yzwUvFa8yXzXPFJ8SD0f/VS9Ijx+/Dp8rv1FPkG/Pz/aAJkBLQFJAdFCBgIAwctBVgDWALKAaAB9gGIAcQA/v/D/3P/P/8Z/gv9hvwx/I38Bfw9/Bf9Wf6//9EArAHoAuUDPQTbA1kDgwPHA/IDAgSxBGsFdQboBoMG0QW1BIIDSgKxABb/Ef5O/bP8J/w+/E784fxT/a79/P22/tT/XAB0AaEBRgIzA/gDVgTpBC4FDwVJBYAETQSDAykC/QArAGD/wv7N/jD+JP7C/Eb6Dfb679TtzvDQ+PD9bvzV+hv80QNLCIgJRwm/C38P0Q+kDmgRmBh0HuEeDBuyGVIbqxuBGKETfBDPDZ0JOASFADD/5v2U+4L4dPZL9t71svRr88ryU/Jd8kTzRvWn96/5WPtR/QAAIwJ6AzYE9wMvBOcDcAMIAxID7QKdAqkCiALGAsABpQAu/yf+mf3j/In8k/wE/Yz9W/7//iUAewGMAaQBMgEoAf0AJQEFAa4ADwCg/6r+4v1s/Tz9C/30+yz7RPqM+Z/4kPdF9pv1V/QA86jy9PLi9s/82gIsBvEFUgWaBlcJtwu3C/0KXQslC0QLTgpoCuYLAAw0CeQFHwPpAkIDNQJVAOr9r/z3+4j8D/6XANQBbAJ2AokDfAXLBp4HGwcQB8MGDwf4BxUI0AnyCZoJ0gh+B90H2AcqB9sEdgJgAJf/a/9k/jj+vP2+/bP9K/3c/HH8H/w9+0P6Hvp7+qn7+/ss/D/80/xj/fP9O/6E/or+pf5E/pX+d/+d/+b/0v43/nT9If2H/MD7Cftb+j/6LPps+nT6v/ox+jv65fkD+pH6YPpL+qX6A/vn/M38gfup+gr6j/uV+wP6SveA9NbxC+6V6YviY9g/zMzJSdg/87oIZQ1BDG8TSCQ+LRgpUiCyItcoJCRtGIoUdyIZMUAv5CDfFzQa5RrAEYgDl/1K/bf5dPE+7EXvnPMB81Lugezo7Sfu3urb51Xob+vf7W3w8vW//JUCpwNwBIUGpwkuCr4GfwNhAiIEngQnBNoDHwXqBY4ElgCe/TL9Ufxc+Sr12/KV80H1vPXA9e32y/gR+mv67PpP/Oz9i/5P/tD+MgCYAtUEVwY4ByYI8AgiCY8ICAedBXIEPQPNAdz/HP7z/GL8Dfyf++r6Ovql+fD41fiz+H/4m/jj+Ef5RvlI+e/5Efod+qf5CPkF+Tz40feB9rv14/Sb8/fxP+9468/ozeuv8wgASwi+C5UMiQ/9FHsanxpjGaAY+xluHPAbhRyOHTEfUB6IGAwRpgvOCMIFRgEB+0712/H474buQOx86qfoueaw5ejkL+Wl5qHoeuuq7gXyKPfE/OMCPQhHDKkPuBJ1Fd4XoxmBGqYaBRrOGIUXkRUCE9cOKwqGBTEBBf1/+OfzG/Bk7b7ru+pq6hnqkuo762HtK/D08xD37Pnh/Pv/EQMOBS0GaAYgB0sGiQWDBAUEVATKA88CHQGt/279H/s9+Nj1dPMD8hbw/O757knuuO4+7lfuNvG/8m/z/fEo7/juqOzR6o7k/dx10DbDG7/W0R/5lxt6JCQaERnFLPc97Tl7JFodZyduLpEiLBbcHmU2rD8cLEIVRA/BFb8RYv938BLw5/Xq8Qjs6und8NfzGO7W53/k9eYJ5eXjzeOs6EXvp/Q1+2UCAwm7CyML3QlYCtUKvwrmCN4HjgepB/YH9QdOCGIH/QS+AMv8nPlF97T0dPJ08H7wo/Ho8dPyS/Qr9y75pfnd+Az6vPxf//MAqQGhA5IFjgdICG4IIQlbCcIIDAfhBJwC9ABj//T9BP3U+zf6OfiX9ur1qvVs9er0rPQf9Un2c/e9+AX6GPuW/Lf9Cv5J/mH+R//1/6AAcAGWAbMC5AKOA4MESQUsB48HsgfQBnUFBQRSAr7/8P2Y/df+pAHBA14GYAjSCswL7QsyCmsJcwgYCNsHCwecB28ITAl5CWwIkgZWBb4DDAI5AGz+pv0l/Rf9jvxa/Jv8Af1k/Gf7NPph+fn4Pfip9773qfhl+hb8Pf3F/Sz+Xv6z/u/+V/8s/zX/kf+5AAUCbQLAAbMAvv9a/+z+Fv5L/Vf8TPuE+aX3XfaH9XL12PS09ET1Tfe2+f370vxK/bj8i/vC+t364PvI/On77vg394r3vvnf+VX2D/FH7Evo6+KK3MPVOMxlv921br5z3GcAohFyFLQZyS7SQyFC2jPNLGM27DpLLbodCyIdN6g/bzJFIEAdcCG5Ge0FXPd39eb0Kux24Z/gUObb6NTkKuLP5LTneebf44flNOsE8LjyXveR/5kI9g3mD10RrBOiFGYTEhEdDyUO0gsKCXwGPwVaBHoCyP/K/PD56faR8+jwXe8J7ynv9+6/7yXy7fV5+a77AP6aAIoDQAUnBhkHngi+CdYJJgrfCuYLygtBCgAIOAaFBOsB4f6/+335Ifjb9rL1xfTj9HT1Hvbe9Vb1MfVr9gn4t/kf+3D8Uv59AHACuQOqBLQEDARaAr//v/3k+wX7nvq6+uj6hvtx/FP+IQCkAb0CRAPUAwkEMgTVBC0GlwifC/ANaxDmETATwxO1E5gTQxKNEEoO5wtLCtcIpgeTBqMFlwQOA+MAe/5j/JH6nPj19hH1sfTb9Fn2R/hR+nH8Jf6T/+YA6QGWAl0DDwQTBeQFVwZqBp0Gewa2BTgEswJHAWX/Vv0A+435xPhF+FH3RfY79T/1jvUF9nf2JPcI+CP5Svqt+479lv8rARACuAJkA+YDBASVAxwDggKKAVIAJv8e/in9MfyR+6r6Afqt+Pf3M/cO91L2L/aN9hj3d/dr9nP1mfX79qH4yPl3+IT3wPWP80vweOs+5qHdudMEy/zOBeSO/hgRSRNSFKkdUC3kMa0rvCSKJdMp7CMoHGsa+CMyLIEpxyCmGdwXyBPWCzADC/7G+vX1cPCu7SDuhO8F8P7vv/BZ8HbvKu547mHwSvKH9Eb3BfuU/zIDrQUeB+MHhwhQCPkGMAQLAioAA/8Y/sf8E/0j/ZX9nfw++yv6Ivkm+G72TfWS9Ab1XPbB+LX75v62ARUEjQaxB34ISQjFB2MHUQaCBcsEFgWrBVMGSwbDBewEiQMqAmkAUv4E/P75Bfl0+CL5rfmS+i37yfuw+4P7afty+x/7RPog+Xv5c/vB/c7/gACzACwBRgLnAu4CdgLQAKP/j/56/hv/cAANAmsDSwTkBDMFdQXUBboFuwUsBQAFNQXuBZcGJQfFB7kIBwnZCFcIbgcGB/UGoAeACAQJTgkzCcMIFAjkBk4F1AMiAo8A3v7i/Xb9hf2R/Wn9Pv1T/Zr96/2Z/jD/yP8yAPH/pP+W/2b/fv/p//j/1/9F/0f+Mf1j/Gb7bfpG+Ur4GfdM9hb2TPau9sr24vbV9kX3+PfJ+G/5qPkM+tP6BPx//Qf/AAC9APYA1gC1AH8AEwBw/43+AP7w/Xr+1/4k/8v+Mv4i/Rv84fod+ub5KPp3+t/6P/sZ/MT9Lf94ANb/O/55+3j4UPTH77ropOBk2pTbQehk+YEG9wlLDMETEx7tIuwfdh3PH5cilR4bF3YUAxp9H84dIhjrEwgUaRI4DVYHCAScAkD/2Pm49ZX0OfWI9YT1F/bX9hv3XPYT9mv2Qvfn91f4sfmy+zv+CAADAbIBSwJ7Ag8CIQEXAN/+Pf12+wn6Z/kt+Vz5Pvkm+f34LfhG9yr2B/Z49i331/ch+YD7kv6YAfUDuAVxB+YIhgmvCQMJ2giHCAkIqgeCB6oHXQeGBo4F2wTzA48C0gAx/xz+/vyY+yr6zPkD+nD61vob+8z7zvyF/Zb9kf0G/pD+2/5A/h3+If5k/kz+7/6V/zMAlABcAH8A4ACRAfIBpwIdA8sDZgT8BJ4FAAYVBvoF6AXoBQ4G+gVpBtYGmQdKCI0I4AjRCLUINwiUB+kGQQYYBWwE3AOSA1cDDgMRA2YCewEfAIX+Ef2l++D5M/je9iP2BfZH9hf3RfhR+R369frh+6X8qv1Z/gz/dP/G/8r/r//J/6z/lv9B/97+Vf5D/lb+Gf7//WT9E/1k/Mb7tvrA+fH4uPhM+dr58vqt+8P8vf2a/m3/FADGAI4BsQEhAXUAq////3cAIQEbAdoAAQA2/3X+jvxH+iH29vB761jq2O4v92f9P//uAKgFqQydEDMRpRHdE1AW/xVtE30SExQlFp4WEhVhFJ4TehKZEH0Orgy1CnUIsgUkA2wAVf4I/ff8ivzC+3/6ufnz+cv5tvk6+YT5Gfpl+nf6t/o+++n7RPxz/Az9M/31/FT81vtc+zr7f/uH+5b7iPuy+7H7mvtk+0v7RftT+4P7svuX/Gj9f/5P/zAADAG3Ae8BMwKJAsACLQNDA3IDMAQ0BHIEpATZBFYFIQXCBOgDTQPTAoIClQKCAoYCzwFmAVIBDQK7ArwCVQIJAuMBtAGIAZ8B1AHWAQ0BMQAOAHIA3AAIAScB+gBgAVoBPQG/AUECzAIWA9ECYgJgAiUCFwKTAWABAQFKACAADQCVABIBSQGKAqwDagRnBDQEtQOlA4kDAwONAroBOQFbAAQApf84/9D+1P2r/e78lvxb+536+Pk8+cj49vfV94j3kPdu92X3kfcu+IP4wvj7+Ff5Cvqj+kr7QPug+937DPwT/Nj7mvuR+5r74vv5+8/7L/x5/Mj8Mv15/YH+DwD5AKAATACFAGECdgOAA/gCkwJcAXL/w/wR+t72UvDj6iLpu+/e+Lb/sQH7/w8BuwOVBw0ICAiBCLwKhgv0CTkJygnBDSoP9w6hDUANxQ3DDGALvQqgCvEJ3Qe0BaUEpgPXArwBLAK1AjkCnQBD/6L+HP7H/cP9fP5A///+3P2d/Yf9cv0g/UH8ZvxA/LT7ffom+gb6L/q6+XD58vlp+fP4J/jd9w/4ePjD+BD57Pm9+gL8Kv1E/gv/l/+jAH4BiQE6AZMBGQJeAh0CuQEXAukB7wHVAQcCwwFQARIBtwDVAHoAyv9L/3v/cP8K/9z+4/78/rD+rf6a/tn+Fv8M/+H+8f76/vX+W/4n/sn+Bv8r///+1/5F/7n/o//Y//7/BQAdAMf//v/Y/2UAtgDMANsA6QDkAOwAbwG0AdcB+QEAAuYB1AG2AZUBygHZAQgC/gENAh4CHwIYAgUChwKfAoQCmgIzAncCvQLNAuQCeAJOAkoCRwInAg0CZgIzAgYC7gECAvcB7gFzAfEBIQLWAeQBfwETAd0ApAAAAI3/Jf8L/3D+Z/4Z/qn9Yf0z/Xf9Yv2z/W/9rv0Q/jL+hf6B/n7+x/7T/vL+Kv8+/1D/y/6O/lX+ef5U/jj+Gf7J/ZP9XP09/cj8xfxV/PL7tvvK+w/8Jfxt/HL86fwS/X79If5S/nT+Bf5B/p39DP50/dj8A/3p/Aj9EP2U/TL+yv7w/ir/o/8zAHkApgBSASACfQJFAoECZgKXAuMCvgPdA0kEIwM0Ap0As/3H+nD1QPA67hby8Pu5AxIFMQPLA+oHyQoGCy4KUgvGDWMN5wr1COIJtQuDC5AKUgmeCS0JTQhzB4kHxwfOBlQFPQPoAQ0Azv6y/hj/jP+H/rH8ufvH+7b7s/tZ/Bf9z/1T/Xn86/uh/Ej9Pf15/Of74vsl+/r6xfrw+tP6Zvpe+vz5pPlk+X75GPkf+aL5gfql+qL63vr9+xD+sv7f/h//9/+pAPQAFwGfAVECbwIAA+UCvgPnAxgEJwRMBDoEmQPOAocCZgJlAl4CZQKUAVwBzADoAP0AgQAtAQoBXgHgALAARwHAAR4ClgHaARMBGgEIAWoB8wGPAnACOgI6AnUBrwHHAfEBMALcAakBbQFEAVEB7gEkAqQC7gIYA44DfwNsA9cCsQIcAjUB9ABwADQAl/9h/2P+BP43/cL8ef0n/W399v34/QH+Uv0g/Xf8k/x7/Bf8p/tO+y/7T/pm+oj5svlR+TP5gPk2+dj5hvl4+o365fpF+wf8GPyc/MP8J/29/bT9kP3M/HD8H/yH/M77hfuw+3f7P/xs/Ef9Mf5x/jf+rP2u/ez+af/+/6L/H/+e/yQA9QCoAaQCEQQnBbUFUwNl//j21uz05kbqwPKs+ej4Cfgu+8wBngZrBzwKcQ2TECoO+gqXCoAMAA+eDv4NEw49DicN+gupC7QMyQwCC9gIjgaLBAEDrAFKAfAAmgDH/xT/Rv7U/JD7yvr7+gj7nvqz+eT4HvmZ+WD6s/qP+uP6e/sj/EX8evzL/Gr93v3H/c/9C/7t/gj/h/7d/Tv+qf03/Zj8Tvze/GP9pv0M/k7/kgBuARsCrQLOA00EbwSiBJ4EAQUvBXsEoAMpA0IDQQNKA+IDwQTxBCIFYQWjBa4FsgUsBtQF5gXJBR4F6ATIBC8F/QT6BJwEoARdBMgEXQReBBMEIwPtAgcCpQF2Ac8AlgBfAKQAgwA+AVUBSgFBAT8AMwCf/37/gf/y/h/+x/wP/Mb71vtn+2n7aPtI+1z7H/vP+mP6ivrF+hz7SPsH+2X7Yvt0+yn7CPvc+pL6Dvoa+bn4tvjW+AT5x/jT+CH5R/ng+A75d/l3+kD7Hfww/Dv9Xv64/qj+Ev7z/ef+Nv+3/kr9Y/so+zL7uPrd+NP2wvWc9Wv0ZfCl6HjdkNLuy53UDOUL9rj7hPri/1EMqxgTHO4c0SGkKeEohx+cFzgahyEoIy0fUhvsG1kcEhl6FDkTSRN9EdgKxQPl/TH6+vdW9pD2rvZi9jT2HvYv94z3X/ia+ST7//rf+Y33Bffl96P4bPg49ov0FvXy9df23PYQ9/X3R/mR+cD4xPh/+tf8A/0J/K37NvtX+0j6uvnT+SH7X/tO+1n7rPs2/MH8jf0F/3f/Lv/L/rf+4P/GAaIDwQTZBC0E2wIAAsMB/gEZA/UDugQxBVMFMAYqCNkKmgwKDvMNNQ2nC3gKcQgKBwIF2QLiAQABHAB9AA4BNwJ4A6oDlQOrApoBqQAmAKH/KP+n/n/+Jv+qAB0DzwUqCBEKIAsjC9kKgQmnB1gFkQI8/6H80/rE+e34OPgU+Fz33vYC9uH11vXx9WX2DPbp9f/1H/c/+Oj5IPsR/FL8lPyb/Kf8z/wM/BH8pvvv+378EP2q/fX9qf0B/cv7E/pP+Fj2JfVh9cr2c/jk+Yf61frG+uH6LvpQ+uf58/gJ93H0TvLP8rX0PPbh9rn1efT48lzuuOgr3vLPtLxBrJeoMrxD3CD2agNbDCkjOj/NUj5XOVawWhpaUE20MzUhGx0mHrUYGw0rBQwFnQaPBK0AM/+v/u/6EPNr6ZTied9w4Ejleuxu82v5p//6Bu4NQRIIFBQUjBRREgMO3whLBSIEcwNdAv7/N/17+sr33fTm8QLvFuzi6TLoVOd654fpyOu57sXxj/S199T6Vv6KAjEHSQspDUEOMg8aED0Q8w4PDLIJBgfmA6sAKP5r/Rr9HPxx+lj4qfcX+Kz4BvlJ+Vf4u/gO+Y/6fP1DAI4CiQQfBkIH6gi+CuEMTQ15DGUKhwflBSoFyAQTBK4CmP9F/CD5ePcY9/j3sfgZ+Yn4Nvi6+S390wFrBgIKFwwuDaUNFw08DX0MIQvECOoEdgF1/6L/ZgAuAnED6wMRBP4D5APuA+wDiAJZADj+j/vu+RX59vf89/334PjP+f75B/oK+jj6Gfqd+XH4kfc795b3wfey9wL44Pi8+bf6oftH/BD9T/1i/UP9R/35/Gv8w/sd+1T7q/uG+wH7NPrV+Pv2+fRY8oPwwe/T79XwnPKw9Ff3p/rO/B/+KP6z/Xb9dv2I/In7Qvq/+Fb4H/g6+Pj3KPaz8w3x5Orh4irYfsl/to2fuJW0pyjSXvpkDXIadTUUXw9543a/anVpcmhyTxwjsgIPAioKqwBw6WfgJ+1L+7v5HvEA8+36z/hQ6KXZGtkN4ZXmkui473L+ow3IFwcfxCXIKs8opiAzFrALZgIz+urzNO8A7A7qp+qD7J3u9+4z7pftGu3C7L7rD+yw7pLzZvg6/BYAnAUuDOsQZxJ8EbQRcxKmEaMORQqHBzkG5wNLAGL96Ps7+yD5E/bg8/fz+fRu9Q32lvfo+sX+KAIoBIAF6gYPCLYHtwV/A5sB+P9H/gL9YP2N/3wCrAQ/BiMH4gchCH4HcASRAAX9pPm/9xP2zPQI9Vj2uvjx+/X+igBjAeIARP/x/ET7W/ts+yH9qP/EAboF1Aq3D6cTfRXuFHgS0A6eCjQGMQKw/ib7dPgT9x34gfqM/SsApgEkAVT/f/xA+XP2AfQg8nfxbvHi8qb1m/nS/SgCCQVVBkcGEgXsAjf///oC99T0WfQj9Yv2h/gY+kH8vf1k/mn+sPzM+tH4gff99Z31rPUp9kn2gPW48/vyW/NK9Bv2svfU+QP8B/4WAGEBGQG4/2L9GPve+JX1Y/Lp7/XuAe917wrvwu8t8YvyQPCP6Z7iqdiTyryysKGIqWTSRwEcG5QhhDD6Vxl6/39vbytlxmUDVSgnOff/6eL08/bV4CDNoNX/6nzzdeyn7E76PAKP9qzkdOIt7hL2ffS99eACRBWiHgMhECRiKfopAyCWEtQHUv899j7smOUy5OvlWekU7QXwh/HE8Rzye/KU8hPxZ/HR80j3X/ti/3sErQqOEKATbRMLEaAPZA7lC3kHKgIJ/+b9/fzR+2z7VvyP/QH+tfyU+6/72vtU+xb6IPlQ+ez6Cf18//EAyQEiAlgCSQO7A50DTQNVAl0BVQFiAX4CtAPHBLkEUQNCAXv+4vwM+2H5k/fP9bv0YPTf9KP25/jK+0H/zQFXA/8DWQQEBYcFvQV3BQkF/gRXBf0ESwU6BnMGfgcqBigEmgJhAWABXwLzAqcD7QMIA8MB4ADr/w//0P2J/IT6l/if+OD4jPmp+mr7b/z7/Kv9Nf79/j7/xP7d/Tv96fzd/Er8hfsa++P6qfp6+k76ffpg+yj8Y/09/yUBHAJ6AYP/rf0M/aT85vu6+lr5evjb92D3Svdi9333Q/fM9s/2WPh7+s78jv7x/n3+ff3H+/j6rfqu+vX5BPhT9lP2W/jb+sn6lvmK99T04/DI6FPcXsz1tt6kLKWgwPbu8BL0I68wbU0+cOx87m3mV09PJ0VBJM73BeFL6yb7F/Si4BvfqPK/AnL9AfKu81j9Tvr057rbIONT9eP/+QEPCKIWdCMUJtshnh4nHKkT7QMP9cDtz+ye7GbrWeyf8I71Nfjs+Dn5JPmh987zNPDB7ifw4vO1+Kb+egUsC+cOgRDFEOcPcwxMB34CkP/O/sz+v/9IAsMFAQiDCHEHMQXQAWb9tviL9JXyY/Lb8xf2uPkz/moCeQWMBpsG8AUIBNIAAf5C/CP8t/yh/I39QADtA9gG8AecBqAE0AGX/pr7YvnJ+G35Tfqc+2T+8AH9BaUIZQkJCLwEwwAo/V36hvi19zX4r/my+/P9KABjAxoHuAnACuYIxgb5BOADogPDA1UEUQWJBQ4FbARtBCAEJgP7AHX+L/yP+0z88P3//6YBjgLbAogBzv8f/if8Qfri+KP35fcL+ZX6bPyc/rkAogJaA+gCUwFj/839Evzg+mP6lvrQ+oH68fko+kH7H/x2/JP8w/w6/X39Of1s/QD+Mv6P/Q78ofq3+Q35p/gs+Mz4EfpZ+xz8GfyR+7f7EfzI/Nj80vu++UT5YvrC+zf8PPrs+PP2TPLG6Z7eXs8XvXSsRKzNx+bv9RBXHycrdUHzWU5imFYVSwhGFDzwH//9rO88+QcEMwDX9an12f9gA9n8r/a1+Db7b/Ng5jXhSuc08q/52//sCCAT/RgaGvQY1ReiFR8P1Ab8/mv5NvbX9F31b/c++ZD5mfgW9vjzcPLA8NHume3A7aLvZvJR9kX8YANMCGwKxQmkCdwIBAeRBFEC6QE5AsUCUgP2BNIGAgj8B3IGHQSoAe3+ZvzU+j76WfsH/VL+hP8fAFYBBQIqAmgBmP8g/an6SPmK+B35avok/Pv9CgBnAkYEDAbDBq8GwgU3BPEBoP8//V378/kN+cz4U/rk/Br/BgG/ASwC/gJKBA4FswW4BTYFyQQ4BE4EqARkBc0FFAVjAwYBNv9q/vX+0P9FAX8C7ANkBREHmAjKCYcKjgpvCFgF3wHw/lH9Tfzw+5z7APvT+u/69PuR/Ub/WwAqASsBsQD8/5H/Xf9S/7X+Ef6t/eT9lP5X/x4AmAACASgBdgCG/y/+f/z7+mL5D/hk92D31fdw+EL5RfrQ+z79Fv4z/i/+bv40/5L/vf8hAI4AKwHCAM7/iv55/c38L/ym+3H7Zft2+6j7yPv7+9r7wvu9+xr8/Pu2+w38L/0i/6cAnABt/u/6Vvbw8HfqBOSm3djVUs2Ux0XOXOT/AIUVEx3lIV0tjjqYO+AwryUkJPgiHBejBST/RAkaFWEVxwwaCdEMQA2iBKX5VvUS9tHybuo05cPo8fFk+a/9lQKeCMgMagxdCW0H8gbiBagDwgB3//r/swEGA6ADTgO6AisB5v1i+bv0RvHr7sXsduvk64PukPJd9jj5jftw/Zb+S/4t/X38S/0I/wkBHQORBaMIfwu5DKMMaQvoCc8HFQVjApIAeAAbASECpQLLAhoDSwMkA1kCcgAG/lj7LfkA+Of3EPk3+179Lv9VAHkB7AJYBN4E6AMJApv/ov1f/Oj7JPwP/RX+xf5D/5j/JwDAADABnAA+/2v9LPyZ+9L7hPwa/i0AKgLMA3EEtgT9BFYFLwVuBNICpQE5AUEBpQF6AgkE3gVEB2QHHQeMBtgFvwRPA9EBJACV/jX9nvzn/LD9kv5u/83/5/+h/07/Dv/b/sr+lf5p/rL+9P5M/7r/LQCUALYAUQCp/xT/g/7Q/Tb9sfyR/G38ZPyD/MX8Pf1v/Yz9oP16/ab9z/3b/Tz+w/58/0UA8gBnAe4BZgJdAucBgAFdAQEBlQAbAB4ATQB4AIsAdQDZACYBJQHBADsA9v/E/zD/u/5m/nz+i/6g/gj/rf+XAPwAJQEtAQkBMQEAAfAANgEuAT4BQAF9AaMBpAG9Ad4BuAHNAa8BmgGsAWoBegHmAVoCtwLAAn4CsAJlAjcC+AGuAWIB+gDBAJMA/QA2AYgB4gFjAsQCPgNyA9AD6wPOA3UD8wLAAnMC4gFdAdoAcgACAEf/6v78/u7+p/4V/tv9pf2Z/Vz9Cf3N/JL8Zvwb/Fj83fxB/Uv9Qf1T/aT9xv27/dj96/0B/tL9hf1g/Vz9M/06/Qr97vz//PD8Gf16/cT9Ov6Z/gz/W/+o/6D/lf9pAA4BrwFDAUcADQBZAFMA/P5z/LP5IfeU88Lvuus259bi1+Ch5mfzAQGuCEIMmRB3FhYaQRjIFZUVrRbzEgAMzgeaCZ0NTg79Cy8KNQppCZ8GfgMMAp0BBADV/Hj6Evo9+/r8Bf9WAT4DJQTTAwsDqgF3AJf/gP9D/8r+CP4I/gv/0P/o/+r+YP2V+1H5JPe99Sn1v/Q/9Nrz0fMQ9MD04fUv9/73EPjf9z/4PvmF+u/77f0WAEUC6wNBBWoGMAdRB8YG7QXABNUDGwMKA4oDRATpBCUFBwWQBI8DqQLcAR0BawCp/yX/Vf/y/9EAzQH0AuADIARvA2kCgQEZAZMAif9h/pb9S/0O/RP9lf13/jL//P5S/qn9VP2K/b795P0n/lL+wf41/yIAYwGPAicD0AJ1AikC9gHzAdcBPALDAgkD5AK3AtoC+gIfA0MDTAMMA7sCcgJ1AqsCpALeAhcDAgN0Ao8BBgEuAQoB1gBtABIAwv9c//X+C/9k/2P/6P5l/lz+h/6l/l7+Wv6D/rT+if7Z/Vv9wvyF/FX8Uvx2/LD80vwy/d79Xv61/tX+Bv/o/sv+ov6h/sj+7/4g/5j/WQDnAAkBAgEdAUUBSAHIALMA9gBMAVQBSgGDASwCaAL8AZQBTAHtACwAJf/r/vj+CP8H/3//hQAuAYMBBgLWApYDDQNiAv4BRQKnAncCdwIEA8QDNAQ/BF4EwwSxBAUEIgNXAsIB9QAcAJf/hv9i/y7/E/9D/6v/6f8JACwARwAXAKf/Wf9U/z7/Df8X/zL/Of/j/tn+K/++/9P/GQBvAJkAqAA4AO//9P/2/67/Tv8R/zD/Xf9e/4f/wv8HAA8AGgAxAJEA0QAMAU4BcgF8AVMB/ADVAKEAegARAMn/sv96/yv/6f73/lL/fP+y/6z//v9EAHMAfwCsAMYApwBwACsAPQBKADYAOwCCAPsASwGBAcMBIQJBAvwBTgElAUQBHgEnAVUBxgF6Au0CTAPGAyMEEgR9A9YCfwKAApAClAJcAmAChgKwAmMCuQETAUoAlP8n/07/2f8rAJwACQHNAdQC3wMGBQQGtAawBikGfQWJBNIDzwK1AaMAwP85/+b+cP6r/fn8fvw2/O/7cfvd+jn6HvpH+of6jPpq+nT6xfpu+yT8xPzj/Bn9qPyY/I382/wF/fT8dPzE+2P7Fvvr+rP6VfrI+a75y/mq+tj76PwA/qj+L/+D/8P/cAAsAYIBagG+AIwAJgEJArICQwJ8ACX99/iJ8+zti+cU4W/bzdnT4EzvCP+BCOYLjA5GFGQYMBeeE3YS2BRWFIUPKgv1DLUSsRX9E3YQmg5aDKcHdAIHAJUApQCc/uL78vpa+wP8Nv0p/zYBtAHu/4/9W/wf/O781v3g/gMAlQAvAXsBmgH/ALP/AP4y/Eb63/j498z3vPed9w73U/bj9bj1T/YT96b3tfcd+NT4pvlY+k77FP0k/+wAwAFcAjwD5wN7BL0EuwSUBCEEZgMPA2sD7gNIBA0ETgOsAvQBRgE8AE3/m/5n/uT9UP15/BX8ZPzX/AX9BP31/CT9gP2R/br9N/4G/0T/z/57/nb+4f4H/zX/P/9d/2b/e/+t//j/JgAfAFIAnADUAPsA4QDoALcAmwBaAEsAHgAAAIj/MP/2/g3/yf+gAJEBxgKMA3YEfwUgBpIGvAZ1Br4FFwU8BKgDLgP4AoMCGwL/Af0BUwJ9AskCywLWAu0C5QK3AkgCqQEcAbIAVgA8AB4AVgCqAO0A9ACdAPj/9/4K/kb90/zX/Lf8Mv2N/Rr+mf4P/2T/cv+T/6//y//V/1QAoAA8AYMBzgFnAssC4QKjAt4BOgGKAFj/V/4U/Wr84vuu+577AfyW/PP8G/3C/L78l/yP/Af8wPuC+5X7svuq+8r77vs3/Kf8Af2h/SH+df7Z/lf+Pv69/dT94P3T/dj94f0I/uj9ov3m/Ob8uPzA++34wfT5717r9uav4ePbkNRa0JbVWeiBBDwcNiZCJcwkiiapJDIbPhKmFPEb2B2OFYAPmhPqGvAb2hIiDHMIkARu+7DygPGs9i/69fiS9r71V/b49KX04fbL+tD8u/uA+sL7iP52AV0ExAeDCz4N/wv2CB4G7APqAUj/9vyS+7H68Pl8+Iz3jPc3+Fz4c/fz9Wv1IPYY96H4pfrb/b0AEwJAAmoCvAOhBEMFUwXsBScGXgXsA/gC5gLYAowCSAEfAHr+ify5+l/51fjZ+OL44PgB+Tf5uvlR+rf7UP3o/r3/0v/P/3IA+wFeA3QEuwRqBE8DiwFn//v9lv1O/pj/qgAnAS0BHgH0AP0AdQARAKX/T//l/vr9wv0v/qb/mAH2AqMDNASfBDEF7QVbBgMHRwfeBpUF4wOAAtQBdQFuAfIAYQAX/+r9Ef2K/GT8d/zx/AD9qPwN/K37GPwZ/Uf+gv8cAYQClQPYA60DQgNRA8MDnQQFBhUHBAhuCP8H9AZsBSsEsAJsAZT/0P35+8z6F/rl+ff5Hfoh+uP5RPmK+BH4nvcM+Aj4lPgo+S764fu6/Wn/KQC6AHoArgALANf/i//4/2IAVACg/xj+jfwB+9P5hfnO+Zv6GPvs+pz6o/nR+Pj3R/fE9yH4tvjx9xn3sfZm+Nj6Yvxp+1f3YPN77ZrmdN3V0wTKGcIuwSHQ6/DeE40peCuGKH4rgi97KTscVhmyI9curCh7GsAVEB8MJ8YfyBHTCNoGsv9m8tHp/OxO9er3XvOZ79DvevAn8OTvd/PX96H5HvlR+bP8DQFrBdsJAQ+kEgET1Q/aC+QIsgYyBKUB8/+C/ov8s/ni9pX1WfWk9ar1qvV49cj0FfTr8zD1nveB+pr8tv5BAU0EOwf6CLIJMQrKCkkK9gjxBssFuAXOBWwFYAQNA0sBGf9q/KP6ofki+aD4EPjU9wD4Ivgx+LD4VflF+gr7K/yB/RT/0QAxAsoDBQU/BpsGfgbRBc4E3AM0A78CrQLoAt8CxwKNAuEBQgGqAHIAgwDDAOAABwGSAK7/7f09/NH76Pt8/W3/UgGeA/AFywdSCZwJAwnpB2QGlATaArEBpAFWAmADBATkA7oC5QDi/gj9Afw6/Mf9FQABAhgDJAOGApEBrAAuAIAA2gAjAXQAav/Y/XP8b/tB+xT8JP2g/UT9GvwK+yv60/nC+VL67PqT+8v7gPwO/vf/SwFmAUwBFwGuAFz/5v3G/NH8kPyH+0r6KPmP+Q360vr6+lb7rfo/+cD29vTp83r0U/Vf9gP3EPb/9Bj14PZt+Sv53/UI8nHsm+W92l/QH8h1wQa/yceo5aEQrTWfQNQ3qyzBLKwwQCs0I5ciVy6XNRotYhs1FAMbBCHxGF4FkPZa8ILs8uW94UbmpPCt9jT0fe547C/vlvOC9/X7TQBSAxAEcwUpCVEOGhMpFkYXIBY/EQMLAAa2A7AC6AC6/Zn6APfP8pnuLuwX7XTvrfHQ8lTzW/QQ9f/1fveY+vv9GgHTA64GPQqhDf4P2RC+ELoP9g1HC4IIawY+BVoEnwJOABf+KPyi+vf4NvcB9of1ffX19Sb3xvjJ+k/8Af1t/X79Sf54/ygB0QKLBL4FpAbcBmAGtwWdBHIDEQKfAC7/7f35/Iz8+vwO/sz+6v7u/tr+nf94AAkCyQNxBX0GPgZtBVgEXwPsAjgD9wMzBdYF8AUsBUsE4QKCAUwAHgA0AUMCVgNwA5kDxANFA2cCcwGhAGUAhgA8AJ4AZgCRAHYAWADj/07/fP61/fj8ZPxK/O385P3Z/kz/VP/o/uH+2v4K/7T+HP5a/Zn8h/z//C3+K/9z/+7+Cv5F/UX8afuB+n/6yPpa+0772vri+er49vcb+Or4pfos/O/8Sv1r/Xf9wvyu+1n6qPn8+HX3ZvW384rz+fSy9bjzQ/Dy6jrmvN+c1/3OtMZvwWjBus8+7jQXlzVlPrk3YjSXOWQ7lzNdKIoq/zICM8ckphbxF8EfZR3YDIf7RPS78MHoieDb4Nnpj/Cq7q3pauk97XrwL/LU9bj8TAK1AwoEVAeWDX0TNBa7F7EY2Be8E+sN3ghBBs4DhwAw/Q/7ufhA9ZLwZ+2i7LrsBO077Rbv5fFO9Lz1sfc5+xj/8wGfA+UFvgnADSYQOxFxEa8RvBAuDmkL4ghVB64F4gNPAuMA7v6O/CX6R/gq9+r13vQP9Cf09fTZ9UP3tfjj+ub87/7T/6UAuQE9A68EfAW1BTcGbQfjB3cH4AW+AxECuwAt/5n9ofzO+x78NPxN/D78u/x6/UH+lv7I/un/XwGVAxMFIganBu8GFwfBBk8GxwXsBUsGxwaxBv4GVQetB/cHPgdqBrEERQPsAd4ASACp/wH/Fv7P/G77hfpm+vr66PuY/Bn9Zv0U/gf/SgB/AT0CwQL0ArkCKgKMAXoAZf99/k39+vzr/JL9LP5q/pP9VPw8+y/6o/k++VD5EPqY+pr6DPoS+Qz4avcR9zL4Ffqs/AP/DgCjAHoArP9+/ov8B/si+t75l/nl+IH36vX99Cf0QvP67yrrpuTx3JzVu81Qx7O/37r2vKTR4/ZaHvs0ZTVNMTo1BD/aPRI0Ui3vNd4+wzh8KK8fkidFLYQhpQjz9vrx5u4N5sfdP+A+6aXspueK4rzjO+nH7PDuK/P7+Bf9Kf93AkIKfxLSFwwaLBoIGhUXkRKGDq0MDgu4B6kCw/3R+uH3iPTH8LjtZuw762/qe+o+7FXv3vIg9Qz3aflC/GX/HAIGBYkIJwzIDjIQ3BDOEIkQ7Q65DBAKJgeNBPkB8v8d/sf8LPuH+ab3v/W19Oz02fVr90z4M/mE+jf8eP59AFMCHgR9BVQGTgYVBiEGpAbYBmEGEQVzA18Bb/+V/Sb8lfsm+/D62fol+/n7QP0j/0IA4gBzAOD/jv/O/wQA8AC0AhQEbwWeBb4FZga1B14ItghVCCAIIgikBwQHYwYoBl8FRgSqAhACIgL4AWwB5P+L/tb8bPsr+mn6A/yB/m4AegGlASEBtAD1/6z/0v8+AMoAKgH9AXMChwJQAab/P/5T/Yj8n/sK+wX7Vfua+kb5xPck91T3F/j2+GL6sPuB/LH83PvL++T7afzq/H/9Zv26/ez86/zk/OL8APtg9c3tAuRe3HXUFM+yyNHBQ7m/tmrDdOJKCnMknSuwJt0nETD8M6svcSumMYM8kT06M8EqYC3vM40uTh0PCwUBc/p+8WboBeYX6gTteOoq5cfiaOMe5bXmwOr98DP3JfyEAJ8Gpg2CE0UX8xkTG2QaWRcdE4kQUw5xDNQIcwQLAKr79fak8WHtQuq06CboxeeD6PvpPuy+7gbx0vIu9Sf4U/yGAb8GKAxaEDwTvhRKFJITRxICETUPiQykCQoHTwV3A6AB/f6A/Jj50fZt9H7z6fMm9Xf2W/f6+KL6VPwH/nX/QQHxAjUEqgROBUoFQAX6BAcE5QMRA4oC0QGQAH7/+/1a/cP8n/wp/LD7uPui+xX8r/yi/Zr+O/8q/+P+sf72/vH/FAGUArUDggRbBdIFigZ7Bg0GGgVQBOADagMqAwUDEAPhAiMCwwDu/3D/GP9o/uL9qv2M/Y/9bv24/Zz+qv+1ABkCHANABJsEVASNA9MCsQGHAI///v5O/0j/9f4V/nf94Px1/Of7mPvM+7f7kPvA+jj6YPnm+G34yvj3+ZD7ofxY/eH9aP4z/1j/tv/I/2YARgGfAcQBbgG8AJAAGQBx/8L82Phe9EDwuuy856TgetWTyUTB58Vl2Nfv4QHzCTwRjRv1JH8lLiESIQsoYCyJJsgdmxxlJEYp9iR2HGUYhBaNDzsDsPkH+HT5qPeg8hrwmPCe8d7wEfEY9MT33/hr+HP4E/sF/kMAfAOVBwkMhA0nDT8M7AuwCnwHmwQOA2gCmgBY/X76OfnY+Ab4yPbI9Xv1v/R49MD0+/Xn93z5ePvV/UQAhwK+BK4GAQmGCj8LiAvUCrIJjAeeBU4E7gN7A7UCTwLxAbEB8QCB/0/+Nv0C/Kn6cPlY+WH6sPsz/eP+vgDkAmIEgQWPBt0GawdKB3AHZgdVBxAHVgZFBacDFgJJAAb/t/2o/Kn72fr++V/5mfgA+Df4mPiJ+fP5hPrz+tz7lvyF/aP+kv+uAB8BUwHuAWACfAMtBLYElQTkAx0DzAHXAHD/fP7E/cD8oPtW+mf56Pit+GP4d/iC+OH4OPmu+WH6Xfu6/C/+mP9yAAcB4gFhAiUDaQMbBNYE1QQ3A4oAHf7C+8H4xfPH7djmNt7L03nNdtFr3wru4PU/+e0B9hA8HWUeWBlYGW8gYSWBIAQYaBWOGnYd9RiIEYsOIQ9fDGoFY/7W/PP81foS9uLyLvNg9BT1gvW59+v6of2K/pr/2gBYAvwChwPaBIMGuAdTCMUIDAriCrMKkwlgB1gFoQIbALD92/uE+rv5e/ks+fD4evgm+dr5hvqq+vj6M/yV/Wb+Bv87ABsC6wMfBQAGAweUB+gGRQWXA0ICTgEgAGf/Rf/h/0QAgwB0AHUArQA8AHf/W/51/eb8pPzr/Lb9zf4pAFABHQLvArMDqgRIBbIFeQUaBaUE8QOfA1EDVgOmA4UDJANdArQB6ABDAKv/cv9e//X/tQBnAR0CPQKVAu0CFwPrArkCUwJ6AoQCQgJeAvwBMwIMAiUCJQJYAn0CXgJ9AqICQwPNA/YD9QO6A1QDiwK2ARsBJgHXAGsAx/+C/7n/z/+Z/zj/Vv6O/VL8W/vb+k77Gvy8/Bn9TP0j/tL+WP9U/47/CgB7AGcA/f+m/2v/Xf+k/sD90/w4/LT7b/v8+jr74/uH/A39/fyS/Iz8ivxe/Wr9xPyE+wL7Qvzf/Eb8Qfk/9vTyve586P/gXtiFzanFlcW303ro2PnJA3IKBBU6H8AjbSJ6IlAnHyuqKEUizR+8IsQljCOOHqkaFBhjE/wLmgV8AgwBVP5C+rP2dPTc8ovxdPFn89/19Pfd+Kf5Lfsh/a3/aQK8BRkIkQmaCb4JFwrtCX0ICAbdAxsCjQAp/gf8mvqc+Vr4O/Z19NDzC/QR9JrzcfNO9FX1Q/Ya9+H4tvtv/qgAUAJKBCMGWgfBB/MHBggDCDYHCwYCBVUEEgTWAxcDDAKrAF7/Fv7i/PD7m/tk+137APve+jj7zPvD/Pn9+/4EANAAYQEHApgCLQOfA9QDkQMfA4UCEgLGAcMB8gH8AeYBagEvAbUANwCm/yL/qv4e/q79if2P/ev9ZP7a/pz/OwAdAeABkQIAA0UDmQOMA5kDfgOMAwQEFwRhBGAEsgTKBMUEUQTgAxUDmQJMAikCdAJqArECswLUAsYCGgMxA8AD7AO1A2sDUgKKAVoAwv8x/yD/E/8P/xD/6/6b/i/+k/3u/FH8mvt1+4j7y/vg+6X7qPvb+z/8tPwQ/eH94P6N/+b/dv/I/qP9avwv+9D6JPsY/C/9wf0s/gf+6v2F/RL9o/xU/CL8vftc+wb7rvsV/d3+1/9C/4j91fqF92jy1+sX4h7XEs4XzKrUneGE7s/1cv1kBowOIBLtEcEV4BxYIp0gFBx7G0AfIyEQHkEadRmAGc8U8gwkB4QGDgcwBdABwP+E/gr8mfgd9+X4gPtE/ED72fqv+8T8Zf27/lABDATKBeYFdwU6BR8FpQTGA+cC8wEKAZ3/Hv6m/OH7ivt8+z77kPrD+XX4efd29iX2Q/bJ9l73SfjI+Yj7Zv3Q/mgA8QFxA0gEdQRqBH0ExQQoBVUFSQUZBToEQAMgAk8BngDJ/yL/jv48/v39wP17/Xf9NP37/IP8Vfyy/HT9Hv6f/uP+H/9c/1b/if/t/1UAeAAZAJ7/H//K/sn+yf7T/uH+4v46/7//ZQC6APUAtQBzAAkAx/+g/5f/xP+x/+X/5P9mANgAVAHxAbACdQO+A78DqwO8A9ED1AO3A6wDmQOMA1cDBQOmAtoBKQFcAOH/zP+o//j/PAB/AJgApADvAGQB9QGFAgsDVwOnA5wDlgMfA6ICOAIwAlUCfAJ0AgsCyAHPAPD/rP61/QX9YfwA/Gj7WftE+3n7mfu8+xT8ofwC/T39Sv1Q/Zb9sv2v/YH9Of0u/VD9n/0e/mP+/P5c/1n/B/9Q/jj+cv4Y/9H+Gv4r/WL9mv6m/zgAsP/w/nr9qfsA+Sv1Pu5L5Bnb8NbF2pLiquqM8Cz2PPwCAuUFmAdOCgAOIhKuE7sS3RFyEsAUThUPFQUUjBOSEl4P7wvACYQJOgllB5kEeAL6AFH/vf1p/aL+lf9U/zb+6P1Y/vP+bv+dAH4C1QP+A8gDCgSJBBwE8AIsAvQBfQH2/0z+ZP32/FT8dPvy+hz7+voN+rL44vdv90D30PYa9z/4+flP+0D8af3A/i0A1AA3AZYB/gErAgoC3QHfAUECggLRAqUCVQLKAV8B5wBOAMn/d/9K/w7/jf4K/v79Av4W/gn+/f0d/i7+Yf6Z/hv/rP8YACgAQQAbANb/av8R/wT/7/6f/jn+Dv4h/lH+cv6y/kj/fv9d/8v+jP6q/rv+6v74/kP/r/8bAHUADwHGAT0CSAIlAg8C/gHEAUYBAwE3AaIBDgJXApsCIAM0Ax0D8gLYAr4CMQKPARQBvACiAE0ALAAyAC0ACwDE/9X/FABbAHAAVABbAFwASgA2ABMACgADAOj/2//D/7//ff8X/77+nv6T/r7+y/4V/2P/qv+3/57/Df9x/nv93Pyr/LL89fxP/QP+v/5//xoAwwC0AVoCZgLNAS0B/QB1AecBbgIWA4oD8QOpAzkDHwLM/vT37u1A5A3fDt894m7kDead6KDtAPJi9KP1rviy/RUCHwTcBLQGswmxDCkOUg+HEEURgxCDDvYMqAwWDfoMEQzOCk4JigdzBSsE/AMdBKkDkQKoAVoBSQErAVoBggLuAyQFQgXnBMUEugSoBD0EwgNkA70CyQGkALD/H/+c/hT+mf01/dj8K/x8+yj7/fqo+iH6/vmQ+mL7GfyC/BP99P2o/gT/Rv9u/67/lv+D/4f//P+CANUAkQAiAHr/G//G/nb+UP4v/i/+X/6K/n/+ff5t/or+jf6C/q7+F/+Z/9j/KQBOAKoAlwBzAC4AKgAnABIAAgAHAPn/qP8c/6r+f/43/vf9z/3a/ff9Bv4+/qH+Hv+R/9L/BQBIAEkAKgADABYAJwAnAAYAIwA7ADQA9//F//3/VwB9AHkAWACFAJEAfwB4AJAAsgDVAMcAvwDNAMoAhwAUAN//3P/5/w4AIgBfAKoA4gD8AAoBFQFJAT8BcAGIAeYBFQIkAgoC2QGgAXQBRwFKAX4BpAGqAXEBMwH4AJEAHgCp/6r/uv/6/wwADgALAAsACwAKAAoAIwAdACUASwBbACMAlf/Q/lD+9P3K/aH9r/2//ev9x/3r/Sz+ff7+/oT/RQCRAL4A1ADjAeYDwgUbB/QHHAmfCqoLFQv7B7MBzviC8JfrVutV7H/sI+xb7R3wJfJE8onygfSZ92754fk0+ij8u/7aAAQCUgPdBNcF5AWfBUIGUgefCPUIRgkSCYYITAdcBiAGQQYTBn4F+wTABGcEOwT7A4oEQQX9BUsGRQZoBlQGeQZjBngGrgZnBiEGhAX4BFgEoQPhAk4C0wFhAcEABAAu/1L+c/2V/M/7RPvg+uv6Mfup+wL8Yvzg/C79PP0K/eX8+Pwh/UP9jf0V/nL+nf6H/q3+sv6F/jH++f3y/dX9lP2U/Yz9mP1j/Sf9EP1E/X39z/1Z/vH+k//a/wEAGQAVAML/ef95/47/sf+K/5j/uP8DAAIA3v+b/2H/Fv/S/qP+sv65/pX+gv6F/pn+jf6K/rr+Ef+C/+f/UgDUAC0BKwH9APMAFwEkAQgB5wAUASsBQwEwAUkBggG8AcsB0AHQAcUBWQH7ALUAmQBOAAgArf+q/6T/sP+R/4D/lv+Z/7z/1f8HAFIAewDjAEcBtwHrAQ8C/gEoAhgCIAIXAhsCLQIQAuUBxwGhAZ8BfwF5AVwBPAEHAdMAlABcACsAEwDw/8j/eP8j/7z+Uv4C/tz9tf2W/Vf9HP0j/Vb9of3m/Tn+qP4V/5X/ZQCZAewCWQRjBS4HbQlsC90LyQnCBTUBsv1x+7H5Jfiv9jH2N/ZI9kL2uPa193T4Qvin98z3pviq+XH6jvth/f7+1P/k/ysAwgA8AUoBegEbArgCuQJgAjcCpALRAr4CcAJvAjICxQE1AVIBuAFCAogC2gIvA4UDswP9A0cEnQTdBDwFZQV4BTYF6gTUBLYEbwT5A6cDfQMjA9oCZAI6AsQBNAGVAAoApP9V/yn/GP8V//f+1v65/p/+YP4e/vX9v/2h/W79iP27/d395/2//cr9zv2z/ZD9gv2H/Z/9rf3e/R/+QP5B/hL+Df41/k/+bP6E/oT+hP5t/qH+1/7Z/rL+oP7D/g//bP+w/xMAdgC1AMgAxADhAPYAFQH1ADEBSAF1AXUBhwGvAboBkAE8AQcBDgEjATgBGgHyALgAigBJAFAAaAC4AMEA1ADSAPgADAEIAeUA0wDHAK8AcQAhANv/rf9q/0z/Mf8G/7H+M/7R/dT9Af42/iX+N/6P/gT/iP/7/04AzQC9AQkDeQSeBYIGcge0CA8KagoECcUEW/+S+l74IPga+Dr3t/Za90f4k/i/97H3iPig+cv5RPlo+WT6gfso/H/88fyY/dn9HP4s/qH+//7J/5cAXAGdAYwBpwEDAi0CQQIVAlYCbAJNAvMBFQKEAh4DWQOfAwEEagSRBJcEngTtBB8FSAWJBegF3QWRBSMF9wS0BHEE9wPJA4wDLgOlAhICnQE4AZcA7P8///z+9f7w/sP+nP7Y/mP/0P/e/7L/c/9J//z+zv7n/kn/f/84/9f+lf6m/or+Tf4X/h/+9P2A/eL8hPyF/KP8z/wC/XD91/0V/ib+HP4O/iH+av7F/h7/Lv8o/0P/W/9g/yj/Av/m/r3+qf6D/uP+Nf+h/7b/if9e/0j/U/+A/5b/i/+C/5//4v8gADAAPwAYADMAVACkALAAkAAyANj/rf+Q/4n/hf+q/+3/QwCgAN4ALQEtASMB4gABAQMBDQHdAOYA9gDfAHEATQBSAIgAlQCYAK8A/gARAdYAiwCMAOcANQFsAXsBmQGCAT4B/wC/AMUAlQCkALEAJAFbAUkB1QBxAFEAYQBkAEcABQCR/xP/4/4z/6X/CwA8AEQAMgAgAEEAyACEAdUBogElAeAApwAjAIn/0//bAMYBFQFD/6r9V/3D/fL9vv2d/Qv+Of/qAI0CTwMFA/AB+ADe/4T+6Pzc+7/7Pvyn/LL8q/yf/IX8nPzJ/E39wf0P/jX+uf5C/83/r/93/2X/3v+BACIBcwHqAV0CsAJtAgICzQH0Af4BnwE8AU8BnwH9AfkBFAIoAhgCvwFkAV8BfwE/AegAxAAgAWABQQHCAJMAfgB8ADYADABLAJcAmwBTAA4AGQBPAGcAEAC3/3n/aP9G/wL/2/4n/3T/jP9c/wj/9f7k/q3+Pv6d/S/9Cf1J/Zr9yv3d/UD+t/79/v7+//5E/7//IgBlALQADAEJAZgA9v+9/9n/+v/e/6j/e/9k/1v/nf/4/5UA8gBeAYoBrwGGAXABZwGWAeUBNwJPAmkCPAINAsoBzQHCAaUBYAEmAe8AnAD//4f/Mf9U/0T///63/tb+K/+H/3n/S/9L/6v/GABdAHgAjwDEAAUBLAFkAVsBJwGPAB0ABAApAP7/l/9I/1X/lv9s/wv/s/7M/h3/P/9C/wv//P7t/jL/rP81AFUAPQAAAPj/+//X/0P/Yv6j/XX9u/0o/o3+8/4m/77+Bv47/Sz9k/0C/lL+ov5Y/0MAMAG/AQwC2AGFAUEBUgEfAZ4Azv9J/wb/yf5y/lH+lP4J/z7/MP9h/+z/dgC+AMEA1QD0APkA8AD8ACEBXQFcATgBswAdAIf/dv/q/7IALAGTAQACfAK5ArUCiAJsAh4CggGkAOz/gf+I/+f/ggCtAEUAsf/K/4YAcwHnAcwBkwGRAZMBbgELAb4AfwByAFIAPgAAAMj/qf+8//n/OwBAAPj/lf89/yb/DP/G/pj+m/7m/gz/7f7d/g//cv+N/0f/Cv8f/13/Sv8N/+3+IP8p//z+yv7k/ln/hv9H/wb/A/9B/23/af83/0P/lf8fAIMApgCDAI0AogCxAKkAnQCqAK0AcgApAM//rP9u/0X/Ff8g/0r/uP8oAIAAigCCAHwAvQAPAT4BPAEZAeYAowA7APL/u/+P/1T/UP9r/6r/o/+n/7b/NQDBAD8BlQHPAb8BfwEvAS0BYgGuAYEBPQHsANIAjwAgAIT/4/6A/j7+G/4n/jP+kv7g/in/UP92/8L/JQBXAFUAOABBAHoA0AAeAU8BRQEoAQQBHQEkARMBnwAkAMD/fv80/+L+kf5W/jT+E/7X/Zf9mP3//Xf+5f4X/2v/3v9GAGcAWQBRAGcALQDv/9L/KwBkAGIAEwDm/+f/uf9t/z//cv/P/+X/m/8+/wv/xv6s/o7+zP5Q/xwA1wBMAUQB9wCnAHQAOADq/5//iv+X/7r/7f85AJQA6QAIASMBFQHtAKQAmAC8ACQBeQGhAYUBJgG0AJUA5QBwAZwBTQHWALsA9wAmAQoB/gACASABDwHfAKkAjABfAEoAOQAXALb/Zv9q/8j/EQADAJz/Of/7/v7+FP87/13/af9i/4f/q//D/43/VP9Y/5n/w//S/9T/8f8XAPv/lP8Q/9L+y/6m/jj+wf27/RT+d/6L/oj+vf4b/3r/v////0cARQBHAFgAswDoANcAhwBfADMA8f+H/1//pv8QAAQA0//Z/1kA3wAkARABNgGdAfEBtQE3AdkA5wDZAIkAHAADABkA8f8s/2/+Iv5u/sn+Ef9U/67/9v8uAGMAmgDHAOUA9QASASIBHgEcAUQBTAEdAZAAJADr/87/lP9z/2j/ev9p/2z/g//u/0EAjADAAAUBHQEIAcIAkwCPALEAswDGALAAgAAhAOv/7P/7/wIAAgAkAE4AGgDF/2r/bv+a/6X/oP+2/9f/7v/H/5j/jv+i/7X/rf+z/9f/EABjAIkAtQCuAI8AFgCo/4T/sP/B/3//JP8m/6L/BwDq/2L/9f79/jL/Wv88/0P/Yv+N/5n/lP+F/5D/Zv/8/nT+3v1U/df8kfyT/Nr8Lv2O/ef9Kv4W/u793/1E/tX+WP+0/+v/IABkALEA/QBNAXcBrAH9AX0CqgKYAjYC7AGPASoByQCxANkAHwEsAQ4B8wD6APIA5gDEAMoA7gA4AZoB9wErAmUCawI8ArMBLQHVAO0AEwERAQMBLgGaAfoBFQIQAigCYAI4AswBKgG7AEkA0v9+/3L/a/8W/5H+Uf6j/kL/k/9n/x7/If9P/1H/C//T/u/+O/9f/0v/K/8z/1f/iv+7//3/MABFAC8ACADr/6P/TP8k/yf/Pf8K/7D+hf6X/tb+Df9C/3T/if99/2j/m/8GAJoA4gD3ALgAgQBoAHgAfQBlADEAJAA8AEkAHgDo/9H/7/8IAAcA7//7/wcAIAAnACoAQwB4AKUAvwCfAG4AVgBjAGEAQQAaAC8AVACQAKUAtgCuALYAogCLAGkAOQDm/3X/BP/W/t3+9P4J/yD/QP9e/2z/gv+n//r/OAB1AJEAvADTANgAkQA9AAoA9P/a/6z/g/90/2v/Mf/T/oj+h/63/sn+tv6h/rr+6f4z/3f/s//l/wAA+P/Y/5X/UP8m/1D/oP/r/wMA//8HAC8ASwBOAAwA1//D/9j/3/+m/0X/+/77/v7+2f6w/s/+Of+k/+n/JQCKANYA7gDWAPgAQgF1ASwB1wC8APYAGQEVAeEAuwCCAFQAOwBZAHkAhwBwAFwAXgBXAEAASwBYAGUAQAATAAAACQD9/93/vf+r/5j/d/9Q/0//eP+0//L/KwBtAKsA2wAFASIBQAFeAYcBnAGtAa0ByAHcAeMB0AHGAbEBkgE3AcoAZABAACwAGwABAAMAAAAPAC0AWgBwAEkA8P+6/7P/rf9l/yb/L/+T//X/EwDh/6P/ev9//4D/bP9H/zD/M/9J/0T/Mf8d/yf/VP97/3v/Xf8u//r+0P60/r3+5/4i/2P/iv+O/27/X/9k/4//q/+w/6j/yv8wAKoA3gDRAIUAZgBrAIIAcwBrAIAAlABHAML/a/+l/ywAXgANAMr/5P8oAC0ACQAZAHEApwB0ABUA8f8AACEAJQAqAEAAUABJAEUAMgAeAPH/yP+8/7v/nv93/1v/aP+N/6H/of+c/6P/q/+k/5j/lP+V/5D/if9s/1n/Tf9Z/2D/YP92/8P/HgBTAE8ASgBiAIAAgQB7AHwAgQBSABAAAQA4AHgAgABMAAoA3P+6/6L/nv+x/8//7f8RACEALAA8AHAAqQDBALUAxgDpAA8B9QDLALMAwQC/AJwAYAAuAO7/ov9P/x//Df8D//v+AP8w/1T/Tf8t/0L/mv/t/wgAAAAXAFwAjACEAHMAaABhADQABgD//x8AEwDo/8b/3v8CAP7/w/+f/53/qP+r/8f//v8/AGMAbQB1AGIAIADN/3X/S/9L/3X/sv/e/+T/4//z/xkANAA2ADEAJgACAM3/p/+q/73/yv+4/7n/3f8iAGUAsQDqACEBMwE/AR8B/gDiAP4AHwExAQEBrABfAC4A+f+u/3X/ff+9/xUATwB3AJkArACoALYAzADTAKgAZwBGAEcAWgBaAD4AGwD7//3/DQAvAEgAVgBgAG8AXwA5ABgAIgBcAHsATAD3/7v/r/+y/6D/ff9m/3r/pv+0/5//iv+F/4v/lf+Z/6L/pP+R/3b/Uv87/x3/+f70/hL/Qv9f/2b/f/+S/3//SP8f/yL/R/9F/yj/If9N/5j/2//8/xYAMQBCADMAGQARACgASwBUADYAJwAoAEMAUgBCACoAGwAlADYAPAA+ADIAIAAVABUADQAGAP7//P8LACkARABcAGYAYABZAEsATQBUAF8AbAB1AHYAbQBUADsAJgAsADcAQgBBADkAMQAtACQAGwAbABIABgD9//D/5P/b/9f/4f/0/wcAEwAjACwAKAAlACwANgA+ADQAMQAwAC0AHgAKAP3/AgAFAP7/6//h/+D/4v/l/9j/0v/N/9L/0v/R/9n/2f/W/8//0P/k//b/CAAVABkAFQACAPT/7P/n/9r/xv+7/7z/yP/U/+b/9v/9//z/9v/0//j/+//1//L/9v8HACYAQwBJAD8ALAAfAB4AGwAXABkAIwAyADYALgApACoALwAwAC0ALgApABoACAAAAAAA///+//b/8v/5/wIAEQAeACQAIwAmACsAIAATAAoAEgAbACQAJAAVAP7/6f/b/9n/4v/m//D//P8KABIAHgAsADcARABJAEIANAAfAA8AAAAAAAIA/v/y/+n/6//z//D/7v/r/+//8P/m/9n/2//j//b/+//3/+3/6P/g/9z/2f/b/9r/3P/f/9r/0v/K/77/tP+v/7P/vP/E/8z/2//l/+X/4P/d/+r/8v/2//r///8IAAQA+v/u/+3/8v/4//b/8v/1//z/CQAWACEAKwA3ADwAOwA1AC0AJwAlAB0ACwADAAAABwAOAAoACgANABoAIwApADIAOgBBAEIASABJAEcAQAA3ADcAPQBDAEgATQBOAEgAPgAzACkAIwAjACIAJAAgABsAEQAGAP7/+//3//D/6P/m/+T/5f/e/9//4f/r//T/+f/5//j/9v/5//z/AAABAAMA///1/+z/6f/o/+z/7//0//r/+f/4//j/+f/7//r/+P/2//f/+//+/wAA/v/8//r///8EAAoADgAOAAkABQAAAAAA+v/7//z//f/7//j/+f/5//j/8f/u/+//9/8AAAQABgAHAAkACQAIAAYACAAEAPz/9//2//n/AAAAAAAA//////r/+v/4//T/+/8AAAcACgAJAAgABQADAAAAAAAAAP7/+//4//v///8CAAMAAQACAAUABgAFAAAAAQAEAAcABgAAAP3/+v/5//f/9//5//n/+//6//3/+//9/wAAAQAGAAoACgALAAgABAAEAAQABAABAAAAAAAAAAAAAgABAAQAAwAIAAwACgAKAAwACQAJAAMABAAEAAQAAwADAAMABQAFAAQABAACAAEAAAAAAAIABAAIAAgACQADAAIAAAABAP//AQADAAUABgAJAAkACgAHAAgACAAKAAoACQAGAAYABQAGAAUAAwABAAYABwAHAAUABgAHAAkABwAHAAcACgAHAAUABAAAAAMABgAHAAkABQAJAAgACwAFAAYAAgAEAAIAAwAFAAgACAAHAAYABQAEAAUAAQADAAEABwAFAAgAAwAEAAMABAADAAYABAAGAAQABwAFAAkABAAIAAUACAAGAAcABQAIAAcACwAHAAkABQAHAAQABQABAAQAAQAFAAIABAAEAAQAAgAFAAEABgACAAcABAAHAAIABQABAAIAAAAEAAIABAACAAYAAwAGAAEABwAAAAUAAAAGAAEABQD//wUAAAAFAAAABQAAAAYAAQAGAAAABQAAAAYAAAAFAAAAAwD+/wMAAAADAAAABgACAAQAAAAIAAIAAQAAAAcAAgAFAAIAAgAEAAQABQAFAAYABAAGAAUABQACAAYABAAFAAMACQAFAAYABAAHAAQABQAEAAYABAAGAAMACAAGAAcAAwAGAAUABwADAAYABAAIAAQABwAEAAYABAAHAAQABwADAAYAAwAGAAIACAADAAcAAwAIAAMABgACAAcAAgAHAAEABwACAAcAAgAHAAIABwACAAcAAgAIAAIABwACAAcAAgAHAAIACAACAAgAAQAIAAIACAACAAcAAgAIAAIACAACAAgAAgAIAAIACAACAAgAAwAIAAMABwADAAgAAwAIAAIACAADAAgAAgAIAAIACAADAAgAAgAIAAIACAACAAgAAgAHAAMABwADAAcAAgAHAAMABwADAAcAAgAHAAMABwACAAcAAwAHAAMABwACAAYAAgAHAAMABwACAAcAAgAHAAIABwACAAYAAgAHAAIABgACAAcAAgAGAAIABgACAAYAAgAGAAIABgACAAYAAgAGAAIABgACAAYAAgAGAAIABgACAAYAAgAGAAIABgACAAYAAgAGAAIABgACAAUAAgAGAAIABQACAAUAAgAGAAIABQACAAUAAgAGAAIABQACAAUAAgAFAAIABQACAAUAAgAFAAIABQACAAUAAgAFAAIABQACAAUAAgAFAAIABQACAAQAAgAEAAIABAACAAQAAgAFAAIABAACAAUAAgAFAAIABQACAAUAAgAFAAIABAACAAQAAgAEAAIAAwADAAQAAgADAAIABAACAAQAAgAEAAIABAACAAQAAgADAAIABAACAAMAAgAEAAIAAwACAAQAAgADAAIABAACAAMAAgAEAAIAAwACAAQAAgAEAAIAAwACAAMAAgADAAIAAwADAAMAAgADAAIABAACAAMAAgADAAIAAwACAAMAAgADAAIABAACAAMAAgADAAIAAwACAAMAAgADAAIAAwACAAMAAgADAAIAAwACAAMAAgADAAIAAwACAAMAAgADAAIAAwACAAMAAgADAAIAAwACAAMAAgADAAIAAwACAAMAAgADAAMAAwACAAMAAgADAAIAAwACAAMAAgADAAIAAwADAAMAAgADAAIAAwACAAMAAgADAAIAAwACAAMAAgADAAIAAwACAAMAAgADAAIAAwACAAMAAgADAAIAAwACAAMAAgADAAIAAwACAAMAAgADAAIAAwACAAMAAgADAAIAAwACAAIAAgADAAIAAgACAAMAAgACAAIAAwACAAIAAgADAAIAAgACAAMAAgACAAIAAwACAAMAAgADAAIAAwACAAMAAgACAAIAAwACAAIAAgADAAIAAwACAAMAAgACAAIAAwACAAIAAgADAAIAAgACAAMAAgACAAIAAwACAAIAAgADAAIAAgACAAMAAgACAAIAAwACAAIAAgADAAIAAgACAAIAAwACAAIAAwACAAIAAgACAAMAAgACAAMAAgACAAIAAwACAAIAAgADAAIAAgACAAMAAgACAAIAAwACAAIAAgADAAIAAgACAAMAAgACAAIAAwACAAIAAgADAAIAAwACAAMAAgACAAIAAwACAAIAAgADAAIAAgACAAMAAgACAAIAAwADAAIAAgADAAIAAgACAAMAAgACAAIAAwACAAIAAgADAAIAAgACAAMAAgACAAIAAwACAAIAAgADAAIAAwACAAMAAgADAAEABAACAAMAAQADAAEAAwABAAMAAgADAAEABAABAAMAAQAEAAIAAwABAAQAAgADAAEAAwACAAMAAQAEAAIAAwACAAQAAgADAAIABAACAAMAAQAEAAIABAABAAQAAgADAAIABAADAAIAAgADAAIABAACAAMAAgACAAMAAgAEAAMAAwAEAAUAAwAEAAMAAwAEAA==\" type=\"audio/wav\" />\n",
              "                    Your browser does not support the audio element.\n",
              "                </audio>\n",
              "              "
            ]
          },
          "metadata": {},
          "execution_count": 246
        }
      ]
    },
    {
      "cell_type": "code",
      "source": [
        "# Save the successfully generated audible sound file.\n",
        "sf.write(f\"{PATH}/happy_birthday.wav\",15*speech.numpy(),samplerate=16000)"
      ],
      "metadata": {
        "id": "iJKOT1SlKqjc"
      },
      "execution_count": null,
      "outputs": []
    },
    {
      "cell_type": "markdown",
      "source": [
        "# Conclusion and Future Work"
      ],
      "metadata": {
        "id": "AlIvLZiyVtQt"
      }
    },
    {
      "cell_type": "markdown",
      "source": [
        "According to the experiments and observations, the model's generating performance depends on the specifc embedding that was used, and the quality of the input recording.\n",
        "\n",
        "The original SpeechT5 model was trained on a dataset of\n",
        "Audiobooks with monotone speakers and no background noise,\n",
        "improving both the encoder and its understanding of\n",
        "language. However, it struggles to capture rougher audio\n",
        "with more tonal variance. We note that when trained on our\n",
        "voices (monotone), we received much better results.\n",
        "\n",
        "For the purpose of voice cloning, there are far\n",
        "better/simpler models that exist. However, SpeechT5 does a\n",
        "commendable job in multiple scenarios, such as speech to\n",
        "text, text to speech, speech to speech, and more. As a\n",
        "result, it generalizes to these fields but does not excel in\n",
        "any of them.\n",
        "\n",
        "Future work includes:\n",
        "1. Obtain a larger data set for desired speakers\n",
        "2. Clean the data more thoroughly and/or find higher quality\n",
        "data\n",
        "3. Better post-processing of the audio to remove choppiness\n",
        "4. Larger training cycle to accommodate larger data set"
      ],
      "metadata": {
        "id": "T239dzS5Vy_Y"
      }
    }
  ]
}